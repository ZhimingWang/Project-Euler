{
 "nbformat": 4,
 "nbformat_minor": 2,
 "metadata": {
  "language_info": {
   "name": "python",
   "codemirror_mode": {
    "name": "ipython",
    "version": 3
   },
   "version": "3.8.0"
  },
  "orig_nbformat": 2,
  "file_extension": ".py",
  "mimetype": "text/x-python",
  "name": "python",
  "npconvert_exporter": "python",
  "pygments_lexer": "ipython3",
  "version": 3
 },
 "cells": [
  {
   "cell_type": "markdown",
   "execution_count": null,
   "metadata": {},
   "outputs": [],
   "source": [
    "If $n$ has streak $k$, then $n-1$ is a multiple of $1,2,3,\\dots,k$ but not $k+1$. The period is $\\mathrm{lcm}(1,2,\\dots,k+1)$ and in each period there are $\\frac{\\mathrm{lcm}(1,2,\\dots,k+1)}{\\mathrm{lcm}(1,2,\\dots,k)} - 1$ such numbers."
   ]
  },
  {
   "cell_type": "code",
   "execution_count": 1,
   "metadata": {},
   "outputs": [
    {
     "name": "stdout",
     "output_type": "stream",
     "text": "1617243\n"
    }
   ],
   "source": [
    "#!/usr/bin/env python3\n",
    "\n",
    "import functools\n",
    "import math\n",
    "\n",
    "\n",
    "def lcm(a, b):\n",
    "    return a * b // math.gcd(a, b)\n",
    "\n",
    "\n",
    "@functools.lru_cache(maxsize=None)\n",
    "def lcm_up_to(n):\n",
    "    return 1 if n == 1 else lcm(lcm_up_to(n - 1), n)\n",
    "\n",
    "\n",
    "def P(s, N):\n",
    "    # divisor | n - 1\n",
    "    divisor = lcm_up_to(s)\n",
    "    if divisor % (s + 1) == 0:\n",
    "        return 0\n",
    "    period = lcm_up_to(s + 1)\n",
    "    per_period = period // divisor - 1\n",
    "    q, r = divmod(N - 1, period)\n",
    "    return per_period * q + (r - 1) // divisor\n",
    "\n",
    "\n",
    "def main():\n",
    "    print(sum(P(i, 4 ** i) for i in range(1, 32)))\n",
    "\n",
    "\n",
    "if __name__ == \"__main__\":\n",
    "    main()\n"
   ]
  }
 ]
}