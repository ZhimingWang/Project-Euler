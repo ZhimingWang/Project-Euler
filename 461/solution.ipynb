{
 "nbformat": 4,
 "nbformat_minor": 2,
 "metadata": {
  "language_info": {
   "name": "python",
   "codemirror_mode": {
    "name": "ipython",
    "version": 3
   }
  },
  "orig_nbformat": 2,
  "file_extension": ".py",
  "mimetype": "text/x-python",
  "name": "python",
  "npconvert_exporter": "python",
  "pygments_lexer": "ipython3",
  "version": 3
 },
 "cells": [
  {
   "cell_type": "markdown",
   "execution_count": null,
   "metadata": {},
   "outputs": [],
   "source": [
    "Calculate the sum of all pairs of $f$ values excluding those that are greater than $\\pi$ (except the closest one above $\\pi$). Then sort them, and for each sum $s$, find its complements (one immediately below $\\pi - s$, one immediately above $\\pi - s$) via binary search."
   ]
  }
 ]
}