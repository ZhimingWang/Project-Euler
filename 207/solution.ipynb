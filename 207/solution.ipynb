{
 "nbformat": 4,
 "nbformat_minor": 2,
 "metadata": {
  "language_info": {
   "name": "python",
   "codemirror_mode": {
    "name": "ipython",
    "version": 3
   },
   "version": "3.8.0"
  },
  "orig_nbformat": 2,
  "file_extension": ".py",
  "mimetype": "text/x-python",
  "name": "python",
  "npconvert_exporter": "python",
  "pygments_lexer": "ipython3",
  "version": 3
 },
 "cells": [
  {
   "cell_type": "markdown",
   "execution_count": null,
   "metadata": {},
   "outputs": [],
   "source": [
    "Let the number of partitions $\\le m$ be $s$, and the number of perfect partitions $\\le m$ be $r$. Then apparently\n",
    "\n",
    "$$s(s+1) \\le m < (s+1)(s+2),$$\n",
    "$$4^r - 2^r \\le m < 4^{r+1} - 2^{r+1}.$$\n",
    "\n",
    "Then\n",
    "\n",
    "$$2^r \\le s + 1 < 2^{r+1}.$$\n",
    "\n",
    "Let $s_0 = 2^r - 1$, $s_1 = 2^{r+1}-2$, Then\n",
    "\n",
    "$$P(s_0(s_0+1)) > P(s_1(s_1+1)) = \\frac{s_1}{r} = \\frac{r}{2^{r+1}-2}.$$\n",
    "\n",
    "So we just need to look for the smallest $r$ s.t. $\\frac{r}{2^{r+1}-2} < \\frac{1}{12345}$, and the smallest $s$ s.t. $s > 12345r$."
   ]
  },
  {
   "cell_type": "code",
   "execution_count": 1,
   "metadata": {},
   "outputs": [
    {
     "name": "stdout",
     "output_type": "stream",
     "text": "44043947822\n"
    }
   ],
   "source": [
    "import math\n",
    "\n",
    "\n",
    "def search_m(inv_p):\n",
    "    p = 1 / inv_p\n",
    "    r = 1\n",
    "    while True:\n",
    "        if r / (2 ** (r + 1) - 2) < p:\n",
    "            break\n",
    "        r += 1\n",
    "    if (threshold := r * float(inv_p)).is_integer():\n",
    "        s = int(threshold) + 1\n",
    "    else:\n",
    "        s = math.ceil(threshold)\n",
    "    return s * (s + 1)\n",
    "\n",
    "\n",
    "def main():\n",
    "    print(search_m(12345))\n",
    "\n",
    "\n",
    "if __name__ == \"__main__\":\n",
    "    main()\n"
   ]
  }
 ]
}