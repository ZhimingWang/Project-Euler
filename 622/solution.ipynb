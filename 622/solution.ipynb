{
 "nbformat": 4,
 "nbformat_minor": 2,
 "metadata": {
  "language_info": {
   "name": "python",
   "codemirror_mode": {
    "name": "ipython",
    "version": 3
   },
   "version": "3.8.0"
  },
  "orig_nbformat": 2,
  "file_extension": ".py",
  "mimetype": "text/x-python",
  "name": "python",
  "npconvert_exporter": "python",
  "pygments_lexer": "ipython3",
  "version": 3
 },
 "cells": [
  {
   "cell_type": "markdown",
   "execution_count": null,
   "metadata": {},
   "outputs": [],
   "source": [
    "Labeling the cards $0,\\,1,\\,\\dots,\\,n-1$, and let $f$ be the shuffle map, then apparently,\n",
    "\n",
    "$$\n",
    "f(i) =\n",
    "\\begin{cases}\n",
    "2i, & i < n/2, \\\\\n",
    "2i - (n-1), & i >= n/2,\n",
    "\\end{cases}\n",
    "$$\n",
    "\n",
    "i.e.,\n",
    "\n",
    "$$f(i) \\equiv 2i \\mod (n-1).$$\n",
    "\n",
    "Therefore,\n",
    "\n",
    "$$f^{(k)}(i) \\equiv 2^k i \\mod (n-1),$$\n",
    "\n",
    "and hence the number of shuffles is exactly the order of $2$ modulo $n-1$. Therefore, given the number of shuffles $k$, $n-1$ divides $2^k-1$, but does not divide $2^d - 1$ for any proper divisor $d$ of $k$."
   ]
  },
  {
   "cell_type": "code",
   "execution_count": 1,
   "metadata": {},
   "outputs": [
    {
     "name": "stdout",
     "output_type": "stream",
     "text": "3010983666182123972\n"
    }
   ],
   "source": [
    "#!/usr/bin/env python3\n",
    "\n",
    "import sympy.ntheory\n",
    "\n",
    "divisors = sympy.ntheory.factor_.divisors\n",
    "\n",
    "\n",
    "def main():\n",
    "    n = 60\n",
    "    sizes = set(s + 1 for s in divisors(2 ** n - 1))\n",
    "    for d in divisors(n):\n",
    "        if d != n:\n",
    "            sizes -= set(s + 1 for s in divisors(2 ** d - 1))\n",
    "    print(sum(sizes))\n",
    "\n",
    "\n",
    "if __name__ == \"__main__\":\n",
    "    main()\n"
   ]
  }
 ]
}