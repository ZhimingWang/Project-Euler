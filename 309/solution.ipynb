{
 "nbformat": 4,
 "nbformat_minor": 2,
 "metadata": {
  "language_info": {
   "name": "python",
   "codemirror_mode": {
    "name": "ipython",
    "version": 3
   }
  },
  "orig_nbformat": 2,
  "file_extension": ".py",
  "mimetype": "text/x-python",
  "name": "python",
  "npconvert_exporter": "python",
  "pygments_lexer": "ipython3",
  "version": 3
 },
 "cells": [
  {
   "cell_type": "markdown",
   "execution_count": null,
   "metadata": {},
   "outputs": [],
   "source": [
    "We have\n",
    "\n",
    "$$\n",
    "\\left\\{\n",
    "\\begin{aligned}\n",
    "& \\left(\\frac{h}{\\alpha}\\right)^2 + w^2 = x^2,\\\\\n",
    "& \\left(\\frac{h}{1-\\alpha}\\right)^2 + w^2 = y^2.\n",
    "\\end{aligned}\n",
    "\\right.\n",
    "$$\n",
    "\n",
    "for some $0 < \\alpha < 1$, so\n",
    "\n",
    "$$\\frac{h}{\\sqrt{x^2 - w^2}} + \\frac{h}{\\sqrt{y^2 - w^2}} = 1.$$\n",
    "\n",
    "Apparently both $\\sqrt{x^2 - w^2}$ and $\\sqrt{y^2 - w^2}$ must be rational and hence integral. Let $u = \\sqrt{x^2 - w^2}$ and $v = \\sqrt{y^2 - w^2}$, then\n",
    "\n",
    "$$h = \\frac{uv}{u + v}.$$\n",
    "\n",
    "We just to need to enumerate all Pythagorean triples, and for each common $w$, test corresponding $u$ and $v$ combos to see whether $h$ is integral. Straightforward C++ implementation takes 1.27s."
   ]
  }
 ]
}