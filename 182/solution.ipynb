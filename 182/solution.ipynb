{
 "nbformat": 4,
 "nbformat_minor": 2,
 "metadata": {
  "language_info": {
   "name": "python",
   "codemirror_mode": {
    "name": "ipython",
    "version": 3
   },
   "version": "3.8.0"
  },
  "orig_nbformat": 2,
  "file_extension": ".py",
  "mimetype": "text/x-python",
  "name": "python",
  "npconvert_exporter": "python",
  "pygments_lexer": "ipython3",
  "version": 3
 },
 "cells": [
  {
   "cell_type": "markdown",
   "execution_count": null,
   "metadata": {},
   "outputs": [],
   "source": [
    "$m^e \\equiv m \\pmod n$ iff $m^e \\equiv m \\pmod p$ and $m^e \\equiv m \\pmod q$. The former holds iff $p | m$ or $m^{e-1} \\equiv 1 \\pmod p$, in other words $\\mathrm{ord}_p(m)\\ |\\ e-1$. Similarly for $q$. If we extend the definition of multiplicative order so that $\\mathrm{ord}_p(m)=1$ when $p|m$, we have\n",
    "\n",
    "$$m^e \\equiv m \\pmod n \\iff \\mathrm{lcm}(\\mathrm{ord}_p(m),\\, \\mathrm{ord}_q(m))\\ |\\ e-1.$$\n",
    "\n",
    "So my algorithm is based on looping over $m$ and incrementing the number of fixed points for elligible $e$.\n",
    "\n",
    "---\n",
    "\n",
    "I later realized that we can even directly calculate the number of fixed points for a given $e$. Note that $m^{e-1} \\equiv 1 \\pmod p$ with $p \\nmid m$ iff $m^{(e-1,\\,p-1)} \\equiv 1 \\pmod p$, which should have exactly $(e-1,\\, p-1)$ solutions mod $p$. So the total number of fixed points for a given $e$ should be\n",
    "\n",
    "$$(1 + (e-1,\\,p-1))(1 + (e-1,\\,q-1)).$$"
   ]
  },
  {
   "cell_type": "code",
   "execution_count": 1,
   "metadata": {},
   "outputs": [
    {
     "name": "stdout",
     "output_type": "stream",
     "text": "399788195976\n"
    }
   ],
   "source": [
    "#!/usr/bin/env python3\n",
    "\n",
    "import functools\n",
    "import math\n",
    "\n",
    "import sympy.ntheory\n",
    "\n",
    "\n",
    "@functools.lru_cache(maxsize=None)\n",
    "def lcm(a, b):\n",
    "    return a * b // math.gcd(a, b)\n",
    "\n",
    "\n",
    "p = 1009\n",
    "q = 3643\n",
    "phi = (p - 1) * (q - 1)\n",
    "period = lcm(p - 1, q - 1)\n",
    "modp_order = [1 if a == 0 else sympy.ntheory.n_order(a, p) for a in range(p)]\n",
    "modq_order = [1 if a == 0 else sympy.ntheory.n_order(a, q) for a in range(q)]\n",
    "\n",
    "\n",
    "def calculate_unconcealed_counts():\n",
    "    # counts[(e - 1) % period] is the unconcealed count of e.\n",
    "    counts = [0 for _ in range(period)]\n",
    "    # We skip m = 0 or 1 since m^e = m for all e when m = 0 or 1.\n",
    "    for m in range(2, p * q - 1):\n",
    "        order = lcm(modp_order[m % p], modq_order[m % q])\n",
    "        if order > 1:\n",
    "            for i in range(0, period, order):\n",
    "                counts[i] += 1\n",
    "    return counts\n",
    "\n",
    "\n",
    "def main():\n",
    "    counts = calculate_unconcealed_counts()\n",
    "    filtered_counts = {\n",
    "        i + 1: counts[i] for i in range(period) if math.gcd(i + 1, phi) == 1\n",
    "    }\n",
    "    min_count = min(filtered_counts.values())\n",
    "    num_minimizer = 0\n",
    "    sum_minimizer = 0\n",
    "    for i in filtered_counts:\n",
    "        if filtered_counts[i] == min_count:\n",
    "            num_minimizer += 1\n",
    "            sum_minimizer += i\n",
    "    num_periods = phi // period\n",
    "    total_sum = (\n",
    "        sum_minimizer * num_periods\n",
    "        + (num_periods - 1) * num_periods // 2 * period * num_minimizer\n",
    "    )\n",
    "    print(total_sum)\n",
    "\n",
    "\n",
    "if __name__ == \"__main__\":\n",
    "    main()\n"
   ]
  }
 ]
}