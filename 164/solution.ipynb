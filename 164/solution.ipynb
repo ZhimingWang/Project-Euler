{
 "nbformat": 4,
 "nbformat_minor": 2,
 "metadata": {
  "language_info": {
   "name": "python",
   "codemirror_mode": {
    "name": "ipython",
    "version": 3
   },
   "version": "3.8.0"
  },
  "orig_nbformat": 2,
  "file_extension": ".py",
  "mimetype": "text/x-python",
  "name": "python",
  "npconvert_exporter": "python",
  "pygments_lexer": "ipython3",
  "version": 3
 },
 "cells": [
  {
   "cell_type": "markdown",
   "execution_count": null,
   "metadata": {},
   "outputs": [],
   "source": [
    "Trivial DP problem."
   ]
  },
  {
   "cell_type": "code",
   "execution_count": 1,
   "metadata": {},
   "outputs": [
    {
     "name": "stdout",
     "output_type": "stream",
     "text": "378158756814587\n"
    }
   ],
   "source": [
    "def caclulate_count(digits):\n",
    "    two_digit_prefixes = [(i, j) for i in range(10) for j in range(10) if i + j <= 9]\n",
    "    # counts[(m, (i, j))] is the number of m-digit numbers (possibly\n",
    "    # with leading zeros) starting with digits i and j s.t. no three\n",
    "    # consecutive digits have a sum greater than 9.\n",
    "    counts = dict()\n",
    "    for i, j in two_digit_prefixes:\n",
    "        counts[(3, (i, j))] = 10 - i - j\n",
    "    for m in range(4, digits + 1):\n",
    "        for i, j in two_digit_prefixes:\n",
    "            counts[m, (i, j)] = sum(counts[m - 1, (j, k)] for k in range(10 - i - j))\n",
    "    return sum(counts[digits, (i, j)] for i, j in two_digit_prefixes if i != 0)\n",
    "\n",
    "\n",
    "def main():\n",
    "    print(caclulate_count(20))\n",
    "\n",
    "\n",
    "if __name__ == \"__main__\":\n",
    "    main()"
   ]
  }
 ]
}