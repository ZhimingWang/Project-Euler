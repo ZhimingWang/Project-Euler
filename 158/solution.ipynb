{
 "nbformat": 4,
 "nbformat_minor": 2,
 "metadata": {
  "language_info": {
   "name": "python",
   "codemirror_mode": {
    "name": "ipython",
    "version": 3
   },
   "version": "3.8.0"
  },
  "orig_nbformat": 2,
  "file_extension": ".py",
  "mimetype": "text/x-python",
  "name": "python",
  "npconvert_exporter": "python",
  "pygments_lexer": "ipython3",
  "version": 3
 },
 "cells": [
  {
   "cell_type": "markdown",
   "execution_count": null,
   "metadata": {},
   "outputs": [],
   "source": [
    "Susbtitute the alphabet for 1..26. Let the single chasm be between $a$ at the $m$-th place and $b$ at the $m+1$-th place; $a > b$, and the sequence is otherwise monotone increasing. Furthermore, let $k$ be the number of elements in the $(a, b)$ range to the left of $a$, and $l$ be the number of such elements to the right of $b$. There are $\\binom{a-b-1}{k,\\ l}$ such choices. We're then free to choose $m-1-k$ elements from $[1, b-1]$, and $n-m-1-l$ elements from $[a+1, 26]$. Therefore, given $m,\\,a,\\,b,\\,k,\\,l$, there are\n",
    "\n",
    "$$\\binom{b-1}{m-1-k} \\binom{26-a}{n-m-1-l} \\binom{a-b-1}{k,\\ l} = \\frac{(b-1)!(26-a)!(a-b-1)!}{(m-1-k)!(b-m+k)!(n-m-1-l)!(27-a-n+m+l)!k!l!(a-b-1-k-l)!}$$\n",
    "\n",
    "choices. We only need to iterate through all possible $m,\\,a,\\,b,\\,k,\\,l$ combos to derive $p(n)$."
   ]
  },
  {
   "cell_type": "code",
   "execution_count": 1,
   "metadata": {},
   "outputs": [
    {
     "name": "stdout",
     "output_type": "stream",
     "text": "409511334375\n"
    }
   ],
   "source": [
    "import functools\n",
    "import operator\n",
    "\n",
    "\n",
    "factorios = [functools.reduce(operator.mul, range(1, i + 1), 1) for i in range(27)]\n",
    "\n",
    "\n",
    "def calculate_p(n):\n",
    "    count = 0\n",
    "    f = factorios\n",
    "    for m in range(1, n):\n",
    "        for a in range(1, 27):\n",
    "            for b in range(1, a):\n",
    "                for k in range(m):\n",
    "                    for l in range(n - m):\n",
    "                        if (\n",
    "                            m - k - 1 < 0\n",
    "                            or b - m + k < 0\n",
    "                            or n - m - 1 - l < 0\n",
    "                            or 27 - a - n + m + l < 0\n",
    "                            or a - b - 1 - k - l < 0\n",
    "                        ):\n",
    "                            continue\n",
    "                        count += (\n",
    "                            f[b - 1]\n",
    "                            * f[26 - a]\n",
    "                            * f[a - b - 1]\n",
    "                            // f[m - k - 1]\n",
    "                            // f[b - m + k]\n",
    "                            // f[n - m - 1 - l]\n",
    "                            // f[27 - a - n + m + l]\n",
    "                            // f[k]\n",
    "                            // f[l]\n",
    "                            // f[a - b - 1 - k - l]\n",
    "                        )\n",
    "    return count\n",
    "\n",
    "\n",
    "def main():\n",
    "    max_p = 0\n",
    "    for i in range(27):\n",
    "        if (p := calculate_p(i)) > max_p:\n",
    "            max_p = p\n",
    "    print(max_p)\n",
    "\n",
    "if __name__ == \"__main__\":\n",
    "    main()"
   ]
  },
  {
   "cell_type": "code",
   "execution_count": null,
   "metadata": {},
   "outputs": [],
   "source": []
  }
 ]
}