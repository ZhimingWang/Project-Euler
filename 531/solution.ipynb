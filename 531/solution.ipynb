{
 "nbformat": 4,
 "nbformat_minor": 2,
 "metadata": {
  "language_info": {
   "name": "python",
   "codemirror_mode": {
    "name": "ipython",
    "version": 3
   }
  },
  "orig_nbformat": 2,
  "file_extension": ".py",
  "mimetype": "text/x-python",
  "name": "python",
  "npconvert_exporter": "python",
  "pygments_lexer": "ipython3",
  "version": 3
 },
 "cells": [
  {
   "cell_type": "markdown",
   "execution_count": null,
   "metadata": {},
   "outputs": [],
   "source": [
    "Generalized Chinese Remainder Theorem.\n",
    "\n",
    "$$x \\equiv a \\pmod m,\\ x \\equiv b \\pmod n$$\n",
    "\n",
    "has solutions iff $a \\equiv b \\pmod g$, where $g = (m,\\, n)$. And using Bezout's identity $g = um + vn$, the solution, when exists, is\n",
    "\n",
    "$$x \\equiv (avn + bum) / g \\pmod{mn/g}.$$\n",
    "\n",
    "The rest is straightforward computation. Using FLINT I was able to calculate the result in ~7s."
   ]
  }
 ]
}