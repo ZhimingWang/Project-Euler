{
 "nbformat": 4,
 "nbformat_minor": 2,
 "metadata": {
  "language_info": {
   "name": "python",
   "codemirror_mode": {
    "name": "ipython",
    "version": 3
   }
  },
  "orig_nbformat": 2,
  "file_extension": ".py",
  "mimetype": "text/x-python",
  "name": "python",
  "npconvert_exporter": "python",
  "pygments_lexer": "ipython3",
  "version": 3
 },
 "cells": [
  {
   "cell_type": "markdown",
   "execution_count": null,
   "metadata": {},
   "outputs": [],
   "source": [
    "Bruteforceable for all numbers $\\le 10000$ except $9999$, which all fit within 16 bits. For 9999, notice that $10^4 \\equiv 1 \\pmod{9999}$, so writing the multiple of 9999 as $\\overline{a_k a_{k-1} \\cdots a_0}$, we have\n",
    "\n",
    "$$9999 \\mid \\overline{a_3a_2a_1a_0} + \\overline{a_7a_6a_5a_4} + \\cdots.$$\n",
    "\n",
    "If $k \\le 19$, then rhs $\\le 2222 \\times 4 + 222 < 9999$, contradiction. Therefore the multiple has at least 20 digits. It's not hard to see the smallest 20-digit multiple is 1111,2222,2222,2222,2222.\n",
    "\n",
    "The brute force implementation takes ~130s in Mathematica."
   ]
  }
 ]
}