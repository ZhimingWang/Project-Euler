{
 "nbformat": 4,
 "nbformat_minor": 2,
 "metadata": {
  "language_info": {
   "name": "python",
   "codemirror_mode": {
    "name": "ipython",
    "version": 3
   }
  },
  "orig_nbformat": 2,
  "file_extension": ".py",
  "mimetype": "text/x-python",
  "name": "python",
  "npconvert_exporter": "python",
  "pygments_lexer": "ipython3",
  "version": 3
 },
 "cells": [
  {
   "cell_type": "markdown",
   "execution_count": null,
   "metadata": {},
   "outputs": [],
   "source": [
    "The equation simplifies to\n",
    "\n",
    "$$x^3 - kx^2 + \\frac{x}{k} - k^2,$$\n",
    "\n",
    "so\n",
    "\n",
    "$$(a_k+b_k)(b_k+c_k)(c_k+a_k) = (a_k+b_k+c_k)(a_kb_k+b_kc_k+c_ka_k) - a_kb_kc_k = 1-k^2.$$\n",
    "\n",
    "Therefore,\n",
    "\n",
    "$$S(n) = \\sum_{k=1}^n \\sum_{p=1}^n (1-k^2)^p = \\sum_{k=1}^n \\frac{(k^2-1)((1-k^2)^n-1)}{k^2} \\equiv \\sum_{k=1}^n (1 - k^{-2})((1-k^2)^n - 1) \\pmod p.$$\n",
    "\n",
    "Mathematica is an obvious choice for this calculation (took about 4s)."
   ]
  }
 ]
}