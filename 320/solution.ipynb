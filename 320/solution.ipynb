{
 "nbformat": 4,
 "nbformat_minor": 2,
 "metadata": {
  "language_info": {
   "name": "python",
   "codemirror_mode": {
    "name": "ipython",
    "version": 3
   }
  },
  "orig_nbformat": 2,
  "file_extension": ".py",
  "mimetype": "text/x-python",
  "name": "python",
  "npconvert_exporter": "python",
  "pygments_lexer": "ipython3",
  "version": 3
 },
 "cells": [
  {
   "cell_type": "markdown",
   "execution_count": null,
   "metadata": {},
   "outputs": [],
   "source": [
    "My basic idea is binary search around $1234567890i$ for $N(i)$. Every time $\\nu_p(n!) \\ge 1234567890 \\nu_p(i!)$ for all relevant $p$ we set the upper threshold to $n$, and every time it doesn't hold for a subset of primes we set the lower threshold to $n$ and update the set of primes we need to test to that failing subset. The only problem is it's too slow to test all primes $\\le i$, and I'm not entirely clear which subset is sufficient, so I took a greedy approach and filtered the targets by excluding $p$ where $i \\mod p$ is above a certain threshold. The threshold can be very lenient without affecting the performance much.\n",
    "\n",
    "My C++ implementation takes ~80s."
   ]
  }
 ]
}