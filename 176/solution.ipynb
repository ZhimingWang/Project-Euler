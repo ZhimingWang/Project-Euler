{
 "nbformat": 4,
 "nbformat_minor": 2,
 "metadata": {
  "language_info": {
   "name": "python",
   "codemirror_mode": {
    "name": "ipython",
    "version": 3
   }
  },
  "orig_nbformat": 2,
  "file_extension": ".py",
  "mimetype": "text/x-python",
  "name": "python",
  "npconvert_exporter": "python",
  "pygments_lexer": "ipython3",
  "version": 3
 },
 "cells": [
  {
   "cell_type": "markdown",
   "execution_count": null,
   "metadata": {},
   "outputs": [],
   "source": [
    "First we prove a lemma: for any positive integer $a$, the number of positive solutions $(k,\\,x,\\,y)$ to the Diophantine equation $kxy = a$, subject to $x < y$ and $(x,\\,y) = 1$, is $f(a) = \\frac{\\tau(a^2) - 1}{2}$.\n",
    "\n",
    "The proof is straightforward. We have $(kx^2)(ky^2) = a^2$. Realize that solutions $(k,\\,x,\\,y)$ correspond exactly to divisors $d < a$ of $a^2$ through $d = kx^2$.\n",
    "\n",
    "Now we come back to the problem at hand. We know that in order for $a$ to be a cathetus, $a$ has to be in the form of either $k(m^2-n^2)$ or $2kmn$, where $m>n$, $(m,n)=1$.\n",
    "\n",
    "If $a$ is odd, then $a = k(m-n)(m+n)$, using the lemma we have $f(a)$ solutions.\n",
    "\n",
    "If $a$ is even, we show that any solution in the form $(a = k(m^2-n^2),\\, 2kmn)$ form can be rewritten in the $a = 2k'm'n'$ form. In fact, if $m \\not\\equiv n \\pmod 2$, then $k$ must be even, so the pair can be rewritten as $(2 \\cdot \\frac{k}{2} (m+n)(m-n),\\, \\frac{k}{2}((m+n)^2 - (m-n)^2))$; otherwise, the pair can be rewritten as $(2 \\cdot 2k \\frac{m+n}{2} \\frac{m-n}{2},\\, 2k\\left( \\left(\\frac{m+n}{2}\\right)^2 - \\left(\\frac{m-n}{2}\\right)^2 \\right))$. Therefore, we only need to consider the form $a = 2kmn$, which, by the lemma, has $f(a/2)$ solutions.\n",
    "\n",
    "Therefore, the total number of solutions we're after is,\n",
    "\n",
    "$$\n",
    "F(a) =\n",
    "\\begin{cases}\n",
    "f(a) = \\frac{\\tau(a^2) - 1}{2}, & a \\equiv 1 \\pmod 2, \\\\\n",
    "f(a/2) = \\frac{\\tau(a^2/4) - 1}{2}, & a \\equiv 0 \\pmod 2.\n",
    "\\end{cases}\n",
    "$$\n",
    "\n",
    "For $F(a) = 47547$, we have\n",
    "\n",
    "$$\\tau(a^2) = 5 \\cdot 7 \\cdot 11 \\cdot 13 \\cdot 19$$\n",
    "\n",
    "if $a$ is odd, or\n",
    "\n",
    "$$\\tau(a^2/4) = 5 \\cdot 7 \\cdot 11 \\cdot 13 \\cdot 19$$\n",
    "\n",
    "if $a$ is even. Therefore, the smallest $a$ is\n",
    "\n",
    "$$2^{10} \\cdot 3^6 \\cdot 5^5 \\cdot 7^3 \\cdot 11^2 = 96818198400000.$$"
   ]
  }
 ]
}