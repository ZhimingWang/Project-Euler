{
 "nbformat": 4,
 "nbformat_minor": 2,
 "metadata": {
  "language_info": {
   "name": "python",
   "codemirror_mode": {
    "name": "ipython",
    "version": 3
   },
   "version": "3.8.0"
  },
  "orig_nbformat": 2,
  "file_extension": ".py",
  "mimetype": "text/x-python",
  "name": "python",
  "npconvert_exporter": "python",
  "pygments_lexer": "ipython3",
  "version": 3
 },
 "cells": [
  {
   "cell_type": "markdown",
   "execution_count": null,
   "metadata": {},
   "outputs": [],
   "source": [
    "Apparently, $n \\ne 1$ is a strong repunit iff $n = x^k + x^{k-1} + \\cdots + 1$ for some $x \\ge 2$ and $k \\ge 2$. Therefore, for each $k$, we only need to find the maximum $x$ s.t. $x^k + \\cdots + 1 < N$, which is either $\\lfloor \\sqrt[k]{n} \\rfloor$ or $\\lfloor \\sqrt[k]{n} \\rfloor - 1$."
   ]
  },
  {
   "cell_type": "code",
   "execution_count": 1,
   "metadata": {},
   "outputs": [
    {
     "name": "stdout",
     "output_type": "stream",
     "text": "336108797689259276\n"
    }
   ],
   "source": [
    "#!/usr/bin/env python3\n",
    "\n",
    "import math\n",
    "\n",
    "\n",
    "N = 1e12\n",
    "\n",
    "\n",
    "def main():\n",
    "    pool = set()\n",
    "    for k in range(2, int(math.log2(N)) + 1):\n",
    "        max_x = int(pow(N, 1 / k))\n",
    "        if (max_x ** (k + 1) - 1) // (max_x - 1) >= N:\n",
    "            max_x -= 1\n",
    "        for x in range(2, max_x + 1):\n",
    "            pool.add((x ** (k + 1) - 1) // (x - 1))\n",
    "    print(sum(pool) + 1)\n",
    "\n",
    "\n",
    "if __name__ == \"__main__\":\n",
    "    main()\n"
   ]
  }
 ]
}