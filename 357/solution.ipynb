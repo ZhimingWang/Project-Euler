{
 "nbformat": 4,
 "nbformat_minor": 2,
 "metadata": {
  "language_info": {
   "name": "python",
   "codemirror_mode": {
    "name": "ipython",
    "version": 3
   }
  },
  "orig_nbformat": 2,
  "file_extension": ".py",
  "mimetype": "text/x-python",
  "name": "python",
  "npconvert_exporter": "python",
  "pygments_lexer": "ipython3",
  "version": 3
 },
 "cells": [
  {
   "cell_type": "markdown",
   "execution_count": null,
   "metadata": {},
   "outputs": [],
   "source": [
    "Apparently $p^2 \\nmid n$ for any prime $p$, otherwise $p \\nmid p + n/p, so we are limited to $n = p_1 p_2 \\cdot p_k$ where $\\{p_j\\}$ are distinct prime factors. A single brute force pass after a sieve is enough. My program ran in 4s."
   ]
  }
 ]
}