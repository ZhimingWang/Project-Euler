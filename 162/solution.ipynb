{
 "nbformat": 4,
 "nbformat_minor": 2,
 "metadata": {
  "language_info": {
   "name": "python",
   "codemirror_mode": {
    "name": "ipython",
    "version": 3
   },
   "version": "3.8.0"
  },
  "orig_nbformat": 2,
  "file_extension": ".py",
  "mimetype": "text/x-python",
  "name": "python",
  "npconvert_exporter": "python",
  "pygments_lexer": "ipython3",
  "version": 3
 },
 "cells": [
  {
   "cell_type": "markdown",
   "execution_count": null,
   "metadata": {},
   "outputs": [],
   "source": [
    "Straightforward application of inclusion-exclusion principle. Let $U$ be the set of all length-$N$ hexadecimal numbers (without leading zeros), let $S_1$, $S_2$, $S_3$ be subsets of $U$ without 0, 1, and A present, respectively. Then\n",
    "\n",
    "$$|U| = 15 \\cdot 16^{N-1},$$\n",
    "$$|S_1| = 15^N,$$\n",
    "$$|S_2| = |S_3| = 14 \\cdot 15^{N-1},$$\n",
    "$$|S_1 \\cap S_2| = |S_3 \\cap S_1| = 14^N,$$\n",
    "$$|S_2 \\cap S_3| = 13 \\cdot 14^{N-1},$$\n",
    "$$|S_1 \\cap S_2 \\cap S_3| = 13^N.$$\n",
    "\n",
    "Then\n",
    "\n",
    "$$|\\overline{S_1 \\cup S_2 \\cup S_3}| = 15 \\cdot 16^{N-1} - 43 \\cdot 15^{N-1} + 41 \\cdot 14^{N-1} - 13^N.$$"
   ]
  },
  {
   "cell_type": "code",
   "execution_count": 1,
   "metadata": {},
   "outputs": [
    {
     "name": "stdout",
     "output_type": "stream",
     "text": "3D58725572C62302\n"
    }
   ],
   "source": [
    "def length_n_count(n):\n",
    "    return 15 * (16 ** (n - 1)) - 43 * (15 ** (n - 1)) + 41 * (14 ** (n - 1)) - 13 ** n\n",
    "\n",
    "\n",
    "def length_up_to_n_count(n):\n",
    "    return sum(length_n_count(i) for i in range(1, n + 1))\n",
    "\n",
    "\n",
    "def main():\n",
    "    print(f\"{length_up_to_n_count(16):X}\")\n",
    "\n",
    "\n",
    "main()"
   ]
  },
  {
   "cell_type": "code",
   "execution_count": null,
   "metadata": {},
   "outputs": [],
   "source": []
  }
 ]
}