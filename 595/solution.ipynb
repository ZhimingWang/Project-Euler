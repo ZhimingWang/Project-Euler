{
 "nbformat": 4,
 "nbformat_minor": 2,
 "metadata": {
  "language_info": {
   "name": "python",
   "codemirror_mode": {
    "name": "ipython",
    "version": 3
   }
  },
  "orig_nbformat": 2,
  "file_extension": ".py",
  "mimetype": "text/x-python",
  "name": "python",
  "npconvert_exporter": "python",
  "pygments_lexer": "ipython3",
  "version": 3
 },
 "cells": [
  {
   "cell_type": "markdown",
   "execution_count": null,
   "metadata": {},
   "outputs": [],
   "source": [
    "Let $T(n,k)$ be the number of $n$-permutations that would be glued into $k$ stacks. Then for $k \\le n-1$, the number is simply given by the number of $k$-permutations that can't be glued times the number of $k$-partitions of $n$. Therefore\n",
    "\n",
    "$$\n",
    "T(n,k)=\n",
    "\\begin{cases}\n",
    "\\binom{n-1}{k-1} T(k,k), & k \\le n-1,\\\\\n",
    "n! - \\sum_{k=1}^{n-1}T(n,k), & k = n.\n",
    "\\end{cases}\n",
    "$$\n",
    "\n",
    "Now, it's pretty easy to see that\n",
    "\n",
    "$$S(n) = \\frac{1}{n!} \\left(\\sum_{k=2}^n T(n,k)(S(k) + 1)\\right) = \\frac{1}{n!} \\left(\\sum_{k=2}^n T(n,k)S(k) + n! - 1\\right),$$\n",
    "\n",
    "so\n",
    "\n",
    "$$S(n) = \\frac{\\sum_{k=2}^{n-1} T(n,k)S(k) + n! - 1}{n! - T(n,n)}.$$"
   ]
  }
 ]
}