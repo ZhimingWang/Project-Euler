{
 "nbformat": 4,
 "nbformat_minor": 2,
 "metadata": {
  "language_info": {
   "name": "python",
   "codemirror_mode": {
    "name": "ipython",
    "version": 3
   }
  },
  "orig_nbformat": 2,
  "file_extension": ".py",
  "mimetype": "text/x-python",
  "name": "python",
  "npconvert_exporter": "python",
  "pygments_lexer": "ipython3",
  "version": 3
 },
 "cells": [
  {
   "cell_type": "markdown",
   "execution_count": null,
   "metadata": {},
   "outputs": [],
   "source": [
    "$$\n",
    "\\begin{aligned}\n",
    "\\mathrm{NF}(p,q) &= \\nu_p(\\mathrm{NFac}(p,q))\\\\\n",
    "&= \\sum_{k=1}^\\infty \\left\\lfloor \\frac{\\mathrm{N}(p,q)}{p^k} \\right\\rfloor\\\\\n",
    "&= \\sum_{k=1}^\\infty \\left\\lfloor \\sum_{n=0}^q \\frac{T_n p^n}{p^k} \\right\\rfloor\\\\\n",
    "&= \\sum_{k=1}^q \\sum_{n=k}^q T_n p^{n-k}\\\\\n",
    "&= \\sum_{n=1}^q T_n \\sum_{k=1}^n p^{n-k}\\\\\n",
    "&= \\sum_{n=1}^q T_n \\sum_{k=0}^{n-1} p^k.\n",
    "\\end{aligned}\n",
    "$$\n",
    "\n",
    "Therefore, for $m \\le q$,\n",
    "\n",
    "$$\n",
    "\\begin{aligned}\n",
    "\\mathrm{NF}(p,q) &\\equiv \\sum_{n=1}^{m-1} T_n \\sum_{k=0}^{n-1} p^k + \\sum_{n=m}^q T_n \\sum_{k=0}^{m-1} p^k \\pmod{p^m}\\\\\n",
    "&\\equiv \\sum_{n=1}^{m-1} T_n \\cdot \\frac{p^n-1}{p-1} + \\frac{p^m-1}{p-1}\\sum_{n=m}^q T_n.\n",
    "\\end{aligned}\n",
    "$$"
   ]
  }
 ]
}