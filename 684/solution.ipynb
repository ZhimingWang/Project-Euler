{
 "nbformat": 4,
 "nbformat_minor": 2,
 "metadata": {
  "language_info": {
   "name": "python",
   "codemirror_mode": {
    "name": "ipython",
    "version": 3
   }
  },
  "orig_nbformat": 2,
  "file_extension": ".py",
  "mimetype": "text/x-python",
  "name": "python",
  "npconvert_exporter": "python",
  "pygments_lexer": "ipython3",
  "version": 3
 },
 "cells": [
  {
   "cell_type": "markdown",
   "execution_count": null,
   "metadata": {},
   "outputs": [],
   "source": [
    "Very straightforward problem. $s(n) = (r+1) 10^q - 1$ for $n = 9q+r$, $0 \\le r \\le 8$, so\n",
    "\n",
    "$$S(n) = \\sum_{p=0}^{q-1} \\sum_{s=0}^8 [(s+1)10^p - 1] + \\sum_{s=0}^r[(s+1)10^q - 1] = 10^q \\left(\\frac{(r+1)(r+2)}{2} + 5\\right) - (9q+r+6).$$"
   ]
  }
 ]
}