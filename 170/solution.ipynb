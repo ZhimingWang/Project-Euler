{
 "nbformat": 4,
 "nbformat_minor": 2,
 "metadata": {
  "language_info": {
   "name": "python",
   "codemirror_mode": {
    "name": "ipython",
    "version": 3
   },
   "version": "3.8.0"
  },
  "orig_nbformat": 2,
  "file_extension": ".py",
  "mimetype": "text/x-python",
  "name": "python",
  "npconvert_exporter": "python",
  "pygments_lexer": "ipython3",
  "version": 3
 },
 "cells": [
  {
   "cell_type": "markdown",
   "execution_count": null,
   "metadata": {},
   "outputs": [],
   "source": [
    "Let $a$ be the common multiplier, and $b_1$, \\cdots, $b_k$ be the other multipliers. Notice that\n",
    "\n",
    "$$a + \\sum b_i \\equiv 0 \\pmod 9,$$\n",
    "$$\\sum a b_i \\equiv 0 \\pmod 9,$$\n",
    "\n",
    "so we can easily see $3 \\mid a$.\n",
    "\n",
    "Although $k$ can technically be $\\ge 3$, if we analyze the number of digits, we'll see that $k > 3$ is impossible and when $k = 3$, we must have $a = 3$, and two other mulitplier must start with $1$ and $2$ respectively (so that $a b_i$ has the same number of digits as $b_i$ for all but one $i$). This is extremely limiting, so we actually took a bet that we don't need to consider $k = 3$ at all to get our answer (and it worked).\n",
    "\n",
    "Then it's just a problem is iterating through permutations of $0 \\dots 9$, and searching through all the ways to break each into two parts."
   ]
  },
  {
   "cell_type": "code",
   "execution_count": 1,
   "metadata": {},
   "outputs": [
    {
     "name": "stdout",
     "output_type": "stream",
     "text": "27 36508 149 9857164023\n"
    }
   ],
   "source": [
    "#!/usr/bin/env python3\n",
    "\n",
    "import math\n",
    "import itertools\n",
    "\n",
    "import sympy.ntheory\n",
    "\n",
    "\n",
    "def search():\n",
    "    for perm in itertools.permutations(\"9876543210\"):\n",
    "        for splitpos in range(1, 9):\n",
    "            if perm[splitpos] == \"0\":\n",
    "                continue\n",
    "            part1 = perm[:splitpos]\n",
    "            n1 = int(\"\".join(part1))\n",
    "            if n1 % 3 != 0:\n",
    "                continue\n",
    "            part2 = perm[splitpos:]\n",
    "            n2 = int(\"\".join(part2))\n",
    "            g = math.gcd(n1, n2)\n",
    "            for d in sympy.ntheory.divisors(g // 3):\n",
    "                a = 3 * d\n",
    "                s = str(a) + str(n1 // a) + str(n2 // a)\n",
    "                if len(s) == 10 and len(set(s)) == 10:\n",
    "                    print(a, n1 // a, n2 // a, \"\".join(perm))\n",
    "                    return\n",
    "\n",
    "\n",
    "def main():\n",
    "    search()\n",
    "\n",
    "\n",
    "if __name__ == \"__main__\":\n",
    "    main()\n"
   ]
  }
 ]
}