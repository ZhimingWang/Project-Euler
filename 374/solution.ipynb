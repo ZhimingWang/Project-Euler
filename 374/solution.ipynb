{
 "nbformat": 4,
 "nbformat_minor": 2,
 "metadata": {
  "language_info": {
   "name": "python",
   "codemirror_mode": {
    "name": "ipython",
    "version": 3
   }
  },
  "orig_nbformat": 2,
  "file_extension": ".py",
  "mimetype": "text/x-python",
  "name": "python",
  "npconvert_exporter": "python",
  "pygments_lexer": "ipython3",
  "version": 3
 },
 "cells": [
  {
   "cell_type": "markdown",
   "execution_count": null,
   "metadata": {},
   "outputs": [],
   "source": [
    "The optimal partitions are in the form\n",
    "\n",
    "$$2 \\cdot 3 \\cdot 4 \\cdot \\cdots \\cdot (n-1) \\cdot n \\cdot (n+1),$$\n",
    "$$2 \\cdot 3 \\cdot 4 \\cdot \\cdots \\cdot (n-1) \\cdot n \\cdot (n+2),$$\n",
    "$$2 \\cdot 3 \\cdot 4 \\cdot \\cdots \\cdot (n-1) \\cdot (n+1) \\cdot (n+2),$$\n",
    "$$2 \\cdot 3 \\cdot 4 \\cdot \\cdots \\cdot n \\cdot (n+1) \\cdot (n+2),$$\n",
    "$$\\cdots,$$\n",
    "$$3 \\cdot 4 \\cdot 5 \\cdot \\cdots \\cdot (n+1) \\cdot (n+2) \\cdot (n+3),$$\n",
    "$$3 \\cdot 4 \\cdot 5 \\cdot \\cdots \\cdot (n+1) \\cdot (n+2) \\cdot (n+4).$$\n",
    "\n",
    "The sum of these $n+2$ products with partition length $n$ is\n",
    "\n",
    "$$(n+2)!\\left(\\frac{1}{n+2} + \\frac{1}{n+1} + \\cdots + \\frac{1}{2}\\right) + (n+1)! \\frac{n+3}{2}.$$\n",
    "\n",
    "Denote this by $f_n$, and let\n",
    "\n",
    "$$g_n = (n+2)!\\sum_{j=2}^{n+2}\\frac{1}{j},$$\n",
    "\n",
    "then\n",
    "\n",
    "$$g_n = (n+2)g_{n-1} + (n+1)!,$$\n",
    "$$f_n = n g_n + \\frac{n(n+3)}{2} (n+1)!.$$\n",
    "\n",
    "This is apparently enough to calculate $f_n \\pmod p$ iteratively. The final $k$ terms that do not constitute a full $n+2$ cycle has sum\n",
    "\n",
    "$$(n+2)!\\sum_{j=n-k+3}^{n+2}\\frac{1}{j}$$\n",
    "\n",
    "whose modular congruence class is easily calculated by finding the modular inverses of $n-k+3, \\dots, n+2$."
   ]
  }
 ]
}