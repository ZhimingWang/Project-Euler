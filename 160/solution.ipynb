{
 "nbformat": 4,
 "nbformat_minor": 2,
 "metadata": {
  "language_info": {
   "name": "python",
   "codemirror_mode": {
    "name": "ipython",
    "version": 3
   },
   "version": "3.8.0"
  },
  "orig_nbformat": 2,
  "file_extension": ".py",
  "mimetype": "text/x-python",
  "name": "python",
  "npconvert_exporter": "python",
  "pygments_lexer": "ipython3",
  "version": 3
 },
 "cells": [
  {
   "cell_type": "markdown",
   "execution_count": null,
   "metadata": {},
   "outputs": [],
   "source": [
    "Divide all positive integers into\n",
    "\n",
    "$$S = \\{1,\\, 3,\\, 7,\\, 9,\\, 11,\\, 13,\\, 17,\\, 19,\\, \\dots\\},$$\n",
    "$$2S,\\, 4S,\\, 5S,\\, 8S,\\, 10S,\\, 16S,\\, 20S,\\, 25S,\\, \\dots.$$\n",
    "\n",
    "Then the mod $100000$ product of the first $k$ terms of each sequence sans 2 and 5 factors can be easily calculated due to the $40000$-period of $S$ mod $100000$. Finally we just need to compensate for\n",
    "\n",
    "$$2^{\\nu_2(N!) - \\nu_5(N!)}.$$"
   ]
  },
  {
   "cell_type": "code",
   "execution_count": 1,
   "metadata": {},
   "outputs": [
    {
     "name": "stdout",
     "output_type": "stream",
     "text": "16576\n"
    }
   ],
   "source": [
    "#!/usr/bin/env python3\n",
    "\n",
    "import math\n",
    "\n",
    "\n",
    "products = []\n",
    "\n",
    "\n",
    "def calculate_period():\n",
    "    global products\n",
    "    product = 1\n",
    "    products.append(product)\n",
    "    for i in range(10_000):\n",
    "        for j in (1, 3, 7, 9):\n",
    "            product *= 10 * i + j\n",
    "            product %= 100_000\n",
    "            products.append(product)\n",
    "\n",
    "\n",
    "def calculate_f(n):\n",
    "    modulus = 100_000\n",
    "    v2_max = int(math.log2(n))\n",
    "    v5_max = int(math.log(n) / math.log(5))\n",
    "    factorial_v2 = sum(n // (2 ** k) for k in range(1, v2_max + 1))\n",
    "    factorial_v5 = sum(n // (5 ** k) for k in range(1, v5_max + 1))\n",
    "    factorial_v2_excess = factorial_v2 - factorial_v5\n",
    "    result = pow(2, factorial_v2_excess, modulus)\n",
    "    for v2 in range(v2_max + 1):\n",
    "        for v5 in range(v5_max + 1):\n",
    "            multiplier = (2 ** v2) * (5 ** v5)\n",
    "            if multiplier > n:\n",
    "                break\n",
    "            cutoff = n // multiplier\n",
    "            n_periods, tail = divmod(cutoff, modulus)\n",
    "            tail_last_digit = tail % 10\n",
    "            tail_index = 4 * (tail // 10)\n",
    "            if tail_last_digit >= 9:\n",
    "                tail_index += 4\n",
    "            elif tail_last_digit >= 7:\n",
    "                tail_index += 3\n",
    "            elif tail_last_digit >= 3:\n",
    "                tail_index += 2\n",
    "            elif tail_last_digit >= 1:\n",
    "                tail_index += 1\n",
    "            result *= pow(products[-1], n_periods, modulus) * products[tail_index]\n",
    "            result %= modulus\n",
    "    return result\n",
    "\n",
    "\n",
    "def main():\n",
    "    calculate_period()\n",
    "    print(\"{:05d}\".format(calculate_f(1_000_000_000_000)))\n",
    "\n",
    "\n",
    "if __name__ == \"__main__\":\n",
    "    main()\n"
   ]
  }
 ]
}