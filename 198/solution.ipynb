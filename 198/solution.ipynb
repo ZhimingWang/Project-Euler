{
 "nbformat": 4,
 "nbformat_minor": 2,
 "metadata": {
  "language_info": {
   "name": "python",
   "codemirror_mode": {
    "name": "ipython",
    "version": 3
   },
   "version": "3.8.0"
  },
  "orig_nbformat": 2,
  "file_extension": ".py",
  "mimetype": "text/x-python",
  "name": "python",
  "npconvert_exporter": "python",
  "pygments_lexer": "ipython3",
  "version": 3
 },
 "cells": [
  {
   "cell_type": "markdown",
   "execution_count": null,
   "metadata": {},
   "outputs": [],
   "source": [
    "It's not hard to see that a number is ambiguous iff it is the midpoint of two neighbors in some Farey sequence $F_n$.\n",
    "\n",
    "For $n \\ge 100$, $\\frac{1}{100} \\in F_n$, so we only need to consider neighbors in the range $\\left[ \\frac{0}{1},\\, \\frac{1}{100} \\right]$, and the midpoints of all such neighbors are automatically $<\\frac{1}{100}$. It is also very convenient that if $\\frac{q_1}{p_1}$ and $\\frac{q_2}{p_2}$ are neighbors in some $F_n$, then $(p_1, p_2) = 1$ and $p_1 \\not\\equiv p_2 \\pmod 2$, so for\n",
    "\n",
    "$$\\frac{1}{2}\\left(\\frac{q_1}{p_1}+\\frac{q_2}{p_2}\\right) = \\frac{q_1p_2+p_1q_2}{2p_1p_2} = \\frac{Q}{2p_1p_2},$$\n",
    "\n",
    "we have $(Q,\\,2) = (Q,\\,p_1p_2)= 1$, hence the midpoint's irreducible denominator is $2p_1p_2$; it's easy to test whether it exceeds $10^8$. Therefore, we simply divide $\\left[ \\frac{0}{1},\\, \\frac{1}{100} \\right]$ recursively until we've found all eligible neighbors.\n",
    "\n",
    "For $n < 100$, only the midpoint of $\\frac{0}{1}$ and $\\frac{1}{n}$ may be under $\\frac{1}{100}$, and we count 49 additional ambiguous numbers from these."
   ]
  },
  {
   "cell_type": "code",
   "execution_count": 1,
   "metadata": {},
   "outputs": [
    {
     "name": "stdout",
     "output_type": "stream",
     "text": "52374425\n"
    }
   ],
   "source": [
    "#!/usr/bin/env python3\n",
    "\n",
    "import sys\n",
    "\n",
    "sys.setrecursionlimit(10_000)\n",
    "\n",
    "\n",
    "# Given that (x0=q1/p1, y0=q2/p2) are neighbors in a Farey sequence,\n",
    "# returns the number of possible Farey sequence neighbors (x, y) in the\n",
    "# range [x0, y0] (that is, x0 <= x <= y <= y0) s.t. the product of their\n",
    "# denominators do not exceed max_product.\n",
    "def count(p1, p2, max_product):\n",
    "    if p1 * p2 > max_product:\n",
    "        return 0\n",
    "    if p1 == 1 and p2 * (p2 + 1) > max_product:\n",
    "        # We know all the elligible neighbors in this case: (0/1, 1/p2),\n",
    "        # ..., (0/1, 1/max_product).\n",
    "        return max_product - p2 + 1\n",
    "    p = p1 + p2\n",
    "    return 1 + count(p1, p, max_product) + count(p, p2, max_product)\n",
    "\n",
    "\n",
    "def main():\n",
    "    # Other than midpoints of neighbors in the range [0/1, 1/100], there\n",
    "    # are 49 more midpoints under 1/100: (0/1, 1/51), ... (0/1, 1/99).\n",
    "    print(count(1, 100, 100_000_000 // 2) + 49)\n",
    "\n",
    "\n",
    "if __name__ == \"__main__\":\n",
    "    main()\n"
   ]
  }
 ]
}