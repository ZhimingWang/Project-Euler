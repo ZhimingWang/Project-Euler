{
 "nbformat": 4,
 "nbformat_minor": 2,
 "metadata": {
  "language_info": {
   "name": "python",
   "codemirror_mode": {
    "name": "ipython",
    "version": 3
   }
  },
  "orig_nbformat": 2,
  "file_extension": ".py",
  "mimetype": "text/x-python",
  "name": "python",
  "npconvert_exporter": "python",
  "pygments_lexer": "ipython3",
  "version": 3
 },
 "cells": [
  {
   "cell_type": "markdown",
   "execution_count": null,
   "metadata": {},
   "outputs": [],
   "source": [
    "Let $T(n) = \\sum_{i=1}^n d(i)$. Then\n",
    "\n",
    "$$\n",
    "\\begin{aligned}\n",
    "& T(n)^2 - S(n) \\\\\n",
    "=& \\sum_{i=1}^n\\sum_{j=1}^n \\left( \\sum_{d_1\\mid i} d_1 \\sum_{d_2\\mid j} d_2 - \\sum_{d \\mid ij} d \\right) \\\\\n",
    "=& \\sum_{i=1}^n\\sum_{j=1}^n \\sum_{1 \\le g \\mid (i,j)} g \\cdot d\\left(\\frac{i}{g} \\cdot \\frac{j}{g}\\right) \\\\\n",
    "=& \\sum_{g=2}^n g \\sum_{i_0=1}^{\\lfloor n/g \\rfloor} \\sum_{j_0=1}^{\\lfloor n/g \\rfloor} d(i_0j_0) \\\\\n",
    "=& \\sum_{g=2}^n g \\cdot S\\left( \\left\\lfloor \\frac{n}{g} \\right\\rfloor \\right),\n",
    "\\end{aligned}\n",
    "$$\n",
    "\n",
    "so\n",
    "\n",
    "$$S(n) = T(n)^2 - \\sum_{g=2}^n g \\cdot S\\left( \\left\\lfloor \\frac{n}{g} \\right\\rfloor \\right).$$\n",
    "\n",
    "The summation can be broken down into groups with the same $\\left\\lfloor \\frac{n}{g} \\right\\rfloor = k$, corresponding to $\\left\\lfloor \\frac{n}{k+1} \\right\\rfloor + 1 \\le g \\le \\left\\lfloor \\frac{n}{k} \\right\\rfloor$.\n",
    "\n",
    "It remains to calculate $T(n)$.\n",
    "\n",
    "$$T(n) = \\sum_{i=1}^n \\sum_{d \\mid j} d = \\sum_{d=1}^n \\sum_{j=1}^{\\left\\lfloor \\frac{n}{d} \\right\\rfloor} d = \\sum_{j=1}^n \\sum_{d=1}^{\\left\\lfloor \\frac{n}{j} \\right\\rfloor} d,$$\n",
    "\n",
    "where we can use the same summation technique.\n",
    "\n",
    "The implementation is on the slow side, takes slightly under 3min. Looking at caching stats we see that $s$ is calculated for 10^9 number of times; maybe using an array for small $S(n)$ would be better than the unordered map.\n",
    "\n",
    "```\n",
    "968697378\n",
    "s: hit - 945278711\tmiss - 632454\n",
    "( ./solution; )  169.54s user 0.14s system 99% cpu 2:50.45 total\n",
    "```"
   ]
  }
 ]
}