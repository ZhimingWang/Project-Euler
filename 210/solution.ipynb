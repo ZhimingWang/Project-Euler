{
 "nbformat": 4,
 "nbformat_minor": 2,
 "metadata": {
  "language_info": {
   "name": "python",
   "codemirror_mode": {
    "name": "ipython",
    "version": 3
   },
   "version": "3.8.0"
  },
  "orig_nbformat": 2,
  "file_extension": ".py",
  "mimetype": "text/x-python",
  "name": "python",
  "npconvert_exporter": "python",
  "pygments_lexer": "ipython3",
  "version": 3
 },
 "cells": [
  {
   "cell_type": "markdown",
   "execution_count": null,
   "metadata": {},
   "outputs": [],
   "source": [
    "This is one annoying problem where the math is simple but the programming is tricky.\n",
    "\n",
    "Apparently there are $r^2/4$ points where $\\angle BCO > \\pi/2$, and $r^2/2$ points where $\\angle BOC > \\pi/2$. The only nontrivial part is calculating the number of points $(x, y)$ strictly within the circle $(x - r/8)^2 + (y - r/8)^2 = r^2/32$ and $x \\ne y$. From hence on we assume $8 \\mid r$. There are $\\frac{r}{4} - 2$ elligible points on $x + y = r/4$, and the remaining is 4 times the number of\n",
    "\n",
    "$$(a,\\, b): a > |b| \\ge 0,\\ a^2+b^2<\\frac{r^2}{32}.$$\n",
    "\n",
    "This isn't hard to brute force. The tricky part is `int(math.sqrt(x))` being treacherous: when `x` is large enough this may no longer be the greatest number with square $\\ge x$! Indeed,\n",
    "\n",
    "```python\n",
    ">>> s = 31249999999999999-134120000**2\n",
    ">>> r = int(math.sqrt(s))\n",
    ">>> r\n",
    "115160000\n",
    ">>> r * r - s\n",
    "1\n",
    "```\n",
    "\n",
    "Damn."
   ]
  },
  {
   "cell_type": "code",
   "execution_count": 1,
   "metadata": {},
   "outputs": [
    {
     "name": "stdout",
     "output_type": "stream",
     "text": "progress: 126000000/176776695\nprogress: 127000000/176776695\nprogress: 128000000/176776695\nprogress: 129000000/176776695\nprogress: 130000000/176776695\nprogress: 131000000/176776695\nprogress: 132000000/176776695\nprogress: 133000000/176776695\nprogress: 134000000/176776695\n<ipython-input-1-4af75c517310>:21: UserWarning: 115160000**2 + 134120000**2>31249999999999999\n  warnings.warn(f\"{b2_bound}**2 + {a}**2>{bound}\")\nprogress: 135000000/176776695\nprogress: 136000000/176776695\nprogress: 137000000/176776695\nprogress: 138000000/176776695\nprogress: 139000000/176776695\nprogress: 140000000/176776695\nprogress: 141000000/176776695\nprogress: 142000000/176776695\nprogress: 143000000/176776695\nprogress: 144000000/176776695\nprogress: 145000000/176776695\nprogress: 146000000/176776695\nprogress: 147000000/176776695\nprogress: 148000000/176776695\n<ipython-input-1-4af75c517310>:21: UserWarning: 96510400**2 + 148107200**2>31249999999999999\n  warnings.warn(f\"{b2_bound}**2 + {a}**2>{bound}\")\nprogress: 149000000/176776695\nprogress: 150000000/176776695\nprogress: 151000000/176776695\nprogress: 152000000/176776695\nprogress: 153000000/176776695\nprogress: 154000000/176776695\nprogress: 155000000/176776695\n<ipython-input-1-4af75c517310>:21: UserWarning: 85000000**2 + 155000000**2>31249999999999999\n  warnings.warn(f\"{b2_bound}**2 + {a}**2>{bound}\")\nprogress: 156000000/176776695\nprogress: 157000000/176776695\nprogress: 158000000/176776695\nprogress: 159000000/176776695\nprogress: 160000000/176776695\nprogress: 161000000/176776695\n<ipython-input-1-4af75c517310>:21: UserWarning: 73000000**2 + 161000000**2>31249999999999999\n  warnings.warn(f\"{b2_bound}**2 + {a}**2>{bound}\")\nprogress: 162000000/176776695\nprogress: 163000000/176776695\nprogress: 164000000/176776695\nprogress: 165000000/176776695\nprogress: 166000000/176776695\nprogress: 167000000/176776695\nprogress: 168000000/176776695\nprogress: 169000000/176776695\nprogress: 170000000/176776695\nprogress: 171000000/176776695\nprogress: 172000000/176776695\nprogress: 173000000/176776695\nprogress: 174000000/176776695\nprogress: 175000000/176776695\nprogress: 176000000/176776695\n1598174770174689458\n"
    }
   ],
   "source": [
    "#!/usr/bin/env python3\n",
    "\n",
    "import math\n",
    "import warnings\n",
    "\n",
    "\n",
    "def main():\n",
    "    R = 1_000_000_000\n",
    "    bound = R * R // 32 - 1\n",
    "    # a <= sqrt(bound / 2), 1 + 3 + ... + (2a-1)\n",
    "    a = int(math.sqrt(bound / 2))\n",
    "    assert a * a <= bound / 2\n",
    "    assert (a+1) * (a+1) > bound / 2\n",
    "    count = a * a\n",
    "    a += 1\n",
    "    while (a2 := a * a) <= bound:\n",
    "        if a % 1_000_000 == 0:\n",
    "            print(f\"progress: {a}/{int(math.sqrt(bound))}\")\n",
    "        b2_bound = int(math.sqrt(bound - a2))\n",
    "        while b2_bound * b2_bound + a2 > bound:\n",
    "            warnings.warn(f\"{b2_bound}**2 + {a}**2>{bound}\")\n",
    "            b2_bound -= 1\n",
    "        while ((b2_bound + 1) ** 2) + a2 <= bound:\n",
    "            warnings.warn(f\"{b2_bound}**2 +{a}**2<={bound}\")\n",
    "            b2_bound += 1\n",
    "        count += 2 * b2_bound + 1\n",
    "        a += 1\n",
    "    count *= 4\n",
    "    count += R * R * 3 // 2 + R // 4 - 2\n",
    "    print(count)\n",
    "\n",
    "\n",
    "if __name__ == \"__main__\":\n",
    "    main()\n"
   ]
  }
 ]
}