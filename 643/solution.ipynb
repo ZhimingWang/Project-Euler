{
 "nbformat": 4,
 "nbformat_minor": 2,
 "metadata": {
  "language_info": {
   "name": "python",
   "codemirror_mode": {
    "name": "ipython",
    "version": 3
   }
  },
  "orig_nbformat": 2,
  "file_extension": ".py",
  "mimetype": "text/x-python",
  "name": "python",
  "npconvert_exporter": "python",
  "pygments_lexer": "ipython3",
  "version": 3
 },
 "cells": [
  {
   "cell_type": "markdown",
   "execution_count": null,
   "metadata": {},
   "outputs": [],
   "source": [
    "Let $g(n)$ be the number of pairs $(a,\\, b)$ s.t. $1 \\le a \\le b \\le n$ and $\\gcd(a,b)=1$. Then\n",
    "\n",
    "$$f(n) = \\sum_{t=1}^{\\lfloor \\log_2 n \\rfloor} (g(\\lfloor n \\cdot 2^{-t} \\rfloor) - 1).$$\n",
    "\n",
    "It's not the first time (nor second) that we needed to calculate $g(n)$ (basically sum of Euler totient over $[1,n]$) for a Project Euler problem. Somehow my sublinear algorithm is trash and took ~57s total.\n",
    "\n",
    "Note to self: I should read the [problem 351 writeup](https://projecteuler.net/overview=351).\n",
    "\n",
    "Anyway, here's my 300th problem solved. Enjoy."
   ]
  }
 ]
}