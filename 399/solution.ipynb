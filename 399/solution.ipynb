{
 "nbformat": 4,
 "nbformat_minor": 2,
 "metadata": {
  "language_info": {
   "name": "python",
   "codemirror_mode": {
    "name": "ipython",
    "version": 3
   }
  },
  "orig_nbformat": 2,
  "file_extension": ".py",
  "mimetype": "text/x-python",
  "name": "python",
  "npconvert_exporter": "python",
  "pygments_lexer": "ipython3",
  "version": 3
 },
 "cells": [
  {
   "cell_type": "markdown",
   "execution_count": null,
   "metadata": {},
   "outputs": [],
   "source": [
    "A little bit of observation and experimentation tells us that if $f_{n_p}$ is the first Fibonacci term that is divisible by prime $p$, then $p^2 \\mid f_n$ iff $p \\cdot n_p \\mid n$. Therefore we only need to filter out all multiples of $p \\cdot n_p$ for all primes $p$. Note that the $N$-th squarefree term is roughly the $1.3N$ overall term (the ratio converges for obvious reasons), so it's safe to filter for $p \\cdot n_p$ up to $1.5N$.\n",
    "\n",
    "The obvious choice for the searching and filtering is C++, which is fast and imperative and familiar, but the actual Fibonacci term calculation is obviously vastly simpler in Mathematica, so we leverage both."
   ]
  }
 ]
}