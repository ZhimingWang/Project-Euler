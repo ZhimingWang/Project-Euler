{
 "nbformat": 4,
 "nbformat_minor": 2,
 "metadata": {
  "language_info": {
   "name": "python",
   "codemirror_mode": {
    "name": "ipython",
    "version": 3
   },
   "version": "3.8.0"
  },
  "orig_nbformat": 2,
  "file_extension": ".py",
  "mimetype": "text/x-python",
  "name": "python",
  "npconvert_exporter": "python",
  "pygments_lexer": "ipython3",
  "version": 3
 },
 "cells": [
  {
   "cell_type": "markdown",
   "execution_count": null,
   "metadata": {},
   "outputs": [],
   "source": [
    "Straightforward depth-first search. Beware \"excluding the first and last batch of the week\", which got me at first. Guess an easy problem needs a catch."
   ]
  },
  {
   "cell_type": "code",
   "execution_count": 1,
   "metadata": {},
   "outputs": [
    {
     "name": "stdout",
     "output_type": "stream",
     "text": "State(A1=0, A2=0, A3=0, A4=0, A5=2) 1.0\nState(A1=0, A2=0, A3=0, A4=0, A5=3) 1.0\nState(A1=0, A2=0, A3=0, A4=0, A5=4) 1.0\nState(A1=0, A2=0, A3=0, A4=0, A5=5) 1.0\nState(A1=0, A2=0, A3=0, A4=0, A5=6) 1.0\nState(A1=0, A2=0, A3=0, A4=0, A5=7) 1.0\nState(A1=0, A2=0, A3=0, A4=0, A5=8) 1.0\nState(A1=0, A2=0, A3=0, A4=1, A5=0) 2\nState(A1=0, A2=0, A3=0, A4=1, A5=1) 1.5\nState(A1=0, A2=0, A3=0, A4=1, A5=2) 1.3333333333333333\nState(A1=0, A2=0, A3=0, A4=1, A5=3) 1.25\nState(A1=0, A2=0, A3=0, A4=1, A5=4) 1.2\nState(A1=0, A2=0, A3=0, A4=1, A5=5) 1.1666666666666667\nState(A1=0, A2=0, A3=0, A4=1, A5=6) 1.1428571428571428\nState(A1=0, A2=0, A3=0, A4=1, A5=7) 1.125\nState(A1=0, A2=0, A3=0, A4=2, A5=0) 1.5\nState(A1=0, A2=0, A3=0, A4=2, A5=1) 1.3888888888888888\nState(A1=0, A2=0, A3=0, A4=2, A5=2) 1.3194444444444444\nState(A1=0, A2=0, A3=0, A4=2, A5=3) 1.2716666666666665\nState(A1=0, A2=0, A3=0, A4=2, A5=4) 1.2366666666666666\nState(A1=0, A2=0, A3=0, A4=2, A5=5) 1.2098639455782312\nState(A1=0, A2=0, A3=0, A4=2, A5=6) 1.1886479591836734\nState(A1=0, A2=0, A3=0, A4=3, A5=0) 1.3888888888888888\nState(A1=0, A2=0, A3=0, A4=3, A5=1) 1.3368055555555554\nState(A1=0, A2=0, A3=0, A4=3, A5=2) 1.2977222222222222\nState(A1=0, A2=0, A3=0, A4=3, A5=3) 1.2671944444444443\nState(A1=0, A2=0, A3=0, A4=3, A5=4) 1.2426242306446387\nState(A1=0, A2=0, A3=0, A4=3, A5=5) 1.2223831288467766\nState(A1=0, A2=0, A3=0, A4=4, A5=0) 1.3368055555555554\nState(A1=0, A2=0, A3=0, A4=4, A5=1) 1.305538888888889\nState(A1=0, A2=0, A3=0, A4=4, A5=2) 1.2799759259259258\nState(A1=0, A2=0, A3=0, A4=4, A5=3) 1.2586321000509044\nState(A1=0, A2=0, A3=0, A4=4, A5=4) 1.2405076144488405\nState(A1=0, A2=0, A3=1, A4=0, A5=0) 2.5\nState(A1=0, A2=0, A3=1, A4=0, A5=1) 1.9166666666666665\nState(A1=0, A2=0, A3=1, A4=0, A5=2) 1.6944444444444442\nState(A1=0, A2=0, A3=1, A4=0, A5=3) 1.570833333333333\nState(A1=0, A2=0, A3=1, A4=0, A5=4) 1.49\nState(A1=0, A2=0, A3=1, A4=0, A5=5) 1.4321428571428572\nState(A1=0, A2=0, A3=1, A4=0, A5=6) 1.3882653061224488\nState(A1=0, A2=0, A3=1, A4=1, A5=0) 1.6527777777777777\nState(A1=0, A2=0, A3=1, A4=1, A5=1) 1.5555555555555551\nState(A1=0, A2=0, A3=1, A4=1, A5=2) 1.4884027777777775\nState(A1=0, A2=0, A3=1, A4=1, A5=3) 1.4383749999999997\nState(A1=0, A2=0, A3=1, A4=1, A5=4) 1.3992511337868478\nState(A1=0, A2=0, A3=1, A4=1, A5=5) 1.3675955620343374\nState(A1=0, A2=0, A3=1, A4=2, A5=0) 1.4826388888888884\nState(A1=0, A2=0, A3=1, A4=2, A5=1) 1.4392916666666664\nState(A1=0, A2=0, A3=1, A4=2, A5=2) 1.4045055555555552\nState(A1=0, A2=0, A3=1, A4=2, A5=3) 1.3757738608141667\nState(A1=0, A2=0, A3=1, A4=2, A5=4) 1.3515242423103024\nState(A1=0, A2=0, A3=1, A4=3, A5=0) 1.405853472222222\nState(A1=0, A2=0, A3=1, A4=3, A5=1) 1.3798692129629626\nState(A1=0, A2=0, A3=1, A4=3, A5=2) 1.3576153514032216\nState(A1=0, A2=0, A3=1, A4=3, A5=3) 1.338275199369916\nState(A1=0, A2=0, A3=2, A4=0, A5=0) 1.5555555555555551\nState(A1=0, A2=0, A3=2, A4=0, A5=1) 1.5107870370370367\nState(A1=0, A2=0, A3=2, A4=0, A5=2) 1.4745810185185182\nState(A1=0, A2=0, A3=2, A4=0, A5=3) 1.44444906462585\nState(A1=0, A2=0, A3=2, A4=0, A5=4) 1.4188312304286792\nState(A1=0, A2=0, A3=2, A4=1, A5=0) 1.463123456790123\nState(A1=0, A2=0, A3=2, A4=1, A5=1) 1.436678896604938\nState(A1=0, A2=0, A3=2, A4=1, A5=2) 1.413870915892812\nState(A1=0, A2=0, A3=2, A4=1, A5=3) 1.3939154104546199\nState(A1=0, A2=0, A3=2, A4=2, A5=0) 1.4082740547839503\nState(A1=0, A2=0, A3=2, A4=2, A5=1) 1.3902493178752036\nState(A1=0, A2=0, A3=2, A4=2, A5=2) 1.3741466425665796\nState(A1=0, A2=1, A3=0, A4=0, A5=0) 2.5555555555555554\nState(A1=0, A2=1, A3=0, A4=0, A5=1) 2.021979166666666\nState(A1=0, A2=1, A3=0, A4=0, A5=2) 1.8274444444444438\nState(A1=0, A2=1, A3=0, A4=0, A5=3) 1.7203961167800448\nState(A1=0, A2=1, A3=0, A4=0, A5=4) 1.6498360058309034\nState(A1=0, A2=1, A3=0, A4=1, A5=0) 1.7306354166666664\nState(A1=0, A2=1, A3=0, A4=1, A5=1) 1.6541951388888885\nState(A1=0, A2=1, A3=0, A4=1, A5=2) 1.6011400638429971\nState(A1=0, A2=1, A3=0, A4=1, A5=3) 1.5609560879340394\nState(A1=0, A2=1, A3=0, A4=2, A5=0) 1.5627531635802465\nState(A1=0, A2=1, A3=0, A4=2, A5=1) 1.5306621606673656\nState(A1=0, A2=1, A3=0, A4=2, A5=2) 1.5043023393145454\nState(A1=0, A2=1, A3=1, A4=0, A5=0) 1.5454370177469132\nState(A1=0, A2=1, A3=1, A4=0, A5=1) 1.5201493324942406\nState(A1=0, A2=1, A3=1, A4=0, A5=2) 1.498792540844285\nState(A1=0, A2=1, A3=1, A4=1, A5=0) 1.4803536036789364\nState(A1=0, A2=1, A3=1, A4=1, A5=1) 1.4643987816010866\nState(A1=1, A2=0, A3=0, A4=0, A5=0) 2.4643987816010866\n0.464399\n"
    }
   ],
   "source": [
    "import collections\n",
    "\n",
    "\n",
    "State = collections.namedtuple(\"State\", \"A1 A2 A3 A4 A5\")\n",
    "\n",
    "\n",
    "def calculate_expectation(state, remaining_days):\n",
    "    if state in calculate_expectation.cache:\n",
    "        return calculate_expectation.cache[state]\n",
    "    if remaining_days == 1:\n",
    "        return 1\n",
    "    expectation = 0\n",
    "    total_choices = sum(state)\n",
    "    if total_choices == 1:\n",
    "        k = state.index(1)\n",
    "        new_state = State(*[0 if i <= k else 1 for i in range(5)])\n",
    "        expectation = 1 + calculate_expectation(new_state, remaining_days - 1)\n",
    "    else:\n",
    "        for k in range(5):\n",
    "            if state[k] > 0:\n",
    "                new_state = State(\n",
    "                    *[\n",
    "                        state[i] if i < k else state[i] - 1 if i == k else state[i] + 1\n",
    "                        for i in range(5)\n",
    "                    ]\n",
    "                )\n",
    "                expectation += (\n",
    "                    state[k]\n",
    "                    / total_choices\n",
    "                    * calculate_expectation(new_state, remaining_days - 1)\n",
    "                )\n",
    "    print(state, expectation)\n",
    "    calculate_expectation.cache[state] = expectation\n",
    "    return expectation\n",
    "\n",
    "\n",
    "calculate_expectation.cache = dict()\n",
    "\n",
    "\n",
    "def main():\n",
    "    # Minus 2 to exclude first and last.\n",
    "    expectation = calculate_expectation(State(1, 0, 0, 0, 0), 16) - 2\n",
    "    print(f\"{expectation:.6f}\")\n",
    "\n",
    "\n",
    "main()"
   ]
  },
  {
   "cell_type": "code",
   "execution_count": null,
   "metadata": {},
   "outputs": [],
   "source": []
  }
 ]
}