{
 "nbformat": 4,
 "nbformat_minor": 2,
 "metadata": {
  "language_info": {
   "name": "python",
   "codemirror_mode": {
    "name": "ipython",
    "version": 3
   },
   "version": "3.8.0"
  },
  "orig_nbformat": 2,
  "file_extension": ".py",
  "mimetype": "text/x-python",
  "name": "python",
  "npconvert_exporter": "python",
  "pygments_lexer": "ipython3",
  "version": 3
 },
 "cells": [
  {
   "cell_type": "markdown",
   "execution_count": null,
   "metadata": {},
   "outputs": [],
   "source": [
    "Note that if each time we try to fill the leftmost block on the topmost line that's not completely filled, then we only need to keep track of the top three lines that are not completely filled as well as the number of lines beyond that. Easily memoizable."
   ]
  },
  {
   "cell_type": "code",
   "execution_count": 1,
   "metadata": {},
   "outputs": [
    {
     "name": "stdout",
     "output_type": "stream",
     "text": "20574308184277971\n"
    }
   ],
   "source": [
    "#!/usr/bin/env python3\n",
    "\n",
    "import functools\n",
    "\n",
    "\n",
    "M = 9\n",
    "N = 12\n",
    "\n",
    "triominoes = [\n",
    "    3 + (1 << (M + 1)),\n",
    "    3 + (2 << (M + 1)),\n",
    "    1 + (3 << (M + 1)),\n",
    "    1 + (3 << M),\n",
    "    1 + (1 << (M + 1)) + (1 << (2 * M + 2)),\n",
    "    7,\n",
    "]\n",
    "\n",
    "empty_line = 1 << M  # A 1 following M 0s; the 1 acts as barrier between two lines\n",
    "filled_line = (1 << (M + 1)) - 1  # (M+1) 1s\n",
    "\n",
    "\n",
    "@functools.lru_cache(maxsize=None)\n",
    "def search(first_three_lines_mask, n_remaining_lines):\n",
    "    first_empty_block = 1\n",
    "    while first_empty_block & first_three_lines_mask:\n",
    "        first_empty_block <<= 1\n",
    "    count = 0\n",
    "    for triomino in triominoes:\n",
    "        mask = triomino * first_empty_block\n",
    "        if mask & ~first_three_lines_mask == mask:\n",
    "            new_first_three_lines_mask = first_three_lines_mask | mask\n",
    "            n_filled_lines = 0\n",
    "            while new_first_three_lines_mask & filled_line == filled_line:\n",
    "                n_filled_lines += 1\n",
    "                new_first_three_lines_mask >>= M + 1\n",
    "            if new_first_three_lines_mask == 0 and n_remaining_lines == 0:\n",
    "                # Completely filled.\n",
    "                return 1\n",
    "            new_n_remaining_lines = max(n_remaining_lines - n_filled_lines, 0)\n",
    "            line_number = 3 - n_filled_lines\n",
    "            for _ in range(n_remaining_lines - new_n_remaining_lines):\n",
    "                new_first_three_lines_mask |= empty_line << (line_number * (M + 1))\n",
    "                line_number += 1\n",
    "            for _ in range(n_filled_lines - n_remaining_lines):\n",
    "                new_first_three_lines_mask |= filled_line << (line_number * (M + 1))\n",
    "            count += search(new_first_three_lines_mask, new_n_remaining_lines)\n",
    "    return count\n",
    "\n",
    "\n",
    "def main():\n",
    "    three_empty_lines = (\n",
    "        empty_line | (empty_line << (M + 1)) | (empty_line << (2 * M + 2))\n",
    "    )\n",
    "    print(search(three_empty_lines, N - 3))\n",
    "\n",
    "\n",
    "if __name__ == \"__main__\":\n",
    "    main()\n"
   ]
  }
 ]
}