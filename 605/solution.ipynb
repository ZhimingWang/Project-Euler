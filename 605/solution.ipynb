{
 "nbformat": 4,
 "nbformat_minor": 2,
 "metadata": {
  "language_info": {
   "name": "python",
   "codemirror_mode": {
    "name": "ipython",
    "version": 3
   },
   "version": "3.8.0"
  },
  "orig_nbformat": 2,
  "file_extension": ".py",
  "mimetype": "text/x-python",
  "name": "python",
  "npconvert_exporter": "python",
  "pygments_lexer": "ipython3",
  "version": 3
 },
 "cells": [
  {
   "cell_type": "markdown",
   "execution_count": null,
   "metadata": {},
   "outputs": [],
   "source": [
    "Mark the result of round $r$ as 1 if player $r$ wins or 0 if player $r+1$ wins (player index up to modulo $n$). Then game ends at round $r$ iff the subsequence 01 appears in the 0, 1 sequence for the first time at position $r-1$ and $r$. Let the probability of game ending at round $r$ be $p_r$, and $\\sum_{i=1}^r p_i = P_r$, then it's easy to see\n",
    "\n",
    "$$p_r = \\frac{1}{4} \\cdot (1 - P_{r-2}).$$\n",
    "\n",
    "With this formula we can easy show inductively that\n",
    "\n",
    "$$P_r = 1 - \\frac{r+1}{2^r},$$\n",
    "$$p_r = \\frac{r-1}{2^r}.$$\n",
    "\n",
    "Then\n",
    "\n",
    "$$P_n(k) = \\sum_{i=0}^\\infty p_{ni+k} = \\sum_{i=0}^\\infty \\frac{ni+k-1}{2^{ni+k}},$$\n",
    "\n",
    "so\n",
    "\n",
    "$$\n",
    "\\begin{aligned}\n",
    "P_n(k) &= \\frac{1}{2^n-1} \\cdot \\left( 2^n \\cdot \\frac{k-1}{2^k} + \\sum_{i=1}^\\infty \\frac{n(i-1)+k-1+n}{2^{n(i-1)+k}} - \\sum_{i=0}^\\infty \\frac{ni+k-1}{2^{ni+k}} \\right)\\\\\n",
    "&= \\frac{1}{2^n-1} \\cdot \\left( (k-1)2^{n-k} + \\sum_{i=0}^\\infty \\frac{n}{2^{ni+k}} \\right)\\\\\n",
    "&= \\frac{1}{2^n-1} \\cdot \\left( (k-1)2^{n-k} + \\frac{n \\cdot 2^{n-k}}{2^n-1} \\right)\\\\\n",
    "&= \\frac{((k-1)(2^n-1)+n)\\cdot 2^{n-k}}{(2^n-1)^2}.\n",
    "\\end{aligned}\n",
    "$$\n",
    "\n",
    "When $n$ is prime, the numerator and denominator are apparently coprime, so for prime $p$,\n",
    "\n",
    "$$M_p(k) = ((k-1)(2^p-1)+p) \\cdot 2^{p-k} \\cdot (2^p-1)^2.$$"
   ]
  },
  {
   "cell_type": "code",
   "execution_count": 1,
   "metadata": {},
   "outputs": [
    {
     "name": "stdout",
     "output_type": "stream",
     "text": "59992576\n"
    }
   ],
   "source": [
    "#!/usr/bin/env python3\n",
    "\n",
    "\n",
    "def main():\n",
    "    p = 10 ** 8 + 7\n",
    "    k = 10 ** 4 + 7\n",
    "    mod = 10 ** 8\n",
    "    twopm1 = pow(2, p, mod) - 1\n",
    "    mult1 = ((k - 1) * twopm1 + p) % mod\n",
    "    mult2 = pow(2, p-k, mod)\n",
    "    mult3 = twopm1 * twopm1 % mod\n",
    "    print(mult1 * mult2 * mult3 % mod)\n",
    "\n",
    "\n",
    "if __name__ == \"__main__\":\n",
    "    main()\n"
   ]
  }
 ]
}