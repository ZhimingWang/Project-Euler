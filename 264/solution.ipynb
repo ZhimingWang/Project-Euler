{
 "nbformat": 4,
 "nbformat_minor": 2,
 "metadata": {
  "language_info": {
   "name": "python",
   "codemirror_mode": {
    "name": "ipython",
    "version": 3
   }
  },
  "orig_nbformat": 2,
  "file_extension": ".py",
  "mimetype": "text/x-python",
  "name": "python",
  "npconvert_exporter": "python",
  "pygments_lexer": "ipython3",
  "version": 3
 },
 "cells": [
  {
   "cell_type": "markdown",
   "execution_count": null,
   "metadata": {},
   "outputs": [],
   "source": [
    "$\\overrightarrow{OH} = \\overrightarrow{OA} + \\overrightarrow{OB} + \\overrightarrow{OC}$, so we need to find $(x_1, y_1)$, $(x_2, y_2)$ and $(x_3, y_3)$ on a circle of radius $R$ s.t. $x_1 + x_2 + x_3 = 5$ and $y_1 + y_2 + y_3 = 0$. So the brute force approach would be for every possible radius $R$, loop over all pairs of $(x_1, y_1)$ and $(x_2, y_2)$ and check if the corresponding $(x_3, y_3)$ is on the same circle. The obvious way to come up with all $R$s and corresponding points is a double loop of $x$ and $y$, and record each $(x,y)$ in a map from $R^2 = x^2 + y^2$ to vectors of points. Note that we can easily rule out obtuse triangles, so the perimeter\n",
    "\n",
    "$$p = 2R(\\sin\\alpha + \\sin\\beta + \\sin(\\pi-\\alpha-\\beta))$$\n",
    "\n",
    "for some $0 < \\alpha,\\, \\beta \\le \\pi/2$, $\\pi/2 \\le \\alpha + \\beta < \\pi$. It's easy to show that $p > 4R$, so we can limit our search to $R < \\frac{p_\\mathrm{max}}{4} = 2.5 \\times 10^4$. There are roughly $\\pi R_\\mathrm{max}^2 \\approx 2 \\times 10^9$ lattice points to choose from.\n",
    "\n",
    "The problem with this approach is that each point takes up 8 bytes (two 4-byte ints), so $2 \\times 10^9$ lattice points take up 16GB for starters. Realistically, since we need to use vectors to store the points, leaving unoccupied capacity allocated, and other overhead, we're looking at up to 32GB of memory. It's gonna swap even on my 32GB RAM workstation unless I'm not running anything else. More problematically, lookup and allocation cost would skyrocket as the structure grows.\n",
    "\n",
    "I ended up breaking the ~$2 \\times 10^9$ points into chunks based on $R^2$ ranges. The huge double loop doesn't actually take that much time (maybe ~1s in total) and is dwarfed by lookup and allocation so we can use a large number of chunks to minimize memory use. After a few tests I decided that a $R^2$ step of $5 \\times 10^6$ (corresponding to ~$1.6 \\times 10^7$ points, ~200MB of RAM) is a fairly sweet spot.\n",
    "\n",
    "The entire brute force algorithm took slightly less than 10min."
   ]
  }
 ]
}