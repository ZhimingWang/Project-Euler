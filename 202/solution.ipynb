{
 "nbformat": 4,
 "nbformat_minor": 2,
 "metadata": {
  "language_info": {
   "name": "python",
   "codemirror_mode": {
    "name": "ipython",
    "version": 3
   }
  },
  "orig_nbformat": 2,
  "file_extension": ".py",
  "mimetype": "text/x-python",
  "name": "python",
  "npconvert_exporter": "python",
  "pygments_lexer": "ipython3",
  "version": 3
 },
 "cells": [
  {
   "cell_type": "markdown",
   "execution_count": null,
   "metadata": {},
   "outputs": [],
   "source": [
    "Expand the triangle by reflection into a triangular grid. The laser ray simply becomes a straight line intersecting with segments in the grid as it goes. We can easily show that in order to intersect with $(2k-3)$ segments before hitting a point the rectangular grid should have $k$ segments on each side. Now put a barycentric coordinate system on the grid where coordinates $(a, b, c)$ sum to $k$. Let $C$ be $(k,0,0)$, and the other two vertices of the grid be $(0,k,0)$ and $(0,0,k)$. We can easily see that reflections of $C$ are the gridpoints satisfying $b - c \\equiv 0 \\pmod3$; on the edge opposite to $C$ they are $(0, b, k-b)$ where $b \\equiv -k \\pmod3$. We need to count all such points where $(b, k-b) = 1$, or equivalently $(b, k) = 1$, so that the light ray doesn't hit other grid points before it hits $(0,b,k-b)$.\n",
    "\n",
    "There's probably an analytical solution to the problem of counting $b$ s.t. $(b, k) = 1$ and $b \\equiv -k \\pmod3$, but the size of this problem is within brute force range. My C++ implementation took ~3.7s. Obviously Python is thrown out of the window, no way it could finish a 3E9 loop in reasonable time.\n",
    "\n",
    "(Looking at the analytical solution someone provided in the forum thread, I just realized how much elementary number theory knowledge I have lost over the years. Mobius inversion has almost been erased from my memory.)"
   ]
  }
 ]
}