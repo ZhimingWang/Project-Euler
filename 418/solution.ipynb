{
 "nbformat": 4,
 "nbformat_minor": 2,
 "metadata": {
  "language_info": {
   "name": "python",
   "codemirror_mode": {
    "name": "ipython",
    "version": 3
   }
  },
  "orig_nbformat": 2,
  "file_extension": ".py",
  "mimetype": "text/x-python",
  "name": "python",
  "npconvert_exporter": "python",
  "pygments_lexer": "ipython3",
  "version": 3
 },
 "cells": [
  {
   "cell_type": "markdown",
   "execution_count": null,
   "metadata": {},
   "outputs": [],
   "source": [
    "First we greedy up a close solution by letting $b$ be the largest divisor of $N = 43!$ not exceeding $\\sqrt[3]{N}$, and letting $a$ be the largest divisor of $N/b$ not exceeding $\\sqrt{N/b}$:\n",
    "\n",
    "$$a=392385511154976768, b=392387794745425920, c=392390259408984375.$$\n",
    "\n",
    "Then for any $(a', b', c')$ s.t. $c'/a' < c/a$, using\n",
    "\n",
    "$$a^2c \\le N \\le ac^2,\\ a'^2c' \\le N \\le a'c'^2,$$\n",
    "\n",
    "we have\n",
    "\n",
    "$$a^2c \\le a'c'^2 < a'(a' \\cdot c/a)^2 = a'^3 c^2 / a^2,$$\n",
    "\n",
    "so\n",
    "\n",
    "$$a' > \\sqrt[3]{a^4/c}.$$\n",
    "\n",
    "Similarly\n",
    "\n",
    "$$c' < \\sqrt[3]{c^4/a}.$$\n",
    "\n",
    "Therefore we only need to limit outselves to a small region, turns out there are only 96 divisors to consider. Then we try all $(a,c)$ pairs, turns out there are merely 14 pairs that yield a valid $b$ s.t. $a \\le b \\le c$."
   ]
  }
 ]
}