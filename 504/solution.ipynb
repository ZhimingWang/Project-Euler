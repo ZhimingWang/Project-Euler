{
 "nbformat": 4,
 "nbformat_minor": 2,
 "metadata": {
  "language_info": {
   "name": "python",
   "codemirror_mode": {
    "name": "ipython",
    "version": 3
   }
  },
  "orig_nbformat": 2,
  "file_extension": ".py",
  "mimetype": "text/x-python",
  "name": "python",
  "npconvert_exporter": "python",
  "pygments_lexer": "ipython3",
  "version": 3
 },
 "cells": [
  {
   "cell_type": "markdown",
   "execution_count": null,
   "metadata": {},
   "outputs": [],
   "source": [
    "Not hard to deduce that the number of lattice points strictly within $\\triangle AOB$ is\n",
    "\n",
    "$$\\frac{(a-1)(b-1) - (a,b) + 1}{2}.$$\n",
    "\n",
    "Then it's easy to show the total number of lattice points within $ABCD$ is\n",
    "\n",
    "$$\\frac{ab + bc + cd + da - (a,b) - (b,c) - (c,d) - (d,a)}{2} + 1.$$\n",
    "\n",
    "It's just brute force from here on, with a little trick to cut out 87.5% of the work: WLOG we may assume $a >= b, c, d$, and $b >= d$. Once we find a quadruple like this we add the appropriate count based on how many of $a \\ne b$, $a \\ne c$, $b \\ne d$ hold."
   ]
  }
 ]
}