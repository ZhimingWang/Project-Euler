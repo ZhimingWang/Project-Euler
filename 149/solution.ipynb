{
 "nbformat": 4,
 "nbformat_minor": 2,
 "metadata": {
  "language_info": {
   "name": "python",
   "codemirror_mode": {
    "name": "ipython",
    "version": 3
   },
   "version": "3.8.0"
  },
  "orig_nbformat": 2,
  "file_extension": ".py",
  "mimetype": "text/x-python",
  "name": "python",
  "npconvert_exporter": "python",
  "pygments_lexer": "ipython3",
  "version": 3
 },
 "cells": [
  {
   "cell_type": "markdown",
   "execution_count": null,
   "metadata": {},
   "outputs": [],
   "source": [
    "Pretty straightforward [max subarray problem](https://en.wikipedia.org/wiki/Maximum_subarray_problem). $O(n^2)$ complexity."
   ]
  },
  {
   "cell_type": "code",
   "execution_count": 1,
   "metadata": {},
   "outputs": [
    {
     "name": "stdout",
     "output_type": "stream",
     "text": "52852124\n"
    }
   ],
   "source": [
    "def generate_prng_matrix(n):\n",
    "    s = []\n",
    "    for k in range(1, 56):\n",
    "        s.append((100003 - 200003 * k + 300007 * (k ** 3)) % 1000000 - 500000)\n",
    "    for k in range(56, n * n + 1):\n",
    "        s.append((s[k - 25] + s[k - 56] + 1000000) % 1000000 - 500000)\n",
    "    return [s[i * n : (i + 1) * n] for i in range(n)]\n",
    "\n",
    "\n",
    "# Returns 0 if best nonempty sum is negative.\n",
    "def max_subarray(arr):\n",
    "    max_sum = 0\n",
    "    current_sum = 0\n",
    "    for el in arr:\n",
    "        current_sum = max(0, current_sum + el)\n",
    "        max_sum = max(max_sum, current_sum)\n",
    "    return max_sum\n",
    "\n",
    "\n",
    "# Expects a square matrix. Returns 0 if best nonempty sum is negative.\n",
    "def matrix_max_adjacents(matrix):\n",
    "    n = len(matrix)\n",
    "    max_sum = 0\n",
    "    # Rows\n",
    "    for row in matrix:\n",
    "        max_sum = max(max_sum, max_subarray(row))\n",
    "    # Columns\n",
    "    for j in range(n):\n",
    "        max_sum = max(max_sum, max_subarray(row[j] for row in matrix))\n",
    "    # Diagonals\n",
    "    for k in range(-n + 1, n):\n",
    "        # i - j = k\n",
    "        max_sum = max(\n",
    "            max_sum,\n",
    "            max_subarray(matrix[i][j] for i in range(n) if 0 <= (j := i - k) < n),\n",
    "        )\n",
    "    for k in range(0, 2 * n - 1):\n",
    "        # Anti-diagonals\n",
    "        # i + j = k\n",
    "        max_sum = max(\n",
    "            max_sum,\n",
    "            max_subarray(matrix[i][j] for i in range(n) if 0 <= (j := k - i) < n),\n",
    "        )\n",
    "    return max_sum\n",
    "\n",
    "\n",
    "def main():\n",
    "    print(matrix_max_adjacents(generate_prng_matrix(2000)))\n",
    "\n",
    "\n",
    "main()\n"
   ]
  },
  {
   "cell_type": "code",
   "execution_count": null,
   "metadata": {},
   "outputs": [],
   "source": []
  }
 ]
}