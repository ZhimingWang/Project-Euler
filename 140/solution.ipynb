{
 "cells": [
  {
   "cell_type": "markdown",
   "metadata": {},
   "source": [
    "The easiest way to derive the equation for $x$ is to observe that for the given examples, if $A_G(x) = k$, then $x$ obeys the equation $(k+3)x^2 + (k+1)x - k = 0$. Therefore,\n",
    "\n",
    "$$x = \\frac{-(k+1) + \\sqrt{(k+1)^2 + 4k(k+3)}}{2(k+3)},$$\n",
    "\n",
    "so the goal is to look for $k$ where $5k^2+14k+1$ is a perfect square. We therefore have the generalized Pell equation\n",
    "\n",
    "$$(5k+7)^2 - 5n^2 = 44.$$\n",
    "\n",
    "Via a little bit of brute force search we can find all fundamental solutions to the equation $x^2 - 5y^2 = 44$:\n",
    "\n",
    "$$7 + \\sqrt{5}, 8 + 2\\sqrt{5}, 13 + 5\\sqrt{5}, 17 + 7\\sqrt{5}, 32 + 14\\sqrt{5}, 43 + 19\\sqrt{5},$$\n",
    "\n",
    "and all positive solutions are generated from a fundamental solution $(x_0, y_0)$ via\n",
    "\n",
    "$$x + y\\sqrt{5} = (x_0 + y_0\\sqrt{5})(9 + 4\\sqrt{5})^m,$$\n",
    "\n",
    "where $9 + 4\\sqrt{5}$ is the fundamental sollution to the Pell equation $x^2 - 5y^2 = 1$. (Note that $17+7\\sqrt{5}$ actually comes from $7-\\sqrt{5}$; $32+14\\sqrt{5}$ actually comes from $8-2\\sqrt{5}$; and $43+19\\sqrt{5}$ actually comes from $13-5\\sqrt{5}$.)"
   ]
  },
  {
   "cell_type": "code",
   "execution_count": 1,
   "metadata": {},
   "outputs": [
    {
     "name": "stdout",
     "output_type": "stream",
     "text": [
      "#1: 2\n",
      "#2: 5\n",
      "#3: 21\n",
      "#4: 42\n",
      "#5: 152\n",
      "#6: 296\n",
      "#7: 1050\n",
      "#8: 2037\n",
      "#9: 7205\n",
      "#10: 13970\n",
      "#11: 49392\n",
      "#12: 95760\n",
      "#13: 338546\n",
      "#14: 656357\n",
      "#15: 2320437\n",
      "#16: 4498746\n",
      "#17: 15904520\n",
      "#18: 30834872\n",
      "#19: 109011210\n",
      "#20: 211345365\n",
      "#21: 747173957\n",
      "#22: 1448582690\n",
      "#23: 5121206496\n",
      "#24: 9928733472\n",
      "#25: 35101271522\n",
      "#26: 68052551621\n",
      "#27: 240587694165\n",
      "#28: 466439127882\n",
      "#29: 1649012587640\n",
      "#30: 3197021343560\n",
      "sum: 5673835352990\n"
     ]
    }
   ],
   "source": [
    "import itertools\n",
    "\n",
    "\n",
    "# Generate a solution group from the fundamental solution (x0, y0).\n",
    "#\n",
    "# (x + y\\sqrt{5})(9 + 4\\sqrt{5}) = (9x + 20y) + (4x + 9y)\\sqrt{5}.\n",
    "def solution_group(x0, y0):\n",
    "    x = x0\n",
    "    y = y0\n",
    "    while True:\n",
    "        yield (x, y)\n",
    "        xx = 9 * x + 20 * y\n",
    "        yy = 4 * x + 9 * y\n",
    "        x = xx\n",
    "        y = yy\n",
    "\n",
    "\n",
    "def head(it, n):\n",
    "    return list(itertools.islice(it, n))\n",
    "\n",
    "\n",
    "def main():\n",
    "    solutions = sorted(\n",
    "        itertools.chain(\n",
    "            *[\n",
    "                head(solution_group(x0, y0), 60)\n",
    "                for x0, y0 in [(7, 1), (8, 2), (13, 5), (17, 7), (32, 14), (43, 19)]\n",
    "            ]\n",
    "        )\n",
    "    )\n",
    "    golden_nuggets = [(x - 7) // 5 for x, _ in solutions if x > 7 and (x - 7) % 5 == 0][\n",
    "        :30\n",
    "    ]\n",
    "    for i, g in enumerate(golden_nuggets):\n",
    "        print(f\"#{i+1}: {g}\")\n",
    "    print(f\"sum: {sum(golden_nuggets)}\")\n",
    "    \n",
    "\n",
    "main()"
   ]
  },
  {
   "cell_type": "code",
   "execution_count": null,
   "metadata": {},
   "outputs": [],
   "source": []
  }
 ],
 "metadata": {
  "kernelspec": {
   "display_name": "Python 3",
   "language": "python",
   "name": "python3"
  },
  "language_info": {
   "codemirror_mode": {
    "name": "ipython",
    "version": 3
   },
   "file_extension": ".py",
   "mimetype": "text/x-python",
   "name": "python",
   "nbconvert_exporter": "python",
   "pygments_lexer": "ipython3",
   "version": "3.8.0"
  }
 },
 "nbformat": 4,
 "nbformat_minor": 4
}
