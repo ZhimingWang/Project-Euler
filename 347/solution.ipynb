{
 "nbformat": 4,
 "nbformat_minor": 2,
 "metadata": {
  "language_info": {
   "name": "python",
   "codemirror_mode": {
    "name": "ipython",
    "version": 3
   },
   "version": "3.8.0"
  },
  "orig_nbformat": 2,
  "file_extension": ".py",
  "mimetype": "text/x-python",
  "name": "python",
  "npconvert_exporter": "python",
  "pygments_lexer": "ipython3",
  "version": 3
 },
 "cells": [
  {
   "cell_type": "markdown",
   "execution_count": null,
   "metadata": {},
   "outputs": [],
   "source": [
    "A simple sieve calculating each number's prime factors should do. The naive implementation in Python ran in ~14s."
   ]
  },
  {
   "cell_type": "code",
   "execution_count": 1,
   "metadata": {},
   "outputs": [
    {
     "name": "stdout",
     "output_type": "stream",
     "text": "11109800204052\n"
    }
   ],
   "source": [
    "#!/usr/bin/env python3\n",
    "\n",
    "\n",
    "N = 10_000_000\n",
    "s = [[] for _ in range(N + 1)]\n",
    "\n",
    "\n",
    "def sieve():\n",
    "    global s\n",
    "    for i in range(2, N + 1):\n",
    "        if not s[i]:\n",
    "            for j in range(2 * i, N + 1, i):\n",
    "                s[j].append(i)\n",
    "\n",
    "\n",
    "def main():\n",
    "    sieve()\n",
    "    m = dict()\n",
    "    for i in range(N+1):\n",
    "        if len(s[i]) == 2:\n",
    "            m[tuple(s[i])] = i\n",
    "    print(sum(m.values()))\n",
    "\n",
    "\n",
    "if __name__ == \"__main__\":\n",
    "    main()\n"
   ]
  }
 ]
}