{
 "nbformat": 4,
 "nbformat_minor": 2,
 "metadata": {
  "language_info": {
   "name": "python",
   "codemirror_mode": {
    "name": "ipython",
    "version": 3
   }
  },
  "orig_nbformat": 2,
  "file_extension": ".py",
  "mimetype": "text/x-python",
  "name": "python",
  "npconvert_exporter": "python",
  "pygments_lexer": "ipython3",
  "version": 3
 },
 "cells": [
  {
   "cell_type": "markdown",
   "execution_count": null,
   "metadata": {},
   "outputs": [],
   "source": [
    "Let initial velocity vector be $(v\\cos\\theta, v\\sin\\theta)$, then\n",
    "\n",
    "$$x = vt\\cos\\theta,\\ y = vt\\sin\\theta - \\frac{1}{2} gt^2.$$\n",
    "\n",
    "Therefore\n",
    "\n",
    "$$y = x \\tan\\theta - \\frac{gx^2}{2} \\sec^2\\theta.$$\n",
    "\n",
    "Maximizing $y$ we get\n",
    "\n",
    "$$\\tan\\theta = \\frac{v^2}{gx},$$\n",
    "$$y = \\frac{v^4 - g^2x^2}{2gv^2}.$$\n",
    "\n",
    "Therefore, for any $y$, the disk inside the region has area\n",
    "\n",
    "$$\\pi x^2 = \\frac{\\pi v^2(v^2 - 2gy)}{g^2}.$$\n",
    "\n",
    "Hence the total volume\n",
    "\n",
    "$$V = \\int_{-h}^{\\frac{v^2}{2g}} \\frac{\\pi v^2(v^2 - 2gy)}{g^2} dy.$$"
   ]
  }
 ]
}