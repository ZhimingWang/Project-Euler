{
 "nbformat": 4,
 "nbformat_minor": 2,
 "metadata": {
  "language_info": {
   "name": "python",
   "codemirror_mode": {
    "name": "ipython",
    "version": 3
   }
  },
  "orig_nbformat": 2,
  "file_extension": ".py",
  "mimetype": "text/x-python",
  "name": "python",
  "npconvert_exporter": "python",
  "pygments_lexer": "ipython3",
  "version": 3
 },
 "cells": [
  {
   "cell_type": "markdown",
   "execution_count": null,
   "metadata": {},
   "outputs": [],
   "source": [
    "We look at the $xz$ cross section. The ellipsoid is given by $(a\\cos\\theta, b\\sin\\theta)$. Let the tickness of the cover be $t$. A point on the outer surface of the cover must satisfy\n",
    "\n",
    "$$(x - a\\cos\\theta)^2 + (y - b\\sin\\theta)^2 = t^2,$$\n",
    "$$\\frac{d}{d\\theta}((x - a\\cos\\theta)^2 + (y - b\\sin\\theta)^2) = 0.$$\n",
    "\n",
    "Solving these equations we get\n",
    "\n",
    "$$x = \\frac{t}{\\sqrt{\\frac{a^2}{b^2}\\tan^2\\theta + 1}} + a\\cos\\theta,$$\n",
    "$$z = \\frac{t}{\\sqrt{\\frac{b^2}{a^2}\\cot^2\\theta + 1}} + b\\sin\\theta.$$\n",
    "\n",
    "(In hindsight it's easier to just walk distance $t$ on the normal vector of the ellipsoid at $(a\\cos\\theta, b\\sin\\theta)$, which is known: $(b\\sin\\theta, -a\\cos\\theta)$.)\n",
    "\n",
    "Then\n",
    "\n",
    "$$V = 2\\pi\\int_0^{\\frac{\\pi}{2}}x^2\\frac{dz}{d\\theta}d\\theta - \\frac{4}{3}\\pi a^2b.$$"
   ]
  }
 ]
}