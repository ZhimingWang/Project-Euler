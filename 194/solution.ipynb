{
 "nbformat": 4,
 "nbformat_minor": 2,
 "metadata": {
  "language_info": {
   "name": "python",
   "codemirror_mode": {
    "name": "ipython",
    "version": 3
   }
  },
  "orig_nbformat": 2,
  "file_extension": ".py",
  "mimetype": "text/x-python",
  "name": "python",
  "npconvert_exporter": "python",
  "pygments_lexer": "ipython3",
  "version": 3
 },
 "cells": [
  {
   "cell_type": "markdown",
   "execution_count": null,
   "metadata": {},
   "outputs": [],
   "source": [
    "Let the number of configurations of $A$ with the colors on the right edge fixed be $n_A$, and that of $B$ be $n_B$. Apparently the total number of configurations is then\n",
    "\n",
    "$$\\binom{a+b}{a} \\cdot n_A^a \\cdot n_B^b \\cdot c(c-1),$$\n",
    "\n",
    "where $c(c-1)$ is the number of configurations of the rightmost edge of the whole chain. So it boils down to finding $n_A$ and $n_B$, for which a DFS suffices. Note that all colors are equivalent, so we only need to give different colors generic labels 0, 1, 2, ...."
   ]
  }
 ]
}