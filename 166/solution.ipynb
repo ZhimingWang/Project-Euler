{
 "nbformat": 4,
 "nbformat_minor": 2,
 "metadata": {
  "language_info": {
   "name": "python",
   "codemirror_mode": {
    "name": "ipython",
    "version": 3
   },
   "version": "3.8.0"
  },
  "orig_nbformat": 2,
  "file_extension": ".py",
  "mimetype": "text/x-python",
  "name": "python",
  "npconvert_exporter": "python",
  "pygments_lexer": "ipython3",
  "version": 3
 },
 "cells": [
  {
   "cell_type": "markdown",
   "execution_count": null,
   "metadata": {},
   "outputs": [],
   "source": [
    "There are only 8 degrees of freedom, so a brute force search is within reach, even in Python. Took me ~30s."
   ]
  },
  {
   "cell_type": "code",
   "execution_count": 1,
   "metadata": {},
   "outputs": [
    {
     "name": "stdout",
     "output_type": "stream",
     "text": "sum 0: 1\nsum 1: 8\nsum 2: 48\nsum 3: 200\nsum 4: 675\nsum 5: 1904\nsum 6: 4736\nsum 7: 10608\nsum 8: 21925\nsum 9: 42328\nsum 10: 76976\nsum 11: 131320\nsum 12: 209127\nsum 13: 309968\nsum 14: 427440\nsum 15: 549184\nsum 16: 658457\nsum 17: 736744\nsum 18: 766736\n7130034\n"
    }
   ],
   "source": [
    "def main():\n",
    "    total_count = 0\n",
    "    for s in range(19):\n",
    "        count = 0\n",
    "        for m11 in range(10):\n",
    "            for m12 in range(min(10, s + 1 - m11)):\n",
    "                for m21 in range(min(10, s + 1 - m11)):\n",
    "                    for m22 in range(min(10, s + 1 - max(m11, m12, m21))):\n",
    "                        for m10 in range(min(10, s + 1 - m11 - m12)):\n",
    "                            m13 = s - m10 - m11 - m12\n",
    "                            if m13 > 9:\n",
    "                                continue\n",
    "                            for m20 in range(min(10, s + 1 - m21 - m22, s + 1 - m10)):\n",
    "                                m23 = s - m20 - m21 - m22\n",
    "                                if m23 > 9:\n",
    "                                    continue\n",
    "                                for m00 in range(\n",
    "                                    min(10, s + 1 - m11 - m22, s + 1 - m10 - m20)\n",
    "                                ):\n",
    "                                    m30 = s - m00 - m10 - m20\n",
    "                                    if m30 > 9:\n",
    "                                        continue\n",
    "                                    m33 = s - m00 - m11 - m22\n",
    "                                    if m33 > 9:\n",
    "                                        continue\n",
    "                                    for m01 in range(\n",
    "                                        min(10, s + 1 - m11 - m21, s + 1 - m00)\n",
    "                                    ):\n",
    "                                        m31 = s - m01 - m11 - m21\n",
    "                                        if m31 > 9:\n",
    "                                            continue\n",
    "                                        m32 = s - m30 - m31 - m33\n",
    "                                        if not (0 <= m32 <= 9):\n",
    "                                            continue\n",
    "                                        m02 = s - m12 - m22 - m32\n",
    "                                        if not (0 <= m02 <= 9):\n",
    "                                            continue\n",
    "                                        m03 = s - m00 - m01 - m02\n",
    "                                        if not (0 <= m03 <= 9):\n",
    "                                            continue\n",
    "                                        if m03 + m12 + m21 + m30 != s:\n",
    "                                            continue\n",
    "                                        count += 1\n",
    "        print(f\"sum {s}: {count}\")\n",
    "        total_count += count\n",
    "    # By symmetry, except 18 = 36 - 18.\n",
    "    total_count += total_count - count\n",
    "    print(total_count)\n",
    "\n",
    "\n",
    "main()"
   ]
  }
 ]
}