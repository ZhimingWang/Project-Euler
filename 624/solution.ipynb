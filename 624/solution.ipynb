{
 "nbformat": 4,
 "nbformat_minor": 2,
 "metadata": {
  "language_info": {
   "name": "python",
   "codemirror_mode": {
    "name": "ipython",
    "version": 3
   }
  },
  "orig_nbformat": 2,
  "file_extension": ".py",
  "mimetype": "text/x-python",
  "name": "python",
  "npconvert_exporter": "python",
  "pygments_lexer": "ipython3",
  "version": 3
 },
 "cells": [
  {
   "cell_type": "markdown",
   "execution_count": null,
   "metadata": {},
   "outputs": [],
   "source": [
    "Let the number of binary sequences of length $n$ not container too heads in a row be $a_n$. Then $a_0 = 1$, $a_1 = 2$, and obviously $a_{n+2} = a_{n+1} + a_n$, so $a_n = f_{n+2}$ where $\\{f_n\\}$ is the Fibonacci sequence. Then the probability of terminating on step $m$ is $a_{m-3} \\cdot 2^{-m} = \\frac{f_{m-1}}{2^m}$ (the last three results must be THH). Therefore we want to calculate\n",
    "\n",
    "$$P(n) = \\sum_{i=1}^\\infty \\frac{f_{in-1}}{2^{in}}.$$\n",
    "\n",
    "Let $S_j = \\sum_{i=1}^\\infty \\frac{f_{in+j-1}}{2^{in}}.$$ Then\n",
    "\n",
    "$$S_j + S_{j+1} = S_{j+2},\\ 0 \\le j \\le n-3,$$\n",
    "$$S_{n-2} + S_{n-1} = 2^n S_0 - f_{n-1},$$\n",
    "$$S_{n-1} + (2^n S_0 - f_{n-1}) = 2^n S_1 - fn.$$\n",
    "\n",
    "The last equation can be replaced with the sum of the last two:\n",
    "\n",
    "$$S_{n-2} + 2S_{n-1} = 2^n S_1 - f_n.$$\n",
    "\n",
    "From $S_j + S_{j+1} = S_{j+2}$ we have\n",
    "\n",
    "$$S_{n-2} = f_{n-3} S_0 + f_{n-2} S_1,\\ S_{n-1} = f_{n-2} S_0 + f_{n-1} S_1.$$\n",
    "\n",
    "Plugging back in we get\n",
    "\n",
    "$$(2^n - f_{n-1}) S_0 - f_n S_1 = f_{n-1},$$\n",
    "$$-f_n S_0 + (2^n - f_{n+1}) S_1 = f_n.$$\n",
    "\n",
    "Therefore,\n",
    "\n",
    "$$\n",
    "P(n) = S_0 = \\frac{\n",
    "\\begin{vmatrix}\n",
    "f_{n-1} & -f_n\\\\\n",
    "f_n & 2^n - f_{n+1}\n",
    "\\end{vmatrix}\n",
    "}{\n",
    "\\begin{vmatrix}\n",
    "2^n - f_{n-1} & -f_n\\\\\n",
    "-f_n & 2^n - f_{n+1}\n",
    "\\end{vmatrix}\n",
    "}\n",
    "= \\frac{(2^n - f_{n+1})f_{n-1} + f_n^2}{(2^n - f_{n+1})(2^n - f_{n-1}) - f_n^2}.\n",
    "$$\n",
    "\n",
    "Let the above be $\\frac{ga}{gb}$ where $g$ is the gcd of numerator and denominator, then as long as prime $p \\nmid ga,\\, gb$, we have\n",
    "\n",
    "$$Q(P(n), p) \\equiv (ga) \\cdot (gb)^{-1} \\equiv a \\cdot b^{-1} \\pmod p.$$"
   ]
  }
 ]
}