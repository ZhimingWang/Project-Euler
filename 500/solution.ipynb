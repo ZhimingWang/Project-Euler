{
 "nbformat": 4,
 "nbformat_minor": 2,
 "metadata": {
  "language_info": {
   "name": "python",
   "codemirror_mode": {
    "name": "ipython",
    "version": 3
   }
  },
  "orig_nbformat": 2,
  "file_extension": ".py",
  "mimetype": "text/x-python",
  "name": "python",
  "npconvert_exporter": "python",
  "pygments_lexer": "ipython3",
  "version": 3
 },
 "cells": [
  {
   "cell_type": "markdown",
   "execution_count": null,
   "metadata": {},
   "outputs": [],
   "source": [
    "A quick sieve tells us that the 500500th prime is $7,376,507$. We can raise some small primes to higher powers to compensate for large primes, but it scales very quickly with the power. For instance, if we raise $2^{15}$ to $2^{31}$, we multiply by $2^{16} = 65,536$ which is worthwhile, but if we instead raise to 63rd power, we need to additionally multiply by $2^{32}$ is not worthwhile.\n",
    "\n",
    "Observe that\n",
    "\n",
    "$$2^{16} = 65,536 < 7,376,507 < 43,046,721 = 3^{16},$$\n",
    "$$7^8 = 5,764,801 < 7,376,507 < 214,358,881 = 11^8,$$\n",
    "$$47^4 = 4,879,681 < 7,376,507 < 7,890,481 = 53^4,$$\n",
    "$$2713^2 = 7,360,369 < 7,376,507 < 7,392,961 = 2719^2,$$\n",
    "\n",
    "where 3 is the 2nd prime, 7 is the 4th prime, 47 is the 15th prime, 2713 is the 396th prime. So we can shave off 396 large primes by raising the first 396 primes to cube, 15 additional large primes by raising the first 15 primes to the 7th, etc."
   ]
  },
  {
   "cell_type": "code",
   "execution_count": null,
   "metadata": {},
   "outputs": [],
   "source": []
  }
 ]
}