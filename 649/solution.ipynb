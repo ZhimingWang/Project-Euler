{
 "nbformat": 4,
 "nbformat_minor": 2,
 "metadata": {
  "language_info": {
   "name": "python",
   "codemirror_mode": {
    "name": "ipython",
    "version": 3
   }
  },
  "orig_nbformat": 2,
  "file_extension": ".py",
  "mimetype": "text/x-python",
  "name": "python",
  "npconvert_exporter": "python",
  "pygments_lexer": "ipython3",
  "version": 3
 },
 "cells": [
  {
   "cell_type": "markdown",
   "execution_count": null,
   "metadata": {},
   "outputs": [],
   "source": [
    "This problem pretty much requires knowledge of [Sprague-Grundy theorem](https://en.wikipedia.org/wiki/Sprague%E2%80%93Grundy_theorem).\n",
    "\n",
    "Note that $x$ and $y$ directions are independent, so the game with $c$ coins on 2D board is equivalent to the game with $2c$ independent coins on 1D strip. For each coin with starting position $i$, call the state $S_i$, then we have equivalent nimmers:\n",
    "\n",
    "$$S_0 \\cong S_1 \\cong *0,$$\n",
    "$$S_2 \\cong S_3 \\cong \\{*0\\} = *1,$$\n",
    "$$S_4 \\cong S_5 \\cong \\{*0, *1\\} = *2,$$\n",
    "$$S_6 \\cong S_7 \\cong \\{*0, *1, *2\\} = *3,$$\n",
    "$$S_8 \\cong \\{*0, *1, *2, *3\\} = *4,$$\n",
    "\n",
    "and it repeats from there. Let $\\{S_i \\mid 0 \\le i < n \\}$ contain $k_0$ $*0$'s, $k_1$ $*1$'s, $k_2$ $*2$'s, $k_3$ $*3$'s and $k_4$ $*4$'s.\n",
    "\n",
    "Now consider the combined game with $2c$ heaps. A starting state with $n_0$ $*0$'s, $n_1$ $*1$'s, $n_2$ $*2$'s, $n_3$ $*3$'s and $n_4$ $*4$'s ($n_0 + n_1 + n_2 + n_3 + n_4 = 2c$) is a losing state iff\n",
    "\n",
    "$$\n",
    "\\underbrace{0 \\oplus \\cdots \\oplus 0}_{n_0} \n",
    "+ \\underbrace{1 \\oplus \\cdots \\oplus 1}_{n_1}\n",
    "+ \\underbrace{2 \\oplus \\cdots \\oplus 2}_{n_2}\n",
    "+ \\underbrace{3 \\oplus \\cdots \\oplus 3}_{n_3}\n",
    "+ \\underbrace{4 \\oplus \\cdots \\oplus 4}_{n_4}\n",
    "= 0\n",
    "$$\n",
    "\n",
    "Apparently this is true iff\n",
    "\n",
    "$$n_1 \\equiv n_2 \\equiv n_3 \\pmod2,$$\n",
    "$$2 \\mid n_4,$$\n",
    "\n",
    "and the corresponding state count is\n",
    "\n",
    "$$\\binom{2c}{n_0,n_1,n_2,n_3,n_4} k_0^{n_0}k_1^{n_1}k_2^{n_2}k_3^{n_3}k_4^{n_4}.$$\n",
    "\n",
    "Therefore we can iterate through all $(n_0, n_1, n_2, n_3, n_4)$ combos with a fivefold loop, and sum the counts. My C++ implementation takes ~9.3s.\n",
    "\n",
    "Definitely harder than the great majority of other 30% difficulty problems. Arguably harder than some significantly higher difficulty problems."
   ]
  }
 ]
}