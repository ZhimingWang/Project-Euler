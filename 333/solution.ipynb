{
 "nbformat": 4,
 "nbformat_minor": 2,
 "metadata": {
  "language_info": {
   "name": "python",
   "codemirror_mode": {
    "name": "ipython",
    "version": 3
   }
  },
  "orig_nbformat": 2,
  "file_extension": ".py",
  "mimetype": "text/x-python",
  "name": "python",
  "npconvert_exporter": "python",
  "pygments_lexer": "ipython3",
  "version": 3
 },
 "cells": [
  {
   "cell_type": "markdown",
   "execution_count": null,
   "metadata": {},
   "outputs": [],
   "source": [
    "We can order the $2^j \\cdot 3^k$ terms into a sequence where $\\{j_i\\}$ is strictly decreasing and $\\{k_i\\}$ is strictly increasing. When the sum is a prime other than 2 and 3, the first term must be a power of 2 and the last term must be a power of 3.\n",
    "\n",
    "The search space is small enough that a straightforward implementation in Python finishes in ~17s."
   ]
  }
 ]
}