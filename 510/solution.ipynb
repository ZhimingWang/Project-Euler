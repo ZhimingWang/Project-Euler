{
 "nbformat": 4,
 "nbformat_minor": 2,
 "metadata": {
  "language_info": {
   "name": "python",
   "codemirror_mode": {
    "name": "ipython",
    "version": 3
   },
   "version": "3.8.0"
  },
  "orig_nbformat": 2,
  "file_extension": ".py",
  "mimetype": "text/x-python",
  "name": "python",
  "npconvert_exporter": "python",
  "pygments_lexer": "ipython3",
  "version": 3
 },
 "cells": [
  {
   "cell_type": "markdown",
   "execution_count": null,
   "metadata": {},
   "outputs": [],
   "source": [
    "Using Descartes' theorem, we have an equation for the curvatures:\n",
    "\n",
    "$$2(k_A^2 + k_B^2 + k_C^2) = (k_A + k_B + k_C)^2.$$\n",
    "\n",
    "Solving for $k_C$ we get\n",
    "\n",
    "$$k_C = (\\sqrt{k_A}+\\sqrt{k_B})^2.$$\n",
    "\n",
    "Therefore $\\sqrt{r_A r_B}$ must be an integer, so we have\n",
    "\n",
    "$$r_A = ga^2,\\ r_B = gb^2$$\n",
    "\n",
    "for some $(a,b)=1$. Substituting back into the equation above, we get\n",
    "\n",
    "$$r_C = \\frac{ga^2b^2}{(a+b)^2}.$$\n",
    "\n",
    "So $(a+b)^2 \\mid g$, and for coprime triples $(r_A,\\,r_B,\\,r_C)$ we have exactly $g = (a+b)^2$, and\n",
    "\n",
    "$$r_C = a^2b^2,\\ r_A + r_B + r_C = (a^2+ab+b^2)^2.$$\n",
    "\n",
    "Since $r_B > b^4$, the search range is extremely limited."
   ]
  },
  {
   "cell_type": "code",
   "execution_count": 1,
   "metadata": {},
   "outputs": [
    {
     "name": "stdout",
     "output_type": "stream",
     "text": "315306518862563689\n"
    }
   ],
   "source": [
    "#!/usr/bin/env python3\n",
    "\n",
    "import math\n",
    "\n",
    "\n",
    "def sum_triples(N):\n",
    "    total = 0\n",
    "    max_b = int(pow(N, 1 / 4))\n",
    "    for b in range(1, max_b + 1):\n",
    "        for a in range(1, b + 1):\n",
    "            rb = (a + b) * (a + b) * b * b\n",
    "            if rb > N:\n",
    "                break\n",
    "            if math.gcd(a, b) > 1:\n",
    "                continue\n",
    "            r_sum = (a * a + a * b + b * b) ** 2\n",
    "            max_multiplier = N // rb\n",
    "            total += r_sum * max_multiplier * (max_multiplier + 1) // 2\n",
    "    return total\n",
    "\n",
    "\n",
    "def main():\n",
    "    print(sum_triples(1_000_000_000))\n",
    "\n",
    "\n",
    "if __name__ == \"__main__\":\n",
    "    main()\n"
   ]
  }
 ]
}