{
 "nbformat": 4,
 "nbformat_minor": 2,
 "metadata": {
  "language_info": {
   "name": "python",
   "codemirror_mode": {
    "name": "ipython",
    "version": 3
   }
  },
  "orig_nbformat": 2,
  "file_extension": ".py",
  "mimetype": "text/x-python",
  "name": "python",
  "npconvert_exporter": "python",
  "pygments_lexer": "ipython3",
  "version": 3
 },
 "cells": [
  {
   "cell_type": "markdown",
   "execution_count": null,
   "metadata": {},
   "outputs": [],
   "source": [
    "By [Von Staudt–Clausen theorem](https://en.wikipedia.org/wiki/Von_Staudt%E2%80%93Clausen_theorem), the denominator of the $n$-the Bernoulli number ($n$ even) is\n",
    "\n",
    "$$\\prod_{p-1 \\mid n} p.$$\n",
    "\n",
    "$20010 = 2 \\cdot 3 \\cdot 5 \\cdot 23 \\cdot 29$, so we're looking for multiples of $2^2 \\cdot 7 \\cdot 11 = 308$ with no other divisor $d$ s.t. $d+1$ is prime. If one multiple of 308 has an additional prime minus 1 divisor, all multiples of this multiple has that divisor too, so the problem lends itself well to a sieve method. A brief test shows that the frequency of such numbers among all multiples of 308 is around $1/30$, so we only need to sieve up to ~$30 \\times 10^5$.\n",
    "\n",
    "My first implementation uses FLINT's `arith_bernoulli_number_denom` for a very short program, but it's too slow because FLINT has to factor the number from scratch each time. I then implemented my custom Bernoulli denominator function for multiples of 308 taking advantage of free factorization of the 308 part and using a precomputed sieve for the remaining multiplier. It's very fast so the implementation generates the result within half a second."
   ]
  }
 ]
}