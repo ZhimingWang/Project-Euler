{
 "nbformat": 4,
 "nbformat_minor": 2,
 "metadata": {
  "language_info": {
   "name": "python",
   "codemirror_mode": {
    "name": "ipython",
    "version": 3
   }
  },
  "orig_nbformat": 2,
  "file_extension": ".py",
  "mimetype": "text/x-python",
  "name": "python",
  "npconvert_exporter": "python",
  "pygments_lexer": "ipython3",
  "version": 3
 },
 "cells": [
  {
   "cell_type": "markdown",
   "execution_count": null,
   "metadata": {},
   "outputs": [],
   "source": [
    "Strightforward DP. A state is described by\n",
    "\n",
    "- Last three characters (cardinality: 64);\n",
    "- Currently used keywords, described by a 4-bit mask (cardinality: 16);\n",
    "- Remaining number of characters available (cardinality: $N - 3$).\n",
    "\n",
    "The total state space is trivially small, makes you wonder whether the problem giver wanted to trick you into some sort of brute force with tree pruning."
   ]
  }
 ]
}