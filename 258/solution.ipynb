{
 "nbformat": 4,
 "nbformat_minor": 2,
 "metadata": {
  "language_info": {
   "name": "python",
   "codemirror_mode": {
    "name": "ipython",
    "version": 3
   }
  },
  "orig_nbformat": 2,
  "file_extension": ".py",
  "mimetype": "text/x-python",
  "name": "python",
  "npconvert_exporter": "python",
  "pygments_lexer": "ipython3",
  "version": 3
 },
 "cells": [
  {
   "cell_type": "markdown",
   "execution_count": null,
   "metadata": {},
   "outputs": [],
   "source": [
    "Similar to Fibonacci, except with have a much larger matrix:\n",
    "\n",
    "$$\n",
    "T=\n",
    "\\begin{pmatrix}\n",
    "0 & 1 & 0 & 0 & \\cdots & 0 \\\\\n",
    "0 & 0 & 1 & 0 & \\cdots & 0 \\\\\n",
    "0 & 0 & 0 & 1 & \\cdots & 0 \\\\\n",
    "\\vdots & \\vdots & \\vdots & \\vdots & & \\vdots \\\\\n",
    "0 & 0 & 0 & 0 & \\cdots & 1 \\\\\n",
    "1 & 1 & 0 & 0 & \\cdots & 0\n",
    "\\end{pmatrix}\n",
    "$$\n",
    "\n",
    "where $v_0 = (1\\ 1\\ \\cdots\\ 1)^T$. Then $g_k = (T^k)_1 \\cdot v_0$.\n",
    "\n",
    "The calculations took ~300 CPU seconds in Mathematica, but of course matrix multiplication is parallelizable, so wall clock time was much shorter."
   ]
  }
 ]
}