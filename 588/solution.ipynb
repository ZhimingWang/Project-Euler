{
 "nbformat": 4,
 "nbformat_minor": 2,
 "metadata": {
  "language_info": {
   "name": "python",
   "codemirror_mode": {
    "name": "ipython",
    "version": 3
   }
  },
  "orig_nbformat": 2,
  "file_extension": ".py",
  "mimetype": "text/x-python",
  "name": "python",
  "npconvert_exporter": "python",
  "pygments_lexer": "ipython3",
  "version": 3
 },
 "cells": [
  {
   "cell_type": "markdown",
   "execution_count": null,
   "metadata": {},
   "outputs": [],
   "source": [
    "I didn't notice the nice multiplicative property (and didn't dig too hard), so I simply split each $5^k$ (2^k apparently doesn't matter) into powers of 2, and brute forced the product mod 2. For large $k$ we can't afford the exponential RAM requirement so I added a little trick where the polynomial is broken into a product of two polynomials of degrees $m$ and $n$ ($m \\ge n$) and only $n$ terms are calculated (and thus held in memory) at a time. It works, but took a mind-blowing 2 hours.\n",
    "\n",
    "Of course, refer to [the thread](https://projecteuler.net/thread=588) for the multiplicative property, which in hind sight is relatively easy to see."
   ]
  }
 ]
}