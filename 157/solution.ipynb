{
 "nbformat": 4,
 "nbformat_minor": 2,
 "metadata": {
  "language_info": {
   "name": "python",
   "codemirror_mode": {
    "name": "ipython",
    "version": 3
   },
   "version": "3.8.0"
  },
  "orig_nbformat": 2,
  "file_extension": ".py",
  "mimetype": "text/x-python",
  "name": "python",
  "npconvert_exporter": "python",
  "pygments_lexer": "ipython3",
  "version": 3
 },
 "cells": [
  {
   "cell_type": "markdown",
   "execution_count": null,
   "metadata": {},
   "outputs": [],
   "source": [
    "A very easy problem, clouded by one huge gotcha. I think the \"difficulty\" and seeming lack of online blog posts about this problem is predominantly due to the gotcha.\n",
    "\n",
    "The easy part: let $(a, b) = g$, $a = a_0 g$, $b = b_0 g$, then $a_0 b_0 | 10^n$, and $g \\cdot p = \\frac{(a_0 + b_0) 10^n}{a_0 b_0}$. Therefore $a_0$ and $b_0$ are severely constrained and it boils down to calculating a few divisor counts. So far so good.\n",
    "\n",
    "However, I misinterpreted the question as the number of pairs $(a, b)$, i.e., if the same pair sum to both $10/10$ and $100/100$, that's considered one solution. When I submitted my answer and got a wrong answer response, I was confused. I even wrote a brute force to verify my results. Yep, same. Super confused.\n",
    "\n",
    "Eventually I had to cheat a little and found a forum comment that pointed to the ambiguity. Apparently they were asking for the number of distinct $(a, b, n, p)$ tuples. Okay. Fair enough. In hindsight, not really ambiguous technically speaking. But I don't think I'm in the minority for misinterpreting it."
   ]
  },
  {
   "cell_type": "code",
   "execution_count": 1,
   "metadata": {},
   "outputs": [
    {
     "name": "stdout",
     "output_type": "stream",
     "text": "53490\n"
    }
   ],
   "source": [
    "#!/usr/bin/env python3\n",
    "\n",
    "import sympy\n",
    "\n",
    "\n",
    "N = 9\n",
    "\n",
    "\n",
    "def search():\n",
    "    count = 0\n",
    "    for v1 in range(N + 1):\n",
    "        for v2 in range(N + 1):\n",
    "            for n in range(max(v1, v2, 1), N + 1):\n",
    "                remaining = (2 ** (n - v1)) * (5 ** (n - v2))\n",
    "\n",
    "                a0 = 2 ** v1\n",
    "                b0 = 5 ** v2\n",
    "                count += sympy.divisor_count(remaining * (a0 + b0))\n",
    "\n",
    "                if v1 == 0 or v2 == 0:\n",
    "                    continue\n",
    "\n",
    "                a0 = (2 ** v1) * (5 ** v2)\n",
    "                b0 = 1\n",
    "                count += sympy.divisor_count(remaining * (a0 + b0))\n",
    "    return count\n",
    "\n",
    "\n",
    "def main():\n",
    "    print(search())\n",
    "\n",
    "\n",
    "if __name__ == \"__main__\":\n",
    "    main()\n"
   ]
  }
 ]
}