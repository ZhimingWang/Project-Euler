{
 "nbformat": 4,
 "nbformat_minor": 2,
 "metadata": {
  "language_info": {
   "name": "python",
   "codemirror_mode": {
    "name": "ipython",
    "version": 3
   }
  },
  "orig_nbformat": 2,
  "file_extension": ".py",
  "mimetype": "text/x-python",
  "name": "python",
  "npconvert_exporter": "python",
  "pygments_lexer": "ipython3",
  "version": 3
 },
 "cells": [
  {
   "cell_type": "markdown",
   "execution_count": null,
   "metadata": {},
   "outputs": [],
   "source": [
    "Problem's fairly trivial, I don't even want to document it... [OSIE A002098](https://oeis.org/A002098). I wasted such a disproportionate amount of time though, it hurts. Stupidest day of the year.\n",
    "\n",
    "Python implementation's pretty slow, took >90s. I later realized the implementation could be way shorter and three times as fast, but enough for this problem."
   ]
  }
 ]
}