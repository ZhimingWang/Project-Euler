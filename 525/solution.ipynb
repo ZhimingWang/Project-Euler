{
 "nbformat": 4,
 "nbformat_minor": 2,
 "metadata": {
  "language_info": {
   "name": "python",
   "codemirror_mode": {
    "name": "ipython",
    "version": 3
   }
  },
  "orig_nbformat": 2,
  "file_extension": ".py",
  "mimetype": "text/x-python",
  "name": "python",
  "npconvert_exporter": "python",
  "pygments_lexer": "ipython3",
  "version": 3
 },
 "cells": [
  {
   "cell_type": "markdown",
   "execution_count": null,
   "metadata": {},
   "outputs": [],
   "source": [
    "Let $C$ be the center, and consider a point $X = (a\\sin\\theta,\\, b(1-\\cos\\theta))$ with $0 \\le \\theta \\le \\pi/2$. Let $\\delta_1 = \\angle OCA$, then\n",
    "\n",
    "$$\\tan\\delta_1 = \\frac{a}{b}\\tan\\theta.$$\n",
    "\n",
    "Let $XY$ be the tangent at $X$ where $Y$ is the intersection with the $y$-axis. We can easily derive the formula for the tangent:\n",
    "\n",
    "$$y - b(1-\\cos\\theta) = \\frac{b}{a}\\tan\\theta (x-a\\sin\\theta),$$\n",
    "\n",
    "so let $\\delta_2 = \\angle YCX$, we have\n",
    "\n",
    "$$\\tan\\delta_2 = \\frac{a}{b}\\cot\\theta.$$\n",
    "\n",
    "\n",
    "The angle between the tangent and $CX$ is $\\delta_1 + \\delta_2$.\n",
    "\n",
    "Now consider rolling the ellipse until $X$ touches the $x$-axis. $OX$ is the arc length given by the elliptic integral $a E(\\theta \\mid 1 - \\tfrac{b^2}{a^2})$, and the angle between $CX$ and the $x$-axis stays $\\delta_1 + \\delta_2$, so\n",
    "\n",
    "$$x(\\theta) = OX + CX \\cos(\\delta_1+\\delta_2) = a E(\\theta \\mid 1 - \\tfrac{b^2}{a^2}) + r \\cos(\\delta_1 + \\delta_2),$$\n",
    "$$y(\\theta) = r \\sin(\\delta_1 + \\delta_2),$$\n",
    "\n",
    "where\n",
    "\n",
    "$$r = \\sqrt{a^2\\sin^2\\theta + b^2\\cos^2\\theta},$$\n",
    "$$\\delta_1 = \\tan^{-1}(\\tfrac{a}{b}\\tan\\theta),$$\n",
    "$$\\delta_2 = \\tan^{-1}(\\tfrac{a}{b}\\cot\\theta).$$\n",
    "\n",
    "The curve length is then\n",
    "\n",
    "$$4\\int_0^{\\pi/2} \\sqrt{x'(\\theta)^2 + y'(\\theta)^2} d\\theta.$$"
   ]
  }
 ]
}