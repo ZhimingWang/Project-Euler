{
 "nbformat": 4,
 "nbformat_minor": 2,
 "metadata": {
  "language_info": {
   "name": "python",
   "codemirror_mode": {
    "name": "ipython",
    "version": 3
   }
  },
  "orig_nbformat": 2,
  "file_extension": ".py",
  "mimetype": "text/x-python",
  "name": "python",
  "npconvert_exporter": "python",
  "pygments_lexer": "ipython3",
  "version": 3
 },
 "cells": [
  {
   "cell_type": "markdown",
   "execution_count": null,
   "metadata": {},
   "outputs": [],
   "source": [
    "This is the well-known [Frobenius problem](https://en.wikipedia.org/wiki/Coin_problem). A key theorem is\n",
    "\n",
    "**Theorem.** For $a_1, \\dots, a_n$ s.t. $\\gcd(a_1, \\dots, a_n) = 1$,\n",
    "\n",
    "$$f(a_1, \\dots, a_n) = d \\cdot f\\left(a_1, \\frac{a_2}{d}, \\dots, \\frac{a_n}{d}\\right) + a_1 (d-1).$$\n",
    "\n",
    "See [this paper](https://doi.org/10.1016%2Fj.jnt.2016.05.027).\n",
    "\n",
    "Then\n",
    "\n",
    "$$\n",
    "\\begin{aligned}\n",
    "f(pq, pr, qr)\n",
    "&= r \\cdot f(pq, p, q) + pq(r-1) \\\\\n",
    "&= r \\cdot f(p, q) + pq(r-1) \\\\\n",
    "&= r (pq - p - q) + pq(r-1) \\\\\n",
    "&= 2pqr - pq - qr - rp.\n",
    "\\end{aligned}\n",
    "$$\n",
    "\n",
    "I just brute forced this in Mathematica."
   ]
  }
 ]
}