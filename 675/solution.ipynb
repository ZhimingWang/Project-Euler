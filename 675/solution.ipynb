{
 "nbformat": 4,
 "nbformat_minor": 2,
 "metadata": {
  "language_info": {
   "name": "python",
   "codemirror_mode": {
    "name": "ipython",
    "version": 3
   }
  },
  "orig_nbformat": 2,
  "file_extension": ".py",
  "mimetype": "text/x-python",
  "name": "python",
  "npconvert_exporter": "python",
  "pygments_lexer": "ipython3",
  "version": 3
 },
 "cells": [
  {
   "cell_type": "markdown",
   "execution_count": null,
   "metadata": {},
   "outputs": [],
   "source": [
    "The math is easy. Let $n = p_1^{\\alpha_1} p_2^{\\alpha_2} \\cdots p_k^{\\alpha_k}$. Then it's easy to see\n",
    "\n",
    "$$\\sum_{d|n} 2^{\\omega(d)} = 2^0 \\cdot 1 + 2^1 \\sum_i \\alpha_i + 2^2 \\sum_{i \\ne j} \\alpha_i \\alpha_j + \\cdots + \\alpha_1 \\cdots \\alpha_k = \\prod_i (2\\alpha_i + 1).$$\n",
    "\n",
    "We simply need to calculate $S(n!)$ iteratively. Again let $n = p_1^{\\alpha_1} p_2^{\\alpha_2} \\cdots p_k^{\\alpha_k}$, $(n-1)! = p_1^{A_1} p_2^{A_2} \\cdots p_k^{A_k} \\cdot N$ where $(n, N) = 1$, then\n",
    "\n",
    "$$S(n!) = S((n - 1)!) \\prod_i \\frac{1 + 2A_i + 2\\alpha_i}{1 + 2\\alpha_i}.$$\n",
    "\n",
    "Using C++, and using a precomputed sieve to speed up factoring, my program finished in ~40s."
   ]
  }
 ]
}