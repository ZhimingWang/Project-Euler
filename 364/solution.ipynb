{
 "nbformat": 4,
 "nbformat_minor": 2,
 "metadata": {
  "language_info": {
   "name": "python",
   "codemirror_mode": {
    "name": "ipython",
    "version": 3
   }
  },
  "orig_nbformat": 2,
  "file_extension": ".py",
  "mimetype": "text/x-python",
  "name": "python",
  "npconvert_exporter": "python",
  "pygments_lexer": "ipython3",
  "version": 3
 },
 "cells": [
  {
   "cell_type": "markdown",
   "execution_count": null,
   "metadata": {},
   "outputs": [],
   "source": [
    "Lazy guy consults OEIS. [A192008](https://oeis.org/A192008):\n",
    "\n",
    "```\n",
    "a(n) = Sum (m+k+1)!*binomial(m+k,m)*2^k*(k+v1+v2)!*(m+k)!, where the sum is \n",
    "taken over v1,v2 each from 0 to 1, and over nonnegative m,k such that \n",
    "2*m+3*k = n-1-v1-v2.\n",
    "```"
   ]
  }
 ]
}