{
 "nbformat": 4,
 "nbformat_minor": 2,
 "metadata": {
  "language_info": {
   "name": "python",
   "codemirror_mode": {
    "name": "ipython",
    "version": 3
   }
  },
  "orig_nbformat": 2,
  "file_extension": ".py",
  "mimetype": "text/x-python",
  "name": "python",
  "npconvert_exporter": "python",
  "pygments_lexer": "ipython3",
  "version": 3
 },
 "cells": [
  {
   "cell_type": "markdown",
   "execution_count": null,
   "metadata": {},
   "outputs": [],
   "source": [
    "If $a_1^2 b_1^3 = a_2^2 b_2^3$, it's easy to show there are $a_0, b_0, p, q$ s.t.\n",
    "\n",
    "$$a_1 = a_0p^3,\\ b_1 = b_0q^2,\\ a_2 = a_0q^3,\\ b_2 = b_0p^2.$$\n",
    "\n",
    "Therefore, we can require $b$ to be squarefree, in which case there are no duplicates; also, for any $a^2 b^3$ where $b = b_0q^2$ for some $q > 1$, we can write it as $(aq^3)^2 (b/q^2)^3$ instead. It's easy to count all $a^2b^3$ where $a > 1$ and $b$ is squarefree.\n",
    "\n",
    "Do note that the problem requires $a$ and $b$ to both be greater than 1, and when we normalized as described, we had to get rid of the $b > 1$ requirement, which means numbers that can only be represented as $a^2 \\cdot 1^3$ ($a > 1$) slipped through the crack. However, these false positives are easy to subtract: $a$ is either cubefree, or $a = p^3$ for some prime $p$.\n",
    "\n",
    "The straightforward C++ implementation takes ~4s (most of the time is spent on sieving cubefree numbers up to $3 \\times 10^9$; C++'s compact bool vector really helps)."
   ]
  }
 ]
}