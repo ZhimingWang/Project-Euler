{
 "nbformat": 4,
 "nbformat_minor": 2,
 "metadata": {
  "language_info": {
   "name": "python",
   "codemirror_mode": {
    "name": "ipython",
    "version": 3
   },
   "version": "3.8.0"
  },
  "orig_nbformat": 2,
  "file_extension": ".py",
  "mimetype": "text/x-python",
  "name": "python",
  "npconvert_exporter": "python",
  "pygments_lexer": "ipython3",
  "version": 3
 },
 "cells": [
  {
   "cell_type": "markdown",
   "execution_count": null,
   "metadata": {},
   "outputs": [],
   "source": [
    "Trivial problem. Iteratively generate all right truncatable Harshads of a certain length, combine all of them of length $\\le 13$, filter the strong Harshads out, then try to append one digit to form a prime."
   ]
  },
  {
   "cell_type": "code",
   "execution_count": 6,
   "metadata": {},
   "outputs": [
    {
     "name": "stdout",
     "output_type": "stream",
     "text": "181\n211\n271\n277\n421\n457\n631\n2011\n2017\n2099\n2473\n2477\n4021\n4027\n4073\n4079\n4231\n4813\n4817\n6037\n8011\n8017\n8039\n8461\n8467\n20071\n20431\n40867\n48091\n84061\n84067\n400237\n400277\n4008271\n4860013\n40000021\n80402071\n200400073\n200400077\n240840013\n400002073\n480006031\n2000000011\n2400000073\n2408400811\n4000008697\n4008200071\n4020800071\n8004000619\n8004600031\n20000000431\n20040000031\n40000000861\n40020000037\n40208040091\n60000000037\n80000004061\n80000060071\n80402000071\n200000004037\n200000400031\n400000000237\n400000008061\n400200000037\n800000000413\n2040080000071\n2040080004019\n4000000080023\n4008006000091\n4008200000033\n4020804000091\n4080000000029\n4080000000067\n8000406040013\n8000406040019\n40000000000033\n40000000000097\n40000086000097\n40008000006031\n40860000000019\n48020000004091\n80000000402039\n80000040000091\n80000060040091\n80000060040097\n80004000020071\nsum: 696067597313468\n"
    }
   ],
   "source": [
    "#!/usr/bin/env python3\n",
    "\n",
    "from miller_rabin import miller_rabin\n",
    "\n",
    "\n",
    "def generate_right_truncatable_harshads(max_digits):\n",
    "    # h will be a list of (harshad, sum of digits) pairs.\n",
    "    h = []\n",
    "    h1 = [(k, k) for k in range(1, 10)]\n",
    "    h.extend(h1)\n",
    "    prev_hn = h1\n",
    "    for n in range(2, max_digits + 1):\n",
    "        hn = []\n",
    "        for k, s in prev_hn:\n",
    "            for d in range(10):\n",
    "                kk = 10 * k + d\n",
    "                ss = s + d\n",
    "                if kk % ss == 0:\n",
    "                    hn.append((kk, ss))\n",
    "        h.extend(hn)\n",
    "        prev_hn = hn\n",
    "    return h\n",
    "\n",
    "\n",
    "def main():\n",
    "    h = generate_right_truncatable_harshads(13)\n",
    "    # Filter strong Harshads.\n",
    "    h = [k for k, s in h if miller_rabin(k // s)]\n",
    "    sum_ = 0\n",
    "    for k in h:\n",
    "        for d in (1, 3, 7, 9):\n",
    "            n = k * 10 + d\n",
    "            if miller_rabin(n):\n",
    "                print(n)\n",
    "                sum_ += n\n",
    "    print(f\"sum: {sum_}\")\n",
    "\n",
    "\n",
    "if __name__ == \"__main__\":\n",
    "    main()\n"
   ]
  },
  {
   "cell_type": "code",
   "execution_count": null,
   "metadata": {},
   "outputs": [],
   "source": []
  }
 ]
}