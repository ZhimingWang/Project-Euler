{
 "nbformat": 4,
 "nbformat_minor": 2,
 "metadata": {
  "language_info": {
   "name": "python",
   "codemirror_mode": {
    "name": "ipython",
    "version": 3
   },
   "version": "3.8.0"
  },
  "orig_nbformat": 2,
  "file_extension": ".py",
  "mimetype": "text/x-python",
  "name": "python",
  "npconvert_exporter": "python",
  "pygments_lexer": "ipython3",
  "version": 3
 },
 "cells": [
  {
   "cell_type": "markdown",
   "execution_count": null,
   "metadata": {},
   "outputs": [],
   "source": [
    "Let $AP_n + B = P_{an+b}$, then we have\n",
    "\n",
    "$$(k-2) a^2 = (k-2) A,$$\n",
    "$$2(k-2) ab + (4-k) a = (4-k) a^2,$$\n",
    "$$(k-2) b^2 + (4-k) b = 2B.$$\n",
    "\n",
    "Therefore,\n",
    "\n",
    "$$a = \\frac{2(k-2)}{(4-k)}b + 1,$$\n",
    "$$A = a^2 = \\left(\\frac{2(k-2)}{(4-k)}b + 1\\right)^2,$$\n",
    "$$B = \\frac{1}{2} b((k-2)b + (4-k)).$$\n",
    "\n",
    "For $k = 3$ we have\n",
    "\n",
    "$$A = (2b+1)^2,$$\n",
    "$$B = \\frac{1}{2}b(b+1),$$\n",
    "\n",
    "so let $m$ be the largest $b$ s.t. $A, B \\le N$, we have\n",
    "\n",
    "$$F_3(N) = \\frac{1}{2} m(3m^2 + 9m + 8).$$\n",
    "\n",
    "For $k \\ge 5$, note that $\\gcd(2(k-2), 4-k) = 1$, so $4 - k \\nmid b$. Let $b = (4-k)c$, we have\n",
    "\n",
    "$$A = (2(k-2)c + 1)^2,$$\n",
    "$$B = \\frac{1}{2}(k-4)^2 c((k-2)c + 1).$$\n",
    "\n",
    "Again, let $m$ be the largest $c$ s.t. $A, B \\le N$, we have\n",
    "\n",
    "$$F_k(N) = \\frac{1}{12} [2k^2(k-2)m^3 + 3k^2(k-1)m^2 + (k^3+k^2+12)m].$$"
   ]
  },
  {
   "cell_type": "code",
   "execution_count": 1,
   "metadata": {},
   "outputs": [
    {
     "name": "stdout",
     "output_type": "stream",
     "text": "563132994232918611\n"
    }
   ],
   "source": [
    "#!/usr/bin/env python3\n",
    "\n",
    "import math\n",
    "\n",
    "\n",
    "def Fk(n, k):\n",
    "    if n == 3:\n",
    "        m = math.floor((math.sqrt(n) - 1) / 2)\n",
    "        return m * (3 * m * m + 9 * m + 8) // 2\n",
    "\n",
    "    m = math.floor(math.sqrt(n / max(4 * (k - 2) ** 2, (k - 2) * ((k - 4) ** 2) / 2)))\n",
    "    while (2 * (k - 2) * m + 1) ** 2 > n:\n",
    "        m -= 1\n",
    "    while ((k - 4) ** 2) * m * ((k - 2) * m + 1) // 2 > n:\n",
    "        m -= 1\n",
    "    k2 = k * k\n",
    "    k3 = k2 * k\n",
    "    m2 = m * m\n",
    "    m3 = m2 * m\n",
    "    return (2 * k2 * (k - 2) * m3 + 3 * k2 * (k - 1) * m2 + (k3 + k2 + 12) * m) // 12\n",
    "\n",
    "\n",
    "def sum_Fk(n):\n",
    "    k_bound = math.floor(min((math.sqrt(n) + 3) / 2, pow(2 * n, 1 / 3) + 4)) + 1\n",
    "    return sum(Fk(n, k) for k in range(3, k_bound, 2))\n",
    "\n",
    "\n",
    "def main():\n",
    "    print(sum_Fk(10 ** 12))\n",
    "\n",
    "\n",
    "if __name__ == \"__main__\":\n",
    "    main()\n"
   ]
  }
 ]
}