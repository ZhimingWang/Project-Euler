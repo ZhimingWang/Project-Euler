{
 "nbformat": 4,
 "nbformat_minor": 2,
 "metadata": {
  "language_info": {
   "name": "python",
   "codemirror_mode": {
    "name": "ipython",
    "version": 3
   }
  },
  "orig_nbformat": 2,
  "file_extension": ".py",
  "mimetype": "text/x-python",
  "name": "python",
  "npconvert_exporter": "python",
  "pygments_lexer": "ipython3",
  "version": 3
 },
 "cells": [
  {
   "cell_type": "markdown",
   "execution_count": null,
   "metadata": {},
   "outputs": [],
   "source": [
    "We consider solutions $m < 10^k$ for a given $k$ to the equation\n",
    "\n",
    "$$s(m) = s(137m+x) + y$$\n",
    "\n",
    "where $s$ is the digit sum function and $x,y$ are some given constants.\n",
    "\n",
    "Let $m = 10m' + d$ where $0 \\le d \\le 9$. Then\n",
    "\n",
    "$$s(m) = s(m') + d,$$\n",
    "$$s(137m+x) = s(1370m'+137d+x) = s\\left(137m'+\\left\\lfloor\\frac{137d+x}{10}\\right\\rfloor\\right) + (137d+x) \\mod{10},$$\n",
    "\n",
    "so we get an equation of the same form\n",
    "\n",
    "$$s(m') = s\\left(137m'+\\left\\lfloor\\frac{137d+x}{10}\\right\\rfloor\\right) + ((137d+x) \\mod{10}) + y - d$$\n",
    "\n",
    "where we need to find shorter solutions $m' < 10^{k-1}$. Therefore the problem can be solved recursively with memoization."
   ]
  }
 ]
}