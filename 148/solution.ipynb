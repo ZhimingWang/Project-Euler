{
 "nbformat": 4,
 "nbformat_minor": 2,
 "metadata": {
  "language_info": {
   "name": "python",
   "codemirror_mode": {
    "name": "ipython",
    "version": 3
   },
   "version": "3.8.0"
  },
  "orig_nbformat": 2,
  "file_extension": ".py",
  "mimetype": "text/x-python",
  "name": "python",
  "npconvert_exporter": "python",
  "pygments_lexer": "ipython3",
  "version": 3
 },
 "cells": [
  {
   "cell_type": "markdown",
   "execution_count": null,
   "metadata": {},
   "outputs": [],
   "source": [
    "$$v_p\\left(\\binom{n}{k}\\right) = \\sum_j \\lfloor \\frac{n}{p^j} \\rfloor - \\lfloor \\frac{k}{p^j} \\rfloor - \\lfloor \\frac{n-k}{p^j} \\rfloor,$$\n",
    "\n",
    "so $p \\nmid \\binom{n}{k}$ iff the base-$p$ addition of $k$ and $n-k$ does not carry in any digit. Therefore, if $a_l a_{l-1} \\dots a_0$ is base-$p$ representation of $n$, then the number of $k$s s.t. $p \\nmid \\binom{n}{k}$ is\n",
    "\n",
    "$$\\prod_j (a_j + 1).$$\n",
    "\n",
    "$10^9$ is still in the brute force range. Using Python with absolutely zero optimization, the answer was brute forced in ~15 minutes.\n",
    "\n",
    "Of course, the sum of the first $p^j$ rows could actually be calculated analytically, and if we extend that insight, it's possible to derive a recursive formula that's absolves us from all this brute force."
   ]
  },
  {
   "cell_type": "code",
   "execution_count": 1,
   "metadata": {},
   "outputs": [
    {
     "name": "stdout",
     "output_type": "stream",
     "text": "progress: row #10000000\nprogress: row #20000000\nprogress: row #30000000\nprogress: row #40000000\nprogress: row #50000000\nprogress: row #60000000\nprogress: row #70000000\nprogress: row #80000000\nprogress: row #90000000\nprogress: row #100000000\nprogress: row #110000000\nprogress: row #120000000\nprogress: row #130000000\nprogress: row #140000000\nprogress: row #150000000\nprogress: row #160000000\nprogress: row #170000000\nprogress: row #180000000\nprogress: row #190000000\nprogress: row #200000000\nprogress: row #210000000\nprogress: row #220000000\nprogress: row #230000000\nprogress: row #240000000\nprogress: row #250000000\nprogress: row #260000000\nprogress: row #270000000\nprogress: row #280000000\nprogress: row #290000000\nprogress: row #300000000\nprogress: row #310000000\nprogress: row #320000000\nprogress: row #330000000\nprogress: row #340000000\nprogress: row #350000000\nprogress: row #360000000\nprogress: row #370000000\nprogress: row #380000000\nprogress: row #390000000\nprogress: row #400000000\nprogress: row #410000000\nprogress: row #420000000\nprogress: row #430000000\nprogress: row #440000000\nprogress: row #450000000\nprogress: row #460000000\nprogress: row #470000000\nprogress: row #480000000\nprogress: row #490000000\nprogress: row #500000000\nprogress: row #510000000\nprogress: row #520000000\nprogress: row #530000000\nprogress: row #540000000\nprogress: row #550000000\nprogress: row #560000000\nprogress: row #570000000\nprogress: row #580000000\nprogress: row #590000000\nprogress: row #600000000\nprogress: row #610000000\nprogress: row #620000000\nprogress: row #630000000\nprogress: row #640000000\nprogress: row #650000000\nprogress: row #660000000\nprogress: row #670000000\nprogress: row #680000000\nprogress: row #690000000\nprogress: row #700000000\nprogress: row #710000000\nprogress: row #720000000\nprogress: row #730000000\nprogress: row #740000000\nprogress: row #750000000\nprogress: row #760000000\nprogress: row #770000000\nprogress: row #780000000\nprogress: row #790000000\nprogress: row #800000000\nprogress: row #810000000\nprogress: row #820000000\nprogress: row #830000000\nprogress: row #840000000\nprogress: row #850000000\nprogress: row #860000000\nprogress: row #870000000\nprogress: row #880000000\nprogress: row #890000000\nprogress: row #900000000\nprogress: row #910000000\nprogress: row #920000000\nprogress: row #930000000\nprogress: row #940000000\nprogress: row #950000000\nprogress: row #960000000\nprogress: row #970000000\nprogress: row #980000000\nprogress: row #990000000\nprogress: row #1000000000\n2129970655314432\n"
    }
   ],
   "source": [
    "import functools\n",
    "import math\n",
    "import operator\n",
    "\n",
    "\n",
    "def count_nondivisible_by_7(rows):\n",
    "    row = 1\n",
    "    buf = [1] * math.ceil(math.log(rows) / math.log(7))\n",
    "    count = 0\n",
    "    while row <= rows:\n",
    "        if row % 1E7 == 0:\n",
    "            print(f'progress: row #{row}')\n",
    "        count += functools.reduce(operator.mul, buf, 1)\n",
    "        buf[0] += 1\n",
    "        i = 0\n",
    "        while buf[i] > 7:\n",
    "            buf[i] -= 7\n",
    "            i += 1\n",
    "            buf[i] += 1\n",
    "        row += 1\n",
    "    return count\n",
    "\n",
    "\n",
    "def main():\n",
    "    print(count_nondivisible_by_7(1E9))\n",
    "\n",
    "\n",
    "main()"
   ]
  },
  {
   "cell_type": "code",
   "execution_count": null,
   "metadata": {},
   "outputs": [],
   "source": []
  }
 ]
}