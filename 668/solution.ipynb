{
 "nbformat": 4,
 "nbformat_minor": 2,
 "metadata": {
  "language_info": {
   "name": "python",
   "codemirror_mode": {
    "name": "ipython",
    "version": 3
   }
  },
  "orig_nbformat": 2,
  "file_extension": ".py",
  "mimetype": "text/x-python",
  "name": "python",
  "npconvert_exporter": "python",
  "pygments_lexer": "ipython3",
  "version": 3
 },
 "cells": [
  {
   "cell_type": "markdown",
   "execution_count": null,
   "metadata": {},
   "outputs": [],
   "source": [
    "For $p \\le \\sqrt{N}$ we brute force filter out $p, 2p, \\dots, p^2$; for $p > \\sqrt{N}$, $p$ is always the largest prime factor its multiple, so we simply calculate $\\sum_{p>\\sqrt{N}} \\left\\lfloor \\frac{N}{p} \\right\\rfloor$. Contrary to intuition using $10^10$ boolean buckets for the first part costs way less way than an unordered_set (even slower than Python set for some reason, maybe I should have aggressively reserved) or vector (which requires sorting, costing a huge amount of time too).\n",
    "\n",
    "My final C++ implementation took ~12s with max ~4G memory."
   ]
  }
 ]
}