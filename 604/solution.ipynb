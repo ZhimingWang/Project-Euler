{
 "nbformat": 4,
 "nbformat_minor": 2,
 "metadata": {
  "language_info": {
   "name": "python",
   "codemirror_mode": {
    "name": "ipython",
    "version": 3
   },
   "version": "3.8.0-final"
  },
  "orig_nbformat": 2,
  "file_extension": ".py",
  "mimetype": "text/x-python",
  "name": "python",
  "npconvert_exporter": "python",
  "pygments_lexer": "ipython3",
  "version": 3,
  "kernelspec": {
   "name": "python38064bit380pyenv010ecbd1c87140c4b9c3e44b9e8385ff",
   "display_name": "Python 3.8.0 64-bit ('3.8.0': pyenv)"
  }
 },
 "cells": [
  {
   "cell_type": "markdown",
   "execution_count": null,
   "metadata": {},
   "outputs": [],
   "source": [
    "To find $F(N)$ we need to find the longest series of distinct $\\frac{p_i}{q_i}$ ($p_i$ and $q_i$ coprime) s.t. $\\sum p_i \\le N$ and $\\sum q_i \\le N$. Clearly the most efficient arrangement up to a difference of one segment is to use $\\frac{p}{q}$ and $\\frac{q}{p}$ in pairs while minimizing $p + q$, so that $\\sum p_i + \\sum q_i = 2 \\sum (p+q)$ is as close to $2N$ as possible. To do this, setting aside $1/1$, we simply start from $p+q=3$ and enumerate all irreducible fractions in order of the numerator and denominator sum, while keeping track of $\\sum(p+q)$; each one add two points. Note that for each sum $s = p + q$ there are $\\phi(s)/2$ such pairs in total. When we cannot fit another $s = p + q$ into $N$, let the remainder be $t$, we simply need to decide if there's a $\\frac{p}{q}$ with $p + q = s$ s.t. $\\max(p, q) \\le t$; if there is, we can squeeze in another point; if not, no point can be added.\n",
    "\n",
    "The Python implementation where we precompute totients takes ~2s."
   ]
  },
  {
   "cell_type": "code",
   "execution_count": 1,
   "metadata": {},
   "outputs": [
    {
     "name": "stdout",
     "output_type": "stream",
     "text": "1398582231101\n"
    }
   ],
   "source": [
    "#!/usr/bin/env python3\n",
    "\n",
    "import math\n",
    "\n",
    "\n",
    "def precompute_totients(limit):\n",
    "    pp = [0] * (limit + 1)\n",
    "    tt = [0] * (limit + 1)\n",
    "    tt[1] = 1\n",
    "    # Sieve.\n",
    "    for n in range(2, limit + 1):\n",
    "        if pp[n] == 0:\n",
    "            tt[n] = n - 1\n",
    "            for m in range(2 * n, limit + 1, n):\n",
    "                pp[m] = n\n",
    "        else:\n",
    "            p = pp[n]\n",
    "            m = n // p\n",
    "            ppow = p\n",
    "            while m % p == 0:\n",
    "                m //= p\n",
    "                ppow *= p\n",
    "            if m == 1:\n",
    "                tt[n] = n * (p - 1) // p\n",
    "            else:\n",
    "                tt[n] = tt[ppow] * tt[m]\n",
    "    return tt\n",
    "\n",
    "\n",
    "def F(n):\n",
    "    totient = precompute_totients(3_000_000)\n",
    "    count = 2\n",
    "    i = 3\n",
    "    cumulative_sum = 1\n",
    "    while True:\n",
    "        t = totient[i]\n",
    "        new_sum = cumulative_sum + i * t // 2\n",
    "        if new_sum <= n:\n",
    "            count += t\n",
    "            cumulative_sum = new_sum\n",
    "            i += 1\n",
    "        else:\n",
    "            count += ((n - cumulative_sum) // i) * 2\n",
    "            cumulative_sum += ((n - cumulative_sum) // i) * i\n",
    "            break\n",
    "    remaining = n - cumulative_sum\n",
    "    for j in range(i // 2, 0, -1):\n",
    "        if math.gcd(j, i) == 1:\n",
    "            break\n",
    "    if i - j <= remaining:\n",
    "        count += 1\n",
    "    return count\n",
    "\n",
    "\n",
    "def main():\n",
    "    print(F(10 ** 18))\n",
    "\n",
    "\n",
    "if __name__ == \"__main__\":\n",
    "    main()\n"
   ]
  }
 ]
}