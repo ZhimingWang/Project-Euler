{
 "nbformat": 4,
 "nbformat_minor": 2,
 "metadata": {
  "language_info": {
   "name": "python",
   "codemirror_mode": {
    "name": "ipython",
    "version": 3
   }
  },
  "orig_nbformat": 2,
  "file_extension": ".py",
  "mimetype": "text/x-python",
  "name": "python",
  "npconvert_exporter": "python",
  "pygments_lexer": "ipython3",
  "version": 3
 },
 "cells": [
  {
   "cell_type": "markdown",
   "execution_count": null,
   "metadata": {},
   "outputs": [],
   "source": [
    "Cheated by consulting OEIS, which has this to say, for [A028452](https://oeis.org/A028452):\n",
    "\n",
    "```\n",
    "a(n) = 679a(n-1) -76177a(n-2) +3519127a(n-3) -85911555a(n-4) +1235863045a(n-5) -11123194131a(n-6) +65256474997a(n-7) -257866595482a(n-8) +705239311926a(n-9) -1363115167354a(n-10) +1888426032982a(n-11) -1888426032982a(n-12) +1363115167354a(n-13) -705239311926a(n-14) +257866595482a(n-15) -65256474997a(n-16) +11123194131a(n-17) -1235863045a(n-18) +85911555a(n-19) -3519127a(n-20) +76177a(n-21) -679a(n-22) +a(n-23).\n",
    "\n",
    "G.f.: (x^18 -446x^17 +36701x^16 -1267416x^15 +22828288x^14 -235207768x^13 +1443564488x^12 -5338083112x^11 +11818867674x^10 -15460884436x^9 +11818867674x^8 -5338083112x^7 +1443564488x^6 -235207768x^5 +22828288x^4 -1267416x^3 +36701x^2 -446x +1)/(-x^19 +675x^18 -73471x^17 +3221189x^16 -72583272x^15 +925908264x^14 -6971103216x^13 +31523058272x^12 -86171526770x^11 +142604534086x^10 -142604534086x^9 +86171526770x^8 -31523058272x^7 +6971103216x^6 -925908264x^5 +72583272x^4 -3221189x^3 +73471x^2 -675x +1).\n",
    "```\n",
    "\n",
    "Armed with both the generating function and the recurrence relation, the rest is matrix exponentiation."
   ]
  }
 ]
}