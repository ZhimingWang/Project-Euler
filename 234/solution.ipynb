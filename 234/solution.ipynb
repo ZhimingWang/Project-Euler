{
 "nbformat": 4,
 "nbformat_minor": 2,
 "metadata": {
  "language_info": {
   "name": "python",
   "codemirror_mode": {
    "name": "ipython",
    "version": 3
   },
   "version": "3.8.0"
  },
  "orig_nbformat": 2,
  "file_extension": ".py",
  "mimetype": "text/x-python",
  "name": "python",
  "npconvert_exporter": "python",
  "pygments_lexer": "ipython3",
  "version": 3
 },
 "cells": [
  {
   "cell_type": "markdown",
   "execution_count": null,
   "metadata": {},
   "outputs": [],
   "source": [
    "$n = p^2$ where $p$ is prime is never semidivisible. For $p^2 < n < q^2$ where $p$ and $q$ are neighboring primes, apparently $n$ is semidivisible iff $p \\mid n$ or $q \\mid n$ but $n \\ne pq$. Even brute forcing is fast enough, so we don't even need arithmetic series formula or any of that."
   ]
  },
  {
   "cell_type": "code",
   "execution_count": 1,
   "metadata": {},
   "outputs": [
    {
     "name": "stdout",
     "output_type": "stream",
     "text": "1259187438574927161\n"
    }
   ],
   "source": [
    "#!/usr/bin/env python3\n",
    "\n",
    "import primesieve\n",
    "\n",
    "\n",
    "def main():\n",
    "    primes = primesieve.primes(999983)\n",
    "    total = 0\n",
    "    for k in range(len(primes) - 1):\n",
    "        p = primes[k]\n",
    "        q = primes[k + 1]\n",
    "        pq = p * q\n",
    "        for n in range(p * (p + 1), q * q, p):\n",
    "            if n != pq:\n",
    "                total += n\n",
    "        for n in range(q * (q - 1), p * p, -q):\n",
    "            if n != pq:\n",
    "                total += n\n",
    "    print(total)\n",
    "\n",
    "\n",
    "if __name__ == \"__main__\":\n",
    "    main()\n"
   ]
  }
 ]
}