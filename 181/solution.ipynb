{
 "nbformat": 4,
 "nbformat_minor": 2,
 "metadata": {
  "language_info": {
   "name": "python",
   "codemirror_mode": {
    "name": "ipython",
    "version": 3
   },
   "version": "3.8.0"
  },
  "orig_nbformat": 2,
  "file_extension": ".py",
  "mimetype": "text/x-python",
  "name": "python",
  "npconvert_exporter": "python",
  "pygments_lexer": "ipython3",
  "version": 3
 },
 "cells": [
  {
   "cell_type": "markdown",
   "execution_count": null,
   "metadata": {},
   "outputs": [],
   "source": [
    "Denote each group as a pair $(s,\\, w)$ where $s$ is the total number of balls and $w$ is the number of white balls. Define a total order on all such pairs using the usual tuple ordering rule: $(s,\\,w) \\ge (s',\\,w')$ iff $s > s'$ or $s = s'$ and $w \\ge w'$.\n",
    "\n",
    "Now, let $f(s, w, s_0, w_0)$ be the total number of groupings of $s$ balls with $w$ being white, with the constraint that the largest group is no greater than $(s_0, w_0)$ by the total order defined above. Then\n",
    "\n",
    "$$f(s,\\, w,\\, s_0,\\, w_0) = \\sum_{(s_1,\\,w_1):\\ s_1 \\le s,\\, w_1 \\le w,\\, (s_1,\\,w_1) \\le (s_0,\\,w_0)} f(s-s_1,\\, w-w_1,\\, s_1,\\, w_1).$$\n",
    "\n",
    "The base case ares\n",
    "\n",
    "$$f(0, 0, s_0, w_0) = 1$$\n",
    "\n",
    "and\n",
    "\n",
    "$$\n",
    "f(s, w, 1, 0) = \n",
    "\\begin{cases}\n",
    "1, & w = 0,\\\\\n",
    "0, & w > 0.\n",
    "\\end{cases}\n",
    "$$\n",
    "\n",
    "We can massage $f(s-s_1,\\, w-w_1,\\, s_1,\\, w_1)$ a bit so that in of our recursive calls we have $s \\ge w \\ge w_0$ and $s \\ge s_0 \\ge w_0$ (this way the recursive calls are more caching-friendly).\n",
    "\n",
    "The Python implementation for this is kind of slow, ~30s. One obvious optimization would be turning recursive calls into flat nested loops."
   ]
  },
  {
   "cell_type": "code",
   "execution_count": 1,
   "metadata": {},
   "outputs": [
    {
     "name": "stdout",
     "output_type": "stream",
     "text": "83735848679360680\n"
    }
   ],
   "source": [
    "#!/usr/bin/env python3\n",
    "\n",
    "import functools\n",
    "\n",
    "\n",
    "@functools.lru_cache(maxsize=None)\n",
    "def f(s, w, s0, w0):\n",
    "    assert s >= w >= w0 and s >= s0 >= w0\n",
    "    if (s0, w0) == (1, 0):\n",
    "        return 1 if w == 0 else 0\n",
    "    count = 0\n",
    "    for s1 in range(1, min(s, s0) + 1):\n",
    "        if s1 == s:\n",
    "            # All in one group.\n",
    "            if w0 >= w:\n",
    "                count += 1\n",
    "            continue\n",
    "        if s1 == s0:\n",
    "            max_w1 = min(w, w0)\n",
    "        else:\n",
    "            max_w1 = min(w, s1)\n",
    "        for w1 in range(max_w1 + 1):\n",
    "            rs = s - s1\n",
    "            rw = w - w1\n",
    "            if rs < rw:\n",
    "                continue\n",
    "            new_s0, new_w0 = min((rs, rw), (s1, w1))\n",
    "            new_w0 = min(new_w0, rw)\n",
    "            count += f(rs, rw, new_s0, new_w0)\n",
    "    return count\n",
    "\n",
    "\n",
    "def main():\n",
    "    b = 60\n",
    "    w = 40\n",
    "    print(f(b + w, w, b + w, w))\n",
    "\n",
    "\n",
    "if __name__ == \"__main__\":\n",
    "    main()\n"
   ]
  }
 ]
}