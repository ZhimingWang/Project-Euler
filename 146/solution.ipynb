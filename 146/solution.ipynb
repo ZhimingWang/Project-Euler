{
 "nbformat": 4,
 "nbformat_minor": 2,
 "metadata": {
  "language_info": {
   "name": "python",
   "codemirror_mode": {
    "name": "ipython",
    "version": 3
   }
  },
  "orig_nbformat": 2,
  "file_extension": ".py",
  "mimetype": "text/x-python",
  "name": "python",
  "npconvert_exporter": "python",
  "pygments_lexer": "ipython3",
  "version": 3
 },
 "cells": [
  {
   "cell_type": "markdown",
   "execution_count": null,
   "metadata": {},
   "outputs": [],
   "source": [
    "The search space is huge and we need to perform primality tests on huge, >50 bit numbers, so Python is automatically thrown out of the window. C++ is nice in that it's both fast and we can cheat little by using off-the-shelf [`boost::multiprecision::miller_rabin_test`](https://www.boost.org/doc/libs/release/libs/multiprecision/doc/html/boost_multiprecision/tut/primetest.html) helpfully provided by boost.\n",
    "\n",
    "Of course, the search space still has to be reduced. Considering modulo 2, 3, 5, 7, we can easily limit ourselves to\n",
    "\n",
    "$$n \\equiv \\pm 10,\\ \\pm 80 \\mod 210$$\n",
    "\n",
    "reducing the search space 50-fold. When doing actual primality tests, we also try small primes first before falling back to Miller Rabin.\n",
    "\n",
    "The program ended up running barely under a minute."
   ]
  },
  {
   "cell_type": "markdown",
   "execution_count": null,
   "metadata": {},
   "outputs": [],
   "source": [
    "```\n",
    "10: 101 103 107 109 113 127\n",
    "315410: 99483468101 99483468103 99483468107 99483468109 99483468113 99483468127\n",
    "927070: 859458784901 859458784903 859458784907 859458784909 859458784913 859458784927\n",
    "2525870: 6380019256901 6380019256903 6380019256907 6380019256909 6380019256913 6380019256927\n",
    "8146100: 66358945210001 66358945210003 66358945210007 66358945210009 66358945210013 66358945210027\n",
    "16755190: 280736391936101 280736391936103 280736391936107 280736391936109 280736391936113 280736391936127\n",
    "39313460: 1545548137171601 1545548137171603 1545548137171607 1545548137171609 1545548137171613 1545548137171627\n",
    "97387280: 9484282305798401 9484282305798403 9484282305798407 9484282305798409 9484282305798413 9484282305798427\n",
    "119571820: 14297420138112401 14297420138112403 14297420138112407 14297420138112409 14297420138112413 14297420138112427\n",
    "121288430: 14710883251864901 14710883251864903 14710883251864907 14710883251864909 14710883251864913 14710883251864927\n",
    "130116970: 16930425881980901 16930425881980903 16930425881980907 16930425881980909 16930425881980913 16930425881980927\n",
    "139985660: 19595985005635601 19595985005635603 19595985005635607 19595985005635609 19595985005635613 19595985005635627\n",
    "sum: 676333270\n",
    "```"
   ]
  }
 ]
}