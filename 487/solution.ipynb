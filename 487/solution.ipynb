{
 "nbformat": 4,
 "nbformat_minor": 2,
 "metadata": {
  "language_info": {
   "name": "python",
   "codemirror_mode": {
    "name": "ipython",
    "version": 3
   }
  },
  "orig_nbformat": 2,
  "file_extension": ".py",
  "mimetype": "text/x-python",
  "name": "python",
  "npconvert_exporter": "python",
  "pygments_lexer": "ipython3",
  "version": 3
 },
 "cells": [
  {
   "cell_type": "markdown",
   "execution_count": null,
   "metadata": {},
   "outputs": [],
   "source": [
    "I got caught up in Faulhaber's formula and totally missed the forest for the trees. There's a simple recursive relation. Anyway, here's what I did instead: using Faulhaber's formula, after some amount of algebra we arrive at\n",
    "\n",
    "$$S_k(n) = \\sum_{i=1}^{k+2} a_i n^i,$$\n",
    "\n",
    "where\n",
    "\n",
    "$$a_i = \\frac{(-1)^{k+2-i}}{(k+1)(k+2)} \\sum_{j=0}^{\\min(k,\\,k+2-i)}\\binom{k+2}{i,j,k+2-i-j} B_j B_{k+2-i-j}.$$\n",
    "\n",
    "These coefficients can be calculated directly in Mathematica at very heavy costs: with six kernels I calculated all of the them in ~20min. Once we have them the rest is routine and using a fold ($S_k(n) = (((0+a_{k+2})n + a_{k+1})n + \\cdots + a_1)n$) it takes a few seconds for all 100 primes."
   ]
  }
 ]
}