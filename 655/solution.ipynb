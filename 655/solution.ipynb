{
 "nbformat": 4,
 "nbformat_minor": 2,
 "metadata": {
  "language_info": {
   "name": "python",
   "codemirror_mode": {
    "name": "ipython",
    "version": 3
   }
  },
  "orig_nbformat": 2,
  "file_extension": ".py",
  "mimetype": "text/x-python",
  "name": "python",
  "npconvert_exporter": "python",
  "pygments_lexer": "ipython3",
  "version": 3
 },
 "cells": [
  {
   "cell_type": "markdown",
   "execution_count": null,
   "metadata": {},
   "outputs": [],
   "source": [
    "For palindromes of length 32, listing all $0.9 \\cdot 10^{16}$ of them is of course hopeless, but note that the 16-digit sequence can be chopped into two halves where the remainder counts for each half with either $0.9 \\cdot 10^8$ or $10^8$ possibilities can be computed and then combined. The C++ implementation took ~30s. This approach really only works for length $\\le 32$ before it becomes too expensive.\n",
    "\n",
    "The general solution for any length is to store remainder counts of palindromes of a certain length, then add a digit to the beginning and end to obtain the remainder counts of palindromes of length plus 2. I thought of this at first but after entertaining it for maybe half a minute I decided for whatever reason the time complexity is out of reach... Such an idiot."
   ]
  }
 ]
}