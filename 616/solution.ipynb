{
 "nbformat": 4,
 "nbformat_minor": 2,
 "metadata": {
  "language_info": {
   "name": "python",
   "codemirror_mode": {
    "name": "ipython",
    "version": 3
   },
   "version": "3.8.0-final"
  },
  "orig_nbformat": 2,
  "file_extension": ".py",
  "mimetype": "text/x-python",
  "name": "python",
  "npconvert_exporter": "python",
  "pygments_lexer": "ipython3",
  "version": 3,
  "kernelspec": {
   "name": "python38064bit380pyenv010ecbd1c87140c4b9c3e44b9e8385ff",
   "display_name": "Python 3.8.0 64-bit ('3.8.0': pyenv)"
  }
 },
 "cells": [
  {
   "cell_type": "markdown",
   "execution_count": null,
   "metadata": {},
   "outputs": [],
   "source": [
    "Apparently we need three numbers to kickstart anything at all. If we do have three numbers $(a, b, c)$ where $1 < a \\le b \\le c$, if $a = b = c = 2$ we can't really get anywhere, but as long as $c \\ge 3$, we have\n",
    "\n",
    "$$(a, b, c) \\to (a, b^c) \\to (a^{b^c}) \\to (a^{b^{c-1}}, b) \\to (a, b^{c-1}, b) \\to (a, b, b, c-1).$$\n",
    "\n",
    "Obviously we can obtain any $m < c$ by performing this iteratively. Moreover, the above could give us $(a, b, b^{c-1})$, where $b^{c-1} \\ge (1 + 1)^{c-1} > c$, so we can repeat this ($b^{b^{c-1}}-1$, etc.) to obtain an arbitrarily large third number. Therefore, $(a,b,c)$ with $c \\ge 3$ can generate any number.\n",
    "\n",
    "Now how do we get to $(a, b, c)$ in the first place? Starting with $n = x^y$, if $x$ and $y$ are both prime then we can't get anywhere; if $x = x_1 x_2$ nontrivially, then we have\n",
    "\n",
    "$$(x^y) \\to (x, y) \\to (y^{x_1 x_2}) \\to (y^x_1, x2) \\to (y, x_1, x_2),$$\n",
    "\n",
    "and if $y = y_1 y_2$ nontrivially, then we have\n",
    "\n",
    "$$(x^y) \\to (x^{y_1}, y_2) \\to (x, y_1, y_2),$$\n",
    "\n",
    "so as long as one of $x$ and $y$ is composite, we can decompose into three numbers. Also notice that only 16 ends up with $(2, 2, 2)$ which is a dead end. Note that when we actually enumerate $x^y$ we should exclude $x$ that are nontrivial powers, or we'll end up with duplicates."
   ]
  },
  {
   "cell_type": "code",
   "execution_count": 1,
   "metadata": {},
   "outputs": [
    {
     "name": "stdout",
     "output_type": "stream",
     "text": "310884668312456458\n"
    }
   ],
   "source": [
    "#!/usr/bin/env python3\n",
    "\n",
    "import math\n",
    "\n",
    "import primesieve\n",
    "\n",
    "\n",
    "N = 10 ** 12\n",
    "\n",
    "\n",
    "def main():\n",
    "    limit = int(math.sqrt(N))\n",
    "    primes = primesieve.primes(limit)\n",
    "    is_composite = [True] * (limit + 1)\n",
    "    is_composite[1] = False\n",
    "    for p in primes:\n",
    "        is_composite[p] = False\n",
    "    is_power = [False] * (limit + 1)\n",
    "    total = 0\n",
    "    for a in range(2, limit + 1):\n",
    "        if is_power[a]:\n",
    "            continue\n",
    "        a_is_composite = is_composite[a]\n",
    "        b = 2\n",
    "        n = a * a\n",
    "        while n <= N:\n",
    "            if a_is_composite or is_composite[b]:\n",
    "                total += n\n",
    "            if n <= limit:\n",
    "                is_power[n] = True\n",
    "            b += 1\n",
    "            n *= a\n",
    "    print(total - 16)\n",
    "\n",
    "\n",
    "if __name__ == \"__main__\":\n",
    "    main()\n"
   ]
  }
 ]
}