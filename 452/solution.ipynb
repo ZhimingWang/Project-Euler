{
 "nbformat": 4,
 "nbformat_minor": 2,
 "metadata": {
  "language_info": {
   "name": "python",
   "codemirror_mode": {
    "name": "ipython",
    "version": 3
   }
  },
  "orig_nbformat": 2,
  "file_extension": ".py",
  "mimetype": "text/x-python",
  "name": "python",
  "npconvert_exporter": "python",
  "pygments_lexer": "ipython3",
  "version": 3
 },
 "cells": [
  {
   "cell_type": "markdown",
   "execution_count": null,
   "metadata": {},
   "outputs": [],
   "source": [
    "Note that\n",
    "\n",
    "$$f(m, n) = \\sum_{i=1}^m f\\left(\\left\\lfloor \\frac{m}{i} \\right\\rfloor, n-1\\right),$$\n",
    "\n",
    "and $f(0, n) = 1$, so $f_m(n) = f(m, n)$ is a polynomial in $n$ that can be calculated. The first few are\n",
    "\n",
    "$$f_1(n) = 1,$$\n",
    "$$f_2(n) = n + 1,$$\n",
    "$$f_3(n) = 2n + 1,$$\n",
    "$$f_4(n) = \\frac{1}{2}(n^2 + 5n + 2).$$\n",
    "\n",
    "To speed up calculations we rewrite the recurrence relation as\n",
    "\n",
    "$$f_m(n + 1) - f_m(n) = \\sum_{i=2}^{\\left\\lfloor \\frac{m}{\\lfloor\\sqrt{m}\\rfloor + 1} \\right\\rfloor} f_{\\left\\lfloor \\frac{m}{i} \\right\\rfloor}(n) + \\sum_{j=1}^{\\lfloor\\sqrt{m}\\rfloor} f(j, n) \\cdot \\left(\\left\\lfloor \\frac{m}{j} \\right\\rfloor - \\left\\lceil \\frac{m+1}{j+1} \\right\\rceil + 1 \\right).$$\n",
    "\n",
    "This recurrence relation can be solved by Mathematica with only a little bit of code, but it took more than two hours to get $f_{10^9}$... Which is\n",
    "\n",
    "```\n",
    "(403291461126605635584000000 + 2323810992337965355485230530560000 n + \n",
    "   7889359117100311865015685734400000 n^2 + \n",
    "   11566882681257978704949796279296000 n^3 + \n",
    "   9889023715584872176911921431500800 n^4 + \n",
    "   5586791659046540107117188374721024 n^5 + \n",
    "   2234555235898842950794282667889024 n^6 + \n",
    "   660436288121708751887336296708800 n^7 + \n",
    "   148443188587490934352429968468000 n^8 + \n",
    "   25874650885338013414107730186480 n^9 + \n",
    "   3546555592223441621742022956280 n^10 + \n",
    "   385681047656212833929124163300 n^11 + \n",
    "   33483699602464542438304072750 n^12 + \n",
    "   2324917857206335527595758715 n^13 + \n",
    "   129341416362887506068850765 n^14 + \n",
    "   5741096398568074974506050 n^15 + 202464389097450198374500 n^16 + \n",
    "   5612934629704518458485 n^17 + 122089352293128183535 n^18 + \n",
    "   2045903042022782800 n^19 + 25849858698556750 n^20 + \n",
    "   243352927805845 n^21 + 1459153220395 n^22 + 6649043050 n^23 + \n",
    "   15527200 n^24 + 9451 n^25 + n^26)/403291461126605635584000000\n",
    "```\n",
    "\n",
    "And the exact value of $f(10^9, 10^9)$ is\n",
    "\n",
    "```\n",
    "3393002415163635216580692669444161475384598061979206616857298095283964\\\n",
    "8717675962791479435891314386189470211530490968255600284782614773316673\\\n",
    "3593970302191110875722584923726419105906937564696050261816349068331344\\\n",
    "4227347753288140000001\n",
    "```"
   ]
  }
 ]
}