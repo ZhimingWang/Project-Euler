{
 "nbformat": 4,
 "nbformat_minor": 2,
 "metadata": {
  "language_info": {
   "name": "python",
   "codemirror_mode": {
    "name": "ipython",
    "version": 3
   },
   "version": "3.8.0"
  },
  "orig_nbformat": 2,
  "file_extension": ".py",
  "mimetype": "text/x-python",
  "name": "python",
  "npconvert_exporter": "python",
  "pygments_lexer": "ipython3",
  "version": 3
 },
 "cells": [
  {
   "cell_type": "markdown",
   "execution_count": null,
   "metadata": {},
   "outputs": [],
   "source": [
    "There are 10 possible arcs in total for each step, and we label them as such (I couldn't get graphviz to output curved edges, so the arcs are represented by line segments below):"
   ]
  },
  {
   "cell_type": "code",
   "execution_count": 6,
   "metadata": {},
   "outputs": [
    {
     "data": {
      "image/svg+xml": "<svg xmlns=\"http://www.w3.org/2000/svg\" width=\"325pt\" height=\"176\" viewBox=\"0 0 324.52 131.91\"><g class=\"graph\" transform=\"translate(4 127.91)\"><path fill=\"#fff\" stroke=\"transparent\" d=\"M-4 4v-131.91h324.52V4H-4z\"/><g class=\"node\"><circle stroke=\"#000\" cx=\"141.65\" cy=\"-60.06\" r=\"1.8\"/></g><g class=\"node\"><circle stroke=\"#000\" cx=\"84.12\" cy=\"-118.33\" r=\"1.8\"/></g><g class=\"edge\"><path fill=\"none\" stroke=\"#000\" d=\"M140.23-61.5c-6.48-6.56-33.44-33.87-47.5-48.1\"/><path stroke=\"#000\" d=\"M90.24-107.15l-4.53-9.57 9.51 4.65-4.98 4.92z\"/><text text-anchor=\"middle\" x=\"112.98\" y=\"-88.35\" font-family=\"Times,serif\" font-size=\"14\">0</text></g><g class=\"node\"><circle stroke=\"#000\" cx=\"180.07\" cy=\"-60.06\" r=\"1.8\"/></g><g class=\"node\"><circle stroke=\"#000\" cx=\"7\" cy=\"-99.09\" r=\"1.8\"/></g><g class=\"edge\"><path fill=\"none\" stroke=\"#000\" d=\"M82.22-117.85c-8.67 2.16-44.77 11.17-63.63 15.87\"/><path stroke=\"#000\" d=\"M19.39-98.57l-10.55-.98 8.86-5.81 1.69 6.79z\"/><text text-anchor=\"middle\" x=\"46.9\" y=\"-112.71\" font-family=\"Times,serif\" font-size=\"14\">1</text></g><g class=\"node\"><circle stroke=\"#000\" cx=\"7\" cy=\"-21.04\" r=\"1.8\"/></g><g class=\"edge\"><path fill=\"none\" stroke=\"#000\" d=\"M7-97.16v64.11\"/><path stroke=\"#000\" d=\"M10.5-32.9L7-22.9l-3.5-10h7z\"/><text text-anchor=\"middle\" x=\"3.5\" y=\"-67.9\" font-family=\"Times,serif\" font-size=\"14\">2</text></g><g class=\"node\"><circle stroke=\"#000\" cx=\"84.12\" cy=\"-1.8\" r=\"1.8\"/></g><g class=\"edge\"><path fill=\"none\" stroke=\"#000\" d=\"M8.91-20.56C17.58-18.4 53.67-9.4 72.53-4.69\"/><path stroke=\"#000\" d=\"M73.43-8.08l8.85 5.82-10.55.98 1.7-6.8z\"/><text text-anchor=\"middle\" x=\"37.22\" y=\"-15.43\" font-family=\"Times,serif\" font-size=\"14\">3</text></g><g class=\"edge\"><path fill=\"none\" stroke=\"#000\" d=\"M85.54-3.24c6.48-6.56 33.44-33.86 47.49-48.1\"/><path stroke=\"#000\" d=\"M130.55-53.8l9.51-4.66-4.53 9.58-4.98-4.92z\"/><text text-anchor=\"middle\" x=\"105.79\" y=\"-30.09\" font-family=\"Times,serif\" font-size=\"14\">4</text></g><g class=\"node\"><circle stroke=\"#000\" cx=\"237.6\" cy=\"-118.33\" r=\"1.8\"/></g><g class=\"edge\"><path fill=\"none\" stroke=\"#000\" d=\"M181.5-61.5c6.47-6.56 33.43-33.87 47.49-48.1\"/><path stroke=\"#000\" d=\"M226.5-112.07l9.52-4.65-4.54 9.57-4.98-4.92z\"/><text text-anchor=\"middle\" x=\"201.74\" y=\"-88.35\" font-family=\"Times,serif\" font-size=\"14\">5</text></g><g class=\"node\"><circle stroke=\"#000\" cx=\"314.72\" cy=\"-99.09\" r=\"1.8\"/></g><g class=\"edge\"><path fill=\"none\" stroke=\"#000\" d=\"M239.51-117.85c8.67 2.16 44.76 11.17 63.62 15.87\"/><path stroke=\"#000\" d=\"M304.03-105.36l8.85 5.81-10.55.98 1.7-6.79z\"/><text text-anchor=\"middle\" x=\"267.82\" y=\"-112.71\" font-family=\"Times,serif\" font-size=\"14\">6</text></g><g class=\"node\"><circle stroke=\"#000\" cx=\"314.72\" cy=\"-21.04\" r=\"1.8\"/></g><g class=\"edge\"><path fill=\"none\" stroke=\"#000\" d=\"M314.72-97.16v64.11\"/><path stroke=\"#000\" d=\"M318.22-32.9l-3.5 10-3.5-10h7z\"/><text text-anchor=\"middle\" x=\"311.22\" y=\"-67.9\" font-family=\"Times,serif\" font-size=\"14\">7</text></g><g class=\"node\"><circle stroke=\"#000\" cx=\"237.6\" cy=\"-1.8\" r=\"1.8\"/></g><g class=\"edge\"><path fill=\"none\" stroke=\"#000\" d=\"M312.82-20.56c-8.67 2.16-44.77 11.16-63.63 15.87\"/><path stroke=\"#000\" d=\"M249.99-1.28l-10.55-.98 8.85-5.82 1.7 6.8z\"/><text text-anchor=\"middle\" x=\"277.5\" y=\"-15.43\" font-family=\"Times,serif\" font-size=\"14\">8</text></g><g class=\"edge\"><path fill=\"none\" stroke=\"#000\" d=\"M236.18-3.24c-6.47-6.56-33.44-33.86-47.49-48.1\"/><path stroke=\"#000\" d=\"M186.19-48.88l-4.53-9.58 9.51 4.66-4.98 4.92z\"/><text text-anchor=\"middle\" x=\"208.93\" y=\"-30.09\" font-family=\"Times,serif\" font-size=\"14\">9</text></g></g></svg>",
      "text/plain": "<IPython.core.display.SVG object>"
     },
     "execution_count": 6,
     "metadata": {},
     "output_type": "execute_result"
    }
   ],
   "source": []
  },
  {
   "cell_type": "markdown",
   "execution_count": null,
   "metadata": {},
   "outputs": [],
   "source": [
    "Each arc can transition into one of two arcs, given by the following transition graph:"
   ]
  },
  {
   "cell_type": "code",
   "execution_count": 5,
   "metadata": {},
   "outputs": [
    {
     "data": {
      "image/svg+xml": "<svg xmlns=\"http://www.w3.org/2000/svg\" width=\"350pt\" height=\"175pt\" viewBox=\"0 0 350 174.96\"><g class=\"graph\" transform=\"translate(4 170.96)\"><path fill=\"#fff\" stroke=\"transparent\" d=\"M-4 4v-174.96h350V4H-4z\"/><g class=\"node\"><ellipse fill=\"none\" stroke=\"#000\" cx=\"27\" cy=\"-120.04\" rx=\"27\" ry=\"18\"/><text text-anchor=\"middle\" x=\"27\" y=\"-115.84\" font-family=\"Times,serif\" font-size=\"14\">0</text></g><g class=\"node\"><ellipse fill=\"none\" stroke=\"#000\" cx=\"99\" cy=\"-120.04\" rx=\"27\" ry=\"18\"/><text text-anchor=\"middle\" x=\"99\" y=\"-115.84\" font-family=\"Times,serif\" font-size=\"14\">1</text></g><g class=\"edge\"><path fill=\"none\" stroke=\"#000\" d=\"M54-120.04h7.84\"/><path stroke=\"#000\" d=\"M61.93-123.54l10 3.5-10 3.5v-7z\"/></g><g class=\"node\"><ellipse fill=\"none\" stroke=\"#000\" cx=\"27\" cy=\"-48.04\" rx=\"27\" ry=\"18\"/><text text-anchor=\"middle\" x=\"27\" y=\"-43.84\" font-family=\"Times,serif\" font-size=\"14\">9</text></g><g class=\"edge\"><path fill=\"none\" stroke=\"#000\" d=\"M27-91.7v15.16\"/><path stroke=\"#000\" d=\"M23.5-91.73l3.5-10 3.5 10h-7zM30.5-76.14l-3.5 10-3.5-10h7z\"/></g><g class=\"node\"><ellipse fill=\"none\" stroke=\"#000\" cx=\"171\" cy=\"-120.04\" rx=\"27\" ry=\"18\"/><text text-anchor=\"middle\" x=\"171\" y=\"-115.84\" font-family=\"Times,serif\" font-size=\"14\">2</text></g><g class=\"edge\"><path fill=\"none\" stroke=\"#000\" d=\"M126-120.04h7.84\"/><path stroke=\"#000\" d=\"M133.93-123.54l10 3.5-10 3.5v-7z\"/></g><g class=\"node\"><ellipse fill=\"none\" stroke=\"#000\" cx=\"99\" cy=\"-48.04\" rx=\"27\" ry=\"18\"/><text text-anchor=\"middle\" x=\"99\" y=\"-43.84\" font-family=\"Times,serif\" font-size=\"14\">8</text></g><g class=\"edge\"><path fill=\"none\" stroke=\"#000\" d=\"M99-91.7v15.16\"/><path stroke=\"#000\" d=\"M95.5-91.73l3.5-10 3.5 10h-7zM102.5-76.14l-3.5 10-3.5-10h7z\"/></g><g class=\"node\"><ellipse fill=\"none\" stroke=\"#000\" cx=\"243\" cy=\"-120.04\" rx=\"27\" ry=\"18\"/><text text-anchor=\"middle\" x=\"243\" y=\"-115.84\" font-family=\"Times,serif\" font-size=\"14\">3</text></g><g class=\"edge\"><path fill=\"none\" stroke=\"#000\" d=\"M198-120.04h7.84\"/><path stroke=\"#000\" d=\"M205.93-123.54l10 3.5-10 3.5v-7z\"/></g><g class=\"node\"><ellipse fill=\"none\" stroke=\"#000\" cx=\"171\" cy=\"-48.04\" rx=\"27\" ry=\"18\"/><text text-anchor=\"middle\" x=\"171\" y=\"-43.84\" font-family=\"Times,serif\" font-size=\"14\">7</text></g><g class=\"edge\"><path fill=\"none\" stroke=\"#000\" d=\"M171-91.7v15.16\"/><path stroke=\"#000\" d=\"M167.5-91.73l3.5-10 3.5 10h-7zM174.5-76.14l-3.5 10-3.5-10h7z\"/></g><g class=\"node\"><ellipse fill=\"none\" stroke=\"#000\" cx=\"315\" cy=\"-120.04\" rx=\"27\" ry=\"18\"/><text text-anchor=\"middle\" x=\"315\" y=\"-115.84\" font-family=\"Times,serif\" font-size=\"14\">4</text></g><g class=\"edge\"><path fill=\"none\" stroke=\"#000\" d=\"M270-120.04h7.84\"/><path stroke=\"#000\" d=\"M277.93-123.54l10 3.5-10 3.5v-7z\"/></g><g class=\"node\"><ellipse fill=\"none\" stroke=\"#000\" cx=\"243\" cy=\"-48.04\" rx=\"27\" ry=\"18\"/><text text-anchor=\"middle\" x=\"243\" y=\"-43.84\" font-family=\"Times,serif\" font-size=\"14\">6</text></g><g class=\"edge\"><path fill=\"none\" stroke=\"#000\" d=\"M243-91.7v15.16\"/><path stroke=\"#000\" d=\"M239.5-91.73l3.5-10 3.5 10h-7zM246.5-76.14l-3.5 10-3.5-10h7z\"/></g><g class=\"edge\"><path fill=\"none\" stroke=\"#000\" d=\"M300.78-135.61c-8.15-7.75-19.07-16.32-30.78-20.43-41.52-14.56-156.48-14.56-198 0-8.23 2.89-16.08 7.99-22.84 13.45\"/><path stroke=\"#000\" d=\"M51.04-139.58l-9.82 3.97 5.2-9.23 4.62 5.26z\"/></g><g class=\"node\"><ellipse fill=\"none\" stroke=\"#000\" cx=\"315\" cy=\"-48.04\" rx=\"27\" ry=\"18\"/><text text-anchor=\"middle\" x=\"315\" y=\"-43.84\" font-family=\"Times,serif\" font-size=\"14\">5</text></g><g class=\"edge\"><path fill=\"none\" stroke=\"#000\" d=\"M315-91.7v15.16\"/><path stroke=\"#000\" d=\"M311.5-91.73l3.5-10 3.5 10h-7zM318.5-76.14l-3.5 10-3.5-10h7z\"/></g><g class=\"edge\"><path fill=\"none\" stroke=\"#000\" d=\"M64.09-48.04h7.84\"/><path stroke=\"#000\" d=\"M64-44.54l-10-3.5 10-3.5v7z\"/></g><g class=\"edge\"><path fill=\"none\" stroke=\"#000\" d=\"M136.09-48.04h7.84\"/><path stroke=\"#000\" d=\"M136-44.54l-10-3.5 10-3.5v7z\"/></g><g class=\"edge\"><path fill=\"none\" stroke=\"#000\" d=\"M208.09-48.04h7.84\"/><path stroke=\"#000\" d=\"M208-44.54l-10-3.5 10-3.5v7z\"/></g><g class=\"edge\"><path fill=\"none\" stroke=\"#000\" d=\"M280.09-48.04h7.84\"/><path stroke=\"#000\" d=\"M280-44.54l-10-3.5 10-3.5v7z\"/></g><g class=\"edge\"><path fill=\"none\" stroke=\"#000\" d=\"M292.84-25.49c-6.76 5.47-14.61 10.57-22.84 13.45-73.34 25.73-243 2.47-243-18\"/><path stroke=\"#000\" d=\"M290.96-28.49l9.82-3.98-5.2 9.23-4.62-5.25z\"/></g></g></svg>",
      "text/plain": "<IPython.core.display.SVG object>"
     },
     "execution_count": 5,
     "metadata": {},
     "output_type": "execute_result"
    }
   ],
   "source": []
  },
  {
   "cell_type": "markdown",
   "execution_count": null,
   "metadata": {},
   "outputs": [],
   "source": [
    "Observe that to form a closed path, there arcs 0, 1, 2, 3, 4 must appear the same number of times (cancel out), and arcs 5, 6, 7, 8, 9 must appear the same number of times. A state is determined by the counts of arcs 0 to 9 (regardless of order) and the final arc, and we can further normalize the aforementioned states with an additional cycle counter, s.t.\n",
    "\n",
    "$$\n",
    "\\begin{gathered}\n",
    "\\mathrm{state}(\\{c_i\\},\\, \\mathrm{f.a.}) \\mapsto \n",
    "\\mathrm{normalized\\ state}(\\{c_0-C_0, c_1-C_0, \\dots, c_4-C_0, c_5-C_1, c_6-C_1, \\dots, c_9-C_1\\},\\, C = C_0+C_1,\\, \\mathrm{f.a.}),\\\\\n",
    "C_0 = \\min(c_0, c_1, \\dots, c_4),\\ C_1 = \\min(c_5, c_6, \\dots, c_9).\n",
    "\\end{gathered}\n",
    "$$\n",
    "\n",
    "where $\\{c_i\\}$ stand for arc counts, $\\mathrm{f.a.}$ stands for final arc, and $C$ stands for the cycle count. Also note that any state with\n",
    "\n",
    "$$C + \\max(c_0, c_1, \\dots, c_4) + \\max(c_5, c_6, \\dots, c_9) > N/5$$\n",
    "\n",
    "cannot possibly cancel out at the end of $N$ steps.\n",
    "\n",
    "Given the above analysis we can quite easily do a tree-pruned BFS with memoization. The actual state representation is somewhat interesting: given the size of the problem (70 steps total), each arc count $\\ge 14$ can fit into 4 bits, so the entire state (ten arc counts, one cycle count, plus the final arc) fits into a 64-bit word. So the entire state can be manipulated through bitwise ops. In fact in my implementation I wrote all manipulations in preprocessor macros.\n",
    "\n",
    "My C++ implementation finishes in 0.12s."
   ]
  }
 ]
}