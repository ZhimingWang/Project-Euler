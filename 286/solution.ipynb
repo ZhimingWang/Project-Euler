{
 "nbformat": 4,
 "nbformat_minor": 2,
 "metadata": {
  "language_info": {
   "name": "python",
   "codemirror_mode": {
    "name": "ipython",
    "version": 3
   }
  },
  "orig_nbformat": 2,
  "file_extension": ".py",
  "mimetype": "text/x-python",
  "name": "python",
  "npconvert_exporter": "python",
  "pygments_lexer": "ipython3",
  "version": 3
 },
 "cells": [
  {
   "cell_type": "markdown",
   "execution_count": null,
   "metadata": {},
   "outputs": [],
   "source": [
    "Generating polynomial is\n",
    "\n",
    "$$G(x) = \\prod_{j=1}^{50} ((1-j/q)x + j/q)),$$\n",
    "\n",
    "and the coefficient of $x^{20}$ is known to be $0.02$. Mathematica is a no-brainer."
   ]
  }
 ]
}