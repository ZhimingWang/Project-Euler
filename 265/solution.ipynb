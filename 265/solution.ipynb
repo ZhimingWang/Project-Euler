{
 "nbformat": 4,
 "nbformat_minor": 2,
 "metadata": {
  "language_info": {
   "name": "python",
   "codemirror_mode": {
    "name": "ipython",
    "version": 3
   }
  },
  "orig_nbformat": 2,
  "file_extension": ".py",
  "mimetype": "text/x-python",
  "name": "python",
  "npconvert_exporter": "python",
  "pygments_lexer": "ipython3",
  "version": 3
 },
 "cells": [
  {
   "cell_type": "markdown",
   "execution_count": null,
   "metadata": {},
   "outputs": [],
   "source": [
    "Fix the first $N+1$ bits as $00\\dots01$ and the last bit as $1$, then brute force BFS on the remaining $2^N - N - 2$ ($=25$ for $N=5$) bits. Takes 0.00 seconds.\n",
    "\n",
    "I chose C++ instead of Python because my subconcious told me that I was more confident manipulating bits in C++, but in hindsight I can't see a difference."
   ]
  }
 ]
}