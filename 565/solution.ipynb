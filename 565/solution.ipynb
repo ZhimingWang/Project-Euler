{
 "nbformat": 4,
 "nbformat_minor": 2,
 "metadata": {
  "language_info": {
   "name": "python",
   "codemirror_mode": {
    "name": "ipython",
    "version": 3
   }
  },
  "orig_nbformat": 2,
  "file_extension": ".py",
  "mimetype": "text/x-python",
  "name": "python",
  "npconvert_exporter": "python",
  "pygments_lexer": "ipython3",
  "version": 3
 },
 "cells": [
  {
   "cell_type": "markdown",
   "execution_count": null,
   "metadata": {},
   "outputs": [],
   "source": [
    "We need to find prime power $p^k$ s.t. $d = 2017 \\mid 1 + p + p^2 + \\cdots + p^k = \\frac{p^{k+1}-1}{p-1}$. Then $p^{k+1} \\equiv 1 \\pmod d$, so $\\mathrm{ord}_d(p) \\mid k+1$. We know $\\mathrm{ord}_d(p)$ must be a divisor of $d - 1 = 2016$, and we need $p^k \\le N = 10^{11}$. We can easily eliminate all $k \\ge 5$ by looking at small primes $< 200$ (note $200^5 > 10^{11}$):\n",
    "\n",
    "```mathematica\n",
    "In[1]:= {#, MultiplicativeOrder[#, 2017]} & /@ Array[Prime, PrimePi[200]]\n",
    "\n",
    "Out[1]= {{2, 336}, {3, 1008}, {5, 2016}, {7, 1008}, {11, 252}, {13, 288}, {17, 672}, {19, 2016}, {23, 504}, {29, 336}, {31, 336}, {37, 2016}, {41, 1008},\n",
    ">    {43, 2016}, {47, 2016}, {53, 2016}, {59, 2016}, {61, 112}, {67, 2016}, {71, 504}, {73, 252}, {79, 7}, {83, 1008}, {89, 672}, {97, 2016}, {101, 672},\n",
    ">    {103, 336}, {107, 2016}, {109, 2016}, {113, 288}, {127, 2016}, {131, 84}, {137, 84}, {139, 63}, {149, 1008}, {151, 2016}, {157, 288}, {163, 72},\n",
    ">    {167, 2016}, {173, 2016}, {179, 1008}, {181, 672}, {191, 84}, {193, 96}, {197, 144}, {199, 288}}\n",
    "```\n",
    "\n",
    "Only 79 has multiplicative order $< 10$, and $79^6 < 10^{11}$.\n",
    "\n",
    "Therefore, all divisors $\\ge 6$ of 2016 can be excluded, we only need to consider multiplicative order 2, 3, and 4. (The order cannot be 1, because otherwise $p \\equiv 1 \\pmod d$).\n",
    "\n",
    "Order is 2 iff $p \\equiv -1 \\pmod d$, and when the order is 2, $p^3$ might be smaller than $10^{11}$ too and also satisfy the condition. Order is 3 iff order isn't 1 and $p^3 \\equiv 1 \\pmod d$. Order is 4 iff order isn't 1 and 2 and $p^4 \\equiv 1 \\pmod d$. For order 3 and 4, we can test all primes up to $10^{5.5}$, but pre-computing all primes up to $10^{11}$ for order 2 test apparently isn't feasible. For that we simply enumerate $2 \\cdot 2017 \\cdot n - 1$ and perform primality tests. Recall PNT for arithmetic progressions tells us that there are approximately $\\pi(10^11) / 2017 \\approx \\frac{10^11}{2017 \\cdot 11 \\ln10} \\approx 2 \\cdot 10^6$ such primes.\n",
    "\n",
    "Once we have all the building blocks in the form of $(p^k, p)$ pairs, note that the sum of multiples of $p^k$ that are not multiples of $p^{k+1}$ is\n",
    "\n",
    "$$p^k \\left(1 + 2 + \\cdots + \\left\\lfloor \\frac{N}{p^k} \\right\\rfloor\\right) - p^{k+1} \\left(1 + 2 + \\cdots + \\left\\lfloor \\frac{N}{p^{k+1}} \\right\\rfloor\\right).$$\n",
    "\n",
    "When we sum these we also need to account for double counting multiples of $p_1^{k_1} p_2^{k_2}$. Thankfully that's all we need to consider ($p_1^{k_1} p_2^{k_2} p_3^{k_3}$ are way beyond the $10^{11}$ limit). Better yet, turns out $p_1^{k_1+1} p_2^{k_2}$ or $p_1^{k_1} p_2^{k_2+1}$ are beyond the limit too (we assert this in the implementation), so we only need to subtract\n",
    "\n",
    "$$p_1^{k_1} p_2^{k_2} \\left(1 + 2 + \\cdots + \\left\\lfloor \\frac{N}{p_1^{k_1}p_2^{k_2}} \\right\\rfloor\\right).$$\n",
    "\n",
    "In the end, the C++ implementation takes ~11s."
   ]
  }
 ]
}