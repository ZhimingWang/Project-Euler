{
 "nbformat": 4,
 "nbformat_minor": 2,
 "metadata": {
  "language_info": {
   "name": "python",
   "codemirror_mode": {
    "name": "ipython",
    "version": 3
   }
  },
  "orig_nbformat": 2,
  "file_extension": ".py",
  "mimetype": "text/x-python",
  "name": "python",
  "npconvert_exporter": "python",
  "pygments_lexer": "ipython3",
  "version": 3
 },
 "cells": [
  {
   "cell_type": "markdown",
   "execution_count": null,
   "metadata": {},
   "outputs": [],
   "source": [
    "According to the [Wikipedia article on Malfatti circles](https://en.wikipedia.org/wiki/Malfatti_circles),\n",
    "\n",
    "> The problem of maximizing the total area of three circles in a triangle is never solved by the Malfatti circles. Instead, **the optimal solution can always be found by a greedy algorithm that finds the largest circle within the given triangle, the largest circle within the three connected subsets of the triangle outside of the first circle, and the largest circle within the five connected subsets of the triangle outside of the first two circles.** Although this procedure was first formulated in 1930, its correctness was not proven until 1994.\n",
    "\n",
    "Citation: [doi:10.1007/BF01249514](https://doi.org/10.1007%2FBF01249514).\n",
    "\n",
    "Therefore, we first calculate the inradius\n",
    "\n",
    "$$r = \\sqrt{\\frac{(s-a)(s-b)(s-c)}{s}},$$\n",
    "\n",
    "then the radii of the three circles inside the three connected subsets are given by\n",
    "\n",
    "$$r_a = \\frac{s_a - r}{s_a + r} \\cdot r,\\ s_a = \\sqrt{\\frac{(s-a)bc}{s}},$$\n",
    "$$r_b = \\frac{s_b - r}{s_b + r} \\cdot r,\\ s_b = \\sqrt{\\frac{(s-b)bc}{s}},$$\n",
    "$$r_c = \\frac{s_c - r}{s_c + r} \\cdot r,\\ s_c = \\sqrt{\\frac{(s-c)bc}{s}},$$\n",
    "\n",
    "where\n",
    "\n",
    "$$r_a \\ge r_b \\ge r_c.$$\n",
    "\n",
    "Then the radius $r_a'$ of the circle inside the region formed by the $r_a$ circle and $\\angle A$ is determined by similarity:\n",
    "\n",
    "$$\\frac{r_a'}{r_a} = \\frac{r_a}{r},$$\n",
    "\n",
    "so\n",
    "\n",
    "$$r_a' = \\frac{r_a^2}{r}.$$\n",
    "\n",
    "And the radii $r_a''$ of the two circles inside the regions formed by the $r_a$ circle and AB, AC respectively is determined through Descartes' theorem (radii of the three outer kissing circles are $r$, $r_a$ and $\\infty$):\n",
    "\n",
    "$$\\frac{1}{r_a''} = \\frac{1}{r} + \\frac{1}{r_a} + 2\\sqrt{\\frac{1}{rr_a}},$$\n",
    "\n",
    "so\n",
    "\n",
    "$$r_a'' = \\frac{rr_a}{(\\sqrt{r} + \\sqrt{r_a})^2}.$$\n",
    "\n",
    "Then the max cover is\n",
    "\n",
    "$$S = \\pi (r^2 + r_a^2 + \\max(r_b,\\, r_a'\\, r_a'')^2).$$"
   ]
  }
 ]
}