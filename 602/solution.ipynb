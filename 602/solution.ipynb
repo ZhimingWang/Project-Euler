{
 "nbformat": 4,
 "nbformat_minor": 2,
 "metadata": {
  "language_info": {
   "name": "python",
   "codemirror_mode": {
    "name": "ipython",
    "version": 3
   }
  },
  "orig_nbformat": 2,
  "file_extension": ".py",
  "mimetype": "text/x-python",
  "name": "python",
  "npconvert_exporter": "python",
  "pygments_lexer": "ipython3",
  "version": 3
 },
 "cells": [
  {
   "cell_type": "markdown",
   "execution_count": null,
   "metadata": {},
   "outputs": [],
   "source": [
    "Apparently\n",
    "\n",
    "$$\n",
    "\\begin{aligned}\n",
    "e(n, p) \n",
    "&= \\sum_{i=0}^\\infty p^i(1-p)(i(1-p))^n \\\\\n",
    "&= (1-p)^{n+1}\\sum_{i=0}^\\infty i^n p^i \\\\\n",
    "&= (1-p)^{n+1} \\mathrm{Li}_{-n}(p) \\\\\n",
    "&= \\sum_{k=0}^{n-1} \\left<{n \\atop k}\\right> z^{n-k} \\\\\n",
    "&= \\sum_{k=1}^n \\left<{n \\atop n-k}\\right> z^k,\n",
    "\\end{aligned}\n",
    "$$\n",
    "\n",
    "so\n",
    "\n",
    "$$c(n,k) = \\left<{n \\atop n-k}\\right>$$\n",
    "\n",
    "where $\\left<{n \\atop k}\\right>$ is the Eulerian number satisfying\n",
    "\n",
    "$$\\left<{n \\atop k}\\right> = \\sum_{i=0}^k (-1)^i \\binom{n+1}{i} (k+1-i)^n.$$\n",
    "\n",
    "See the Wikipedia pages on [polylogarithm](https://en.wikipedia.org/wiki/Polylogarithm) and [Eulerian number](https://en.wikipedia.org/wiki/Eulerian_number).\n",
    "\n",
    "It takes trusty old Mathematica a while to calculate the result."
   ]
  }
 ]
}