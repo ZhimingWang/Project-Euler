{
 "nbformat": 4,
 "nbformat_minor": 2,
 "metadata": {
  "language_info": {
   "name": "python",
   "codemirror_mode": {
    "name": "ipython",
    "version": 3
   }
  },
  "orig_nbformat": 2,
  "file_extension": ".py",
  "mimetype": "text/x-python",
  "name": "python",
  "npconvert_exporter": "python",
  "pygments_lexer": "ipython3",
  "version": 3
 },
 "cells": [
  {
   "cell_type": "markdown",
   "execution_count": null,
   "metadata": {},
   "outputs": [],
   "source": [
    "Clearly a ranged median query program. Since my OI days are way behind and I don't know any advanced algorithm any more, I simply borrowed [someone else's](https://www.reddit.com/r/algorithms/comments/7pafxe/interview_question_range_median_query/dsg18nv/) [algorithm](https://gitlab.com/willypillow/CompetitiveProgramming/blob/2395ff281f3d44870b5508fb284205e965df0408/UVa/13183.cpp). Solves the problem in 5.5s, could be optimized at the cost of program complexity.\n",
    "\n",
    "Strangely enough allocating the node pool as static (the node pool is large, $2 \\times 10^8 \\times 24$ bytes so that we don't need to free anything until the end) is crazy taxing on the compiler. Clang manages to use ~50GB (!!!) of RAM to compile this program! Not really sure what's going on. Allocating the pool at runtime doesn't have this problem, but makes the code uglier."
   ]
  }
 ]
}