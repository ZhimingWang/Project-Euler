{
 "nbformat": 4,
 "nbformat_minor": 2,
 "metadata": {
  "language_info": {
   "name": "python",
   "codemirror_mode": {
    "name": "ipython",
    "version": 3
   },
   "version": "3.8.0"
  },
  "orig_nbformat": 2,
  "file_extension": ".py",
  "mimetype": "text/x-python",
  "name": "python",
  "npconvert_exporter": "python",
  "pygments_lexer": "ipython3",
  "version": 3
 },
 "cells": [
  {
   "cell_type": "markdown",
   "execution_count": null,
   "metadata": {},
   "outputs": [],
   "source": [
    "Denote the intersection of $AC$ and $BD$ as $O$. Let $\\beta = \\angle AOB$, $\\alpha_1 = \\angle DBA$, $\\alpha_2 = \\angle ACB$, $\\alpha_3 = \\angle BDC$, $\\alpha_4 = \\angle CAD$, then we can write the other four corner angles in terms of $\\beta$ and $\\alpha_i$. Furthermore, for each 8-tuple of corner angels we can reflect (corresponding to reversing the tuple) or rotate by $\\pi/2$, $\\pi$ or $3\\pi/2$ (corresponding to rotating the tuple 2, 4, or 6 places) to obtain a similar configuration. So WLOG we may assume $\\beta \\le 90^\\circ$ and $\\alpha_4 \\le \\alpha_2$. The rest is within the bounds of brute force, with one condition for success:\n",
    "\n",
    "$$1 = \\frac{OA}{OB} \\frac{OB}{OC} \\frac{OC}{OD} \\frac{OD}{OA} = \\frac{\\sin\\alpha_1}{\\sin(\\alpha_1 + \\beta)} \\frac{\\sin\\alpha_2}{\\sin(\\beta - \\alpha_2)} \\frac{\\sin\\alpha_1}{\\sin(\\alpha_1 + \\beta)} \\frac{\\sin\\alpha_4}{\\sin(\\beta - \\alpha_4)}.$$\n",
    "\n",
    "The Python implementation is slow and took ~5min."
   ]
  },
  {
   "cell_type": "code",
   "execution_count": 1,
   "metadata": {},
   "outputs": [
    {
     "name": "stdout",
     "output_type": "stream",
     "text": "progress: 1°\nprogress: 2°\nprogress: 3°\nprogress: 4°\nprogress: 5°\nprogress: 6°\nprogress: 7°\nprogress: 8°\nprogress: 9°\nprogress: 10°\nprogress: 11°\nprogress: 12°\nprogress: 13°\nprogress: 14°\nprogress: 15°\nprogress: 16°\nprogress: 17°\nprogress: 18°\nprogress: 19°\nprogress: 20°\nprogress: 21°\nprogress: 22°\nprogress: 23°\nprogress: 24°\nprogress: 25°\nprogress: 26°\nprogress: 27°\nprogress: 28°\nprogress: 29°\nprogress: 30°\nprogress: 31°\nprogress: 32°\nprogress: 33°\nprogress: 34°\nprogress: 35°\nprogress: 36°\nprogress: 37°\nprogress: 38°\nprogress: 39°\nprogress: 40°\nprogress: 41°\nprogress: 42°\nprogress: 43°\nprogress: 44°\nprogress: 45°\nprogress: 46°\nprogress: 47°\nprogress: 48°\nprogress: 49°\nprogress: 50°\nprogress: 51°\nprogress: 52°\nprogress: 53°\nprogress: 54°\nprogress: 55°\nprogress: 56°\nprogress: 57°\nprogress: 58°\nprogress: 59°\nprogress: 60°\nprogress: 61°\nprogress: 62°\nprogress: 63°\nprogress: 64°\nprogress: 65°\nprogress: 66°\nprogress: 67°\nprogress: 68°\nprogress: 69°\nprogress: 70°\nprogress: 71°\nprogress: 72°\nprogress: 73°\nprogress: 74°\nprogress: 75°\nprogress: 76°\nprogress: 77°\nprogress: 78°\nprogress: 79°\nprogress: 80°\nprogress: 81°\nprogress: 82°\nprogress: 83°\nprogress: 84°\nprogress: 85°\nprogress: 86°\nprogress: 87°\nprogress: 88°\nprogress: 89°\nprogress: 90°\n129325\n"
    }
   ],
   "source": [
    "#!/usr/bin/env python3\n",
    "\n",
    "import math\n",
    "\n",
    "\n",
    "def sin_deg(x):\n",
    "    return math.sin(x * math.pi / 180)\n",
    "\n",
    "\n",
    "def main():\n",
    "    count = 0\n",
    "    for b in range(1, 91):\n",
    "        print(f\"progress: {b}\\u00B0\")\n",
    "        sine_ratio_plus = [sin_deg(a) / sin_deg(a + b) for a in range(180 - b)]\n",
    "        sine_ratio_minus = [sin_deg(a) / sin_deg(b - a) for a in range(b)]\n",
    "        nonsimilars = set()\n",
    "        for a1 in range(1, 180 - b):\n",
    "            for a2 in range(1, b):\n",
    "                for a3 in range(1, 180 - b):\n",
    "                    for a4 in range(1, a2 + 1):\n",
    "                        if (\n",
    "                            abs(\n",
    "                                sine_ratio_plus[a1]\n",
    "                                * sine_ratio_minus[a2]\n",
    "                                * sine_ratio_plus[a3]\n",
    "                                * sine_ratio_minus[a4]\n",
    "                                - 1\n",
    "                            )\n",
    "                            < 1e-9\n",
    "                        ):\n",
    "                            angles = (\n",
    "                                a1,\n",
    "                                180 - b - a1,\n",
    "                                a2,\n",
    "                                b - a2,\n",
    "                                a3,\n",
    "                                180 - b - a3,\n",
    "                                a4,\n",
    "                                b - a4,\n",
    "                            )\n",
    "                            for rotation in (0, 2, 4, 6):\n",
    "                                rotated = angles[rotation:] + angles[:rotation]\n",
    "                                if (\n",
    "                                    tuple(rotated) in nonsimilars\n",
    "                                    or tuple(reversed(rotated)) in nonsimilars\n",
    "                                ):\n",
    "                                    break\n",
    "                            else:\n",
    "                                nonsimilars.add(angles)\n",
    "                                count += 1\n",
    "    print(count)\n",
    "\n",
    "\n",
    "if __name__ == \"__main__\":\n",
    "    main()\n"
   ]
  }
 ]
}