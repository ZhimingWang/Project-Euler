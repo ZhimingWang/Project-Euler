{
 "nbformat": 4,
 "nbformat_minor": 2,
 "metadata": {
  "language_info": {
   "name": "python",
   "codemirror_mode": {
    "name": "ipython",
    "version": 3
   }
  },
  "orig_nbformat": 2,
  "file_extension": ".py",
  "mimetype": "text/x-python",
  "name": "python",
  "npconvert_exporter": "python",
  "pygments_lexer": "ipython3",
  "version": 3
 },
 "cells": [
  {
   "cell_type": "markdown",
   "execution_count": null,
   "metadata": {},
   "outputs": [],
   "source": [
    "It's easy to see that $AC = DI$ iff\n",
    "\n",
    "$$a^2 = b(b+c).$$\n",
    "\n",
    "We consider solutions s.t. $(a,b,c)=1$. We further let $g = (a,b)$, $a = g\\,a_0$, $b = g\\,b_0$. Then $c = a_0^2 \\frac{g}{b_0} - gb_0$ is divisible by $\\frac{g}{b_0}$; but $(g, c) = 1$, so $g = b_0$, hence $(a,b,c) = (a_0 b_0, b_0^2, a_0^2 - b_0^2)$ with $(a, b)=1$. Also, $c > 0$, $a+b>c$, so $b_0 < a_0 < 2b_0$. Therefore, the problem becomes: enumerate coprime pairs $(a_0, b_0)$ s.t. $b_0 < a_0 < 2b_0$ and $a_0 b_0 \\le N$. To do this we just need to enumerate $b_0 \\le \\sqrt{N}$, and for each $b_0$ sieve out $0 < a_0 - b_0 < b_0$ that is coprime to $b_0$."
   ]
  }
 ]
}