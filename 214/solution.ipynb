{
 "nbformat": 4,
 "nbformat_minor": 2,
 "metadata": {
  "language_info": {
   "name": "python",
   "codemirror_mode": {
    "name": "ipython",
    "version": 3
   }
  },
  "orig_nbformat": 2,
  "file_extension": ".py",
  "mimetype": "text/x-python",
  "name": "python",
  "npconvert_exporter": "python",
  "pygments_lexer": "ipython3",
  "version": 3
 },
 "cells": [
  {
   "cell_type": "markdown",
   "execution_count": null,
   "metadata": {},
   "outputs": [],
   "source": [
    "We sieve once and record a proper divisor $d$ of each number $n$ s.t. $pd = n$ where $p$ is a prime. Then we can easily calculate all totients in $O(n)$:\n",
    "\n",
    "$$\n",
    "\\phi(n) = \n",
    "\\begin{cases}\n",
    "\\phi(d) \\cdot p, & p | d,\\\\\n",
    "\\phi(d) \\cdot (p-1), & p \\nmid d.\n",
    "\\end{cases}\n",
    "$$\n",
    "\n",
    "Chain lengths are also easily $O(n)$."
   ]
  }
 ]
}