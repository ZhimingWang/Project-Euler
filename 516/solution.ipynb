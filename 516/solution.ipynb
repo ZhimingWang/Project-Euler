{
 "nbformat": 4,
 "nbformat_minor": 2,
 "metadata": {
  "language_info": {
   "name": "python",
   "codemirror_mode": {
    "name": "ipython",
    "version": 3
   },
   "version": "3.8.0"
  },
  "orig_nbformat": 2,
  "file_extension": ".py",
  "mimetype": "text/x-python",
  "name": "python",
  "npconvert_exporter": "python",
  "pygments_lexer": "ipython3",
  "version": 3
 },
 "cells": [
  {
   "cell_type": "markdown",
   "execution_count": null,
   "metadata": {},
   "outputs": [],
   "source": [
    "The numbers we're looking for can have any exponents for 2, 3, and 5. For other prime factors $p$, if $p - 1$ is a Hamming number then it may appear exactly once; otherwise it's not allowed. Therefore, we generate all Hamming numbers first, then generate all $p$ s.t. $p - 1$ is Hamming, then generate all products of these Hamming primes, and eventually all products of Hamming numbers and these Hamming primes products.\n",
    "\n",
    "The implementation is straightforward but slow in Python, takes slightly more than 30s."
   ]
  },
  {
   "cell_type": "code",
   "execution_count": 1,
   "metadata": {},
   "outputs": [
    {
     "name": "stdout",
     "output_type": "stream",
     "text": "939087315\n"
    }
   ],
   "source": [
    "#!/usr/bin/env python3\n",
    "\n",
    "from miller_rabin import miller_rabin\n",
    "\n",
    "\n",
    "BOUND = 10 ** 12\n",
    "MODULUS = 2 ** 32\n",
    "\n",
    "\n",
    "def main():\n",
    "    hammings = []\n",
    "    p2 = 1\n",
    "    while p2 <= BOUND:\n",
    "        p3 = 1\n",
    "        while p2 * p3 <= BOUND:\n",
    "            p23 = p2 * p3\n",
    "            p5 = 1\n",
    "            while p23 * p5 <= BOUND:\n",
    "                n = p23 * p5\n",
    "                hammings.append(n)\n",
    "                p5 *= 5\n",
    "            p3 *= 3\n",
    "        p2 *= 2\n",
    "    hammings.sort()\n",
    "    hamming_primes = []\n",
    "    for h in hammings:\n",
    "        p = h + 1\n",
    "        if p not in (2, 3, 5) and miller_rabin(p):\n",
    "            hamming_primes.append(p)\n",
    "    hamming_prime_products = [1]\n",
    "    for p in hamming_primes:\n",
    "        new_products = []\n",
    "        for n in hamming_prime_products:\n",
    "            prod = n * p\n",
    "            if prod > BOUND:\n",
    "                break\n",
    "            new_products.append(prod)\n",
    "        hamming_prime_products.extend(new_products)\n",
    "        hamming_prime_products.sort()\n",
    "    total = 0\n",
    "    for n1 in hammings:\n",
    "        for n2 in hamming_prime_products:\n",
    "            prod = n1 * n2\n",
    "            if prod > BOUND:\n",
    "                break\n",
    "            total = (total + prod) % MODULUS\n",
    "    print(total)\n",
    "\n",
    "\n",
    "if __name__ == \"__main__\":\n",
    "    main()\n"
   ]
  }
 ]
}