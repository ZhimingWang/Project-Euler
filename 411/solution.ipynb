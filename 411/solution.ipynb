{
 "nbformat": 4,
 "nbformat_minor": 2,
 "metadata": {
  "language_info": {
   "name": "python",
   "codemirror_mode": {
    "name": "ipython",
    "version": 3
   }
  },
  "orig_nbformat": 2,
  "file_extension": ".py",
  "mimetype": "text/x-python",
  "name": "python",
  "npconvert_exporter": "python",
  "pygments_lexer": "ipython3",
  "version": 3
 },
 "cells": [
  {
   "cell_type": "markdown",
   "execution_count": null,
   "metadata": {},
   "outputs": [],
   "source": [
    "Once we topologically order all stations by their x coordinates, it simply becomes a problem of longest non-decreasing subsequence problem with a well-known $O(n\\log n)$ algorithm. See [this Wikipedia article](https://en.wikipedia.org/wiki/Longest_increasing_subsequence).\n",
    "\n",
    "There are two ways to deduplicate and topologically order all stations by x coordinates: (1) map x coordinates to sets of y coordinates; (2) just put all coordinates in a vector and sort the whole thing. I first implemented (1), turns out `std::map` and `std::set` are too slow to be worth it. To be precise, (1) took ~141s whereas (2) took only ~26s. Of course, preemptive deduplication using mathematical properties of $(2^i,\\, 3^i)$ is possible, but not worth the programmer effort."
   ]
  }
 ]
}