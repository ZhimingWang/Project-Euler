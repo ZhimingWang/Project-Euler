{
 "nbformat": 4,
 "nbformat_minor": 2,
 "metadata": {
  "language_info": {
   "name": "python",
   "codemirror_mode": {
    "name": "ipython",
    "version": 3
   }
  },
  "orig_nbformat": 2,
  "file_extension": ".py",
  "mimetype": "text/x-python",
  "name": "python",
  "npconvert_exporter": "python",
  "pygments_lexer": "ipython3",
  "version": 3
 },
 "cells": [
  {
   "cell_type": "markdown",
   "execution_count": null,
   "metadata": {},
   "outputs": [],
   "source": [
    "We're looking for prime $p$ s.t. $m = \\frac{10^{p-1} - 1}{p}$ is a $(p-1)$-cyclic number. $m$ is $(p-1)$-cyclic iff the multiplicative order of $10$ mod $p$ is exactly $p-1$. Now, $1/p$ starting with $0.0000000137$ puts $p$ in the range $[724637681,\\, 729927007]$. $p \\cdot 56789 \\equiv 99999 \\pmod{10^5}$ gives us $p \\equiv 9891 \\pmod{10^5}$. There are only three such primes in range: $725509891$, $726509891$, and $729509891$. By the multiplicative order requirement we rule out the first two, so\n",
    "\n",
    "$$p = 729509891.$$\n",
    "\n",
    "Next we need to calculate the digit sum $S$ of $m$. Note that by the cyclic property,\n",
    "\n",
    "$$\\frac{10^{p-1}-1}{9} \\cdot S = \\sum_{k=1}^{p-1} km = \\frac{p(p-1)}{2} \\cdot m = \\frac{p(p-1)}{2} \\cdot \\frac{10^{p-1}-1}{p},$$\n",
    "\n",
    "so\n",
    "\n",
    "$$S = \\frac{9(p-1)}{2} = 3284144505.$$"
   ]
  }
 ]
}