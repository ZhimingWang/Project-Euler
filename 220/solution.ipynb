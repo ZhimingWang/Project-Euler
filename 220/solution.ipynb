{
 "nbformat": 4,
 "nbformat_minor": 2,
 "metadata": {
  "language_info": {
   "name": "python",
   "codemirror_mode": {
    "name": "ipython",
    "version": 3
   }
  },
  "orig_nbformat": 2,
  "file_extension": ".py",
  "mimetype": "text/x-python",
  "name": "python",
  "npconvert_exporter": "python",
  "pygments_lexer": "ipython3",
  "version": 3
 },
 "cells": [
  {
   "cell_type": "markdown",
   "execution_count": null,
   "metadata": {},
   "outputs": [],
   "source": [
    "We can write any series of instructions as a triple $(s, o, d)$ where $s$ is the number of steps taken, $o$ is the offset on the complex plane (assuming a starting direction of $\\hat{x}$), and $d$ is the directional rotation (which is one of $e^{0i} = 1$, $e^{\\frac{\\pi i}{2}}) = i$, $i^2 = -1$, $i^3 = -i$). Then the composition of two series of instructions $(s_1, o_1, d_1)$ followed by $(s_2, o_2, d_2)$ is given by\n",
    "\n",
    "$$(s_1,\\, o_1,\\, d_1) + (s_2,\\, o_2,\\, d_2) = (s_1 + s_2,\\, o_1 + d_1 o_2,\\, d_1d_2).$$\n",
    "\n",
    "The atomic instructions are\n",
    "\n",
    "$$L = (0,\\, 0,\\, i),\\ R = (0,\\, 0,\\, -i),\\ F = (1,\\, 1,\\, 1),$$\n",
    "\n",
    "and noop is $(0,0,1)$.\n",
    "\n",
    "Now let $M$ be the expansion map, so that $M^{(0)}(a) = a$, $M^{(1)}(a) = aRbFR$, $M^{(2)}(a) = (aRbFR)R(LFaLb)FR$, etc. We can easily calculate $M^({k})(a)$ and $M^{(k)}(b)$ iteratively:\n",
    "\n",
    "```\n",
    "1\t(1, -i, -1)\t(1, i, -1)\n",
    "2\t(3, -1-2i, -1)\t(3, 1+2i, -1)\n",
    "3\t(7, -3-2i, -1)\t(7, 3+2i, -1)\n",
    "4\t(15, -5, -1)\t(15, 5, -1)\n",
    "5\t(31, -5+4i, -1)\t(31, 5-4i, -1)\n",
    "6\t(63, -1+8i, -1)\t(63, 1-8i, -1)\n",
    "7\t(127, 7+8i, -1)\t(127, -7-8i, -1)\n",
    "8\t(255, 15, -1)\t(255, -15, -1)\n",
    "9\t(511, 15-16i, -1)\t(511, -15+16i, -1)\n",
    "10\t(1023, -1-32i, -1)\t(1023, 1+32i, -1)\n",
    "...\n",
    "```\n",
    "\n",
    "Then it remains to break any number of steps into a combination of these and some glueing steps."
   ]
  }
 ]
}