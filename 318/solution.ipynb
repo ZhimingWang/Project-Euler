{
 "nbformat": 4,
 "nbformat_minor": 2,
 "metadata": {
  "language_info": {
   "name": "python",
   "codemirror_mode": {
    "name": "ipython",
    "version": 3
   }
  },
  "orig_nbformat": 2,
  "file_extension": ".py",
  "mimetype": "text/x-python",
  "name": "python",
  "npconvert_exporter": "python",
  "pygments_lexer": "ipython3",
  "version": 3
 },
 "cells": [
  {
   "cell_type": "markdown",
   "execution_count": null,
   "metadata": {},
   "outputs": [],
   "source": [
    "$$(\\sqrt{q}+\\sqrt{p})^{2n} + (\\sqrt{q}-\\sqrt{p})^{2n} \\in \\mathbb{N},$$\n",
    "\n",
    "so $\\lim_{n\\to\\infty}\\{(\\sqrt{q}+\\sqrt{p})^{2n}\\} = 1$ iff $\\sqrt{q}-\\sqrt{p} < 1$. For a certain $(\\sqrt{q}+\\sqrt{p})^{2n}$, the fractional part starts with $k$ 9s iff\n",
    "\n",
    "$$10^{-k-1} < (\\sqrt{q}-\\sqrt{p})^{2n} < 10^{-k}.$$\n",
    "\n",
    "To have 2011 9s, we need\n",
    "\n",
    "$$\\lg (\\sqrt{q}-\\sqrt{p})^{2n} < -2011,$$\n",
    "\n",
    "i.e.,\n",
    "\n",
    "$$n > \\frac{2011}{-2\\lg(\\sqrt{q}-\\sqrt{p})},$$\n",
    "\n",
    "therefore\n",
    "\n",
    "$$C(p,q,n) = \\left\\lceil \\frac{2011}{-2\\lg(\\sqrt{q}-\\sqrt{p})} \\right\\rceil.$$"
   ]
  }
 ]
}