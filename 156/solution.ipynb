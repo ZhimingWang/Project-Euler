{
 "nbformat": 4,
 "nbformat_minor": 2,
 "metadata": {
  "language_info": {
   "name": "python",
   "codemirror_mode": {
    "name": "ipython",
    "version": 3
   },
   "version": "3.8.0"
  },
  "orig_nbformat": 2,
  "file_extension": ".py",
  "mimetype": "text/x-python",
  "name": "python",
  "npconvert_exporter": "python",
  "pygments_lexer": "ipython3",
  "version": 3
 },
 "cells": [
  {
   "cell_type": "markdown",
   "execution_count": null,
   "metadata": {},
   "outputs": [],
   "source": [
    "It's easy to calculate $f(n,d)$ by counts the number of $d$s that appear on each decimal position. Then given a length and a leading digit, we can drill down one digit at a time, discarding an entire range $[n, n + 10^i)$ if $f(n + 10^i) < n$ or $f(n) > n + 10^i$. Also note that for any $n = \\overline{a_k a_{k-1} \\dots a_0}$, the number of digit $d$ that appear on position $i$ ($0 \\le i \\le k-1$) is bounded below by $10^i \\left\\lfloor \\frac{n}{10^{i+1}} \\right\\rfloor$, so\n",
    "\n",
    "$$n = f(n, d) \\ge \\sum_{i=0}^{k-1} 10^i \\left\\lfloor \\frac{n}{10^{i+1}} \\right\\rfloor > \\sum_{i=0}^{k-1} 10^i \\left(\\frac{n}{10^{i+1}}-1\\right) > \\frac{kn}{10} - \\frac{10^k}{9}.$$\n",
    "\n",
    "Therefore\n",
    "\n",
    "$$\\frac{k-10}{k} n < \\frac{10^k}{9}.$$\n",
    "\n",
    "Recall that $n \\ge 10^k$, we have $k \\le 11$. Therefore we have our search range, which is pretty small. We can leave a huge amount of optimization on the table and still finish well within 1s."
   ]
  },
  {
   "cell_type": "code",
   "execution_count": 1,
   "metadata": {},
   "outputs": [
    {
     "name": "stdout",
     "output_type": "stream",
     "text": "21295121502550\n"
    }
   ],
   "source": [
    "#!/usr/bin/env python3\n",
    "\n",
    "\n",
    "def f(n, d):\n",
    "    m = n\n",
    "    suffix = 0\n",
    "    p10 = 1\n",
    "    count = 0\n",
    "    while m > 0:\n",
    "        dk = m % 10\n",
    "        m //= 10\n",
    "        count += p10 * m\n",
    "        if dk > d:\n",
    "            count += p10\n",
    "        elif dk == d:\n",
    "            count += suffix + 1\n",
    "        suffix += p10 * dk\n",
    "        p10 *= 10\n",
    "    return count\n",
    "\n",
    "\n",
    "# Search in [m * s, (m+1) * s) where s is a power of 10.\n",
    "def search(d, m, s):\n",
    "    if s == 1:\n",
    "        if f(m, d) == m:\n",
    "            return [m]\n",
    "        else:\n",
    "            return []\n",
    "    min_n = m * s\n",
    "    max_n = min_n + s - 1\n",
    "    min_f = f(min_n, d)\n",
    "    if min_f > max_n:\n",
    "        return []\n",
    "    max_f = f(max_n, d)\n",
    "    if max_f < min_n:\n",
    "        return []\n",
    "    m *= 10\n",
    "    s //= 10\n",
    "    results = []\n",
    "    for dd in range(10):\n",
    "        results.extend(search(d, m + dd, s))\n",
    "    return results\n",
    "\n",
    "\n",
    "def s(d):\n",
    "    results = []\n",
    "    for k in range(0, 12):\n",
    "        s = 10 ** k\n",
    "        for m in range(1, 10):\n",
    "            results.extend(search(d, m, s))\n",
    "    # print(d, results)\n",
    "    return sum(results)\n",
    "\n",
    "\n",
    "def main():\n",
    "    print(sum(s(d) for d in range(1, 10)))\n",
    "\n",
    "\n",
    "if __name__ == \"__main__\":\n",
    "    main()\n"
   ]
  }
 ]
}