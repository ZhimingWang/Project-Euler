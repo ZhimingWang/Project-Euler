{
 "nbformat": 4,
 "nbformat_minor": 2,
 "metadata": {
  "language_info": {
   "name": "python",
   "codemirror_mode": {
    "name": "ipython",
    "version": 3
   },
   "version": "3.8.0"
  },
  "orig_nbformat": 2,
  "file_extension": ".py",
  "mimetype": "text/x-python",
  "name": "python",
  "npconvert_exporter": "python",
  "pygments_lexer": "ipython3",
  "version": 3
 },
 "cells": [
  {
   "cell_type": "markdown",
   "execution_count": null,
   "metadata": {},
   "outputs": [],
   "source": [
    "$M(n) \\ge m+1-s$, so we only need to consider $m+1-s \\le n \\le m$. It's easy to show that for such $n$,\n",
    "\n",
    "$$M(n) = n + i(k-s) - s$,\n",
    "\n",
    "where $n + i(k-s) \\ge m+1$ and $n + (i-1)(k-s) \\le m$. Let $d = k-s$. For fixed point $n$, we have $d = k-s \\mid s$ and $s = id$. The fixed points are\n",
    "\n",
    "$$m+1-s \\le n \\le m-s+d.$$\n",
    "\n",
    "Therefore,\n",
    "\n",
    "$$\n",
    "SF(m,k,s) =\n",
    "\\begin{cases}\n",
    "\\frac{1}{2}(2m-2k+3d+1)d, & d \\mid s,\\\\\n",
    "0, & d \\nmid s,\n",
    "\\end{cases}\n",
    "$$\n",
    "\n",
    "and\n",
    "\n",
    "$$S(m,m) = \\sum_{k=1}^m \\sum_{d\\mid k} \\frac{1}{2}(2m-2k+3d+1)d.$$"
   ]
  },
  {
   "cell_type": "code",
   "execution_count": 1,
   "metadata": {},
   "outputs": [
    {
     "name": "stdout",
     "output_type": "stream",
     "text": "progress: 10000\nprogress: 20000\nprogress: 30000\nprogress: 40000\nprogress: 50000\nprogress: 60000\nprogress: 70000\nprogress: 80000\nprogress: 90000\nprogress: 100000\nprogress: 110000\nprogress: 120000\nprogress: 130000\nprogress: 140000\nprogress: 150000\nprogress: 160000\nprogress: 170000\nprogress: 180000\nprogress: 190000\nprogress: 200000\nprogress: 210000\nprogress: 220000\nprogress: 230000\nprogress: 240000\nprogress: 250000\nprogress: 260000\nprogress: 270000\nprogress: 280000\nprogress: 290000\nprogress: 300000\nprogress: 310000\nprogress: 320000\nprogress: 330000\nprogress: 340000\nprogress: 350000\nprogress: 360000\nprogress: 370000\nprogress: 380000\nprogress: 390000\nprogress: 400000\nprogress: 410000\nprogress: 420000\nprogress: 430000\nprogress: 440000\nprogress: 450000\nprogress: 460000\nprogress: 470000\nprogress: 480000\nprogress: 490000\nprogress: 500000\nprogress: 510000\nprogress: 520000\nprogress: 530000\nprogress: 540000\nprogress: 550000\nprogress: 560000\nprogress: 570000\nprogress: 580000\nprogress: 590000\nprogress: 600000\nprogress: 610000\nprogress: 620000\nprogress: 630000\nprogress: 640000\nprogress: 650000\nprogress: 660000\nprogress: 670000\nprogress: 680000\nprogress: 690000\nprogress: 700000\nprogress: 710000\nprogress: 720000\nprogress: 730000\nprogress: 740000\nprogress: 750000\nprogress: 760000\nprogress: 770000\nprogress: 780000\nprogress: 790000\nprogress: 800000\nprogress: 810000\nprogress: 820000\nprogress: 830000\nprogress: 840000\nprogress: 850000\nprogress: 860000\nprogress: 870000\nprogress: 880000\nprogress: 890000\nprogress: 900000\nprogress: 910000\nprogress: 920000\nprogress: 930000\nprogress: 940000\nprogress: 950000\nprogress: 960000\nprogress: 970000\nprogress: 980000\nprogress: 990000\nprogress: 1000000\n208517717451208352\n"
    }
   ],
   "source": [
    "#!/usr/bin/env python3\n",
    "\n",
    "import sympy\n",
    "\n",
    "\n",
    "M = 10 ** 6\n",
    "\n",
    "\n",
    "def main():\n",
    "    total = 0\n",
    "    for k in range(1, M + 1):\n",
    "        if k % 10_000 == 0:\n",
    "            print(f\"progress: {k}\")\n",
    "        for d in sympy.divisors(k)[:-1]:\n",
    "            total += (2 * M - 2 * k + 3 * d + 1) * d // 2\n",
    "    print(total)\n",
    "\n",
    "\n",
    "if __name__ == \"__main__\":\n",
    "    main()\n"
   ]
  }
 ]
}