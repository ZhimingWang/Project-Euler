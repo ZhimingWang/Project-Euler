{
 "nbformat": 4,
 "nbformat_minor": 2,
 "metadata": {
  "language_info": {
   "name": "python",
   "codemirror_mode": {
    "name": "ipython",
    "version": 3
   },
   "version": "3.8.0"
  },
  "orig_nbformat": 2,
  "file_extension": ".py",
  "mimetype": "text/x-python",
  "name": "python",
  "npconvert_exporter": "python",
  "pygments_lexer": "ipython3",
  "version": 3
 },
 "cells": [
  {
   "cell_type": "markdown",
   "execution_count": null,
   "metadata": {},
   "outputs": [],
   "source": [
    "Reverse the process. Starting from the reverse of the last two carriages, each step we add one previous carriage, reverse, then pick a non-edge position to break up the chain and reverse the right chain. Repeat. For $n$ carriages there are always $(n-2)!$ maximixes costing $2n-3$ steps."
   ]
  },
  {
   "cell_type": "code",
   "execution_count": 1,
   "metadata": {},
   "outputs": [
    {
     "name": "stdout",
     "output_type": "stream",
     "text": "CAGBIHEFJDK\n"
    }
   ],
   "source": [
    "#!/usr/bin/env python3\n",
    "\n",
    "import itertools\n",
    "\n",
    "\n",
    "def generate_maximix(cars):\n",
    "    prev_mixes = [f\"{cars[-1]}{cars[-2]}\"]\n",
    "    length = 2\n",
    "    for car in reversed(cars[:-2]):\n",
    "        length += 1\n",
    "        mixes = []\n",
    "        for mix in prev_mixes:\n",
    "            mix = list(reversed([car, *mix]))\n",
    "            for pos in range(1, length - 1):\n",
    "                mixes.append(\"\".join(itertools.chain(mix[:pos], reversed(mix[pos:]))))\n",
    "        prev_mixes = mixes\n",
    "    return sorted(mixes)\n",
    "\n",
    "\n",
    "def main():\n",
    "    print(generate_maximix(\"ABCDEFGHIJK\")[2010])\n",
    "\n",
    "\n",
    "if __name__ == \"__main__\":\n",
    "    main()\n"
   ]
  }
 ]
}