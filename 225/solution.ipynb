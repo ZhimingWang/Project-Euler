{
 "nbformat": 4,
 "nbformat_minor": 2,
 "metadata": {
  "language_info": {
   "name": "python",
   "codemirror_mode": {
    "name": "ipython",
    "version": 3
   },
   "version": "3.8.0"
  },
  "orig_nbformat": 2,
  "file_extension": ".py",
  "mimetype": "text/x-python",
  "name": "python",
  "npconvert_exporter": "python",
  "pygments_lexer": "ipython3",
  "version": 3
 },
 "cells": [
  {
   "cell_type": "markdown",
   "execution_count": null,
   "metadata": {},
   "outputs": [],
   "source": [
    "Trivially brute-forceable. Tons of optimization available, none needed."
   ]
  },
  {
   "cell_type": "code",
   "execution_count": 1,
   "metadata": {},
   "outputs": [
    {
     "name": "stdout",
     "output_type": "stream",
     "text": "2009\n"
    }
   ],
   "source": [
    "def search_multiple(n):\n",
    "    t = (1, 1, 1)\n",
    "    seen = set([t])\n",
    "    steps = 0\n",
    "    while True:\n",
    "        steps += 1\n",
    "        new = (t[0] + t[1] + t[2]) % n\n",
    "        if new == 0:\n",
    "            return True\n",
    "        t = (t[1], t[2], new)\n",
    "        if t in seen:\n",
    "            return False\n",
    "        seen.add(t)\n",
    "\n",
    "\n",
    "def main():\n",
    "    count = 0\n",
    "    n = 3\n",
    "    while True:\n",
    "        if not search_multiple(n):\n",
    "            count += 1\n",
    "            if count == 124:\n",
    "                print(n)\n",
    "                return\n",
    "        n += 2\n",
    "\n",
    "\n",
    "if __name__ == \"__main__\":\n",
    "    main()\n"
   ]
  }
 ]
}