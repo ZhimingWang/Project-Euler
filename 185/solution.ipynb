{
 "nbformat": 4,
 "nbformat_minor": 2,
 "metadata": {
  "language_info": {
   "name": "python",
   "codemirror_mode": {
    "name": "ipython",
    "version": 3
   }
  },
  "orig_nbformat": 2,
  "file_extension": ".py",
  "mimetype": "text/x-python",
  "name": "python",
  "npconvert_exporter": "python",
  "pygments_lexer": "ipython3",
  "version": 3
 },
 "cells": [
  {
   "cell_type": "markdown",
   "execution_count": null,
   "metadata": {},
   "outputs": [],
   "source": [
    "My implementation is an extremely unpolished and unoptimized [simulated annealing](https://en.wikipedia.org/wiki/Simulated_annealing). Each run takes ~30s if the temperature drops to a threshold and the zero energy state is still not found. Can't speak to the probability of success, but I did find it on the fourth run or something."
   ]
  }
 ]
}