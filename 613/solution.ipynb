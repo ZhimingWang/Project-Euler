{
 "nbformat": 4,
 "nbformat_minor": 2,
 "metadata": {
  "language_info": {
   "name": "python",
   "codemirror_mode": {
    "name": "ipython",
    "version": 3
   }
  },
  "orig_nbformat": 2,
  "file_extension": ".py",
  "mimetype": "text/x-python",
  "name": "python",
  "npconvert_exporter": "python",
  "pygments_lexer": "ipython3",
  "version": 3
 },
 "cells": [
  {
   "cell_type": "markdown",
   "execution_count": null,
   "metadata": {},
   "outputs": [],
   "source": [
    "Let the triangle be $ABC$ where $AB = 3$, $AC = 4$, $BC = 5$. Let the ant's landing point be $O = (x, y)$ where $x$ is the distance to $AB$ and $y$ is the distance to $AC$. Then $\\angle OBA = \\mathrm{arccot}\\frac{3-y}{x}$ and $\\angle OCA = \\mathrm{arccot}\\frac{4-x}{y}$, $\\angle BOC$ = $\\pi/2 + \\angle OBA + \\angle OCA$, and the probability at $O$ is $\\angle BOC / 2\\pi$. We know $\\int_\\triangle dxdy = 6$ for the whole triangle, so\n",
    "\n",
    "$$P = \\int_\\triangle \\frac{\\frac{\\pi}{2} + \\mathrm{arccot}\\frac{3-y}{x} + \\mathrm{arccot}\\frac{4-x}{y}}{6 \\cdot 2\\pi} dxdy.$$\n",
    "\n",
    "This can be integrated in closed form, but Mathematica's `NIntegrate` is more than enough (and faster).\n",
    "\n",
    "(The closed form is $\\frac{1}{2}-\\frac{25\\ln 5 - 9\\ln3 - 32\\ln 2}{24\\pi}$.)"
   ]
  }
 ]
}