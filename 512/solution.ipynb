{
 "nbformat": 4,
 "nbformat_minor": 2,
 "metadata": {
  "language_info": {
   "name": "python",
   "codemirror_mode": {
    "name": "ipython",
    "version": 3
   }
  },
  "orig_nbformat": 2,
  "file_extension": ".py",
  "mimetype": "text/x-python",
  "name": "python",
  "npconvert_exporter": "python",
  "pygments_lexer": "ipython3",
  "version": 3
 },
 "cells": [
  {
   "cell_type": "markdown",
   "execution_count": null,
   "metadata": {},
   "outputs": [],
   "source": [
    "$\\phi(n^i) = n^{i-1}\\phi(n)$, so\n",
    "\n",
    "$$\n",
    "f(n) \\equiv \\phi(n) \\sum_{i=1}^n (-1)^{i-1} \\pmod{n+1} =\n",
    "\\begin{cases}\n",
    "\\phi(n), & n \\equiv 1 \\pmod2,\\\\\n",
    "0, & n \\equiv 0 \\pmod2.\n",
    "\\end{cases}\n",
    "$$\n",
    "\n",
    "Therefore\n",
    "\n",
    "$$g(n) = \\sum_{i=1}^{\\left\\lfloor \\frac{n+1}{2} \\right\\rfloor} \\phi(2i-1).$$\n",
    "\n",
    "Notice that $g$ is the number of all pairs $(a,\\, b)$ where $a \\le b \\le n$, $b$ is odd, and $\\gcd(a, b) = 1$. Removing the gcd restriction, there are $n_0^2$ pairs, where $n_0 = \\left\\lfloor \\frac{n+1}{2} \\right\\rfloor$, but then we're counting all $\\gcd(a, b) = m$ pairs for odd $m$ s.t. $3 \\le m \\le n$. Therefore we have the recursive formula\n",
    "\n",
    "$$g(n) = n_0^2 - \\sum_{m=2}^{n_0} g\\left( \\left\\lfloor \\frac{n}{2m-1} \\right\\rfloor \\right).$$\n",
    "\n",
    "Notice that the summation can be divided into two parts: the first part where $\\left\\lfloor \\frac{n}{2m-1} \\right\\rfloor \\ge \\lfloor \\sqrt{n} \\rfloor + 1$, where we directly sum the $g$ terms; and the second part where $\\left\\lfloor \\frac{n}{2m-1} \\right\\rfloor \\le \\lfloor \\sqrt{n} \\rfloor$, where we group terms with $\\left\\lfloor \\frac{n}{2m-1} \\right\\rfloor = d$ for the same $d$. Therefore the summation with $O(n)$ terms has been broken down into two summations each with $O(\\sqrt{n})$ terms, which is doable. This technique has been used in other Project Euler problems as well."
   ]
  }
 ]
}