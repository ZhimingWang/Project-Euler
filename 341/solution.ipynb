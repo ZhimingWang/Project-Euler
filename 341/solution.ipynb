{
 "nbformat": 4,
 "nbformat_minor": 2,
 "metadata": {
  "language_info": {
   "name": "python",
   "codemirror_mode": {
    "name": "ipython",
    "version": 3
   }
  },
  "orig_nbformat": 2,
  "file_extension": ".py",
  "mimetype": "text/x-python",
  "name": "python",
  "npconvert_exporter": "python",
  "pygments_lexer": "ipython3",
  "version": 3
 },
 "cells": [
  {
   "cell_type": "markdown",
   "execution_count": null,
   "metadata": {},
   "outputs": [],
   "source": [
    "It's easy to show\n",
    "\n",
    "$$g\\left(\\sum_{i=1}^k i\\,g(i)\\right) = \\sum_{i=1}^k g(i),$$\n",
    "\n",
    "and\n",
    "\n",
    "$$g\\left(\\sum_{i=1}^k i\\,g(i) + \\Delta\\right) = \\sum_{i=1}^k g(i) + \\left\\lceil \\frac{\\Delta}{k+1} \\right\\rceil,$$\n",
    "\n",
    "where\n",
    "\n",
    "$$\\sum_{i=1}^k i\\,g(i) + \\Delta < \\sum_{i=1}^{k+1} i\\,g(i).$$\n",
    "\n",
    "Coupled with the recursive formula (see [OEIS A001462](https://oeis.org/A001462))\n",
    "\n",
    "$$g(n) = 1 + g(n - g(g(n-1)))$$\n",
    "\n",
    "for easy calculation of $g(n)$ when $n$ is small, any term can be calculated very quickly."
   ]
  }
 ]
}