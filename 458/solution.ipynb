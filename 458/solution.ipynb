{
 "nbformat": 4,
 "nbformat_minor": 2,
 "metadata": {
  "language_info": {
   "name": "python",
   "codemirror_mode": {
    "name": "ipython",
    "version": 3
   }
  },
  "orig_nbformat": 2,
  "file_extension": ".py",
  "mimetype": "text/x-python",
  "name": "python",
  "npconvert_exporter": "python",
  "pygments_lexer": "ipython3",
  "version": 3
 },
 "cells": [
  {
   "cell_type": "markdown",
   "execution_count": null,
   "metadata": {},
   "outputs": [],
   "source": [
    "Yet another transition matrix power problem.\n",
    "\n",
    "Let state $i$ ($1 \\le i \\le 6$) be the length of the longest prefix without duplicate characters. Let state $7$ be the state where there is at least one permutation as subsequence (the state we want to exclude). Start from $v_1 = (7, 0, 0, 0, 0, 0, 0)$ for a single character string. Then we can easily derive the transition matrix\n",
    "\n",
    "$$\n",
    "t =\n",
    "\\begin{pmatrix}\n",
    "1 & 6 & 0 & 0 & 0 & 0 & 0 \\\\\n",
    "1 & 1 & 5 & 0 & 0 & 0 & 0 \\\\\n",
    "1 & 1 & 1 & 4 & 0 & 0 & 0 \\\\\n",
    "1 & 1 & 1 & 1 & 3 & 0 & 0 \\\\\n",
    "1 & 1 & 1 & 1 & 1 & 2 & 0 \\\\\n",
    "1 & 1 & 1 & 1 & 1 & 1 & 1 \\\\\n",
    "0 & 0 & 0 & 0 & 0 & 0 & 7\n",
    "\\end{pmatrix}\n",
    "$$\n",
    "\n",
    "Then\n",
    "\n",
    "$$v_n = v_1 t^{n-1},$$\n",
    "\n",
    "and\n",
    "\n",
    "$$T(n) = \\sum_{i=1}^6 v_{ni}.$$"
   ]
  }
 ]
}