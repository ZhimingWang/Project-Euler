{
 "nbformat": 4,
 "nbformat_minor": 2,
 "metadata": {
  "language_info": {
   "name": "python",
   "codemirror_mode": {
    "name": "ipython",
    "version": 3
   }
  },
  "orig_nbformat": 2,
  "file_extension": ".py",
  "mimetype": "text/x-python",
  "name": "python",
  "npconvert_exporter": "python",
  "pygments_lexer": "ipython3",
  "version": 3
 },
 "cells": [
  {
   "cell_type": "markdown",
   "execution_count": null,
   "metadata": {},
   "outputs": [],
   "source": [
    "$C(n) = (3C(n-1))^3$, so\n",
    "\n",
    "$$C(n) = 3^{\\frac{3^{n-2}-3}{2}} 2^{3^{n-2}}$$\n",
    "\n",
    "for $n \\ge 4$. To calculate $C(n) \\mod m$, we just need to calculate $\\frac{3^{n-2}-3}{2} \\mod \\phi(m)$ and $3^{n-2} \\mod \\phi(m)$."
   ]
  }
 ]
}