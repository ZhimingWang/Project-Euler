{
 "nbformat": 4,
 "nbformat_minor": 2,
 "metadata": {
  "language_info": {
   "name": "python",
   "codemirror_mode": {
    "name": "ipython",
    "version": 3
   }
  },
  "orig_nbformat": 2,
  "file_extension": ".py",
  "mimetype": "text/x-python",
  "name": "python",
  "npconvert_exporter": "python",
  "pygments_lexer": "ipython3",
  "version": 3
 },
 "cells": [
  {
   "cell_type": "markdown",
   "execution_count": null,
   "metadata": {},
   "outputs": [],
   "source": [
    "Let $p = 0.14$.\n",
    "\n",
    "Note that $M$ can be followed any valid sequence, so let $E$ be the final expectation value, and let $S$ be the probability-weighted sum of all outcomes not starting with $M$, we should have\n",
    "\n",
    "$$E = p(1000 + E) + S,$$\n",
    "\n",
    "so\n",
    "\n",
    "$$E = \\frac{1000p + S}{1-p}.$$\n",
    "\n",
    "It remains to calculate $S$, which is the weighted sum of only 1000 outcomes: 0 to 999. This can be calculated by hand really and it's not even that complicated (see [this post](https://projecteuler.net/thread=610#287165)), but the lazy way is to construct a trie with all these outcomes. Then, at each node with a probability $p_n$, let its child count be $k$, which must include a `#` child, we know the `#` child should have probability $\\frac{1-7p}{1-(8-k)p}$ and all other child nodes should have probability $\\frac{p}{1-(8-k)p}$.\n",
    "\n",
    "A mildly interesting exercise is to visualize the tree with graphviz. I did, and the resulting tree is huge. See [`tree.svg`](tree.svg)."
   ]
  }
 ]
}