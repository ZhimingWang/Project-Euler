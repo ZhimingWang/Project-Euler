{
 "nbformat": 4,
 "nbformat_minor": 2,
 "metadata": {
  "language_info": {
   "name": "python",
   "codemirror_mode": {
    "name": "ipython",
    "version": 3
   }
  },
  "orig_nbformat": 2,
  "file_extension": ".py",
  "mimetype": "text/x-python",
  "name": "python",
  "npconvert_exporter": "python",
  "pygments_lexer": "ipython3",
  "version": 3
 },
 "cells": [
  {
   "cell_type": "markdown",
   "execution_count": null,
   "metadata": {},
   "outputs": [],
   "source": [
    "We have\n",
    "\n",
    "$$\\log_{10} 1.23 < \\{ j \\cdot \\log_{10} 2\\} < \\log_{10} 1.24.$$\n",
    "\n",
    "A bit of first difference calculation tells us that at least for the range we're interested in, it appears that the first difference is always within the set $\\{196, 289, 485\\}$ (frequency in this order). So we can try to advance by 196, or if not 289, or if not 485 each time, shaving two orders of magnitudes off.\n",
    "\n",
    "Strangely, full precision calculation in Mathematica fails (gives result 193060027 so there's a false positive), while using 20 digits of precision gives the correct result.\n",
    "\n",
    "P.S. Reading the forum tells me that all this smartness is unwarranted, a brute force without even involving the logarithm can finish in seconds in relatively fast languages."
   ]
  }
 ]
}