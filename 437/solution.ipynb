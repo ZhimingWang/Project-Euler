{
 "nbformat": 4,
 "nbformat_minor": 2,
 "metadata": {
  "language_info": {
   "name": "python",
   "codemirror_mode": {
    "name": "ipython",
    "version": 3
   }
  },
  "orig_nbformat": 2,
  "file_extension": ".py",
  "mimetype": "text/x-python",
  "name": "python",
  "npconvert_exporter": "python",
  "pygments_lexer": "ipython3",
  "version": 3
 },
 "cells": [
  {
   "cell_type": "markdown",
   "execution_count": null,
   "metadata": {},
   "outputs": [],
   "source": [
    "We need to find primitive root $x$ of $p$ s.t. $x^2 - x - 1 \\equiv 0 \\pmod p$, so\n",
    "\n",
    "$$x \\equiv 2^{-1}(1 \\pm \\sqrt{5}) \\pmod p.$$\n",
    "\n",
    "By law of quadratic reciprocity,\n",
    "\n",
    "$$\\left(\\frac{5}{p}\\right) \\cdot \\left(\\frac{p}{5}\\right) = (-1)^{\\frac{5-1}{2} \\cdot \\frac{p-1}{2}},$$\n",
    "\n",
    "so $5$ has a square root mod $p$ iff $p = 5$ or $p \\equiv \\pm1 \\pmod 5$.\n",
    "\n",
    "Having found roots to the equation $x^2 - x - 1 \\equiv 0$, it remains to test whether either of the roots is primitive. Which boils down to testing\n",
    "\n",
    "$$x^{(p-1)/q} \\not\\equiv 1 \\pmod p$$\n",
    "\n",
    "for any prime factor $q$ of $p-1$.\n",
    "\n",
    "The straightforward C++ implementation using FLINT's modular square root and powmod functions takes <8s."
   ]
  }
 ]
}