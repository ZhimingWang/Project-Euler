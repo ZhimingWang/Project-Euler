{
 "nbformat": 4,
 "nbformat_minor": 2,
 "metadata": {
  "language_info": {
   "name": "python",
   "codemirror_mode": {
    "name": "ipython",
    "version": 3
   },
   "version": "3.8.0"
  },
  "orig_nbformat": 2,
  "file_extension": ".py",
  "mimetype": "text/x-python",
  "name": "python",
  "npconvert_exporter": "python",
  "pygments_lexer": "ipython3",
  "version": 3
 },
 "cells": [
  {
   "cell_type": "markdown",
   "execution_count": null,
   "metadata": {},
   "outputs": [],
   "source": [
    "Brute force DFS with a little bit of optimization (is the current sum plus all remaining row maxima still no greater than the current known maximal sum?) solves the problem very quickly.\n",
    "\n",
    "Of course actual algorithms other than brute force exist... See [assignment problem](https://en.wikipedia.org/wiki/Assignment_problem), [Hungarian algorithm](https://en.wikipedia.org/wiki/Hungarian_algorithm)."
   ]
  },
  {
   "cell_type": "code",
   "execution_count": 1,
   "metadata": {},
   "outputs": [
    {
     "name": "stdout",
     "output_type": "stream",
     "text": "13938\n"
    }
   ],
   "source": [
    "#!/usr/bin/env python3\n",
    "\n",
    "# fmt: off\n",
    "n = 15\n",
    "a = [\n",
    "    [  7,  53, 183, 439, 863, 497, 383, 563,  79, 973, 287,  63, 343, 169, 583],\n",
    "    [627, 343, 773, 959, 943, 767, 473, 103, 699, 303, 957, 703, 583, 639, 913],\n",
    "    [447, 283, 463,  29,  23, 487, 463, 993, 119, 883, 327, 493, 423, 159, 743],\n",
    "    [217, 623,   3, 399, 853, 407, 103, 983,  89, 463, 290, 516, 212, 462, 350],\n",
    "    [960, 376, 682, 962, 300, 780, 486, 502, 912, 800, 250, 346, 172, 812, 350],\n",
    "    [870, 456, 192, 162, 593, 473, 915,  45, 989, 873, 823, 965, 425, 329, 803],\n",
    "    [973, 965, 905, 919, 133, 673, 665, 235, 509, 613, 673, 815, 165, 992, 326],\n",
    "    [322, 148, 972, 962, 286, 255, 941, 541, 265, 323, 925, 281, 601,  95, 973],\n",
    "    [445, 721,  11, 525, 473,  65, 511, 164, 138, 672,  18, 428, 154, 448, 848],\n",
    "    [414, 456, 310, 312, 798, 104, 566, 520, 302, 248, 694, 976, 430, 392, 198],\n",
    "    [184, 829, 373, 181, 631, 101, 969, 613, 840, 740, 778, 458, 284, 760, 390],\n",
    "    [821, 461, 843, 513,  17, 901, 711, 993, 293, 157, 274,  94, 192, 156, 574],\n",
    "    [ 34, 124,   4, 878, 450, 476, 712, 914, 838, 669, 875, 299, 823, 329, 699],\n",
    "    [815, 559, 813, 459, 522, 788, 168, 586, 966, 232, 308, 833, 251, 631, 107],\n",
    "    [813, 883, 451, 509, 615,  77, 281, 613, 459, 205, 380, 274, 302,  35, 805],\n",
    "]\n",
    "remaining_max_sum = [sum(max(a[j]) for j in range(i, n)) for i in range(n)]\n",
    "# fmt: on\n",
    "\n",
    "\n",
    "def main():\n",
    "    current_max = 0\n",
    "\n",
    "    def dfs(row, current_sum, mask):\n",
    "        nonlocal current_max\n",
    "        if row == n:\n",
    "            if current_sum > current_max:\n",
    "                current_max = current_sum\n",
    "            return\n",
    "        if remaining_max_sum[row] + current_sum <= current_max:\n",
    "            return\n",
    "        for i in range(n):\n",
    "            if not ((mask >> i) & 1):\n",
    "                dfs(row + 1, current_sum + a[row][i], mask | (1 << i))\n",
    "\n",
    "    dfs(0, 0, 0)\n",
    "    print(current_max)\n",
    "\n",
    "\n",
    "if __name__ == \"__main__\":\n",
    "    main()\n"
   ]
  }
 ]
}