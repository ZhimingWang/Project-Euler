{
 "nbformat": 4,
 "nbformat_minor": 2,
 "metadata": {
  "language_info": {
   "name": "python",
   "codemirror_mode": {
    "name": "ipython",
    "version": 3
   },
   "version": "3.8.0"
  },
  "orig_nbformat": 2,
  "file_extension": ".py",
  "mimetype": "text/x-python",
  "name": "python",
  "npconvert_exporter": "python",
  "pygments_lexer": "ipython3",
  "version": 3
 },
 "cells": [
  {
   "cell_type": "markdown",
   "execution_count": null,
   "metadata": {},
   "outputs": [],
   "source": [
    "Just run the process in reverse. We have\n",
    "\n",
    "$$a_1 = \\frac{205891132094649a_n+21110037246199}{4194304}$$\n",
    "\n",
    "for some $a_n$. Then it's a matter of finding integer solutions to the above.\n",
    "\n",
    "I used Sympy's symbolic functionality to make the code more readable. Probably would have been better in Mathematica; I'm simply more comfortable in Python, though."
   ]
  },
  {
   "cell_type": "code",
   "execution_count": 1,
   "metadata": {},
   "outputs": [
    {
     "name": "stdout",
     "output_type": "stream",
     "text": "Poly(205891132094649/4194304*x + 21110037246199/4194304, x, domain='QQ')\n96521732651065 + 205891132094649 * 5 = 1125977393124310\n"
    }
   ],
   "source": [
    "#!/usr/bin/env python3\n",
    "\n",
    "import math\n",
    "\n",
    "import sympy\n",
    "from sympy.polys import Poly\n",
    "from sympy.abc import x\n",
    "\n",
    "\n",
    "def main():\n",
    "    # sequence = \"DdDddUUdDD\"\n",
    "    # lower_bound = 10 ** 6\n",
    "    sequence = \"UDDDUdddDDUDDddDdDddDDUDDdUUDd\"\n",
    "    lower_bound = 10 ** 15\n",
    "    p = x\n",
    "    for ch in reversed(sequence):\n",
    "        if ch == \"D\":\n",
    "            p = 3 * p\n",
    "        elif ch == \"U\":\n",
    "            p = (3 * p - 2) / 4\n",
    "        elif ch == \"d\":\n",
    "            p = (3 * p + 1) / 2\n",
    "        else:\n",
    "            raise NotImplementedError\n",
    "    p = Poly(p)\n",
    "    print(p)\n",
    "    a, b = p.all_coeffs()\n",
    "    n_a, d_a = sympy.fraction(a)\n",
    "    n_b, d_b = sympy.fraction(b)\n",
    "    assert d_a == d_b\n",
    "    d = d_a\n",
    "    r = (-n_b) * pow(n_a, -1, d) % d\n",
    "    assert (r * n_a + n_b) % d == 0\n",
    "    n_a %= d\n",
    "    n_b %= d\n",
    "    minimal = int(a * r + b)\n",
    "    step = int(a * d)\n",
    "    offset = math.ceil((lower_bound + 1 - minimal) / step)\n",
    "    print(f\"{minimal} + {step} * {offset} = {minimal + step * offset}\")\n",
    "\n",
    "\n",
    "if __name__ == \"__main__\":\n",
    "    main()\n"
   ]
  },
  {
   "cell_type": "code",
   "execution_count": null,
   "metadata": {},
   "outputs": [],
   "source": []
  }
 ]
}