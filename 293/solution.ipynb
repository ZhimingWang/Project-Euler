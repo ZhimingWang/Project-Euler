{
 "nbformat": 4,
 "nbformat_minor": 2,
 "metadata": {
  "language_info": {
   "name": "python",
   "codemirror_mode": {
    "name": "ipython",
    "version": 3
   },
   "version": "3.8.0"
  },
  "orig_nbformat": 2,
  "file_extension": ".py",
  "mimetype": "text/x-python",
  "name": "python",
  "npconvert_exporter": "python",
  "pygments_lexer": "ipython3",
  "version": 3
 },
 "cells": [
  {
   "cell_type": "markdown",
   "execution_count": null,
   "metadata": {},
   "outputs": [],
   "source": [
    "There are only 6656 admissible numbers in range. Straightforward BFS is enough."
   ]
  },
  {
   "cell_type": "code",
   "execution_count": 1,
   "metadata": {},
   "outputs": [
    {
     "name": "stdout",
     "output_type": "stream",
     "text": "2209\n"
    }
   ],
   "source": [
    "#!/usr/bin/env python3\n",
    "\n",
    "import collections\n",
    "\n",
    "import primesieve\n",
    "import sympy\n",
    "\n",
    "\n",
    "def calculate_pseudofortunates(N):\n",
    "    primes = primesieve.primes(int(pow(N, 0.5)))\n",
    "    n_primes = len(primes)\n",
    "    admissibles = []\n",
    "    q = collections.deque()\n",
    "    q.append((1, 0))\n",
    "    while q:\n",
    "        n, i = q.popleft()\n",
    "        if i < n_primes:\n",
    "            p = primes[i]\n",
    "            i += 1\n",
    "            while (n := n * p) < N:\n",
    "                admissibles.append(n)\n",
    "                q.append((n, i))\n",
    "    admissibles.sort()\n",
    "    return set(sympy.nextprime(n+1) - n for n in admissibles)\n",
    "\n",
    "\n",
    "def main():\n",
    "    print(sum(calculate_pseudofortunates(10 ** 9)))\n",
    "\n",
    "\n",
    "if __name__ == \"__main__\":\n",
    "    main()\n"
   ]
  }
 ]
}