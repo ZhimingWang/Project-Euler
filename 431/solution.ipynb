{
 "nbformat": 4,
 "nbformat_minor": 2,
 "metadata": {
  "language_info": {
   "name": "python",
   "codemirror_mode": {
    "name": "ipython",
    "version": 3
   }
  },
  "orig_nbformat": 2,
  "file_extension": ".py",
  "mimetype": "text/x-python",
  "name": "python",
  "npconvert_exporter": "python",
  "pygments_lexer": "ipython3",
  "version": 3
 },
 "cells": [
  {
   "cell_type": "markdown",
   "execution_count": null,
   "metadata": {},
   "outputs": [],
   "source": [
    "$$V(x) = \\int_0^{R+x} S(r) dr \\tan \\alpha,$$\n",
    "\n",
    "where we can easily derive\n",
    "\n",
    "$$\n",
    "S(r)=\n",
    "\\begin{cases}\n",
    "\\pi R^2 - \\pi r^2, & 0 \\le r \\le R-x,\\\\\n",
    "\\pi R^2 - \\pi r^2 + r^2 \\arccos\\frac{R^2-x^2-r^2}{2xr} - R^2 \\arccos\\frac{R^2+x^2-r^2}{2xR} + \\frac{1}{2} \\sqrt{(x+r+R)(x+r-R)(x+R-r)(r+R-x)}, & R-x < r \\le R+x.\n",
    "\\end{cases}\n",
    "$$\n",
    "\n",
    "So\n",
    "\n",
    "$$V(x) = \\pi  R^2 (R+x)-\\frac{1}{3} \\pi  (R+x)^3 + \\int_{R-x}^{R+x} r^2 \\arccos\\frac{R^2-x^2-r^2}{2xr} - R^2 \\arccos\\frac{R^2+x^2-r^2}{2xR} + \\frac{1}{2} \\sqrt{(x+r+R)(x+r-R)(x+R-r)(r+R-x)} dr.$$\n",
    "\n",
    "Alternatively one may integrate over angle (elliptic integral involved) instead of radius."
   ]
  }
 ]
}