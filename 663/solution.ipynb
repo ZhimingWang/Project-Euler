{
 "nbformat": 4,
 "nbformat_minor": 2,
 "metadata": {
  "language_info": {
   "name": "python",
   "codemirror_mode": {
    "name": "ipython",
    "version": 3
   }
  },
  "orig_nbformat": 2,
  "file_extension": ".py",
  "mimetype": "text/x-python",
  "name": "python",
  "npconvert_exporter": "python",
  "pygments_lexer": "ipython3",
  "version": 3
 },
 "cells": [
  {
   "cell_type": "markdown",
   "execution_count": null,
   "metadata": {},
   "outputs": [],
   "source": [
    "Kadane's algorithm for max subarray is well-known. I took the shortcut and simply brute force updated the partial sum array after each update; for negative updates I simply recalculated the maximum with a linear scan. This is easy to program and understand but comes with a cost of 15min's worth of run time.\n",
    "\n",
    "Segment tree should be way faster."
   ]
  }
 ]
}