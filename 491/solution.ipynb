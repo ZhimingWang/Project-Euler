{
 "nbformat": 4,
 "nbformat_minor": 2,
 "metadata": {
  "language_info": {
   "name": "python",
   "codemirror_mode": {
    "name": "ipython",
    "version": 3
   },
   "version": "3.8.0"
  },
  "orig_nbformat": 2,
  "file_extension": ".py",
  "mimetype": "text/x-python",
  "name": "python",
  "npconvert_exporter": "python",
  "pygments_lexer": "ipython3",
  "version": 3
 },
 "cells": [
  {
   "cell_type": "markdown",
   "execution_count": null,
   "metadata": {},
   "outputs": [],
   "source": [
    "Sum of even digits (digits for $10^0$, $10^2$, ..., $10^{18}$) $\\equiv$ sum of odd digits mod 11, so either must be one of 23, 34, 45, 56, and 67. All configurations can be easily brute forced."
   ]
  },
  {
   "cell_type": "code",
   "execution_count": 1,
   "metadata": {},
   "outputs": [
    {
     "name": "stdout",
     "output_type": "stream",
     "text": "194505988824000\n"
    }
   ],
   "source": [
    "#!/usr/bin/env python3\n",
    "\n",
    "import collections\n",
    "import functools\n",
    "\n",
    "\n",
    "DIGITS = tuple(range(10))\n",
    "DIGIT_COUNTS = collections.Counter(DIGITS) + collections.Counter(DIGITS)\n",
    "FACTORIAL = [1, 1, 2, 6, 24, 120, 720, 5040, 40320, 362880, 3628800]\n",
    "\n",
    "\n",
    "@functools.lru_cache(maxsize=None)\n",
    "def multinomial(*args):\n",
    "    n = sum(args)\n",
    "    r = FACTORIAL[n]\n",
    "    for k in args:\n",
    "        r //= FACTORIAL[k]\n",
    "    return r\n",
    "\n",
    "\n",
    "# even_digits are the digits occupying 10^0, 10^2, ..., 10^18.\n",
    "def count_arrangements(even_digits):\n",
    "    even_digit_counts = collections.Counter(even_digits)\n",
    "    odd_digit_counts = DIGIT_COUNTS - even_digit_counts\n",
    "    even_digit_arrangements = multinomial(*sorted(even_digit_counts.values()))\n",
    "    odd_digit_arrangements = multinomial(*sorted(odd_digit_counts.values()))\n",
    "    # The 10^19 digit can't be 0.\n",
    "    if odd_digit_counts[0] > 0:\n",
    "        odd_digit_counts[0] -= 1\n",
    "        odd_digit_arrangements -= multinomial(*sorted(odd_digit_counts.values()))\n",
    "    return even_digit_arrangements * odd_digit_arrangements\n",
    "\n",
    "\n",
    "def search(current_digits, current_sum, remaining_digit_count, target_sum, pool):\n",
    "    if remaining_digit_count == 0:\n",
    "        if current_sum == target_sum:\n",
    "            return count_arrangements(current_digits)\n",
    "        else:\n",
    "            return 0\n",
    "    if remaining_digit_count > len(pool) * 2:\n",
    "        return 0\n",
    "    d = pool[0]\n",
    "    pool = pool[1:]\n",
    "    result = search(\n",
    "        current_digits, current_sum, remaining_digit_count, target_sum, pool\n",
    "    )\n",
    "    result += search(\n",
    "        current_digits + [d],\n",
    "        current_sum + d,\n",
    "        remaining_digit_count - 1,\n",
    "        target_sum,\n",
    "        pool,\n",
    "    )\n",
    "    if remaining_digit_count > 1:\n",
    "        result += search(\n",
    "            current_digits + [d, d],\n",
    "            current_sum + d * 2,\n",
    "            remaining_digit_count - 2,\n",
    "            target_sum,\n",
    "            pool,\n",
    "        )\n",
    "    return result\n",
    "\n",
    "\n",
    "def main():\n",
    "    result = 0\n",
    "    for even_digits_sum in (23, 34, 45, 56, 67):\n",
    "        result += search([], 0, 10, even_digits_sum, DIGITS)\n",
    "    print(result)\n",
    "\n",
    "\n",
    "if __name__ == \"__main__\":\n",
    "    main()\n"
   ]
  }
 ]
}