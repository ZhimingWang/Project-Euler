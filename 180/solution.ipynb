{
 "nbformat": 4,
 "nbformat_minor": 2,
 "metadata": {
  "language_info": {
   "name": "python",
   "codemirror_mode": {
    "name": "ipython",
    "version": 3
   },
   "version": "3.8.0"
  },
  "orig_nbformat": 2,
  "file_extension": ".py",
  "mimetype": "text/x-python",
  "name": "python",
  "npconvert_exporter": "python",
  "pygments_lexer": "ipython3",
  "version": 3
 },
 "cells": [
  {
   "cell_type": "markdown",
   "execution_count": null,
   "metadata": {},
   "outputs": [],
   "source": [
    "The problem description is dauntingly complex, but turns out $f_n(x, y, z) = (x+y+z)(x^n+y^n-z^n)$, so FLT already got us most of the way there. We only need to consider $n = 2,\\, 1,\\, -1,\\, -2$ (yes, $n$ can be negative, which is sort of a trap). A brute force is all we need then (with one free optimization that is basically criminal if not applied: WLOG $x$'s denominator $\\ge$ $y$'s denominator)."
   ]
  },
  {
   "cell_type": "code",
   "execution_count": 1,
   "metadata": {},
   "outputs": [
    {
     "name": "stdout",
     "output_type": "stream",
     "text": "285123818794632187/72201776446800 285196020571078987\n"
    }
   ],
   "source": [
    "#!/usr/bin/env python3\n",
    "\n",
    "from fractions import Fraction\n",
    "\n",
    "\n",
    "LIMIT = 35\n",
    "\n",
    "\n",
    "def search():\n",
    "    sums = set()\n",
    "    square2root = {i * i: i for i in range(1, LIMIT + 1)}\n",
    "    for b1 in range(2, LIMIT + 1):\n",
    "        for a1 in range(1, b1):\n",
    "            x = Fraction(a1, b1)\n",
    "            if x.denominator != b1:\n",
    "                continue\n",
    "            xinv = 1 / x\n",
    "            for b2 in range(2, b1 + 1):\n",
    "                for a2 in range(1, b2):\n",
    "                    y = Fraction(a2, b2)\n",
    "                    if y.denominator != b2:\n",
    "                        continue\n",
    "                    yinv = 1 / y\n",
    "\n",
    "                    s1 = x + y\n",
    "                    if s1 < 1 and s1.denominator <= LIMIT:\n",
    "                        # print(1, x, y, s1)\n",
    "                        sums.add(x + y + s1)\n",
    "\n",
    "                    s2 = x * x + y * y\n",
    "                    if (\n",
    "                        s2 < 1\n",
    "                        and s2.numerator in square2root\n",
    "                        and s2.denominator in square2root\n",
    "                    ):\n",
    "                        z = Fraction(\n",
    "                            square2root[s2.numerator], square2root[s2.denominator]\n",
    "                        )\n",
    "                        # print(2, x, y, z)\n",
    "                        sums.add(x + y + z)\n",
    "\n",
    "                    sm1 = xinv + yinv\n",
    "                    if sm1 > 1 and sm1.numerator <= LIMIT:\n",
    "                        z = 1 / sm1\n",
    "                        # print(-1, x, y, z)\n",
    "                        sums.add(x + y + z)\n",
    "\n",
    "                    sm2 = xinv * xinv + yinv * yinv\n",
    "                    if (\n",
    "                        sm2 > 1\n",
    "                        and sm2.numerator in square2root\n",
    "                        and sm2.denominator in square2root\n",
    "                    ):\n",
    "                        z = Fraction(\n",
    "                            square2root[sm2.denominator], square2root[sm2.numerator]\n",
    "                        )\n",
    "                        # print(-2, x, y, z)\n",
    "                        sums.add(x + y + z)\n",
    "    t = sum(sums)\n",
    "    print(t, t.numerator + t.denominator)\n",
    "\n",
    "\n",
    "def main():\n",
    "    search()\n",
    "\n",
    "\n",
    "if __name__ == \"__main__\":\n",
    "    main()\n"
   ]
  }
 ]
}