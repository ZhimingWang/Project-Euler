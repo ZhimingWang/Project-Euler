{
 "nbformat": 4,
 "nbformat_minor": 2,
 "metadata": {
  "language_info": {
   "name": "python",
   "codemirror_mode": {
    "name": "ipython",
    "version": 3
   }
  },
  "orig_nbformat": 2,
  "file_extension": ".py",
  "mimetype": "text/x-python",
  "name": "python",
  "npconvert_exporter": "python",
  "pygments_lexer": "ipython3",
  "version": 3
 },
 "cells": [
  {
   "cell_type": "markdown",
   "execution_count": null,
   "metadata": {},
   "outputs": [],
   "source": [
    "Each hexagon can be extended into one or two regular triange(s); basically we take a regular triangle with side $d$ and cut off three regular triangles with sides $a$, $b$, and $c$ ($a \\le b \\le c$) from the corners. We count $(a, b, c, d)$ and note the fact that other than when $a + b + c = d$, each tuple is just one of two that describes the same hexagon."
   ]
  }
 ]
}