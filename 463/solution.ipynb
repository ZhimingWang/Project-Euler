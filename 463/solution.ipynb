{
 "nbformat": 4,
 "nbformat_minor": 2,
 "metadata": {
  "language_info": {
   "name": "python",
   "codemirror_mode": {
    "name": "ipython",
    "version": 3
   },
   "version": "3.8.0"
  },
  "orig_nbformat": 2,
  "file_extension": ".py",
  "mimetype": "text/x-python",
  "name": "python",
  "npconvert_exporter": "python",
  "pygments_lexer": "ipython3",
  "version": 3
 },
 "cells": [
  {
   "cell_type": "markdown",
   "execution_count": null,
   "metadata": {},
   "outputs": [],
   "source": [
    "$$f(4n)+f(4n+1)+f(4n+2)+f(4n+3)=f(n)+(2f(2n+1)-f(n))+f(2n+1)+(3f(2n+1)-2f(n))=6f(2n+1)-2f(n),$$\n",
    "\n",
    "so\n",
    "\n",
    "$$S(4n-1)=1+1+3+\\sum_{i=1}^{n-1}(6f(2i+1)-2f(i)).$$\n",
    "\n",
    "Note that\n",
    "\n",
    "$$\\sum_{i=1}^{n-1}f(2i+1)=S(2n-1)-S(n-1)-1,$$\n",
    "\n",
    "so\n",
    "\n",
    "$$S(4n-1)=5+6(S(2n-1)-S(n-1))-2S(n-1)=6S(2n-1)-8S(n-1)-1.$$"
   ]
  },
  {
   "cell_type": "code",
   "execution_count": 1,
   "metadata": {},
   "outputs": [
    {
     "name": "stdout",
     "output_type": "stream",
     "text": "808981553\n"
    }
   ],
   "source": [
    "#!/usr/bin/env python3\n",
    "\n",
    "import functools\n",
    "\n",
    "\n",
    "@functools.lru_cache(maxsize=None)\n",
    "def f(n):\n",
    "    if n == 1:\n",
    "        return 1\n",
    "    if n == 3:\n",
    "        return 3\n",
    "    if n % 2 == 0:\n",
    "        return f(n // 2)\n",
    "    if n % 4 == 1:\n",
    "        return 2 * f((n + 1) // 2) - f((n - 1) // 4)\n",
    "    else:\n",
    "        return 3 * f((n - 1) // 2) - 2 * f((n - 3) // 4)\n",
    "\n",
    "\n",
    "@functools.lru_cache(maxsize=None)\n",
    "def s(n):\n",
    "    if n <= 2:\n",
    "        return sum(f(i) for i in range(1, n + 1))\n",
    "    k = (n + 1) // 4\n",
    "    return 6 * s(2 * k - 1) - 8 * s(k - 1) - 1 + sum(f(i) for i in range(4 * k, n + 1))\n",
    "\n",
    "\n",
    "def main():\n",
    "    print(s(3 ** 37) % (10 ** 9))\n",
    "\n",
    "\n",
    "if __name__ == \"__main__\":\n",
    "    main()\n"
   ]
  }
 ]
}