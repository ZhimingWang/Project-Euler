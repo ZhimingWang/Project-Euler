{
 "nbformat": 4,
 "nbformat_minor": 2,
 "metadata": {
  "language_info": {
   "name": "python",
   "codemirror_mode": {
    "name": "ipython",
    "version": 3
   },
   "version": "3.8.0"
  },
  "orig_nbformat": 2,
  "file_extension": ".py",
  "mimetype": "text/x-python",
  "name": "python",
  "npconvert_exporter": "python",
  "pygments_lexer": "ipython3",
  "version": 3
 },
 "cells": [
  {
   "cell_type": "markdown",
   "execution_count": null,
   "metadata": {},
   "outputs": [],
   "source": [
    "If $p | n^2 + k^2$ and $p | (n+1)^2 + k^2$, then $p|2n+1$, so $n \\equiv (p-1)/2 \\pmod p$. Then $4k^2 + 4n^2 \\equiv 4k^2 + 1 \\pmod p$ is a multiple of $p$. Each step in the process is sufficient, so in fact $P(k)$ is simply the largest prime factor of $4k^2+1$.\n",
    "\n",
    "I then implemented a damn slow sieve algorithm in goddamn Python that took ~15min. Probably directly sieving $1 \\pmod 4$ small primes would be faster."
   ]
  },
  {
   "cell_type": "code",
   "execution_count": 1,
   "metadata": {},
   "outputs": [
    {
     "name": "stdout",
     "output_type": "stream",
     "text": "progress: 100000\nprogress: 200000\nprogress: 300000\nprogress: 400000\nprogress: 500000\nprogress: 600000\nprogress: 700000\nprogress: 800000\nprogress: 900000\nprogress: 1000000\nprogress: 1100000\nprogress: 1200000\nprogress: 1300000\nprogress: 1400000\nprogress: 1500000\nprogress: 1600000\nprogress: 1700000\nprogress: 1800000\nprogress: 1900000\nprogress: 2000000\nprogress: 2100000\nprogress: 2200000\nprogress: 2300000\nprogress: 2400000\nprogress: 2500000\nprogress: 2600000\nprogress: 2700000\nprogress: 2800000\nprogress: 2900000\nprogress: 3000000\nprogress: 3100000\nprogress: 3200000\nprogress: 3300000\nprogress: 3400000\nprogress: 3500000\nprogress: 3600000\nprogress: 3700000\nprogress: 3800000\nprogress: 3900000\nprogress: 4000000\nprogress: 4100000\nprogress: 4200000\nprogress: 4300000\nprogress: 4400000\nprogress: 4500000\nprogress: 4600000\nprogress: 4700000\nprogress: 4800000\nprogress: 4900000\nprogress: 5000000\nprogress: 5100000\nprogress: 5200000\nprogress: 5300000\nprogress: 5400000\nprogress: 5500000\nprogress: 5600000\nprogress: 5700000\nprogress: 5800000\nprogress: 5900000\nprogress: 6000000\nprogress: 6100000\nprogress: 6200000\nprogress: 6300000\nprogress: 6400000\nprogress: 6500000\nprogress: 6600000\nprogress: 6700000\nprogress: 6800000\nprogress: 6900000\nprogress: 7000000\nprogress: 7100000\nprogress: 7200000\nprogress: 7300000\nprogress: 7400000\nprogress: 7500000\nprogress: 7600000\nprogress: 7700000\nprogress: 7800000\nprogress: 7900000\nprogress: 8000000\nprogress: 8100000\nprogress: 8200000\nprogress: 8300000\nprogress: 8400000\nprogress: 8500000\nprogress: 8600000\nprogress: 8700000\nprogress: 8800000\nprogress: 8900000\nprogress: 9000000\nprogress: 9100000\nprogress: 9200000\nprogress: 9300000\nprogress: 9400000\nprogress: 9500000\nprogress: 9600000\nprogress: 9700000\nprogress: 9800000\nprogress: 9900000\nprogress: 10000000\n238518915714422000\n"
    }
   ],
   "source": [
    "#!/usr/bin/env python3\n",
    "\n",
    "import sympy\n",
    "from miller_rabin import miller_rabin\n",
    "\n",
    "\n",
    "MODULUS = 10 ** 18\n",
    "\n",
    "\n",
    "def sieve_and_sum(N):\n",
    "    sieve = [[] for k in range(N + 1)]\n",
    "    total = 0\n",
    "    report_interval = 10 ** 5\n",
    "    for k in range(1, N + 1):\n",
    "        if k % report_interval == 0:\n",
    "            print(f\"progress: {k}\")\n",
    "        divisors = sieve[k]\n",
    "        q = 4 * k * k + 1\n",
    "        max_p = 0\n",
    "        for p in divisors:\n",
    "            while q % p == 0:\n",
    "                q //= p\n",
    "            if p > max_p:\n",
    "                max_p = p\n",
    "        if q < max_p:\n",
    "            # print(k, max_p)\n",
    "            total = (total + max_p) % MODULUS\n",
    "            continue\n",
    "        if miller_rabin(q):\n",
    "            factors = [q]\n",
    "        else:\n",
    "            factors = sorted(sympy.factorint(q))\n",
    "        # print(k, factors[-1])\n",
    "        total = (total + factors[-1]) % MODULUS\n",
    "        for p in factors:\n",
    "            for kk in range(k + p, N + 1, p):\n",
    "                sieve[kk].append(p)\n",
    "    return total\n",
    "\n",
    "\n",
    "def main():\n",
    "    print(sieve_and_sum(10 ** 7))\n",
    "\n",
    "\n",
    "if __name__ == \"__main__\":\n",
    "    main()\n"
   ]
  }
 ]
}