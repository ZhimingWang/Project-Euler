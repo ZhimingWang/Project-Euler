{
 "nbformat": 4,
 "nbformat_minor": 2,
 "metadata": {
  "language_info": {
   "name": "python",
   "codemirror_mode": {
    "name": "ipython",
    "version": 3
   }
  },
  "orig_nbformat": 2,
  "file_extension": ".py",
  "mimetype": "text/x-python",
  "name": "python",
  "npconvert_exporter": "python",
  "pygments_lexer": "ipython3",
  "version": 3
 },
 "cells": [
  {
   "cell_type": "markdown",
   "execution_count": null,
   "metadata": {},
   "outputs": [],
   "source": [
    "Let $2n = 1000$. We randomly select numbers from $[0,\\, 2n-1]$ (with replacement) until either we select $n$ twice, or we have one of the pairs $(1,\\, 2n-1)$, ... $(n-1,\\, n+1)$. The number $0$ is useless. Since the pairs are all equivalent, we have $2n+2$ states: let state $2k$ be the state where we have picked $k$ distinct unpaired numbers but not $n$ ($k \\le n-1$); let state $2k+1$ be the same as state $2k$ except $n$ has been picked exactly once; and state $2n+1$ be the remaining, i.e. the \"done\" state. Then we can easily calculate the transition matrix:\n",
    "\n",
    "$$\n",
    "\\begin{aligned}\n",
    "t_{2k,\\,2k} &= \\frac{k+1}{2n},\\\\\n",
    "t_{2k,\\,2k+1} &= \\frac{1}{2n},\\\\\n",
    "t_{2k,\\,2k+2} &= 1 - \\frac{k+1}{n},\\\\\n",
    "t_{2k,\\,2n+1} &= \\frac{k}{2n},\\\\\n",
    "t_{2k+1,\\,2k+1} &= \\frac{k+1}{2n},\\\\\n",
    "t_{2k+1,\\,2k+3} &= 1 - \\frac{k+1}{n},\\\\\n",
    "t_{2k+1,\\,2n+1} &= \\frac{k+1}{2n},\\\\\n",
    "t_{2n+1,\\,2n+1} &= 1,\\\\\n",
    "\\end{aligned}\n",
    "$$\n",
    "\n",
    "where $0 \\le k \\le n-1$, and for $k=n-1$ we ignore the $t_{2k+1,\\,2k+3}$ line. With this transition matrix $t$ and the starting vector $v$ which is a unit vector in state 0, the probability $p_j$ of being in the \"done\" state after $j$ steps is $(vt^j)_{2n+1}$. The expectation we're after is\n",
    "\n",
    "$$E = \\sum_{j=0}^\\infty j(p_j - p_{j-1}).$$\n",
    "\n",
    "We calculate each term in the sum until we reach the desired precision (and the rest of the terms are irrelevant).\n",
    "\n",
    "Mathematica is a safe bet for matrix calculations (NumPy matrix or SciPy sparse matrix is another choice). Do note that Mathematica is 1-indexed so we need to shift all indices by 1."
   ]
  }
 ]
}