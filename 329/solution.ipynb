{
 "nbformat": 4,
 "nbformat_minor": 2,
 "metadata": {
  "language_info": {
   "name": "python",
   "codemirror_mode": {
    "name": "ipython",
    "version": 3
   },
   "version": "3.8.0"
  },
  "orig_nbformat": 2,
  "file_extension": ".py",
  "mimetype": "text/x-python",
  "name": "python",
  "npconvert_exporter": "python",
  "pygments_lexer": "ipython3",
  "version": 3
 },
 "cells": [
  {
   "cell_type": "markdown",
   "execution_count": null,
   "metadata": {},
   "outputs": [],
   "source": [
    "Brute force with a bit of feel good memoization that is hit 5% of the time. 14s. Not much to say."
   ]
  },
  {
   "cell_type": "code",
   "execution_count": 1,
   "metadata": {},
   "outputs": [
    {
     "name": "stdout",
     "output_type": "stream",
     "text": "progress: 0\nprogress: 100\nprogress: 200\nprogress: 300\nprogress: 400\n199740353/29386561536000\n"
    }
   ],
   "source": [
    "#!/usr/bin/env python3\n",
    "\n",
    "import collections\n",
    "import functools\n",
    "\n",
    "from gmpy2 import mpq\n",
    "from miller_rabin import miller_rabin\n",
    "\n",
    "\n",
    "N = 500\n",
    "SEQUENCE = \"PPPPNNPPPNPPNPN\"\n",
    "\n",
    "\n",
    "@functools.lru_cache(maxsize=None)\n",
    "def prob(squares, initial_pos):\n",
    "    rbound = len(squares) - 1\n",
    "    max_step = len(SEQUENCE) - 1\n",
    "    q = collections.deque()\n",
    "    q.append((0, initial_pos, mpq(1)))\n",
    "    total_prob = mpq(0)\n",
    "    while q:\n",
    "        step, pos, p = q.popleft()\n",
    "        if (squares[pos] and SEQUENCE[step] == \"P\") or (\n",
    "            not squares[pos] and SEQUENCE[step] == \"N\"\n",
    "        ):\n",
    "            p *= mpq(2, 3)\n",
    "        else:\n",
    "            p *= mpq(1, 3)\n",
    "        if step == max_step:\n",
    "            total_prob += p\n",
    "            continue\n",
    "        step += 1\n",
    "        if pos == 0:\n",
    "            q.append((step, 1, p))\n",
    "        elif pos == rbound:\n",
    "            q.append((step, pos - 1, p))\n",
    "        else:\n",
    "            p *= mpq(1, 2)\n",
    "            q.append((step, pos + 1, p))\n",
    "            q.append((step, pos - 1, p))\n",
    "    return total_prob\n",
    "\n",
    "\n",
    "def main():\n",
    "    squares = [miller_rabin(i) for i in range(1, N + 1)]\n",
    "    extent = len(SEQUENCE) - 1\n",
    "    total_prob = mpq(0)\n",
    "    for i in range(N):\n",
    "        if i % 100 == 0:\n",
    "            print(f\"progress: {i}\")\n",
    "        left = max(0, i - extent)\n",
    "        right = min(N, i + extent + 1)\n",
    "        total_prob += prob(tuple(squares[left:right]), i - left) / N\n",
    "    print(total_prob)\n",
    "\n",
    "\n",
    "if __name__ == \"__main__\":\n",
    "    main()\n"
   ]
  }
 ]
}