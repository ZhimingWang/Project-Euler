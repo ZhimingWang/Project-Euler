{
 "nbformat": 4,
 "nbformat_minor": 2,
 "metadata": {
  "language_info": {
   "name": "python",
   "codemirror_mode": {
    "name": "ipython",
    "version": 3
   }
  },
  "orig_nbformat": 2,
  "file_extension": ".py",
  "mimetype": "text/x-python",
  "name": "python",
  "npconvert_exporter": "python",
  "pygments_lexer": "ipython3",
  "version": 3
 },
 "cells": [
  {
   "cell_type": "markdown",
   "execution_count": null,
   "metadata": {},
   "outputs": [],
   "source": [
    "Let $q_k = p_1 \\cdots p_k$. It's easy to show\n",
    "\n",
    "$$A_k = \\lambda_k q_{k-1} + A_{k-1},$$\n",
    "\n",
    "where\n",
    "\n",
    "$$\\lambda_k \\equiv (k - A_{k-1}) q_{k-1}^{-1} \\pmod{p_k}$$\n",
    "\n",
    "($\\lambda_k$ is the smallest non-negative integer in the above remainder class.)\n",
    "\n",
    "Then we can calculate all $\\lambda_k$ by calculating $\\{q_i \\mod p_k\\}$ and $\\{A_i \\mod p_k\\}$ in a loop for each $k$. And for each prime $p_k$, we again calculate $\\{A_i \\mod p_k\\}$ up to $A_{k-1}$ in a loop using pre-calculated $\\{\\lambda_i\\}$ in order to determine if $p_k$ is ever a divisor of some term in $A$. (In fact, the latter can be rolled into the $\\lambda_k$ calculating phase if we want to.)"
   ]
  }
 ]
}