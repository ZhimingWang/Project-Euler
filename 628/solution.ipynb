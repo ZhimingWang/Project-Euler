{
 "nbformat": 4,
 "nbformat_minor": 2,
 "metadata": {
  "language_info": {
   "name": "python",
   "codemirror_mode": {
    "name": "ipython",
    "version": 3
   }
  },
  "orig_nbformat": 2,
  "file_extension": ".py",
  "mimetype": "text/x-python",
  "name": "python",
  "npconvert_exporter": "python",
  "pygments_lexer": "ipython3",
  "version": 3
 },
 "cells": [
  {
   "cell_type": "markdown",
   "execution_count": null,
   "metadata": {},
   "outputs": [],
   "source": [
    "Apparently a position is not open iff the main diagonal of a corner subgrid is completely occupied. When we fix the diagonal of such a $k \\times k$ subgrid, there are $(n-k)!$ choices, so the total number of non-open positions is\n",
    "\n",
    "$$2\\sum_{k=1}^{n-1}k! + 0!$$\n",
    "\n",
    "minus double counting. Double counting happens when main diagonals of a bottom left corner $k_1 \\times k_1$ subgrid and a upper right corner $k_2 \\times k_2$ subgrid are both occupied, in which case we have $(n - k_1 - k_2)!$ double counts. It's easy to see the total double count is\n",
    "\n",
    "$$\\sum_{k=0}^{n-2}(n-1-k) k!.$$\n",
    "\n",
    "Therefore, letting $S_n = \\sum_{k=1}^n k!$, we have\n",
    "\n",
    "$$\n",
    "\\begin{aligned}\n",
    "f(n) &= n! - 2\\sum_{k=1}^{n-1}k! - 0! + \\sum_{k=0}^{n-2}(n-1-k)k!\\\\\n",
    "&= n! - 2S_{n-1} - 1 + n(S_{n-2} + 1) - S_{n-1} \\\\\n",
    "&= n((n-1)! + S_{n-2}) - 3S_{n-1} + n-1\\\\\n",
    "&= (n-3)S_{n-1} + (n-1).\n",
    "\\end{aligned}\n",
    "$$"
   ]
  }
 ]
}