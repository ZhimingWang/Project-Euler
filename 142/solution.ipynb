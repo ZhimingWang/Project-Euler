{
 "nbformat": 4,
 "nbformat_minor": 2,
 "metadata": {
  "language_info": {
   "name": "python",
   "codemirror_mode": {
    "name": "ipython",
    "version": 3
   },
   "version": "3.8.0"
  },
  "orig_nbformat": 2,
  "file_extension": ".py",
  "mimetype": "text/x-python",
  "name": "python",
  "npconvert_exporter": "python",
  "pygments_lexer": "ipython3",
  "version": 3
 },
 "cells": [
  {
   "cell_type": "markdown",
   "execution_count": null,
   "metadata": {},
   "outputs": [],
   "source": [
    "Fairly straightforward bruteforce problem. Let $x+y,\\ x-y,\\ x+z,\\ y+z,\\ y-z$ be $a^2,\\ b^2,\\ c^2,\\ d^2,\\ e^2,\\ f^2$ respectively. Then\n",
    "\n",
    "$$f^2 = a^2 - c^2,\\ b^2 = c^2 - e^2,\\ d^2 = a^2 - e^2.$$\n",
    "\n",
    "Furthermore, $x = (a^2 + b^2)/2$, so\n",
    "\n",
    "$$e^2 = b^2 - c^2 \\equiv a^2 - c^2 \\mod 2.$$\n",
    "\n",
    "We simply brute force $a > c > e$ with $e \\equiv a - c \\mod 2$."
   ]
  },
  {
   "cell_type": "code",
   "execution_count": 1,
   "metadata": {},
   "outputs": [
    {
     "name": "stdout",
     "output_type": "stream",
     "text": "x = 434657, y = 420968, z = 150568, x + y + z = 1006193\n"
    }
   ],
   "source": [
    "import math\n",
    "\n",
    "\n",
    "def is_square(n):\n",
    "    return int(math.sqrt(n)) ** 2 == n\n",
    "\n",
    "\n",
    "def main():\n",
    "    a = 0\n",
    "    while True:\n",
    "        a += 1\n",
    "        a2 = a * a\n",
    "        for c in range(2, a):\n",
    "            c2 = c * c\n",
    "            f2 = a2 - c2\n",
    "            if not is_square(f2):\n",
    "                continue\n",
    "            # e has the same parity as f.\n",
    "            parity = (f2 + 1) % 2 + 1\n",
    "            for e in range(parity, c, 2):\n",
    "                e2 = e * e\n",
    "                d2 = a2 - e2\n",
    "                if c2 <= d2 or not is_square(d2):\n",
    "                    continue\n",
    "                b2 = c2 - e2\n",
    "                if not is_square(b2):\n",
    "                    continue\n",
    "                x = (a2 + b2) // 2\n",
    "                y = (a2 - b2) // 2\n",
    "                z = (c2 - d2) // 2\n",
    "                print(f\"x = {x}, y = {y}, z = {z}, x + y + z = {x + y + z}\")\n",
    "                return\n",
    "\n",
    "\n",
    "main()"
   ]
  },
  {
   "cell_type": "code",
   "execution_count": null,
   "metadata": {},
   "outputs": [],
   "source": []
  }
 ]
}