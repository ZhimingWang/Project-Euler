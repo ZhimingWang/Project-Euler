{
 "nbformat": 4,
 "nbformat_minor": 2,
 "metadata": {
  "language_info": {
   "name": "python",
   "codemirror_mode": {
    "name": "ipython",
    "version": 3
   }
  },
  "orig_nbformat": 2,
  "file_extension": ".py",
  "mimetype": "text/x-python",
  "name": "python",
  "npconvert_exporter": "python",
  "pygments_lexer": "ipython3",
  "version": 3
 },
 "cells": [
  {
   "cell_type": "markdown",
   "execution_count": null,
   "metadata": {},
   "outputs": [],
   "source": [
    "Straightforward BFS with tree pruning.\n",
    "\n",
    "Place everything on the complex plane, and the bottomleft corner of the starting square at the origin. During every step, given a segment from point $a$ to $b$ as \"base\" (the hypotenuse of the triangle to be constructed), we can derive the coordinates of the new triangle vertice as well as the four topmost (as viewed from the base) vertices of the new squares:\n",
    "\n",
    "$$c = (0.64 + 0.48i) \\delta + a,$$\n",
    "$$d = (-0.48 + 0.64i) \\delta + a,$$\n",
    "$$e = (0.16 + 1.12i) \\delta + a,$$\n",
    "$$f = (-0.12 - 0.84i) \\delta + b,$$\n",
    "$$g = (-0.48 - 0.36i) \\delta + b,$$\n",
    "\n",
    "where $\\delta = b - a$. As for tree pruning, we can easily find a lenient bounding box after a few steps: for the same base segment $a$ to $b$, one bounding box for all the derived fractal can be given by four vertices:\n",
    "\n",
    "$$(3.15 + 3.35i) \\delta + a,\\ (-3.25 + 3.35i) \\delta + a,\\ (-3.25 - 1.12i) \\delta + a,\\ (3.15 - 1.12i) \\delta + a.$$\n",
    "\n",
    "If the bounding box falls within our current bounds, then the whole subtree can be pruned from the search tree.\n",
    "\n",
    "The result is reached within 85 steps instantly."
   ]
  }
 ]
}