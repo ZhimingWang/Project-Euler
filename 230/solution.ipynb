{
 "nbformat": 4,
 "nbformat_minor": 2,
 "metadata": {
  "language_info": {
   "name": "python",
   "codemirror_mode": {
    "name": "ipython",
    "version": 3
   },
   "version": "3.8.0"
  },
  "orig_nbformat": 2,
  "file_extension": ".py",
  "mimetype": "text/x-python",
  "name": "python",
  "npconvert_exporter": "python",
  "pygments_lexer": "ipython3",
  "version": 3
 },
 "cells": [
  {
   "cell_type": "markdown",
   "execution_count": null,
   "metadata": {},
   "outputs": [],
   "source": [
    "Trivial recursion algorithm."
   ]
  },
  {
   "cell_type": "code",
   "execution_count": 1,
   "metadata": {},
   "outputs": [
    {
     "name": "stdout",
     "output_type": "stream",
     "text": "850481152593119296\n"
    }
   ],
   "source": [
    "#!/usr/bin/env python3\n",
    "\n",
    "import functools\n",
    "import math\n",
    "\n",
    "\n",
    "A = \"1415926535897932384626433832795028841971693993751058209749445923078164062862089986280348253421170679\"\n",
    "B = \"8214808651328230664709384460955058223172535940812848111745028410270193852110555964462294895493038196\"\n",
    "BASE_LENGTH = len(A)\n",
    "\n",
    "\n",
    "@functools.lru_cache(maxsize=None)\n",
    "def fibo(n):\n",
    "    if n <= 2:\n",
    "        return 1\n",
    "    else:\n",
    "        return fibo(n - 1) + fibo(n - 2)\n",
    "\n",
    "\n",
    "# DD(k, l) returns the l-th digit of the k-th term of FAB. l and k are\n",
    "# both 1-indexed.\n",
    "def DD(k, l):\n",
    "    if k == 1:\n",
    "        return int(A[l - 1])\n",
    "    if k == 2:\n",
    "        return int(B[l - 1])\n",
    "    splitpos = fibo(k - 2) * BASE_LENGTH\n",
    "    if l <= splitpos:\n",
    "        return DD(k - 2, l)\n",
    "    else:\n",
    "        return DD(k - 1, l - splitpos)\n",
    "\n",
    "\n",
    "def D(n):\n",
    "    m = math.ceil(n / BASE_LENGTH)\n",
    "    k = 1\n",
    "    while fibo(k) < m:\n",
    "        k += 1\n",
    "    return DD(k, n)\n",
    "\n",
    "\n",
    "def main():\n",
    "    print(sum((10 ** n) * D((127 + 19 * n) * (7 ** n)) for n in range(18)))\n",
    "\n",
    "\n",
    "if __name__ == \"__main__\":\n",
    "    main()\n"
   ]
  }
 ]
}