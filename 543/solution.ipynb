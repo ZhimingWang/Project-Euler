{
 "nbformat": 4,
 "nbformat_minor": 2,
 "metadata": {
  "language_info": {
   "name": "python",
   "codemirror_mode": {
    "name": "ipython",
    "version": 3
   }
  },
  "orig_nbformat": 2,
  "file_extension": ".py",
  "mimetype": "text/x-python",
  "name": "python",
  "npconvert_exporter": "python",
  "pygments_lexer": "ipython3",
  "version": 3
 },
 "cells": [
  {
   "cell_type": "markdown",
   "execution_count": null,
   "metadata": {},
   "outputs": [],
   "source": [
    "According to Goldbach's conjecture, any even $n \\ge 4$ is a sum of two primes, so any even $n \\ge 6$ is the sum of two primes plus 2, and any odd $n \\ge 7$ is the sum of two primes plus 3, so apparently $P(n,3)=1 \\iff n \\ge 6$. Similarly, $P(n,k)=1 \\iff n \\ge 2k$ for all $k \\ge 3$. As for $k = 1$, $P(n,k)=1$ iff $n$ is prime; for $k = 2$, $P(n,k) = 1$ iff $n$ is even and $\\ge 4$, or $n$ is odd and $n-2$ is prime. Therefore, for $n \\ge 4$,\n",
    "\n",
    "$$\n",
    "S(n) = \\sum_{p\\le n}1 + \\left(\\left\\lfloor\\frac{n}{2}\\right\\rfloor - 1\\right) + \\sum_{3\\le p \\le n-2}1 + \\left(\\left\\lceil\\frac{n}{2}\\right\\rceil - 2\\right)\\left(\\left\\lfloor\\frac{n}{2}\\right\\rfloor - 2\\right)\n",
    "= \\pi(n) + \\pi(n-2) + \\left(\\left\\lceil\\frac{n}{2}\\right\\rceil - 1\\right)\\left(\\left\\lfloor\\frac{n}{2}\\right\\rfloor - 2\\right).\n",
    "$$"
   ]
  }
 ]
}