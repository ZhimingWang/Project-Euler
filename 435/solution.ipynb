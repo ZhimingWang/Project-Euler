{
 "nbformat": 4,
 "nbformat_minor": 2,
 "metadata": {
  "language_info": {
   "name": "python",
   "codemirror_mode": {
    "name": "ipython",
    "version": 3
   }
  },
  "orig_nbformat": 2,
  "file_extension": ".py",
  "mimetype": "text/x-python",
  "name": "python",
  "npconvert_exporter": "python",
  "pygments_lexer": "ipython3",
  "version": 3
 },
 "cells": [
  {
   "cell_type": "markdown",
   "execution_count": null,
   "metadata": {},
   "outputs": [],
   "source": [
    "By rearranging $(x^2+x)F_n(x)$ it's very easy to show\n",
    "\n",
    "$$F_n(x) = \\frac{f_n x^{n+2} + f_{n+1} x^{n+1} - x}{x^2+x-1}.$$\n",
    "\n",
    "Therefore, in order to calculate $F_n(x)$ mod $m$, we simply calculate $f_n$, $f_{n+1}$, $x^{n+2}$, $x^{n+1}$ mod $(x^2+x-1)m$, then plug in. The Fibonacci numbers are of course calculated using matrix power:\n",
    "\n",
    "$$\n",
    "\\begin{pmatrix}\n",
    "f_{n-1} & f_n \\\\\n",
    "f_n & f_{n+1}\n",
    "\\end{pmatrix}\n",
    "=\n",
    "\\begin{pmatrix}\n",
    "0 & 1 \\\\\n",
    "1 & 1\n",
    "\\end{pmatrix}^n\n",
    "$$\n",
    "\n",
    "Mathematica has all the batteries included so we take advantage of that."
   ]
  }
 ]
}