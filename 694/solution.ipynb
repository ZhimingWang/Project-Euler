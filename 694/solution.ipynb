{
 "nbformat": 4,
 "nbformat_minor": 2,
 "metadata": {
  "language_info": {
   "name": "python",
   "codemirror_mode": {
    "name": "ipython",
    "version": 3
   }
  },
  "orig_nbformat": 2,
  "file_extension": ".py",
  "mimetype": "text/x-python",
  "name": "python",
  "npconvert_exporter": "python",
  "pygments_lexer": "ipython3",
  "version": 3
 },
 "cells": [
  {
   "cell_type": "markdown",
   "execution_count": null,
   "metadata": {},
   "outputs": [],
   "source": [
    "Easy one. Already solved by one hundred people when I saw it...\n",
    "\n",
    "Apparently\n",
    "\n",
    "$$S(n) = \\sum_{d \\le n\\text{ is cube-full}} \\left\\lfloor \\frac{n}{d} \\right\\rfloor,$$\n",
    "\n",
    "so we just need to find all cube-full numbers $\\le n$. Note that each cube-full number can be uniquely written in the form $a^3 p_1^{k_1} \\cdots p_t^{k_t}$ where $p_i \\mid a$ and $k_i \\le 2$. So we just iterate over $a \\le \\sqrt[3]{n}$ for each $a$ generate all corresponding cube-full numbers via BFS.\n",
    "\n",
    "C++ implementation takes <1s."
   ]
  }
 ]
}