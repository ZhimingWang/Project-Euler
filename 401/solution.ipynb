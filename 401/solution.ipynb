{
 "nbformat": 4,
 "nbformat_minor": 2,
 "metadata": {
  "language_info": {
   "name": "python",
   "codemirror_mode": {
    "name": "ipython",
    "version": 3
   }
  },
  "orig_nbformat": 2,
  "file_extension": ".py",
  "mimetype": "text/x-python",
  "name": "python",
  "npconvert_exporter": "python",
  "pygments_lexer": "ipython3",
  "version": 3
 },
 "cells": [
  {
   "cell_type": "markdown",
   "execution_count": null,
   "metadata": {},
   "outputs": [],
   "source": [
    "For $i \\le \\sqrt{N}$, we add the sum of all $i^2$, which is $i^2 \\left\\lfloor \\frac{N}{i} \\right\\rfloor$. For divisors $> \\sqrt{N}$, we instead count the sum of squares of divisors that appear $i$ times ($i \\le \\sqrt{N}$), which is $i \\cdot \\left( \\sum_{j=1}^{\\left\\lfloor \\frac{N}{i} \\right\\rfloor} j^2 - \\sum_{j=1}^{\\left\\lfloor \\frac{N}{i+1} \\right\\rfloor} j^2 \\right)$.\n",
    "\n",
    "My C++ implementation takes ~22s."
   ]
  }
 ]
}