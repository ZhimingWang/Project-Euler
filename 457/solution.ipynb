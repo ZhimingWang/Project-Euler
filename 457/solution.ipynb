{
 "nbformat": 4,
 "nbformat_minor": 2,
 "metadata": {
  "language_info": {
   "name": "python",
   "codemirror_mode": {
    "name": "ipython",
    "version": 3
   }
  },
  "orig_nbformat": 2,
  "file_extension": ".py",
  "mimetype": "text/x-python",
  "name": "python",
  "npconvert_exporter": "python",
  "pygments_lexer": "ipython3",
  "version": 3
 },
 "cells": [
  {
   "cell_type": "markdown",
   "execution_count": null,
   "metadata": {},
   "outputs": [],
   "source": [
    "The solutions to the equation $x^2 - 3x - 1 \\equiv 0 \\pmod{p^2}$ are\n",
    "\n",
    "$$x \\equiv 2^{-1} (3 + \\sqrt{13}) \\pmod{p^2},$$\n",
    "\n",
    "where $\\sqrt{13}$ is any square root of 13 mod $p^2$. Note that $\\left(\\frac{p}{13}\\right) = 1$ by quadratic reciprocity, so $p \\equiv 1,3,4,9,10,13\\pmod{13}$ ($p = 13$ doesn't work since 13 obviously isn't a quadratic residue mod 169). This turns out to provide an imperceptible speedup, and is largely pointless.\n",
    "\n",
    "The rest is modular root finding via FLINT. One gotcha is that $p^2$ can already be as long as 47-bit, so modular multiplication doesn't work within 64-bit; we have to use special mulmod to get to the roots of the polynomial.\n",
    "\n",
    "(I stupidly sabotaged myself with a garbage statement and wasted a lot of time on this... When I'm testing out `n_sqrtmod_primepow`, in order to make the program compile (with `-Wall -Werrors`) I added a statement `sum += x1 + x2` so that the `sum` variable isn't unused. Then I forgot to kill that statement... Then I was bewildered by why the sum of $R(p)$ plus the sum of all those square roots wasn't correct for like twenty minutes...)"
   ]
  }
 ]
}