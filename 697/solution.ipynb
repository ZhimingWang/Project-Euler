{
 "nbformat": 4,
 "nbformat_minor": 2,
 "metadata": {
  "language_info": {
   "name": "python",
   "codemirror_mode": {
    "name": "ipython",
    "version": 3
   }
  },
  "orig_nbformat": 2,
  "file_extension": ".py",
  "mimetype": "text/x-python",
  "name": "python",
  "npconvert_exporter": "python",
  "pygments_lexer": "ipython3",
  "version": 3
 },
 "cells": [
  {
   "cell_type": "markdown",
   "execution_count": null,
   "metadata": {},
   "outputs": [],
   "source": [
    "Easy problem, made unnecessarily complicated by me since statistics is my weak suit.\n",
    "\n",
    "Apparently the pdf for $-\\ln X_i$ is\n",
    "\n",
    "$$\n",
    "f_X(x) =\n",
    "\\begin{cases}\n",
    "e^{-x}, && x \\ge 0,\\\\\n",
    "0, && x < 0.\n",
    "\\end{cases}\n",
    "$$\n",
    "\n",
    "Then the pdf for the sum of $N$ independent $X_i$ is $f_X$ convolved by itself $N-1$ times, which we can show to begin\n",
    "\n",
    "$$\n",
    "f_{S_X}(x) = {f_X}_*^{(N-1)} =\n",
    "\\begin{cases}\n",
    "\\frac{e^{-x} x^{N-1}}{(N-1)!}, && x \\ge 0,\\\\\n",
    "0, && x < 0.\n",
    "\\end{cases}\n",
    "$$\n",
    "\n",
    "For simplicity we let $n = N-1$. The cumulative distribution function is actually given by the incomplete gamma function, but since I'm statistically challenged I didn't know that, so I wrote out the whole sum:\n",
    "\n",
    "$$1 - \\frac{e^{-x} x^n}{n!} \\left( \\frac{n}{x} + \\frac{n(n-1)}{x^2} + \\frac{n(n-1)(n-2)}{x^3} + \\cdots + \\frac{n!}{x^n} \\right)$$\n",
    "\n",
    "for $x \\ge 0$. We want to find $c$ s.t. for $x = \\ln c$ the above gives 0.75, i.e., makes the subtracted term 0.25. Using Sterling's approximation we have\n",
    "\n",
    "$$\\frac{1}{\\sqrt{2\\pi n}} e^{n-x} \\left(\\frac{x}{n}\\right)^n \\left( \\frac{n}{x} + \\frac{n(n-1)}{x^2} + \\frac{n(n-1)(n-2)}{x^3} + \\cdots + \\frac{n!}{x^n} \\right).$$\n",
    "\n",
    "This can be calculated exactly in $O(n)$, or maybe even faster approximately."
   ]
  }
 ]
}