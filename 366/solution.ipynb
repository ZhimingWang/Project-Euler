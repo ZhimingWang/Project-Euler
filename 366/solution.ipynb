{
 "nbformat": 4,
 "nbformat_minor": 2,
 "metadata": {
  "language_info": {
   "name": "python",
   "codemirror_mode": {
    "name": "ipython",
    "version": 3
   },
   "version": "3.8.0"
  },
  "orig_nbformat": 2,
  "file_extension": ".py",
  "mimetype": "text/x-python",
  "name": "python",
  "npconvert_exporter": "python",
  "pygments_lexer": "ipython3",
  "version": 3
 },
 "cells": [
  {
   "cell_type": "markdown",
   "execution_count": null,
   "metadata": {},
   "outputs": [],
   "source": [
    "Problem's not hard.\n",
    "\n",
    "There's an obvious DP approach for exploration: consider `m(n,k) = (winning, max_take)` which gives whether a starting state of n stones, allowing up to k stones to be taken is a winning state, and if so, the max number of stones that can be taken on the first turn. Then it can be calculated recursively.\n",
    "\n",
    "The above approach lets us easily calculate $M(n)$ up to about 1000 to notice the pattern: Fibonacci numbers are losing positions, and $n - M(n)$ between two Fibonacci numbers follow a simple pattern that's best explained by a moderately complex sample range: $610 = F_{15}$ to $986 = F_{16} - 1$.\n",
    "\n",
    "- $n \\in [610, 914]$: $n - M(n) = 610$;\n",
    "- $n \\in [915, 959]$ ($915 = 610 + \\lceil 610 / 2 \\rceil$): $n - M(n) = 843 = 610 + 233 = F_{15} + F_{13}$;\n",
    "- $n \\in [960, 976]$ ($960 = 843 + \\lceil 233 / 2 \\rceil$): $n - M(n) = 932 = 843 + 89 = F_{15} + F_{13} + F_{11}$;\n",
    "- $n \\in [977, 982]$ ($977 = 932 + \\lceil 89 / 2 \\rceil$): $n - M(n) = 966 = 932 + 34 = F_{15} + F_{13} + F_{11} + F_{9}$;\n",
    "- $n \\in [983, 985]$ ($983 = 966 + \\lceil 34 / 2 \\rceil$): $n - M(n) = 979 = 966 + 13 = F_{15} + F_{13} + F_{11} + F_{9} + F_{7}$;\n",
    "- $n \\in [986, 986]$ ($986 = 979 + \\lceil 13 / 2 \\rceil$): $n - M(n) = 984 = 979 + 5 = F_{15} + F_{13} + F_{11} + F_{9} + F_{7} + F_{5}$."
   ]
  },
  {
   "cell_type": "code",
   "execution_count": 1,
   "metadata": {},
   "outputs": [
    {
     "name": "stdout",
     "output_type": "stream",
     "text": "88351299\n"
    }
   ],
   "source": [
    "#!/usr/bin/env python3\n",
    "\n",
    "import functools\n",
    "\n",
    "\n",
    "# DP approach: m(n,k) = (winning, max_take) gives whether a starting\n",
    "# state of n stones, allowing up to k stones to be taken is a winning\n",
    "# state, and if so, the max number of stones that can be taken on the\n",
    "# first turn.\n",
    "@functools.lru_cache(maxsize=None)\n",
    "def m(n, k):\n",
    "    if n == 0:\n",
    "        return (False, 0)\n",
    "    if n <= k:\n",
    "        return (True, n)\n",
    "    for i in range(k, 0, -1):\n",
    "        if not m(n - i, 2 * i)[0]:\n",
    "            return (True, i)\n",
    "    return (False, 0)\n",
    "\n",
    "\n",
    "def consecutive_integers_sum(start, length):\n",
    "    return (2 * start + length - 1) * length // 2\n",
    "\n",
    "\n",
    "def sum_m(n):\n",
    "    fibo = [1, 1]\n",
    "    while True:\n",
    "        f = fibo[-1] + fibo[-2]\n",
    "        fibo.append(f)\n",
    "        if f > n:\n",
    "            break\n",
    "    total = 0\n",
    "    for i, f in enumerate(fibo):\n",
    "        if f == 1:\n",
    "            continue\n",
    "        lower = f\n",
    "        upper = min(fibo[i + 1], n + 1)\n",
    "        losing = f\n",
    "        j = i\n",
    "        while True:\n",
    "            # print(lower, losing, lower - losing)\n",
    "            new_lower = min(losing + (fibo[j] + 1) // 2, upper)\n",
    "            total += consecutive_integers_sum(lower - losing, new_lower - lower)\n",
    "            if new_lower >= upper:\n",
    "                break\n",
    "            j -= 2\n",
    "            losing += fibo[j]\n",
    "            lower = new_lower\n",
    "        if upper > n:\n",
    "            break\n",
    "    return total\n",
    "\n",
    "\n",
    "def main():\n",
    "    # print(sum(m(i, i - 1)[1] for i in range(2, 100)))\n",
    "    print(sum_m(10 ** 18) % (10 ** 8))\n",
    "\n",
    "\n",
    "if __name__ == \"__main__\":\n",
    "    main()\n"
   ]
  }
 ]
}