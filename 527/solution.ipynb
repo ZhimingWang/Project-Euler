{
 "nbformat": 4,
 "nbformat_minor": 2,
 "metadata": {
  "language_info": {
   "name": "python",
   "codemirror_mode": {
    "name": "ipython",
    "version": 3
   }
  },
  "orig_nbformat": 2,
  "file_extension": ".py",
  "mimetype": "text/x-python",
  "name": "python",
  "npconvert_exporter": "python",
  "pygments_lexer": "ipython3",
  "version": 3
 },
 "cells": [
  {
   "cell_type": "markdown",
   "execution_count": null,
   "metadata": {},
   "outputs": [],
   "source": [
    "$B(n)$ is easy to calculate: we have a binary search tree where only the last row isn't completely full, so\n",
    "\n",
    "$$B(n) = \\frac{1 \\cdot 1 + 2^1 \\cdot 2 + 2^2 \\cdot 3 + 2^3 \\cdot 4 + \\cdots}{n}.$$\n",
    "\n",
    "As for $R(n)$, we derive a recursive formula by considering the first guess. If it is $i + 1$, then among the $n$ possible secret numbers, there's one possibility of hitting the jackpot, on the left we have $i$ possibilities with expectation $B(i)$, and on the right we have $n-1-i$ possibilities with expectation $B(n-1-i)$. Therefore,\n",
    "\n",
    "$$R(n) = 1 + \\sum_{i=0}^{n-1} \\frac{i \\cdot R(i) + (n-1-i) \\cdot R(n-1-i)}{n} = 1 + \\frac{2}{n^2}\\sum_{i=1}^{n-1}i\\,R(i).$$\n",
    "\n",
    "Then for $n \\ge 2$,\n",
    "\n",
    "$$R(n) - R(n-1) =\\frac{2(n-1)}{n^2} R(n-1) - \\left(\\frac{2}{(n-1)^2} - \\frac{2}{n^2}\\right) \\sum_{i=1}^{n-2} i\\,R(i).$$\n",
    "\n",
    "Let $S(n) = \\sum_{i=1}^{n-1} R(i)$, then\n",
    "\n",
    "$$R(n) = \\left(1 + \\frac{2(n-1)}{n^2}\\right)R(n-1) - \\left(\\frac{2}{(n-1)^2} - \\frac{2}{n^2}\\right)S(n-1),$$\n",
    "$$S(n) = S(n-1) + (n-1)R(n-1).$$\n",
    "\n",
    "Therefore $S(n)$ can be computed in linear time.\n",
    "\n",
    "The tricky thing about this problem is that `double` precision happens to yield a result that is off by ~$4.6 \\times 10^{-9}$, leading to exactly off-by-one in the final result... Switching to `long double` slows the implementation down by ~25%, finishing in ~38s."
   ]
  }
 ]
}