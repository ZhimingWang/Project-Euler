{
 "nbformat": 4,
 "nbformat_minor": 2,
 "metadata": {
  "language_info": {
   "name": "python",
   "codemirror_mode": {
    "name": "ipython",
    "version": 3
   }
  },
  "orig_nbformat": 2,
  "file_extension": ".py",
  "mimetype": "text/x-python",
  "name": "python",
  "npconvert_exporter": "python",
  "pygments_lexer": "ipython3",
  "version": 3
 },
 "cells": [
  {
   "cell_type": "markdown",
   "execution_count": null,
   "metadata": {},
   "outputs": [],
   "source": [
    "My first attempt was a sieve, but given the search space (not known until the problem was solved, but definitely much greater than $2^64$ which I was able to test within ~1min), it's way too slow, could take hours. The implementation (`solution2.cc`) doesn't lend itself well to parallelization, probably due to memory locality issues (just a guess, I'm not well versed in the low level multithreaded performance domain), so I could only use 2 threads.\n",
    "\n",
    "My second attempt uses BFS to generate all 47-smooth numbers and keep track of them in a pqueue. We record a hit whenever two consecutive pops differ only by 1. This is very fast.\n",
    "\n",
    "Of course, this algorithm doesn't really terminate and one has to believe they got the answer when no new number is generated after a while. People on the forum thread mentioned [Størmer's theorem](https://en.wikipedia.org/wiki/St%C3%B8rmer%27s_theorem) which I wasn't aware of that conclusively finds all the values."
   ]
  }
 ]
}