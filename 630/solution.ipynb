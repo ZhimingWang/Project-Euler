{
 "nbformat": 4,
 "nbformat_minor": 2,
 "metadata": {
  "language_info": {
   "name": "python",
   "codemirror_mode": {
    "name": "ipython",
    "version": 3
   },
   "version": "3.8.0"
  },
  "orig_nbformat": 2,
  "file_extension": ".py",
  "mimetype": "text/x-python",
  "name": "python",
  "npconvert_exporter": "python",
  "pygments_lexer": "ipython3",
  "version": 3
 },
 "cells": [
  {
   "cell_type": "markdown",
   "execution_count": null,
   "metadata": {},
   "outputs": [],
   "source": [
    "Every pair of two points $(a, b)$, $(c, d)$ define a line with the equation\n",
    "\n",
    "$$\\frac{d-b}{g} x + \\frac{a-c}{g}y + \\frac{bc-ad}{g} = 0$$\n",
    "\n",
    "where $g = \\mathrm{sgn}((d-b,a-c)) \\cdot \\gcd(d-b,a-c)$. Here we define the sign of a pair $\\mathrm{sgn}(x,y)$ to be the sign of the first nonzero term. Then we can simply group all lines by \"slope\" $\\left(\\frac{d-b}{g}, \\frac{a-c}{g}\\right)$ and deduplicate with the \"intercept\" $\\frac{bc-ad}{g}$. Note that the sign here is extremely important for normalization; without it $(1,1,1)$ and $(-1,-1,-1)$ are considered different lines. I wasted quite a few minutes on this when the problem is otherwise trivial.\n",
    "\n",
    "The Python implementation takes ~6s."
   ]
  },
  {
   "cell_type": "code",
   "execution_count": 1,
   "metadata": {},
   "outputs": [
    {
     "name": "stdout",
     "output_type": "stream",
     "text": "9669182880384\n"
    }
   ],
   "source": [
    "#!/usr/bin/env python3\n",
    "\n",
    "import collections\n",
    "import itertools\n",
    "import math\n",
    "\n",
    "\n",
    "def prng():\n",
    "    s = 290797\n",
    "    while True:\n",
    "        s = s * s % 50515093\n",
    "        yield s % 2000 - 1000\n",
    "\n",
    "\n",
    "def SL(points):\n",
    "    points = list(set(points))\n",
    "    n_points = len(points)\n",
    "    slope2intercept = collections.defaultdict(set)\n",
    "    for i in range(n_points):\n",
    "        a, b = points[i]\n",
    "        for j in range(i + 1, n_points):\n",
    "            c, d = points[j]\n",
    "            g = math.gcd(d - b, a - c)\n",
    "            alpha = (d - b) // g\n",
    "            beta = (a - c) // g\n",
    "            gamma = (b * c - a * d) // g\n",
    "            if alpha < 0 or alpha == 0 and beta < 0:\n",
    "                alpha, beta, gamma = -alpha, -beta, -gamma\n",
    "            slope2intercept[(alpha, beta)].add(gamma)\n",
    "    n_lines = 0\n",
    "    n_crossings = 0\n",
    "    for s in slope2intercept:\n",
    "        k = len(slope2intercept[s])\n",
    "        n_lines += k\n",
    "        if k > 1:\n",
    "            n_crossings -= k * (k - 1)\n",
    "    n_crossings += n_lines * (n_lines - 1)\n",
    "    return n_crossings\n",
    "\n",
    "\n",
    "def main():\n",
    "    g = prng()\n",
    "    points = [(next(g), next(g)) for _ in range(2500)]\n",
    "    print(SL(points))\n",
    "\n",
    "\n",
    "if __name__ == \"__main__\":\n",
    "    main()\n"
   ]
  }
 ]
}