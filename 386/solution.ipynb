{
 "nbformat": 4,
 "nbformat_minor": 2,
 "metadata": {
  "language_info": {
   "name": "python",
   "codemirror_mode": {
    "name": "ipython",
    "version": 3
   }
  },
  "orig_nbformat": 2,
  "file_extension": ".py",
  "mimetype": "text/x-python",
  "name": "python",
  "npconvert_exporter": "python",
  "pygments_lexer": "ipython3",
  "version": 3
 },
 "cells": [
  {
   "cell_type": "markdown",
   "execution_count": null,
   "metadata": {},
   "outputs": [],
   "source": [
    "For number of $n$ of degree $k$ (the number of prime divisors counting multiplicity), [the longest antichain](https://math.stackexchange.com/a/384268) is all divisors of degree $\\left\\lfloor\\frac{k}{2}\\right\\rfloor$. Therefore we only need to calculate this once for every combination of prime factor exponents. A C++ implementation of this clocks in at just under a minute."
   ]
  }
 ]
}