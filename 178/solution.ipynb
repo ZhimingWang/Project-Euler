{
 "nbformat": 4,
 "nbformat_minor": 2,
 "metadata": {
  "language_info": {
   "name": "python",
   "codemirror_mode": {
    "name": "ipython",
    "version": 3
   },
   "version": "3.8.0"
  },
  "orig_nbformat": 2,
  "file_extension": ".py",
  "mimetype": "text/x-python",
  "name": "python",
  "npconvert_exporter": "python",
  "pygments_lexer": "ipython3",
  "version": 3
 },
 "cells": [
  {
   "cell_type": "markdown",
   "execution_count": null,
   "metadata": {},
   "outputs": [],
   "source": [
    "Consider $f(l,\\, d,\\, a,\\, b)$ which is the number of $a$-to-$b$-digital (covering all digits $a$, $a+1$, ..., $b$) numbers of length $l$ starting with digit $d$. Then it's very easy to derive a recursive relationship."
   ]
  },
  {
   "cell_type": "code",
   "execution_count": 1,
   "metadata": {},
   "outputs": [
    {
     "name": "stdout",
     "output_type": "stream",
     "text": "126461847755\n"
    }
   ],
   "source": [
    "#!/usr/bin/env python3\n",
    "\n",
    "import functools\n",
    "\n",
    "\n",
    "@functools.lru_cache(maxsize=None)\n",
    "def f(l, d, a, b):\n",
    "    assert a <= d <= b\n",
    "    if l == 1:\n",
    "        return 1 if a == b else 0\n",
    "    if a == b:\n",
    "        # l > 1.\n",
    "        return 0\n",
    "    if b - a + 1 > l:\n",
    "        return 0\n",
    "    if b - a + 1 == l:\n",
    "        return 1 if d in (a, b) else 0\n",
    "    if d == a:\n",
    "        return f(l - 1, a + 1, a, b) + f(l - 1, a + 1, a + 1, b)\n",
    "    elif d == b:\n",
    "        return f(l - 1, b - 1, a, b) + f(l - 1, b - 1, a, b - 1)\n",
    "    else:\n",
    "        return f(l - 1, d + 1, a, b) + f(l - 1, d - 1, a, b)\n",
    "\n",
    "\n",
    "def main():\n",
    "    count = 0\n",
    "    for l in range(41):\n",
    "        for d in range(1, 10):\n",
    "            count += f(l, d, 0, 9)\n",
    "    print(count)\n",
    "\n",
    "\n",
    "if __name__ == \"__main__\":\n",
    "    main()\n"
   ]
  }
 ]
}