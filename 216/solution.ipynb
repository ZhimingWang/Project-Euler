{
 "nbformat": 4,
 "nbformat_minor": 2,
 "metadata": {
  "language_info": {
   "name": "python",
   "codemirror_mode": {
    "name": "ipython",
    "version": 3
   }
  },
  "orig_nbformat": 2,
  "file_extension": ".py",
  "mimetype": "text/x-python",
  "name": "python",
  "npconvert_exporter": "python",
  "pygments_lexer": "ipython3",
  "version": 3
 },
 "cells": [
  {
   "cell_type": "markdown",
   "execution_count": null,
   "metadata": {},
   "outputs": [],
   "source": [
    "The premise is straightforward. It's the optimizations that matter. We can iterate through small primes to rule out $n$ s.t. $n^2 = 2^{-1} \\mod p$. I did this for primes under 1000 and unfortunately it doesn't shave off that much, leaving us with more than $10^8$ possible values that require hard primality tests. Going above 1000 should shave off more, but I didn't bother to find the point of diminishing returns. Note that my modular square root algorithm is completely unoptimized (didn't even bother to break after finding the first solution). Apparently there's actually a fast algorithm for that: [Tonelli–Shanks algorithm](https://en.wikipedia.org/wiki/Tonelli%E2%80%93Shanks_algorithm).\n",
    "\n",
    "My slow as dog algorithm finished in about 11.5 minutes."
   ]
  }
 ]
}