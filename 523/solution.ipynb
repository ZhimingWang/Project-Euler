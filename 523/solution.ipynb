{
 "nbformat": 4,
 "nbformat_minor": 2,
 "metadata": {
  "language_info": {
   "name": "python",
   "codemirror_mode": {
    "name": "ipython",
    "version": 3
   }
  },
  "orig_nbformat": 2,
  "file_extension": ".py",
  "mimetype": "text/x-python",
  "name": "python",
  "npconvert_exporter": "python",
  "pygments_lexer": "ipython3",
  "version": 3
 },
 "cells": [
  {
   "cell_type": "markdown",
   "execution_count": null,
   "metadata": {},
   "outputs": [],
   "source": [
    "Consider a permutation of $1$ to $n$ ending in $m$. The first $n-1$ elements need to be sorted first, with expectation $E(n-1)$. One can easily show that it takes $2^{m-1}$ steps in total from there unless $m = n$ in which case the sequence is already sorted. Therefore,\n",
    "\n",
    "$$E(n) = E(n-1) + \\frac{1+2+\\cdots+2^{n-2}}{n} = E(n-1) + \\frac{2^{n-1}-1}{n}.$$"
   ]
  }
 ]
}