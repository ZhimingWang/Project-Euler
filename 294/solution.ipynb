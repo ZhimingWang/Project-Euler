{
 "nbformat": 4,
 "nbformat_minor": 2,
 "metadata": {
  "language_info": {
   "name": "python",
   "codemirror_mode": {
    "name": "ipython",
    "version": 3
   }
  },
  "orig_nbformat": 2,
  "file_extension": ".py",
  "mimetype": "text/x-python",
  "name": "python",
  "npconvert_exporter": "python",
  "pygments_lexer": "ipython3",
  "version": 3
 },
 "cells": [
  {
   "cell_type": "markdown",
   "execution_count": null,
   "metadata": {},
   "outputs": [],
   "source": [
    "The multiplicative order of 10 mod 23 is 22, so basically we need to find 23-combos of $10^0, 10^1, \\dots, 10^{21}$ subject to $10^{22}$ \"translations\" s.t. the sum is 0 mod 23. Let the counts be $s_0, \\dots, s_{21}$ respectively, we have\n",
    "\n",
    "$$\n",
    "\\begin{gathered}\n",
    "\\sum_i s_i = 23,\\\\\n",
    "\\sum_i 10^i s_i \\equiv 0 \\pmod{23}.\n",
    "\\end{gathered}\n",
    "$$\n",
    "\n",
    "We can use DP to solve this problem. Let $C(m,d,r)$ be the number of combos $10^0, \\dots, 10^{m-1}$ subject to $10^{22}$ translations s.t.\n",
    "\n",
    "$$\n",
    "\\begin{gathered}\n",
    "\\sum_{i=0}^{m-1} s_i = d,\\\\\n",
    "\\sum_{i=0}^{m-1} 10^i s_i \\equiv r \\pmod{23}.\n",
    "\\end{gathered}\n",
    "$$\n",
    "\n",
    "Then\n",
    "\n",
    "$$C(m, d, r) = \\sum_{c_{m-1}=0}^d C(m,\\, d-c_{m-1},\\, r-10^{m-1}c_{m-1}) C_0(m-1, c_{m-1}),$$\n",
    "\n",
    "where $C_0(m-1, c_{m-1})$ is the number of ways to arrange digits that sum up to $c_{m-1}$ in the $m-1,\\, m-1+22,\\, m-1+44,\\, \\dots$ places. This is basically an integer partition problem, with one complication: each part (digit) must be $\\le 9$. This can be calculated with another memoized search (divide and conquer).\n",
    "\n",
    "Note that when $c_{m-1} \\le 9$, the restriction is trivially satisfied so in those cases the count boils down to the well-known closed form $\\binom{n+k-1}{n}$ where $n$ is the sum and $k$ is the number of parts (places). The divide-and-conquer memoized search cover these cases just fine and probably takes a trivial amount of time, but I implemented a binomial mod function (with general modulus, not only primes) just for the hell of it. This turned out to be my undoing (for a few minutes anyway) because $11^12$ is too large to not overflow 64-bit int when multiplication is in the picture..."
   ]
  }
 ]
}