{
 "nbformat": 4,
 "nbformat_minor": 2,
 "metadata": {
  "language_info": {
   "name": "python",
   "codemirror_mode": {
    "name": "ipython",
    "version": 3
   },
   "version": "3.8.0-final"
  },
  "orig_nbformat": 2,
  "file_extension": ".py",
  "mimetype": "text/x-python",
  "name": "python",
  "npconvert_exporter": "python",
  "pygments_lexer": "ipython3",
  "version": 3,
  "kernelspec": {
   "name": "python38064bit380pyenv010ecbd1c87140c4b9c3e44b9e8385ff",
   "display_name": "Python 3.8.0 64-bit ('3.8.0': pyenv)"
  }
 },
 "cells": [
  {
   "cell_type": "markdown",
   "execution_count": null,
   "metadata": {},
   "outputs": [],
   "source": [
    "$$f(n, k) = m \\iff m + (m+1) + \\cdots + (m+k-1) \\le n < (m+1) \\cdots + (m+k),$$\n",
    "\n",
    "that is,\n",
    "\n",
    "$$mk + \\frac{k(k-1)}{2} \\le n < mk + \\frac{k(k+1)}{2}.$$\n",
    "\n",
    "Therefore, for a given $k$, let $m_\\max$ be the maximum $m$ s.t. $mk + \\frac{k(k-1)}{2} \\le N$, we have\n",
    "\n",
    "$$\n",
    "\\begin{aligned}\n",
    "\\sum_{n=1}^N f(n,k) \n",
    "&= k (1 + 2 + \\cdots + (m_\\max-1)) + \\left(N - m_\\max k - \\frac{k(k-1)}{2} + 1\\right) m_\\max\\\\\n",
    "&= m_\\max \\left(N + 1 - \\frac{k(m_\\max + k)}{2}\\right)\\\\\n",
    "&= m_\\max (N + 1) - \\frac{k m_\\max (m_\\max + k)}{2}.\n",
    "\\end{aligned}\n",
    "$$\n",
    "\n",
    "And $S(N)$ is just the sum of above wrt $k$.\n",
    "\n",
    "Apparently Python isn't fast enough to do >$10^9$ calculations in one second, but it only took slightly over a minute so no big deal."
   ]
  },
  {
   "cell_type": "code",
   "execution_count": 1,
   "metadata": {},
   "outputs": [
    {
     "name": "stdout",
     "output_type": "stream",
     "text": "929723499956693737817604096682206 110941813\n"
    }
   ],
   "source": [
    "#!/usr/bin/env python3\n",
    "\n",
    "N = 10 ** 16\n",
    "MOD = 1000000007\n",
    "\n",
    "\n",
    "def main():\n",
    "    total = 0\n",
    "    k = 0\n",
    "    while True:\n",
    "        k += 1\n",
    "        kk = k * (k - 1) // 2\n",
    "        mmax = (N - kk) // k\n",
    "        if mmax <= 0:\n",
    "            break\n",
    "        total += mmax * (N + 1) - k * mmax * (mmax + k) // 2\n",
    "    print(total, total % MOD)\n",
    "\n",
    "\n",
    "if __name__ == \"__main__\":\n",
    "    main()\n"
   ]
  }
 ]
}