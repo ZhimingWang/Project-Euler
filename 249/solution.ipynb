{
 "nbformat": 4,
 "nbformat_minor": 2,
 "metadata": {
  "language_info": {
   "name": "python",
   "codemirror_mode": {
    "name": "ipython",
    "version": 3
   },
   "version": "3.8.0"
  },
  "orig_nbformat": 2,
  "file_extension": ".py",
  "mimetype": "text/x-python",
  "name": "python",
  "npconvert_exporter": "python",
  "pygments_lexer": "ipython3",
  "version": 3
 },
 "cells": [
  {
   "cell_type": "markdown",
   "execution_count": null,
   "metadata": {},
   "outputs": [],
   "source": [
    "Straightforward problem but also slow in Python (at least my implementation is). Starting from the first prime, add one prime at a time and keep track of all sums with multiplicity. The same storage space could be reused as long as in each iteration we start from the largest sum and work downwards. The simple Python implementation takes ~105s.\n",
    "\n",
    "Maybe using a straight up array would be much faster than a dict."
   ]
  },
  {
   "cell_type": "code",
   "execution_count": 1,
   "metadata": {},
   "outputs": [
    {
     "name": "stdout",
     "output_type": "stream",
     "text": "progress: 100-th prime\nprogress: 200-th prime\nprogress: 300-th prime\nprogress: 400-th prime\nprogress: 500-th prime\nprogress: 600-th prime\n9275262564250418\n"
    }
   ],
   "source": [
    "#!/usr/bin/env python3\n",
    "\n",
    "import collections\n",
    "\n",
    "import miller_rabin\n",
    "import primesieve\n",
    "\n",
    "\n",
    "MODULUS = 10_000_000_000_000_000\n",
    "\n",
    "\n",
    "def count(n):\n",
    "    primes = primesieve.primes(n)\n",
    "    sum_counts = collections.defaultdict(int)\n",
    "    sum_counts[0] = 1\n",
    "    for i, p in enumerate(primes):\n",
    "        if (i + 1) % 100 == 0:\n",
    "            print(f\"progress: {i+1}-th prime\")\n",
    "        prev_sums = sorted(sum_counts.keys(), reverse=True)\n",
    "        for prev_sum in prev_sums:\n",
    "            sum_counts[prev_sum + p] = (\n",
    "                sum_counts[prev_sum + p] + sum_counts[prev_sum]\n",
    "            ) % MODULUS\n",
    "    total_count = 0\n",
    "    for sum_, count in sum_counts.items():\n",
    "        if miller_rabin.miller_rabin(sum_):\n",
    "            total_count = (total_count + count) % MODULUS\n",
    "    return total_count\n",
    "\n",
    "\n",
    "def main():\n",
    "    print(count(5000))\n",
    "\n",
    "\n",
    "if __name__ == \"__main__\":\n",
    "    main()\n"
   ]
  }
 ]
}