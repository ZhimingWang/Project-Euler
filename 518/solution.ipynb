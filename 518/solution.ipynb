{
 "nbformat": 4,
 "nbformat_minor": 2,
 "metadata": {
  "language_info": {
   "name": "python",
   "codemirror_mode": {
    "name": "ipython",
    "version": 3
   },
   "version": "3.8.0"
  },
  "orig_nbformat": 2,
  "file_extension": ".py",
  "mimetype": "text/x-python",
  "name": "python",
  "npconvert_exporter": "python",
  "pygments_lexer": "ipython3",
  "version": 3
 },
 "cells": [
  {
   "cell_type": "markdown",
   "execution_count": null,
   "metadata": {},
   "outputs": [],
   "source": [
    "A geometric sequence has be of the form $ga_0^2$, $ga_0c_0$, $gc_0^2$ where $(a_0, c_0) = 1$. $a = ga_0^2 - 1$, $b = ga_0c_0 - 1$, $c = gc_0^2 - 1$, so $g$ can't be square. We can then just brute force all $g$, $a_0$, $c_0$ combos. Python implementation takes ~48s."
   ]
  },
  {
   "cell_type": "code",
   "execution_count": 1,
   "metadata": {},
   "outputs": [
    {
     "name": "stdout",
     "output_type": "stream",
     "text": "progress: 16\nprogress: 256\nprogress: 1296\nprogress: 4096\nprogress: 10000\nprogress: 20736\nprogress: 38416\nprogress: 65536\nprogress: 104976\nprogress: 160000\nprogress: 234256\nprogress: 331776\nprogress: 456976\nprogress: 614656\nprogress: 810000\nprogress: 1048576\nprogress: 1336336\nprogress: 1679616\nprogress: 2085136\nprogress: 2560000\nprogress: 3111696\nprogress: 3748096\nprogress: 4477456\nprogress: 5308416\nprogress: 6250000\nprogress: 7311616\nprogress: 8503056\nprogress: 9834496\nprogress: 11316496\nprogress: 12960000\nprogress: 14776336\nprogress: 16777216\nprogress: 18974736\nprogress: 21381376\nprogress: 24010000\n100315739184392\n"
    }
   ],
   "source": [
    "#!/usr/bin/env python3\n",
    "\n",
    "import math\n",
    "\n",
    "import primesieve\n",
    "\n",
    "\n",
    "BOUND = 10 ** 8\n",
    "\n",
    "\n",
    "def main():\n",
    "    total = 0\n",
    "    primes = set(primesieve.primes(BOUND))\n",
    "    for g in range(2, BOUND // 4 + 1):\n",
    "        root = int(math.sqrt(g))\n",
    "        if root * root == g:\n",
    "            if root % 2 == 0 and root == int(math.sqrt(root)) ** 2:\n",
    "                print(f\"progress: {g}\")\n",
    "            continue\n",
    "        for c0 in range(2, int(math.sqrt((BOUND - 1) / g)) + 1):\n",
    "            c = g * c0 * c0 - 1\n",
    "            if not c in primes:\n",
    "                continue\n",
    "            for a0 in range(1, c0):\n",
    "                if math.gcd(a0, c0) != 1:\n",
    "                    continue\n",
    "                a = g * a0 * a0 - 1\n",
    "                if not a in primes:\n",
    "                    continue\n",
    "                b = g * a0 * c0 - 1\n",
    "                if not b in primes:\n",
    "                    continue\n",
    "                total += a + b + c\n",
    "    print(total)\n",
    "\n",
    "\n",
    "if __name__ == \"__main__\":\n",
    "    main()\n"
   ]
  },
  {
   "cell_type": "code",
   "execution_count": null,
   "metadata": {},
   "outputs": [],
   "source": []
  }
 ]
}