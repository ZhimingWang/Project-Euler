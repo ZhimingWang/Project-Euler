{
 "nbformat": 4,
 "nbformat_minor": 2,
 "metadata": {
  "language_info": {
   "name": "python",
   "codemirror_mode": {
    "name": "ipython",
    "version": 3
   }
  },
  "orig_nbformat": 2,
  "file_extension": ".py",
  "mimetype": "text/x-python",
  "name": "python",
  "npconvert_exporter": "python",
  "pygments_lexer": "ipython3",
  "version": 3
 },
 "cells": [
  {
   "cell_type": "markdown",
   "execution_count": null,
   "metadata": {},
   "outputs": [],
   "source": [
    "It's easy to show that for $k \\ge 2$,\n",
    "\n",
    "$$d(p,n,k) = \\sum_{i=1}^n \\frac{i(i+1)\\cdots(i+k-2)}{(k-1)!} (n+1-i)^{-1},$$\n",
    "\n",
    "so,\n",
    "\n",
    "$$\n",
    "\\begin{aligned}\n",
    "d(p,p-1,k)\n",
    "&\\equiv \\sum_{i=1}^{p-1} \\frac{i(i+1)\\cdots(i+k-2)}{(k-1)!} (-i)^{-1} \\pmod p \\\\\n",
    "&\\equiv - \\sum_{i=1}^{p-1} \\frac{(i+1)\\cdots(i+k-2)}{(k-1)!} \\pmod p \\\\\n",
    "&\\equiv - (k-1)^{-1} \\sum_{i=1}^{p-1} \\binom{i+k-2}{k-2} \\pmod p \\\\\n",
    "&\\equiv - (k-1)^{-1} \\left(\\binom{p+k-2}{k-1} - 1\\right) \\pmod p \\\\\n",
    "&\\equiv (k-1)^{-1} \\pmod p.\n",
    "\\end{aligned}\n",
    "$$"
   ]
  }
 ]
}