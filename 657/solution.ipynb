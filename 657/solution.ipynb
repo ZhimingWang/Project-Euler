{
 "nbformat": 4,
 "nbformat_minor": 2,
 "metadata": {
  "language_info": {
   "name": "python",
   "codemirror_mode": {
    "name": "ipython",
    "version": 3
   },
   "version": "3.8.0"
  },
  "orig_nbformat": 2,
  "file_extension": ".py",
  "mimetype": "text/x-python",
  "name": "python",
  "npconvert_exporter": "python",
  "pygments_lexer": "ipython3",
  "version": 3
 },
 "cells": [
  {
   "cell_type": "markdown",
   "execution_count": null,
   "metadata": {},
   "outputs": [],
   "source": [
    "Straightforward inclusion-exclusion principle.\n",
    "\n",
    "$$I(\\alpha,n) = \\sum_{i=2}^{\\alpha-1} (-1)^{\\alpha-i-1} \\binom{\\alpha}{i} \\frac{i^{n+1}-1}{i-1} + (-1)^\\alpha \\alpha n + 1.$$\n",
    "\n",
    "The unoptimized Python implementation (with unnecessary allocations no less) is on the slow side, takes ~24s."
   ]
  },
  {
   "cell_type": "code",
   "execution_count": 1,
   "metadata": {},
   "outputs": [
    {
     "name": "stdout",
     "output_type": "stream",
     "text": "219493139\n"
    }
   ],
   "source": [
    "#!/usr/bin/env python3\n",
    "\n",
    "import gmpy2\n",
    "from gmpy2 import mpz\n",
    "\n",
    "\n",
    "A = 10 ** 7\n",
    "N = 10 ** 12\n",
    "P = 1_000_000_007\n",
    "\n",
    "fmod = []\n",
    "fmodinv = []\n",
    "\n",
    "\n",
    "def calculate_factorial_mod():\n",
    "    r = mpz(1)\n",
    "    mod = mpz(P)\n",
    "    fmod.append(r)\n",
    "    fmodinv.append(r)\n",
    "    for i in range(1, A + 1):\n",
    "        r = (r * i) % mod\n",
    "        fmod.append(r)\n",
    "        fmodinv.append(gmpy2.invert(r, mod))\n",
    "\n",
    "\n",
    "def main():\n",
    "    calculate_factorial_mod()\n",
    "    count = mpz(0)\n",
    "    mod = mpz(P)\n",
    "    np1 = mpz(N) + 1\n",
    "    for i in range(2, A):\n",
    "        count += (\n",
    "            ((-1) ** (A - i - 1))\n",
    "            * fmod[A]\n",
    "            * fmodinv[i]\n",
    "            * fmodinv[A - i]\n",
    "            * (pow(i, np1, mod) - i)\n",
    "            * gmpy2.invert(i - 1, mod)\n",
    "        )\n",
    "        count %= mod\n",
    "    count += ((-1) ** A) * A * N + 1\n",
    "    count %= mod\n",
    "    print(count)\n",
    "\n",
    "\n",
    "if __name__ == \"__main__\":\n",
    "    main()\n"
   ]
  }
 ]
}