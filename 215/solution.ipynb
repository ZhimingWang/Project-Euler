{
 "nbformat": 4,
 "nbformat_minor": 2,
 "metadata": {
  "language_info": {
   "name": "python",
   "codemirror_mode": {
    "name": "ipython",
    "version": 3
   },
   "version": "3.8.0"
  },
  "orig_nbformat": 2,
  "file_extension": ".py",
  "mimetype": "text/x-python",
  "name": "python",
  "npconvert_exporter": "python",
  "pygments_lexer": "ipython3",
  "version": 3
 },
 "cells": [
  {
   "cell_type": "markdown",
   "execution_count": null,
   "metadata": {},
   "outputs": [],
   "source": [
    "Let $w$ be the width, $h$ be the height, and $r$ be the total number of possible rows. For $w = 32$, we only have\n",
    "\n",
    "$$\\binom{16+0}{0} + \\binom{13+2}{2} + \\binom{10+4}{4} + \\binom{7+6}{6} + \\binom{4+8}{8} + \\binom{1+10}{10} = 3329$$\n",
    "\n",
    "rows, so we can easily generate an $r \\times r$ compatibility matrix, then DP our way from height 1 to height $h$, which has the tolerable time complexity of $O(r^2 h)$."
   ]
  },
  {
   "cell_type": "code",
   "execution_count": 1,
   "metadata": {},
   "outputs": [
    {
     "name": "stdout",
     "output_type": "stream",
     "text": "progress: calculating height 1\nprogress: calculating height 2\nprogress: calculating height 3\nprogress: calculating height 4\nprogress: calculating height 5\nprogress: calculating height 6\nprogress: calculating height 7\nprogress: calculating height 8\nprogress: calculating height 9\n806844323190414\n"
    }
   ],
   "source": [
    "import itertools\n",
    "\n",
    "\n",
    "def generate_rows(width):\n",
    "    rows = []\n",
    "    for n2 in range(width // 2 + 1):\n",
    "        if (width - n2 * 2) % 3 != 0:\n",
    "            continue\n",
    "        n3 = (width - n2 * 2) // 3\n",
    "        for combo in itertools.combinations(range(n2 + n3), n2):\n",
    "            pos = 0\n",
    "            row = set()\n",
    "            for i in range(n2 + n3):\n",
    "                pos += 2 if i in combo else 3\n",
    "                row.add(pos)\n",
    "            rows.append(row)\n",
    "    return rows\n",
    "\n",
    "\n",
    "def generate_compatibility_matrix(width, rows):\n",
    "    nrows = len(rows)\n",
    "    compat = [[True for _ in range(nrows)] for _ in range(nrows)]\n",
    "    for pos in range(2, width - 1):\n",
    "        include_indices = [i for i, row in enumerate(rows) if pos in row]\n",
    "        for i in include_indices:\n",
    "            for j in include_indices:\n",
    "                compat[i][j] = False\n",
    "    return compat\n",
    "\n",
    "\n",
    "def calculate_W(width, height):\n",
    "    rows = generate_rows(width)\n",
    "    compat = generate_compatibility_matrix(width, rows)\n",
    "    nrows = len(rows)\n",
    "    counts = [[1] * nrows]\n",
    "    for i in range(1, height):\n",
    "        print(f\"progress: calculating height {i}\")\n",
    "        counts.append([0] * nrows)\n",
    "        for j in range(nrows):\n",
    "            counts[i][j] = sum(counts[i - 1][k] for k in range(nrows) if compat[j][k])\n",
    "    return sum(counts[height - 1])\n",
    "\n",
    "\n",
    "def main():\n",
    "    # print(calculate_W(9, 3))\n",
    "    print(calculate_W(32, 10))\n",
    "\n",
    "\n",
    "if __name__ == \"__main__\":\n",
    "    main()"
   ]
  }
 ]
}