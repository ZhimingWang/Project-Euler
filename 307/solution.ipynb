{
 "nbformat": 4,
 "nbformat_minor": 2,
 "metadata": {
  "language_info": {
   "name": "python",
   "codemirror_mode": {
    "name": "ipython",
    "version": 3
   }
  },
  "orig_nbformat": 2,
  "file_extension": ".py",
  "mimetype": "text/x-python",
  "name": "python",
  "npconvert_exporter": "python",
  "pygments_lexer": "ipython3",
  "version": 3
 },
 "cells": [
  {
   "cell_type": "markdown",
   "execution_count": null,
   "metadata": {},
   "outputs": [],
   "source": [
    "Consider the number of possibilities where there are exactly $l$ chips with 2 defects, and $k - 2l$ chips with 1 defects. There are $\\binom{n}{l,\\,k-2l,\\,n-k+l}$ choices of chips, and for a chosen set of chips, there are $\\binom{k}{2,\\,\\dots,\\,2,\\,1,\\,\\dots,\\,1} = \\frac{k!}{2^l}$ arrangements of defects. Therefore, there are $\\binom{n}{l,\\,k-2l,\\,n-k+l} \\cdot \\frac{k!}{2^l}$ such possibilities, and hence the possibility of finding a chip with at least 3 defects is\n",
    "\n",
    "$$p(k, n) = 1 - \\frac{\\sum_{l=0}^{\\left\\lfloor \\frac{k}{2} \\right\\rfloor} \\binom{n}{l,\\,k-2l,\\,n-k+l} \\cdot \\frac{k!}{2^l}}{n^k}.$$\n",
    "\n",
    "Mathematica can calculate this exactly for $k = 20000,\\, n = 1000000$ in ~30s."
   ]
  }
 ]
}