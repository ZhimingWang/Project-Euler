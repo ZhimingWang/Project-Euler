{
 "nbformat": 4,
 "nbformat_minor": 2,
 "metadata": {
  "language_info": {
   "name": "python",
   "codemirror_mode": {
    "name": "ipython",
    "version": 3
   }
  },
  "orig_nbformat": 2,
  "file_extension": ".py",
  "mimetype": "text/x-python",
  "name": "python",
  "npconvert_exporter": "python",
  "pygments_lexer": "ipython3",
  "version": 3
 },
 "cells": [
  {
   "cell_type": "markdown",
   "execution_count": null,
   "metadata": {},
   "outputs": [],
   "source": [
    "Another problem where the basic idea is simple but debugging took a disproportionate amount of time...\n",
    "\n",
    "The basic idea is to calculate how many times each element appears as the miminum of a subarray. We can do this by scanning left to right once, keeping a stack with the longest subsequences with the rightmost element as the strict miminum (the only minimum), and for each $i$ recording the length of the subsequence ending in $S_i$ as $l_i$; and scanning right to left once, recording $r_i$ which is the longest subsequence with $S_i$ as the leftmost and minimum (not necessarily unique) element. Then the total sum is $\\sum_i l_i\\,r_i\\,S_i$.\n",
    "\n",
    "The problem would have been solved this way if we have 24GB of RAM for this. I don't have that much RAM lying around, so we need to use the periodic property of this sequence. Turns out it is 6308948-periodic, starting from the very first element. Therefore, except the global minimums whose leading subsequences could span the entire array, we only need to look at three periods, and then the rest of the non-edge periods would produce the same results (sans global minimums which have to be dealt with separately) as the middle of the three periods. As for the global minimums, the $l$ and $r$ values are very easily calculated, and thankfully there's only one minimum in each period making it much easier.\n",
    "\n",
    "In hindsight though, the sequence is random enough so $l_i$ and $r_i$ are mostly very small. Our stack-based algorithm isn't that much better than a straightforward brute force at each position."
   ]
  }
 ]
}