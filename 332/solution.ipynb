{
 "nbformat": 4,
 "nbformat_minor": 2,
 "metadata": {
  "language_info": {
   "name": "python",
   "codemirror_mode": {
    "name": "ipython",
    "version": 3
   }
  },
  "orig_nbformat": 2,
  "file_extension": ".py",
  "mimetype": "text/x-python",
  "name": "python",
  "npconvert_exporter": "python",
  "pygments_lexer": "ipython3",
  "version": 3
 },
 "cells": [
  {
   "cell_type": "markdown",
   "execution_count": null,
   "metadata": {},
   "outputs": [],
   "source": [
    "Simple bruteforce. I didn't optimize at all, not even limiting to upper hemisphere. The angular distance of two points is given by\n",
    "\n",
    "$$\\arccos \\frac{\\vec{v_1} \\cdot \\vec{v_2}}{R^2},$$\n",
    "\n",
    "and for a spherical triangle with angular sides $a$, $b$ and $c$, we have\n",
    "\n",
    "$$S = E \\cdot R^2$$\n",
    "\n",
    "where\n",
    "\n",
    "$$\\tan\\frac{E}{4} = \\sqrt{\\tan\\frac{s}{2}\\, \\tan\\frac{s-a}{2}\\, \\tan\\frac{s-b}{2}\\, \\tan\\frac{s-c}{2}},$$\n",
    "\n",
    "where $s = (a+b+c)/2$.\n",
    "\n",
    "The straightforward C++ implementation takes ~33s."
   ]
  }
 ]
}