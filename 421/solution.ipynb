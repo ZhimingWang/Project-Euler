{
 "nbformat": 4,
 "nbformat_minor": 2,
 "metadata": {
  "language_info": {
   "name": "python",
   "codemirror_mode": {
    "name": "ipython",
    "version": 3
   }
  },
  "orig_nbformat": 2,
  "file_extension": ".py",
  "mimetype": "text/x-python",
  "name": "python",
  "npconvert_exporter": "python",
  "pygments_lexer": "ipython3",
  "version": 3
 },
 "cells": [
  {
   "cell_type": "markdown",
   "execution_count": null,
   "metadata": {},
   "outputs": [],
   "source": [
    "For $p \\not\\in \\{3,\\,5\\}$, let $k = \\gcd(p-1,\\, 15)$, then $n^{15} + 1 \\equiv 0 \\pmod p$ has exactly $k$ roots; moreover, let $g$ be a primitive $k$-th root modulo $p$, then the roots are exactly $-g^j$, $0 \\le j \\le k-1$. To find $g$ we simply try $2^{(p-1)/k}$, $3^{(p-1)/k}$, etc.\n",
    "\n",
    "The C++ implementation takes ~5s."
   ]
  }
 ]
}