{
 "nbformat": 4,
 "nbformat_minor": 2,
 "metadata": {
  "language_info": {
   "name": "python",
   "codemirror_mode": {
    "name": "ipython",
    "version": 3
   },
   "version": "3.8.0"
  },
  "orig_nbformat": 2,
  "file_extension": ".py",
  "mimetype": "text/x-python",
  "name": "python",
  "npconvert_exporter": "python",
  "pygments_lexer": "ipython3",
  "version": 3
 },
 "cells": [
  {
   "cell_type": "markdown",
   "execution_count": null,
   "metadata": {},
   "outputs": [],
   "source": [
    "We can easily simulate the subdivision for several steps in Python:"
   ]
  },
  {
   "cell_type": "code",
   "execution_count": 1,
   "metadata": {},
   "outputs": [
    {
     "name": "stdout",
     "output_type": "stream",
     "text": "f(0) = 0\nf(1) = 0\nf(2) = 0\nf(3) = 2\nf(4) = 16\nf(5) = 82\nf(6) = 368\nf(7) = 1554\nf(8) = 6384\nf(9) = 25874\nf(10) = 104176\n"
    }
   ],
   "source": [
    "#!/usr/bin/env python3\n",
    "\n",
    "import collections\n",
    "\n",
    "\n",
    "def main():\n",
    "    q = collections.deque()\n",
    "    # (depth, x1, x2, y1, y2, horizontal)\n",
    "    q.append((1, 0, 4096, 0, 2048, True))\n",
    "    rectcount = collections.defaultdict(int)\n",
    "    curr_depth = 0\n",
    "    while q:\n",
    "        depth, x1, x2, y1, y2, horizontal = q.popleft()\n",
    "        if depth > curr_depth:\n",
    "            count = sum(1 for v in rectcount.values() if v == 4)\n",
    "            rectcount = collections.defaultdict(int)\n",
    "            print(f\"f({curr_depth}) = {count}\")\n",
    "            curr_depth = depth\n",
    "        if depth > 10:\n",
    "            break\n",
    "        rectcount[(x1, y1)] += 1\n",
    "        rectcount[(x1, y2)] += 1\n",
    "        rectcount[(x2, y1)] += 1\n",
    "        rectcount[(x2, y2)] += 1\n",
    "        depth += 1\n",
    "        if horizontal:\n",
    "            x3 = (3 * x1 + x2) // 4\n",
    "            x4 = (x1 + 3 * x2) // 4\n",
    "            y3 = (y1 + y2) // 2\n",
    "            q.append((depth, x1, x3, y1, y2, False))\n",
    "            q.append((depth, x3, x4, y1, y3, True))\n",
    "            q.append((depth, x3, x4, y3, y2, True))\n",
    "            q.append((depth, x4, x2, y1, y2, False))\n",
    "        else:\n",
    "            x3 = (x1 + x2) // 2\n",
    "            y3 = (3 * y1 + y2) // 4\n",
    "            y4 = (y1 + 3 * y2) // 4\n",
    "            q.append((depth, x1, x2, y1, y3, True))\n",
    "            q.append((depth, x1, x3, y3, y4, False))\n",
    "            q.append((depth, x3, x2, y3, y4, False))\n",
    "            q.append((depth, x1, x2, y4, y2, True))\n",
    "\n",
    "\n",
    "if __name__ == \"__main__\":\n",
    "    main()\n"
   ]
  },
  {
   "cell_type": "markdown",
   "execution_count": null,
   "metadata": {},
   "outputs": [],
   "source": [
    "Apparently each step we quadruple the number of internal points, then add a number of points on the edges. Inspecting $g(n) = f(n+1) - 4f(n)$ we get $\\{2, 8, 18, 40, 82, 168, 338, 680, \\dots\\}$. Hard not to notice\n",
    "\n",
    "$$g(n) = 2g(n-1) + 3 + (-1)^{n+1},\\ g(1) = 0.$$\n",
    "\n",
    "Solving this recurrence equation with Mathematica\n",
    "\n",
    "```mathematica\n",
    "RSolve[{g[n] == 2 g[n - 1] + 3 - (-1)^n, g[1] == 0}, g[n], n]\n",
    "```\n",
    "\n",
    "gives us\n",
    "\n",
    "$$g(n) = \\frac{1}{3}(2^{n+2} + (-1)^{n+1} - 9).$$\n",
    "\n",
    "Plugging into the recurrence equation of $f$, again with Mathematica\n",
    "\n",
    "```mathematica\n",
    "RSolve[{f[n] == 4 f[n - 1] + 1/3 (-9 + (-1)^(1 + n) + 2^(2 + n)), \n",
    "  f[1] == 0}, f[n], n]\n",
    "```\n",
    "\n",
    "we get\n",
    "\n",
    "$$f(n) = \\frac{1}{15}(3 \\cdot 2^{2n+1} - 5 \\cdot 2^{n+2} + (-1)^{n+1}) + 1 = \\frac{1}{15}(6 \\cdot (2^n)^2 - 20 \\cdot 2^n - (-1)^n) + 1.$$"
   ]
  }
 ]
}