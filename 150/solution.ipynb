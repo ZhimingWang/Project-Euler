{
 "nbformat": 4,
 "nbformat_minor": 2,
 "metadata": {
  "language_info": {
   "name": "python",
   "codemirror_mode": {
    "name": "ipython",
    "version": 3
   },
   "version": "3.8.0"
  },
  "orig_nbformat": 2,
  "file_extension": ".py",
  "mimetype": "text/x-python",
  "name": "python",
  "npconvert_exporter": "python",
  "pygments_lexer": "ipython3",
  "version": 3
 },
 "cells": [
  {
   "cell_type": "markdown",
   "execution_count": null,
   "metadata": {},
   "outputs": [],
   "source": [
    "Not much to say. For a triangle with $n$ rows there are\n",
    "\n",
    "$$n + 2(n-1) + 3(n-2) + \\cdots + n \\cdot 1 = \\frac{1}{6}(n+2)(n+1)n$$\n",
    "\n",
    "subtriangles to calculate. For $n = 1000$ this isn't terrible. My Python implementation took a bit more than a minute."
   ]
  },
  {
   "cell_type": "code",
   "execution_count": 2,
   "metadata": {},
   "outputs": [
    {
     "name": "stdout",
     "output_type": "stream",
     "text": "-271248680\n"
    }
   ],
   "source": [
    "def generate_prng_sequence(n):\n",
    "    size = n * (n + 1) // 2\n",
    "    s = []\n",
    "    t = 0\n",
    "    for _ in range(size):\n",
    "        t = (615949 * t + 797807) % (2 ** 20)\n",
    "        s.append(t - 2 ** 19)\n",
    "    return s, n\n",
    "\n",
    "\n",
    "# n is the number of rows, s is the sequence with n(n+2)/2 elements.\n",
    "def find_min_sum(s, n):\n",
    "    # partial_sums[i] is the sum of the 0..i-1 elements.\n",
    "    partial_sums = [0] * (len(s) + 1)\n",
    "    for i, elem in enumerate(s):\n",
    "        partial_sums[i + 1] = partial_sums[i] + elem\n",
    "    min_sum = 0\n",
    "    for a in range(n):\n",
    "        for b in range(a + 1):\n",
    "            _sum = 0\n",
    "            for d in range(n - a):\n",
    "                # Add the sum of elements from (a+d, b) to (a+d, b+d)\n",
    "                row_start_index = (a + d) * (a + d + 1) // 2\n",
    "                _sum += (\n",
    "                    partial_sums[row_start_index + b + d + 1]\n",
    "                    - partial_sums[row_start_index + b]\n",
    "                )\n",
    "                if _sum < min_sum:\n",
    "                    min_sum = _sum\n",
    "    return min_sum\n",
    "\n",
    "\n",
    "def main():\n",
    "    print(find_min_sum(*generate_prng_sequence(1000)))\n",
    "\n",
    "\n",
    "main()"
   ]
  },
  {
   "cell_type": "code",
   "execution_count": null,
   "metadata": {},
   "outputs": [],
   "source": []
  }
 ]
}