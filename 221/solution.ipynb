{
 "nbformat": 4,
 "nbformat_minor": 2,
 "metadata": {
  "language_info": {
   "name": "python",
   "codemirror_mode": {
    "name": "ipython",
    "version": 3
   }
  },
  "orig_nbformat": 2,
  "file_extension": ".py",
  "mimetype": "text/x-python",
  "name": "python",
  "npconvert_exporter": "python",
  "pygments_lexer": "ipython3",
  "version": 3
 },
 "cells": [
  {
   "cell_type": "markdown",
   "execution_count": null,
   "metadata": {},
   "outputs": [],
   "source": [
    "$A = pqr$ is Alexandrian iff $pq+qr+rp=1$. WLOG $p$ and $q$ are of different signs, and WLOG $p$ is positive. Let $q = -p-d$, then $r = -(p + \\frac{p^2+1}{d})$ with a bit of calculation, so\n",
    "\n",
    "$$A = p(p+d)(p+\\frac{p^2+1}{d}).$$\n",
    "\n",
    "Apparently $A > 0$ implies $d > 0$. We only need to enumerate $p$ and $d \\mid p^2 + 1$ (by symmetry $d \\le p$ WLOG). Apparently $p \\le n$ for the $n$-th smallest Alexandrian, so we only need to enumerate $p$ up to $150,000$. Mathematica isn't the fastest but solves the problem trivially without fuss in 5s."
   ]
  }
 ]
}