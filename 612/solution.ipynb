{
 "nbformat": 4,
 "nbformat_minor": 2,
 "metadata": {
  "language_info": {
   "name": "python",
   "codemirror_mode": {
    "name": "ipython",
    "version": 3
   },
   "version": "3.8.0"
  },
  "orig_nbformat": 2,
  "file_extension": ".py",
  "mimetype": "text/x-python",
  "name": "python",
  "npconvert_exporter": "python",
  "pygments_lexer": "ipython3",
  "version": 3
 },
 "cells": [
  {
   "cell_type": "markdown",
   "execution_count": null,
   "metadata": {},
   "outputs": [],
   "source": [
    "Mostly straightforward yet complicated application of the inclusion-exclusion principle.\n",
    "\n",
    "Let $U = \\{0,\\dots,9^k\\}$ be the universe, and let $A_d$ ($0 \\le d \\le 9$) be numbers in $U$ with digit $d$ ($0$ is considered as containing no digits whatsoever). Apparently\n",
    "\n",
    "$$|A_{d_1} \\cap A_{d_2} \\cap \\cdots \\cap A_{d_i}| = |A_1 \\cap A_2 \\cap \\cdots \\cap A_i|$$\n",
    "\n",
    "as long as $0 \\not\\in \\{d_j\\}$, and\n",
    "\n",
    "$$|A_0 \\cap A_{d_1} \\cap A_{d_2} \\cap \\cdots \\cap A_{d_{i-1}}| = |A_0 \\cap A_1 \\cap A_2 \\cap \\cdots \\cap A_{i-1}|$$\n",
    "\n",
    "where again $0 \\not\\in \\{d_j\\}$. Let\n",
    "\n",
    "$$n(i, 1) = |A_1 \\cap A_2 \\cap \\cdots \\cap A_i|,$$\n",
    "$$n(i, 0) = |A_0 \\cap A_1 \\cap A_2 \\cap \\cdots \\cap A_{i-1}|$$\n",
    "\n",
    "for $1 \\le i \\le 10$, and for convenience let\n",
    "\n",
    "$$n(0, 1) = |U| = 10^k,\\ n(0, 0) = 0.$$\n",
    "\n",
    "Note that\n",
    "\n",
    "$$|\\overline{A_1} \\cap \\overline{A_2} \\cap \\cdots \\cap \\overline{A_i}| = (10-i)^k,$$\n",
    "$$|\\overline{A_0} \\cap \\overline{A_1} \\cap \\overline{A_2} \\cap \\cdots \\cap \\overline{A_{i-1}}| = (10-i)^k + (10-i)^{k-1} + \\cdots + 1 = \\frac{(10-i)^{k+1} - 1}{9-i},$$\n",
    "\n",
    "where the last expession should be replaced with $k+1$ when $i = 9$. Then, by inclusion-exlusion principle, we can derive\n",
    "\n",
    "$$n(i, 1) = (-1)^i(10-i)^k + \\sum_{j=0}^{i-1}(-1)^{i-1-j}\\binom{i}{j}n(j,1),$$\n",
    "$$n(i, 0) = (-1)^i\\frac{(10-i)^{k+1} - 1}{9-i} + \\sum_{j=0}^{i-1}(-1)^{i-1-j}\\left[\\binom{i-1}{j}n(j,1)+\\left(\\binom{i}{j}-\\binom{i-1}{j}\\right)n(j,0)\\right],$$\n",
    "\n",
    "where again the first term in the $n(i,0)$ formula becomes $k+1$ when $i = 9$.\n",
    "\n",
    "Finally, the result is simply\n",
    "\n",
    "$$\\sum_{i=1}^{10} (-1)^{i-1} \\left[ \\binom{9}{i}\\binom{n(i,1)}{2} + \\left(\\binom{10}{i} - \\binom{9}{i}\\right)\\binom{n(i,0)}{2} \\right].$$"
   ]
  },
  {
   "cell_type": "code",
   "execution_count": 1,
   "metadata": {},
   "outputs": [
    {
     "name": "stdout",
     "output_type": "stream",
     "text": "499999996197938572728438886049548305 819963842\n"
    }
   ],
   "source": [
    "#!/usr/bin/env python3\n",
    "\n",
    "import sympy\n",
    "\n",
    "\n",
    "LENGTH = 18\n",
    "\n",
    "\n",
    "def main():\n",
    "    k = LENGTH\n",
    "    n = [[0, 0] for i in range(11)]\n",
    "    n[0][1] = 10 ** k\n",
    "    for i in range(1, 11):\n",
    "        n[i][1] = ((-1) ** i) * ((10 - i) ** k)\n",
    "        for j in range(i):\n",
    "            n[i][1] += ((-1) ** (i - 1 - j)) * sympy.binomial(i, j) * n[j][1]\n",
    "        if i != 9:\n",
    "            n[i][0] = ((-1) ** i) * ((10 - i) ** (k + 1) - 1) // (9 - i)\n",
    "        else:\n",
    "            n[i][0] = -(k + 1)\n",
    "        for j in range(i):\n",
    "            n[i][0] += (-1) ** (i - 1 - j) * (\n",
    "                sympy.binomial(i - 1, j) * n[j][1]\n",
    "                + (sympy.binomial(i, j) - sympy.binomial(i - 1, j)) * n[j][0]\n",
    "            )\n",
    "        # print(n[i][1], n[i][0])\n",
    "    count = 0\n",
    "    for i in range(1, 11):\n",
    "        count += ((-1) ** (i - 1)) * (\n",
    "            sympy.binomial(9, i) * sympy.binomial(n[i][1], 2)\n",
    "            + (sympy.binomial(10, i) - sympy.binomial(9, i))\n",
    "            * sympy.binomial(n[i][0], 2)\n",
    "        )\n",
    "    print(count, count % 1000267129)\n",
    "\n",
    "\n",
    "if __name__ == \"__main__\":\n",
    "    main()\n"
   ]
  }
 ]
}