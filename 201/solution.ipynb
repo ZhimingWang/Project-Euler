{
 "nbformat": 4,
 "nbformat_minor": 2,
 "metadata": {
  "language_info": {
   "name": "python",
   "codemirror_mode": {
    "name": "ipython",
    "version": 3
   }
  },
  "orig_nbformat": 2,
  "file_extension": ".py",
  "mimetype": "text/x-python",
  "name": "python",
  "npconvert_exporter": "python",
  "pygments_lexer": "ipython3",
  "version": 3
 },
 "cells": [
  {
   "cell_type": "markdown",
   "execution_count": null,
   "metadata": {},
   "outputs": [],
   "source": [
    "Divide and conquer, calculate the sums of $k$-element subsets of a given $n$-element set for all $1 \\le k \\le n$ by calculating the Cartesian products of divided subsets. The straightforward implementation is slow, takes ~4 min in C++. There are quite some optimizations possible, the most important probably being a linear scan from minimum sum to maximum sum except a Cartesian product when the range is much smaller than the size of the product set with duplicates.\n",
    "\n",
    "(I did optimize after the fact, but it only saved slightly less than half of the time, ending up at 140s.)"
   ]
  }
 ]
}