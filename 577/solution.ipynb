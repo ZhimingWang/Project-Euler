{
 "nbformat": 4,
 "nbformat_minor": 2,
 "metadata": {
  "language_info": {
   "name": "python",
   "codemirror_mode": {
    "name": "ipython",
    "version": 3
   },
   "version": "3.8.0"
  },
  "orig_nbformat": 2,
  "file_extension": ".py",
  "mimetype": "text/x-python",
  "name": "python",
  "npconvert_exporter": "python",
  "pygments_lexer": "ipython3",
  "version": 3
 },
 "cells": [
  {
   "cell_type": "markdown",
   "execution_count": null,
   "metadata": {},
   "outputs": [],
   "source": [
    "Put a barycentric coordinate system on the grid, where points have coordinates $(x, y, z)$ with sum $n$. The vertices are $(n, 0, 0)$, $(0, n, 0)$, and $(0, 0, n)$ respectively. We further put a metric $d((x_1,y_1,z_1),\\, (x_2,y_2,z_2)) = \\max\\{|x_1-x_2|,|y_1-y_2|,|z_1-z_2|\\}$ on it. The minimum distance of an internal point to the edges is hence\n",
    "\n",
    "$$d_e((x,y,z)) = \\min\\{x,y,z,n-x,n-y,n-z\\}.$$\n",
    "\n",
    "There are $3(n-3)$ points of distance 1, $3(n-6)$ points of distance $2$, ..., $3(n - 3\\lfloor n/3 \\rfloor)$ points of distance $\\lfloor n/3 \\rfloor$ if $3 \\nmid n$ or $1$ point of distance $n/3$ if $3 \\mid n$.\n",
    "\n",
    "Now consider regular hexagons centered at $O = (x,y,z)$. Apparently all the points lie on some \"circle\" of radius $r$ where $r = d(O, V)$ where $V$ is any of the six vertices of the hexagon. The hexagon is contained in the grid iff $r \\le d_e(O)$. If the vector $OV$ is $(a,b,c)$ ($a+b+c=0$), then the five other vectors from the center to other vertices are $(b,c,a)$, $(c,a,b)$, $(-a,-b,-c)$, $(-b,-c,-a)$, $(-c,-a,-b)$ respectively. Let us call these six vectors that form the same regular hexagon rotationally equivalent (under $\\pi/3$ rotations), then it's not hard to see that given length $r$ there are exactly $r$ rotationally non-equivalent group of vectors, represented by $(r, -1, -(r-1))$, $(r, -2, -(r-2))$, ..., $(r,-(r-1),-1)$, $(r,0,-r)$ respectively, so it's possible to form exactly $r$ regular hexagons of radius $r$ from a central point with distance $\\ge r$. In other words, a point of distance $d$ is the center of $1 + \\cdots + d = d(d+1)/2$ regular hexagons.\n",
    "\n",
    "Therefore,\n",
    "\n",
    "- For $n = 3m$,\n",
    "\n",
    "$$H(n) = \\frac{m(m+1)}{2} \\cdot 1 + \\sum_{k=1}^m \\frac{k(k+1)}{2} \\cdot 3(3m-3k) = \\frac{3}{8} m(m+1)(m+2)(m-1) + \\frac{1}{2} m(m+1).$$\n",
    "\n",
    "- For $n = 3m+1$,\n",
    "\n",
    "$$H(n) = \\sum_{k=1}^m \\frac{k(k+1)}{2} \\cdot 3(3m+1-3k) = \\frac{1}{8} m(m+1)(m+2)(3m+1).$$\n",
    "\n",
    "- For $n = 3m+2$,\n",
    "\n",
    "$$H(n) = \\sum_{k=1}^m \\frac{k(k+1)}{2} \\cdot 3(3m+2-3k) = \\frac{1}{8} m(m+1)(m+2)(3m+5).$$\n",
    "\n",
    "Let $S(N) = \\sum_{n=3}^N H(n)$, then we have\n",
    "\n",
    "$$S(3M+2) = \\frac{3}{40} M(M+1)(M+2)(M+3)(3M+2) + \\frac{1}{6} M(M+1)(M+2).$$"
   ]
  },
  {
   "cell_type": "code",
   "execution_count": 1,
   "metadata": {},
   "outputs": [
    {
     "name": "stdout",
     "output_type": "stream",
     "text": "265695031399260211\n"
    }
   ],
   "source": [
    "#!/usr/bin/env python3\n",
    "\n",
    "\n",
    "def H(n):\n",
    "    m, r = divmod(n, 3)\n",
    "    if r == 0:\n",
    "        return 3 * m * (m + 1) * (m + 2) * (m - 1) // 8 + m * (m + 1) // 2\n",
    "    elif r == 1:\n",
    "        return m * (m + 1) * (m + 2) * (3 * m + 1) // 8\n",
    "    else:\n",
    "        return m * (m + 1) * (m + 2) * (3 * m + 5) // 8\n",
    "\n",
    "\n",
    "def S(N):\n",
    "    M, r = divmod(N - 2, 3)\n",
    "    s = (\n",
    "        3 * M * (M + 1) * (M + 2) * (M + 3) * (3 * M + 2) // 40\n",
    "        + M * (M + 1) * (M + 2) // 6\n",
    "    )\n",
    "    if r == 0:\n",
    "        return s\n",
    "    elif r == 1:\n",
    "        return s + H(N)\n",
    "    else:\n",
    "        return s + H(N - 1) + H(N)\n",
    "\n",
    "\n",
    "def main():\n",
    "    print(S(12345))\n",
    "\n",
    "\n",
    "if __name__ == \"__main__\":\n",
    "    main()\n"
   ]
  }
 ]
}