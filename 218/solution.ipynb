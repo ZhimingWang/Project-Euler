{
 "nbformat": 4,
 "nbformat_minor": 2,
 "metadata": {
  "language_info": {
   "name": "python",
   "codemirror_mode": {
    "name": "ipython",
    "version": 3
   }
  },
  "orig_nbformat": 2,
  "file_extension": ".py",
  "mimetype": "text/x-python",
  "name": "python",
  "npconvert_exporter": "python",
  "pygments_lexer": "ipython3",
  "version": 3
 },
 "cells": [
  {
   "cell_type": "markdown",
   "execution_count": null,
   "metadata": {},
   "outputs": [],
   "source": [
    "Slightly unusual problem as the answer is 0.\n",
    "\n",
    "Let\n",
    "\n",
    "$$a = m^2 - n^2,\\, b = 2mn,\\, c = m^2 + n^2,$$\n",
    "\n",
    "where $(m, n) = 1$. Now,\n",
    "\n",
    "$$m^2 + n^2 = l^2$$\n",
    "\n",
    "for some $l$, so we further have\n",
    "\n",
    "$$m = u^2 - v^2,\\, n = 2uv,\\, l = u^2 + v^2$$\n",
    "\n",
    "for some $(u, v) = 1$. Then\n",
    "\n",
    "$$S = \\frac{ab}{2} = 2uv(u^2-v^2)(u^4-6u^2v^2+v^4).$$\n",
    "\n",
    "Apparently $4 \\mid S$. Consider mod 3, if $3 \\nmid S$, then $3 \\nmid u$, $3 \\nmid v$, then $3 \\mid u^2 - v^2$, contradiction; so $3 \\mid S$. Consider mod 7, if $7 \\nmid S$, then $u^2$ and $v^2$ are in $\\{1, 2, 4\\}$ mod 7, but in all cases we have $7 \\mid u^4 - 6u^2v^2+v^4$, contradiction; so $7 \\mid S$. Therefore, we always have $84 \\mid S$, i.e. all perfect triangles are also super-perfect. $\\blacksquare$"
   ]
  }
 ]
}