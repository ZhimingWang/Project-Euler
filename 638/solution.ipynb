{
 "nbformat": 4,
 "nbformat_minor": 2,
 "metadata": {
  "language_info": {
   "name": "python",
   "codemirror_mode": {
    "name": "ipython",
    "version": 3
   }
  },
  "orig_nbformat": 2,
  "file_extension": ".py",
  "mimetype": "text/x-python",
  "name": "python",
  "npconvert_exporter": "python",
  "pygments_lexer": "ipython3",
  "version": 3
 },
 "cells": [
  {
   "cell_type": "markdown",
   "execution_count": null,
   "metadata": {},
   "outputs": [],
   "source": [
    "Apparently,\n",
    "\n",
    "$$C(a, b-1, k) = \\sum_{i=0}^{b-1} k^i C(a-1, i, k),$$\n",
    "\n",
    "so\n",
    "\n",
    "$$C(a, b, k) = C(a, b-1, k) + k^b C(a-1, b, k).$$\n",
    "\n",
    "Similarly\n",
    "\n",
    "$$C(a, b, k) = C(a-1, b, k) + k^a C(a, b-1, k),$$\n",
    "\n",
    "so\n",
    "\n",
    "$$(k^a - 1) C(a, b-1, k) = (k^b - 1) C(a-1, b, k).$$\n",
    "\n",
    "It's easy to then derive\n",
    "\n",
    "$$C(n, n, k) = \\prod_{i=1}^n \\frac{(k^i + 1)(k^{2i-1} - 1)}{k^i - 1}.$$\n",
    "\n",
    "This formula only works for $k \\ne 1$. For $k = 1$ we trivially have\n",
    "\n",
    "$$C(n, n, 1) = \\binom{2n}{n}.$$\n",
    "\n",
    "Turns out this is [Gaussian binomial coefficient](https://en.wikipedia.org/wiki/Gaussian_binomial_coefficient)."
   ]
  }
 ]
}