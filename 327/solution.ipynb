{
 "nbformat": 4,
 "nbformat_minor": 2,
 "metadata": {
  "language_info": {
   "name": "python",
   "codemirror_mode": {
    "name": "ipython",
    "version": 3
   },
   "version": "3.8.0"
  },
  "orig_nbformat": 2,
  "file_extension": ".py",
  "mimetype": "text/x-python",
  "name": "python",
  "npconvert_exporter": "python",
  "pygments_lexer": "ipython3",
  "version": 3
 },
 "cells": [
  {
   "cell_type": "markdown",
   "execution_count": null,
   "metadata": {},
   "outputs": [],
   "source": [
    "It's very easy to derive the recurrence relation:\n",
    "\n",
    "$$\n",
    "M(C,R)=\n",
    "\\begin{cases}\n",
    "R+1, && R \\le C-1,\\\\\n",
    "2 \\left\\lfloor\\frac{M(C,R-1)-2}{C-2}\\right\\rfloor + M(C,R-1) + 1, && R \\ge C.\n",
    "\\end{cases}\n",
    "$$"
   ]
  },
  {
   "cell_type": "code",
   "execution_count": 1,
   "metadata": {},
   "outputs": [
    {
     "name": "stdout",
     "output_type": "stream",
     "text": "34315549139516\n"
    }
   ],
   "source": [
    "#!/usr/bin/env python3\n",
    "\n",
    "import functools\n",
    "\n",
    "\n",
    "@functools.lru_cache(maxsize=None)\n",
    "def M(C, R):\n",
    "    if R <= C - 1:\n",
    "        return R + 1\n",
    "    last = M(C, R - 1)\n",
    "    return 2 * ((last - 2) // (C - 2)) + last + 1\n",
    "\n",
    "\n",
    "def main():\n",
    "    print(sum(M(C, 30) for C in range(3, 41)))\n",
    "\n",
    "\n",
    "if __name__ == \"__main__\":\n",
    "    main()\n"
   ]
  }
 ]
}