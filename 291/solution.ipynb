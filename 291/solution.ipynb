{
 "nbformat": 4,
 "nbformat_minor": 2,
 "metadata": {
  "language_info": {
   "name": "python",
   "codemirror_mode": {
    "name": "ipython",
    "version": 3
   },
   "version": "3.8.0"
  },
  "orig_nbformat": 2,
  "file_extension": ".py",
  "mimetype": "text/x-python",
  "name": "python",
  "npconvert_exporter": "python",
  "pygments_lexer": "ipython3",
  "version": 3
 },
 "cells": [
  {
   "cell_type": "markdown",
   "execution_count": null,
   "metadata": {},
   "outputs": [],
   "source": [
    "$$p = \\frac{(x-y)(x^2+y^2)}{x^2-xy+y^2}.$$\n",
    "\n",
    "Apparently $p \\nmid x-y$, so $p \\mid x^2 + y^2$ and $x - y \\mid x^2 - xy + y^2$. Let $d = x-y$, then $d \\mid x^2,\\, y^2\\, xy$, so we have some $a$, $b$, $g$ s.t. $(a,b)=1$ and\n",
    "\n",
    "$$x^2 = a^2 gd,\\ y^2 = b^2 gd,\\ xy = ab gd.$$\n",
    "\n",
    "Note that\n",
    "\n",
    "$$d = x - y = (a - b)\\sqrt{gd},$$\n",
    "\n",
    "so\n",
    "\n",
    "$$d = (a-b)^2 g.$$\n",
    "\n",
    "Plugging into the $p$ equation, we have\n",
    "\n",
    "$$p = \\frac{(a-b)^2(a^2+b^2)g}{a^2-ab+b^2}.$$\n",
    "\n",
    "Notice the denominator is coprime with both $(a-b)^2$ and $a^2 + b^2$, and $p$ is a prime, so we conclude that\n",
    "\n",
    "$$a - b = 1,\\ a^2 + b^2 = p,\\ g = a^2 - ab + b^2.$$\n",
    "\n",
    "Therefore $p$ is Panaitopol iff\n",
    "\n",
    "$$p = b^2 + (b+1)^2$$\n",
    "\n",
    "for some positive $b$.\n",
    "\n",
    "The brute force implementation in Python using my fast Miller-Rabin primality test library takes ~43s."
   ]
  },
  {
   "cell_type": "code",
   "execution_count": 1,
   "metadata": {},
   "outputs": [
    {
     "name": "stdout",
     "output_type": "stream",
     "text": "progress: 1,000,000\nprogress: 2,000,000\nprogress: 3,000,000\nprogress: 4,000,000\nprogress: 5,000,000\nprogress: 6,000,000\nprogress: 7,000,000\nprogress: 8,000,000\nprogress: 9,000,000\nprogress: 10,000,000\nprogress: 11,000,000\nprogress: 12,000,000\nprogress: 13,000,000\nprogress: 14,000,000\nprogress: 15,000,000\nprogress: 16,000,000\nprogress: 17,000,000\nprogress: 18,000,000\nprogress: 19,000,000\nprogress: 20,000,000\nprogress: 21,000,000\nprogress: 22,000,000\nprogress: 23,000,000\nprogress: 24,000,000\nprogress: 25,000,000\nprogress: 26,000,000\nprogress: 27,000,000\nprogress: 28,000,000\nprogress: 29,000,000\nprogress: 30,000,000\nprogress: 31,000,000\nprogress: 32,000,000\nprogress: 33,000,000\nprogress: 34,000,000\nprogress: 35,000,000\nprogress: 36,000,000\nprogress: 37,000,000\nprogress: 38,000,000\nprogress: 39,000,000\nprogress: 40,000,000\nprogress: 41,000,000\nprogress: 42,000,000\nprogress: 43,000,000\nprogress: 44,000,000\nprogress: 45,000,000\nprogress: 46,000,000\nprogress: 47,000,000\nprogress: 48,000,000\nprogress: 49,000,000\n4037526\n"
    }
   ],
   "source": [
    "#!/usr/bin/env python3\n",
    "\n",
    "import miller_rabin\n",
    "\n",
    "\n",
    "LIMIT = 5 * 10 ** 15\n",
    "\n",
    "\n",
    "def main():\n",
    "    n = 1\n",
    "    count = 0\n",
    "    while (p := n * n + (n + 1) * (n + 1)) < LIMIT:\n",
    "        if n % 1_000_000 == 0:\n",
    "            print(f\"progress: {n:,}\")\n",
    "        if miller_rabin.miller_rabin(p):\n",
    "            count += 1\n",
    "        n += 1\n",
    "    print(count)\n",
    "\n",
    "\n",
    "if __name__ == \"__main__\":\n",
    "    main()\n"
   ]
  }
 ]
}