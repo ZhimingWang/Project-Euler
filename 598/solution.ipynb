{
 "nbformat": 4,
 "nbformat_minor": 2,
 "metadata": {
  "language_info": {
   "name": "python",
   "codemirror_mode": {
    "name": "ipython",
    "version": 3
   }
  },
  "orig_nbformat": 2,
  "file_extension": ".py",
  "mimetype": "text/x-python",
  "name": "python",
  "npconvert_exporter": "python",
  "pygments_lexer": "ipython3",
  "version": 3
 },
 "cells": [
  {
   "cell_type": "markdown",
   "execution_count": null,
   "metadata": {},
   "outputs": [],
   "source": [
    "The prime exponents of $100!$ are\n",
    "\n",
    "$$97, 48, 24, 16, 9, 7, 5, 5, 4, 3, 3, 2, 2, 2, 2, 1, 1, 1, 1, 1, 1, 1, 1, 1, 1.$$\n",
    "\n",
    "Therefore we're looking for ways to split each of \n",
    "\n",
    "$$99, 50, 26, \\dots, 3, 3, 3$$\n",
    "\n",
    "into two parts so that the product of the first parts equals the product of the second parts. There are 39001250856960000 total configurations so brute force enumeration is out of the question. Instead we can divide the list into two halves and calculate all possible ratios on each half.\n",
    "\n",
    "For one half I chose\n",
    "\n",
    "$$99, 50, 26, 18, 11, 8$$\n",
    "\n",
    "with 20408500 total configs. Each ratio is of course reduced.\n",
    "\n",
    "For the other half notice that splitting 3 means either $\\times 2$ on the first half or the second half, so the 10 3s to be split up is really one of the 11 configurations: $(2^0,\\, 2^{10})$, $(2^1,\\, 2^9)$, ..., $(2^{10},\\, 2^0)$ each with multiplicity $\\binom{10}{i}$. So we brute force enumerate the 1866240 configurations from splitting\n",
    "\n",
    "$$7, 7, 6, 5, 5, 4, 4, 4, 4$$\n",
    "\n",
    "then multiply by the 11 configuration of 3s.\n",
    "\n",
    "Of course, do not forget to divide by 2 in the end since each pair was counted twice (thanks to the odd exponents, no pair is a reflection of itself).\n",
    "\n",
    "The C++ implementation of the above takes <10s."
   ]
  }
 ]
}