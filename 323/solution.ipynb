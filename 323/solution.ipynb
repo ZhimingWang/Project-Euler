{
 "nbformat": 4,
 "nbformat_minor": 2,
 "metadata": {
  "language_info": {
   "name": "python",
   "codemirror_mode": {
    "name": "ipython",
    "version": 3
   },
   "version": "3.8.0"
  },
  "orig_nbformat": 2,
  "file_extension": ".py",
  "mimetype": "text/x-python",
  "name": "python",
  "npconvert_exporter": "python",
  "pygments_lexer": "ipython3",
  "version": 3
 },
 "cells": [
  {
   "cell_type": "markdown",
   "execution_count": null,
   "metadata": {},
   "outputs": [],
   "source": [
    "Let $p_N$ be the probability of having all ones after $N$ steps (but not necessarily only after $N$ steps). Apparently\n",
    "\n",
    "$$p_N = (1 - 2^{-N})^{32}.$$\n",
    "\n",
    "We can see that\n",
    "\n",
    "$$E(N) = \\lim_{n \\to \\infty} \\sum_{N=0}^n N(p_N - p_{N-1}),$$\n",
    "\n",
    "where\n",
    "\n",
    "$$\\sum_{N=0}^n N(p_N - p_{N-1}) = \\sum_{N=0}^{n-1} (1-p_N) - n(1-p_n).$$\n",
    "\n",
    "Observe that $\\lim_{n \\to \\infty} n(1-p_n) = 0$, so we only need to iteratively calculate $\\sum (1-p_N)$ until the desired precision."
   ]
  },
  {
   "cell_type": "code",
   "execution_count": 1,
   "metadata": {},
   "outputs": [
    {
     "name": "stdout",
     "output_type": "stream",
     "text": "6.3551758451\n"
    }
   ],
   "source": [
    "#!/usr/bin/env python3\n",
    "\n",
    "length = 32\n",
    "\n",
    "\n",
    "def p(n):\n",
    "    return (1 - 2 ** (-n)) ** length\n",
    "\n",
    "\n",
    "def main():\n",
    "    expectation = 0\n",
    "    n = 0\n",
    "    while True:\n",
    "        delta = 1 - p(n)\n",
    "        if delta < 1e-11:\n",
    "            break\n",
    "        expectation += delta\n",
    "        n += 1\n",
    "    print(f\"{expectation:.10f}\")\n",
    "\n",
    "\n",
    "if __name__ == \"__main__\":\n",
    "    main()\n"
   ]
  }
 ]
}