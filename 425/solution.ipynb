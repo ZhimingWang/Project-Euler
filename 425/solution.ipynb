{
 "nbformat": 4,
 "nbformat_minor": 2,
 "metadata": {
  "language_info": {
   "name": "python",
   "codemirror_mode": {
    "name": "ipython",
    "version": 3
   }
  },
  "orig_nbformat": 2,
  "file_extension": ".py",
  "mimetype": "text/x-python",
  "name": "python",
  "npconvert_exporter": "python",
  "pygments_lexer": "ipython3",
  "version": 3
 },
 "cells": [
  {
   "cell_type": "markdown",
   "execution_count": null,
   "metadata": {},
   "outputs": [],
   "source": [
    "Graph theory problem. My simple breadth first search implementation in C++ took ~4s, which is fast enough, but in hind sight I should have used Dijkstra (haven't touched anything graph theory in the past few years so it didn't pop up immediately)."
   ]
  }
 ]
}