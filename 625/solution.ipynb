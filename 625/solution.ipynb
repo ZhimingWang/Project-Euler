{
 "nbformat": 4,
 "nbformat_minor": 2,
 "metadata": {
  "language_info": {
   "name": "python",
   "codemirror_mode": {
    "name": "ipython",
    "version": 3
   }
  },
  "orig_nbformat": 2,
  "file_extension": ".py",
  "mimetype": "text/x-python",
  "name": "python",
  "npconvert_exporter": "python",
  "pygments_lexer": "ipython3",
  "version": 3
 },
 "cells": [
  {
   "cell_type": "markdown",
   "execution_count": null,
   "metadata": {},
   "outputs": [],
   "source": [
    "Another problem involving the all time PE favorite: totient sum.\n",
    "\n",
    "$$G(N) = \\sum_{g=1}^N g\\,\\Phi\\left(\\left\\lfloor \\frac{N}{g} \\right\\rfloor\\right),$$\n",
    "\n",
    "$$\\Phi(n) = \\sum_{i=1}^n \\phi(i) = \\frac{n(n+1)}{2} - \\sum_{g=2}^N \\Phi\\left(\\left\\lfloor \\frac{N}{g} \\right\\rfloor\\right).$$\n",
    "\n",
    "<https://projecteuler.net/overview=351>.\n",
    "\n",
    "C++ implementation ~30s."
   ]
  }
 ]
}