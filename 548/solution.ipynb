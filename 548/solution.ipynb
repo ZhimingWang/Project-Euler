{
 "nbformat": 4,
 "nbformat_minor": 2,
 "metadata": {
  "language_info": {
   "name": "python",
   "codemirror_mode": {
    "name": "ipython",
    "version": 3
   }
  },
  "orig_nbformat": 2,
  "file_extension": ".py",
  "mimetype": "text/x-python",
  "name": "python",
  "npconvert_exporter": "python",
  "pygments_lexer": "ipython3",
  "version": 3
 },
 "cells": [
  {
   "cell_type": "markdown",
   "execution_count": null,
   "metadata": {},
   "outputs": [],
   "source": [
    "Two observations:\n",
    "\n",
    "1. $f(n) = \\sum_{d \\mid n,\\ d \\ne n} f(d)$;\n",
    "2. If $n_1$ and $n_2$ have the same set of exponents in their prime factorization, then $f(n_1) = f(n_2)$.\n",
    "\n",
    "Therefore, we can simply enumerate all exponent configurations, calculate the corresponding $f$, and check whether that value has the desired exponent configuration.\n",
    "\n",
    "My C++ implementation takes ~30s (largely coming from factorization, it seems)."
   ]
  }
 ]
}