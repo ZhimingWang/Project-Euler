{
 "nbformat": 4,
 "nbformat_minor": 2,
 "metadata": {
  "language_info": {
   "name": "python",
   "codemirror_mode": {
    "name": "ipython",
    "version": 3
   }
  },
  "orig_nbformat": 2,
  "file_extension": ".py",
  "mimetype": "text/x-python",
  "name": "python",
  "npconvert_exporter": "python",
  "pygments_lexer": "ipython3",
  "version": 3
 },
 "cells": [
  {
   "cell_type": "markdown",
   "execution_count": null,
   "metadata": {},
   "outputs": [],
   "source": [
    "Let $g(n)$ be the count of integers that sum up to $f(n)$. Then apparently\n",
    "\n",
    "$$f(n) = \\sum_{i=1}^9 (10 f(n-i) + i\\, g(n-i)),$$\n",
    "$$g(n) = \\sum_{i=1}^9 g(n-i).$$\n",
    "\n",
    "where $f(0) = 0$, $g(0) = 1$, and we define $f(n) = g(n) = 0$ for $n < 0$ for simplicity.\n",
    "\n",
    "Let $v_n = (f(n), f(n-1), \\dots, f(n-8), g(n), g(n-1), \\dots, g(n-8))$, then the recurrence relation is equivalent to a transition matrix $T$ s.t. $v_{n+1} = v_n T$, and we can easily calculate the elements of the sparse matrix:\n",
    "\n",
    "$$\n",
    "\\begin{aligned}\n",
    "t_{i,1} = 10,\\quad & 1 \\le i \\le 9, \\\\\n",
    "t_{i,1} = i-9,\\ & 10 \\le i \\le 18,\\\\\n",
    "t_{i,10} = 1,\\ & 10 \\le i \\le 18,\\\\\n",
    "t_{i-1,i} = 1,\\ & 2 \\le i \\le 9,\\\\\n",
    "t_{i-1,1} = 1,\\ & 11 \\le i \\le 18.\n",
    "\\end{aligned}\n",
    "$$\n",
    "\n",
    "Then\n",
    "\n",
    "$$f(n) = v_{n,0} = (v_0 T^n)_0.$$"
   ]
  }
 ]
}