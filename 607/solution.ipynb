{
 "nbformat": 4,
 "nbformat_minor": 2,
 "metadata": {
  "language_info": {
   "name": "python",
   "codemirror_mode": {
    "name": "ipython",
    "version": 3
   }
  },
  "orig_nbformat": 2,
  "file_extension": ".py",
  "mimetype": "text/x-python",
  "name": "python",
  "npconvert_exporter": "python",
  "pygments_lexer": "ipython3",
  "version": 3
 },
 "cells": [
  {
   "cell_type": "markdown",
   "execution_count": null,
   "metadata": {},
   "outputs": [],
   "source": [
    "An optics problem. Snell's law is the key.\n",
    "\n",
    "We rotate the system by $\\pi/4$ so that the marsh strips are horizontal. Let the path cut through the boundaries at incident angles $\\theta_0$, $\\theta_1$, ... $\\theta_5$ and finally leaving at an angle $\\theta_6$. (Here angles are between the path and the boundaries, instead of between the path and normal of the boundaries.) Snell's law says\n",
    "\n",
    "$$\\frac{\\cos\\theta_1}{\\cos\\theta_0} = \\frac{9}{10},$$\n",
    "$$\\frac{\\cos\\theta_2}{\\cos\\theta_1} = \\frac{8}{9},$$\n",
    "$$\\frac{\\cos\\theta_3}{\\cos\\theta_2} = \\frac{7}{8},$$\n",
    "$$\\frac{\\cos\\theta_4}{\\cos\\theta_3} = \\frac{6}{7},$$\n",
    "$$\\frac{\\cos\\theta_5}{\\cos\\theta_4} = \\frac{5}{6},$$\n",
    "$$\\frac{\\cos\\theta_6}{\\cos\\theta_5} = \\frac{10}{5}.$$\n",
    "\n",
    "Apparently $\\theta_6 = \\theta_0$. We also have the equation\n",
    "\n",
    "$$50(\\sqrt{2}-1)\\cot\\theta_0 + 10(\\cot\\theta_1 + \\cot\\theta_2 + \\cdots + \\cot\\theta_5) = 50\\sqrt{2}$$\n",
    "\n",
    "through inspection of horizontal offsets. Let $x = \\cos\\theta_0$, then $\\cos\\theta_1 = 9x/10$, $\\cos\\theta_2 = 8x/10$, etc., and we can solve for $x$ numerically from the equation above. Finally, we plug the solution into the time formula:\n",
    "\n",
    "$$T = 50(\\sqrt{2}-1)\\frac{\\sec\\theta_0}{10} + 10 \\left( \\frac{\\sec\\theta_1}{9} + \\frac{\\sec\\theta_2}{8} + \\cdots + \\frac{\\sec{\\theta_5}}{5} \\right).$$\n",
    "\n",
    "As always I entrust precision calculations like this to Mathematica."
   ]
  }
 ]
}