{
 "nbformat": 4,
 "nbformat_minor": 2,
 "metadata": {
  "language_info": {
   "name": "python",
   "codemirror_mode": {
    "name": "ipython",
    "version": 3
   },
   "version": "3.8.0"
  },
  "orig_nbformat": 2,
  "file_extension": ".py",
  "mimetype": "text/x-python",
  "name": "python",
  "npconvert_exporter": "python",
  "pygments_lexer": "ipython3",
  "version": 3
 },
 "cells": [
  {
   "cell_type": "markdown",
   "execution_count": null,
   "metadata": {},
   "outputs": [],
   "source": [
    "Straightforward DP using bottom line color config as state."
   ]
  },
  {
   "cell_type": "code",
   "execution_count": 1,
   "metadata": {},
   "outputs": [
    {
     "name": "stdout",
     "output_type": "stream",
     "text": "10834893628237824\n"
    }
   ],
   "source": [
    "#!/usr/bin/env python3\n",
    "\n",
    "import functools\n",
    "import itertools\n",
    "\n",
    "\n",
    "@functools.lru_cache(maxsize=None)\n",
    "def count(bottom_colors):\n",
    "    length = len(bottom_colors)\n",
    "    if length == 1:\n",
    "        return 1\n",
    "    total = 0\n",
    "    for complement_colors in itertools.product(\n",
    "        *[\n",
    "            sorted(set((0, 1, 2)) - set((bottom_colors[i], bottom_colors[i + 1])))\n",
    "            for i in range(length - 1)\n",
    "        ]\n",
    "    ):\n",
    "        for sub_bottom_colors in itertools.product(\n",
    "            *[[i for i in range(3) if i != color] for color in complement_colors]\n",
    "        ):\n",
    "            total += count(sub_bottom_colors)\n",
    "    return total\n",
    "\n",
    "\n",
    "def main():\n",
    "    print(\n",
    "        sum(\n",
    "            count(bottom_colors)\n",
    "            for bottom_colors in itertools.product(*([(0, 1, 2)] * 8))\n",
    "        )\n",
    "    )\n",
    "\n",
    "\n",
    "if __name__ == \"__main__\":\n",
    "    main()\n"
   ]
  }
 ]
}