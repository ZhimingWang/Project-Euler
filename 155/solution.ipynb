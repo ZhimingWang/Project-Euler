{
 "nbformat": 4,
 "nbformat_minor": 2,
 "metadata": {
  "language_info": {
   "name": "python",
   "codemirror_mode": {
    "name": "ipython",
    "version": 3
   },
   "version": "3.8.0"
  },
  "orig_nbformat": 2,
  "file_extension": ".py",
  "mimetype": "text/x-python",
  "name": "python",
  "npconvert_exporter": "python",
  "pygments_lexer": "ipython3",
  "version": 3
 },
 "cells": [
  {
   "cell_type": "markdown",
   "execution_count": null,
   "metadata": {},
   "outputs": [],
   "source": [
    "The most straightforward DP brute force works tolerably, even in Python. The one opmization I needed to not wait forever is to replace `fractions.Fraction` with `gmpy2.mpq`... End result runs in ~40s."
   ]
  },
  {
   "cell_type": "code",
   "execution_count": 1,
   "metadata": {},
   "outputs": [
    {
     "name": "stdout",
     "output_type": "stream",
     "text": "2: 2\n3: 4\n4: 9\n5: 22\n6: 53\n7: 131\n8: 337\n9: 869\n10: 2213\n11: 5691\n12: 14517\n13: 37017\n14: 93731\n15: 237465\n16: 601093\n17: 1519815\n18: 3842575\n3857447\n"
    }
   ],
   "source": [
    "#!/usr/bin/env python3\n",
    "\n",
    "import gmpy2\n",
    "\n",
    "\n",
    "N = 18\n",
    "\n",
    "\n",
    "def search():\n",
    "    possible_capacities = [None, set([gmpy2.mpq(1)])]\n",
    "    for n in range(2, N + 1):\n",
    "        n_capacities = set()\n",
    "        for i in range(1, int(n / 2) + 1):\n",
    "            for c1 in possible_capacities[i]:\n",
    "                for c2 in possible_capacities[n - i]:\n",
    "                    n_capacities.add(c1 + c2)\n",
    "                    n_capacities.add(1 / (1 / c1 + 1 / c2))\n",
    "        print(f\"{n}: {len(n_capacities)}\")\n",
    "        possible_capacities.append(n_capacities)\n",
    "    all_possible_capacities = set()\n",
    "    for n in range(1, N + 1):\n",
    "        all_possible_capacities |= possible_capacities[n]\n",
    "    return len(all_possible_capacities)\n",
    "\n",
    "\n",
    "def main():\n",
    "    print(search())\n",
    "\n",
    "\n",
    "if __name__ == \"__main__\":\n",
    "    main()\n"
   ]
  }
 ]
}