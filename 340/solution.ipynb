{
 "nbformat": 4,
 "nbformat_minor": 2,
 "metadata": {
  "language_info": {
   "name": "python",
   "codemirror_mode": {
    "name": "ipython",
    "version": 3
   }
  },
  "orig_nbformat": 2,
  "file_extension": ".py",
  "mimetype": "text/x-python",
  "name": "python",
  "npconvert_exporter": "python",
  "pygments_lexer": "ipython3",
  "version": 3
 },
 "cells": [
  {
   "cell_type": "markdown",
   "execution_count": null,
   "metadata": {},
   "outputs": [],
   "source": [
    "It's easy to show that for $b - ka < n \\le b - (k-1)a$, where $k \\in \\mathbb{N}^+$,\n",
    "\n",
    "$$F(n) = n + 4ka - (3k+1)c.$$\n",
    "\n",
    "Therefore, for $b = qa + r$ where $0 \\le r < a$,\n",
    "\n",
    "$$\n",
    "\\begin{aligned}\n",
    "S(a, b, c)\n",
    "&= \\sum_{i=1}^q \\sum_{n=b-ia+1}^{b-(i-1)a} (n + 4ia - (3i+1)c) + \\sum_{n=0}^r(n + 4(q+1)a - (3(q+1)+1)c) \\\\\n",
    "&= \\frac{b(b+1)}{2} + a\\left(\\sum_{i=1}^q 4ia - (3i+1)c\\right) + (r+1)[(4q+4)a - (3q+4)c] \\\\\n",
    "&= \\frac{b(b+1)}{2} + (2q^2+2q)a^2 - \\frac{3q^2+5q}{2} ac + (r+1)[(4q+4)a - (3q+4)c].\n",
    "\\end{aligned}\n",
    "$$"
   ]
  }
 ]
}