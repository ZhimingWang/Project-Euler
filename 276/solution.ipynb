{
 "nbformat": 4,
 "nbformat_minor": 2,
 "metadata": {
  "language_info": {
   "name": "python",
   "codemirror_mode": {
    "name": "ipython",
    "version": 3
   }
  },
  "orig_nbformat": 2,
  "file_extension": ".py",
  "mimetype": "text/x-python",
  "name": "python",
  "npconvert_exporter": "python",
  "pygments_lexer": "ipython3",
  "version": 3
 },
 "cells": [
  {
   "cell_type": "markdown",
   "execution_count": null,
   "metadata": {},
   "outputs": [],
   "source": [
    "We first need to calculate $a_n$ the number of integer-sides triangles with perimeter $n$. With $a_n$ we can calculate $b_n$ the number of primitive triangles with perimeter $n$ through either DP or Moebius inversion.\n",
    "\n",
    "I shamelessly looked up $a_n$ in OEIS and found [A005044](https://oeis.org/A005044), with the formula\n",
    "\n",
    "$$\n",
    "a_n = \n",
    "\\begin{cases}\n",
    "\\mathrm{ri}(n^2/48), & n \\equiv 0 \\pmod2,\\\\\n",
    "\\mathrm{ri}((n+3)^2/48), & n \\equiv 1 \\pmod2,\n",
    "\\end{cases}\n",
    "$$\n",
    "\n",
    "where $\\mathrm{ri}$ is the rounding to integer function.\n",
    "\n",
    "The Python DP implementation took ~40s.\n",
    "\n",
    "Also included is the Mathematica Moebius inversion implementation that took a whopping ~10m. (Note: `Sum[b[i],{i,10000000}]` gives the wrong result whereas `Total[b/@Range[10000000]]` works, when supposedly have precision of $\\infty$. Strange.)"
   ]
  }
 ]
}