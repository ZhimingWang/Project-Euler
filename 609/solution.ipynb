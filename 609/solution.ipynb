{
 "nbformat": 4,
 "nbformat_minor": 2,
 "metadata": {
  "language_info": {
   "name": "python",
   "codemirror_mode": {
    "name": "ipython",
    "version": 3
   },
   "version": "3.8.0"
  },
  "orig_nbformat": 2,
  "file_extension": ".py",
  "mimetype": "text/x-python",
  "name": "python",
  "npconvert_exporter": "python",
  "pygments_lexer": "ipython3",
  "version": 3
 },
 "cells": [
  {
   "cell_type": "markdown",
   "execution_count": null,
   "metadata": {},
   "outputs": [],
   "source": [
    "Straightforward. Consider numbers between two adjacent primes at a time, and keep track of the sequence of non-prime counts of $\\pi$-sequences starting with each prime $p$.\n",
    "\n",
    "My Python implementation is a bit slow, took ~14s."
   ]
  },
  {
   "cell_type": "code",
   "execution_count": 1,
   "metadata": {},
   "outputs": [
    {
     "name": "stdout",
     "output_type": "stream",
     "text": "172023848\n"
    }
   ],
   "source": [
    "#!/usr/bin/env python3\n",
    "\n",
    "import collections\n",
    "\n",
    "import primesieve\n",
    "\n",
    "\n",
    "N = 10 ** 8\n",
    "MODULUS = 1_000_000_007\n",
    "\n",
    "\n",
    "def main():\n",
    "    primes = primesieve.primes(N)\n",
    "    n_primes = len(primes)\n",
    "    # pi_npcnt_seq keeps track of nonprime counts in a series of pi\n",
    "    # sequences. e.g. for (10, 4), (10, 4, 2), (10, 4, 2, 1), the\n",
    "    # sequence is (2, 2, 2).\n",
    "    pi_npcnt_seq = ()\n",
    "    # pi_npcnt_seqs[i] is pi_npcnt_seq for primes[i].\n",
    "    pi_npcnt_seqs = []\n",
    "    pi_nextprime_index = 0\n",
    "    pi_nextprime = 2\n",
    "    pi_currently_prime = False\n",
    "    P_counts = collections.defaultdict(int)\n",
    "    for i, p in enumerate(primes):\n",
    "        pi = i + 1\n",
    "        if pi == pi_nextprime:\n",
    "            pi_currently_prime = True\n",
    "            pi_npcnt_seq = pi_npcnt_seqs[pi_nextprime_index]\n",
    "            pi_nextprime_index += 1\n",
    "            pi_nextprime = primes[pi_nextprime_index]\n",
    "        # The non-prime count sequence for p should be\n",
    "        #\n",
    "        #   (0, *pi_npcnt_seq)\n",
    "        #\n",
    "        # if pi_currently_prime, or\n",
    "        #\n",
    "        #   (1, *pi_npcnt_seq)\n",
    "        #\n",
    "        # if not.\n",
    "        #\n",
    "        # Then, for all p < n < next_prime, the non-prime count sequence\n",
    "        # is one plus that of p.\n",
    "        pi_npcnt_seqs.append(\n",
    "            tuple([0 if pi_currently_prime else 1] + list(pi_npcnt_seq))\n",
    "        )\n",
    "        if pi < n_primes:\n",
    "            n_composites = primes[pi] - p - 1\n",
    "        else:\n",
    "            n_composites = N - p\n",
    "        for k in pi_npcnt_seqs[i]:\n",
    "            P_counts[k] += 1\n",
    "            P_counts[k + 1] += n_composites\n",
    "        if pi_currently_prime:\n",
    "            # Once we increment pi it will no longer be a prime, so the\n",
    "            # non-prime count of the each pi-sequence should be\n",
    "            # incremented.\n",
    "            pi_npcnt_seq = tuple(k + 1 for k in pi_npcnt_seq)\n",
    "            pi_currently_prime = False\n",
    "    r = 1\n",
    "    for count in P_counts.values():\n",
    "        r = (r * count) % MODULUS\n",
    "    print(r)\n",
    "\n",
    "\n",
    "if __name__ == \"__main__\":\n",
    "    main()\n"
   ]
  }
 ]
}