{
 "nbformat": 4,
 "nbformat_minor": 2,
 "metadata": {
  "language_info": {
   "name": "python",
   "codemirror_mode": {
    "name": "ipython",
    "version": 3
   }
  },
  "orig_nbformat": 2,
  "file_extension": ".py",
  "mimetype": "text/x-python",
  "name": "python",
  "npconvert_exporter": "python",
  "pygments_lexer": "ipython3",
  "version": 3
 },
 "cells": [
  {
   "cell_type": "markdown",
   "execution_count": null,
   "metadata": {},
   "outputs": [],
   "source": [
    "I borrowed the formula from [this answer](https://math.stackexchange.com/a/129802):\n",
    "\n",
    "**Claim.** The number of permutations of a multiset with multiplicity $(k_1, k_2, \\dots, k_n)$ with no two consecutive terms equal is\n",
    "\n",
    "$$\\int_0^\\infty e^{-x} \\prod_i q_{k_i}(x) \\, dx,$$\n",
    "\n",
    "where\n",
    "\n",
    "$$q_k(x) = \\sum_{i=1}^k \\frac{(-1)^{i-k}}{i!} {k-1 \\choose i-1}x^i.$$\n",
    "\n",
    "This also appears in a paper by the same author: https://arxiv.org/pdf/1306.6232.pdf.\n",
    "\n",
    "This formula gives us the number of 13-perfect-rank permutations immediately, which is\n",
    "\n",
    "$$\\int_0^\\infty e^{-x} q_4(x)^{13} \\, dx.$$\n",
    "\n",
    "In general, for an $i$-perfect rank permutation, we can collapse the equal consecutive terms and reduce the multiplicities of corresponding ranks. For any non-perfect rank, the configuration must be one of the following: (2,1,1), (1,2,1), (1,1,2) (multiplicity 3), (3,1), (1,3), (2,2) (multiplicity 2), and (4) (multiplicity 1). Therefore the count is given by\n",
    "\n",
    "$$\\binom{13}{i} \\int_0^\\infty e^{-x} q_4(x)^i (3q_3(x) + 3q_2(x) + q_1(x))^{13-i} \\, dx.$$\n",
    "\n",
    "Btw I also wrote a C++ simulation first."
   ]
  }
 ]
}