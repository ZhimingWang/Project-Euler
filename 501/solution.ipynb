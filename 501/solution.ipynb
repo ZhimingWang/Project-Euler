{
 "nbformat": 4,
 "nbformat_minor": 2,
 "metadata": {
  "language_info": {
   "name": "python",
   "codemirror_mode": {
    "name": "ipython",
    "version": 3
   }
  },
  "orig_nbformat": 2,
  "file_extension": ".py",
  "mimetype": "text/x-python",
  "name": "python",
  "npconvert_exporter": "python",
  "pygments_lexer": "ipython3",
  "version": 3
 },
 "cells": [
  {
   "cell_type": "markdown",
   "execution_count": null,
   "metadata": {},
   "outputs": [],
   "source": [
    "We're looking for numbers of the form $pqr$, $p^3q$ and $p^7$. The last form is trivial. For the previous two, once we fix $pq$ or $p^3$, it boils down to calculating $\\pi(N/pq)$ or $\\pi(N/p^3)$. For small enough $n$, we can simply calculate $\\pi(n)$ via binary search on a pre-generated prime list. This works up to $10^9$, but the memory and computation cost of generating the whole prime list becomes a bit too high once we're in the $10^10$ range. Fortunately we only need to calculate $\\pi$ for a few hundred values over $10^9$. Instead of writing a fast algorithm myself I simply pre-computed the table in Mathematica (~6s)."
   ]
  }
 ]
}