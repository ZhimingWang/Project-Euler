{
 "nbformat": 4,
 "nbformat_minor": 2,
 "metadata": {
  "language_info": {
   "name": "python",
   "codemirror_mode": {
    "name": "ipython",
    "version": 3
   }
  },
  "orig_nbformat": 2,
  "file_extension": ".py",
  "mimetype": "text/x-python",
  "name": "python",
  "npconvert_exporter": "python",
  "pygments_lexer": "ipython3",
  "version": 3
 },
 "cells": [
  {
   "cell_type": "markdown",
   "execution_count": null,
   "metadata": {},
   "outputs": [],
   "source": [
    "Apparently\n",
    "\n",
    "$$S(n) = \\sum_{d \\mid n} (\\sigma_0(n/d) - 1) = \\sum_{d \\mid n} \\sigma_0(d) - \\sigma_0(n),$$\n",
    "\n",
    "where $\\sigma_0$ is the divisor count function. For $(p_m\\#)^n$, we can easily show that the former term is $(1 + 2 + 3 + \\cdots + (n+1))^m = \\left(\\frac{(n+1)(n+2)}{2}\\right)^m$, and the latter is $(n+1)^m$, so\n",
    "\n",
    "$$S((p_m\\#)^n) = \\left(\\frac{(n+1)(n+2)}{2}\\right)^m - (n+1)^m.$$\n",
    "\n",
    "For odd $n$, the 2-adic order is apparently $m(\\nu_2(n+1) - 1) = m\\nu_2\\left(\\frac{n+1}{2}\\right).$ For even $n$, the above can be factored into $\\frac{(n+1)(n+2)}{2} - (n+1) = \\frac{(n+1)n}{2}$ and a term that is odd for odd $m$, so given $m$ is odd, the 2-adic order is simply $\\nu_2\\left(\\frac{n}{2}\\right)$. Therefore,\n",
    "\n",
    "$$\n",
    "E(m,n)=\n",
    "\\begin{cases}\n",
    "m\\nu_2\\left(\\frac{n+1}{2}\\right), & 2 \\nmid n,\\\\\n",
    "\\nu_2\\left(\\frac{n}{2}\\right), & 2 \\mid n.\n",
    "\\end{cases}\n",
    "$$\n",
    "\n",
    "Then\n",
    "\n",
    "$$Q(n) = \\sum_{i=1}^{\\left\\lfloor\\frac{n}{2}\\right\\rfloor} E(m,2i) + \\sum_{i=1}^{\\left\\lceil\\frac{n}{2}\\right\\rceil} E(m,2i-1)\n",
    "= \\sum_{i=1}^{\\left\\lfloor\\frac{n}{2}\\right\\rfloor} \\nu_2(i) + m \\sum_{i=1}^{\\left\\lceil\\frac{n}{2}\\right\\rceil} \\nu_2(i)\n",
    "= u\\left(\\left\\lfloor\\frac{n}{2}\\right\\rfloor\\right) + m\\,u\\left(\\left\\lceil\\frac{n}{2}\\right\\rceil\\right),\n",
    "$$\n",
    "\n",
    "where $u(n) = \\sum_{i=1}^n \\nu_2(i)) = \\nu_2(n!)$ can be calculated using Legendre's formula."
   ]
  }
 ]
}