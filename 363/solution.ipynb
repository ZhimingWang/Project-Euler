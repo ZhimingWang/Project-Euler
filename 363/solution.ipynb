{
 "nbformat": 4,
 "nbformat_minor": 2,
 "metadata": {
  "language_info": {
   "name": "python",
   "codemirror_mode": {
    "name": "ipython",
    "version": 3
   }
  },
  "orig_nbformat": 2,
  "file_extension": ".py",
  "mimetype": "text/x-python",
  "name": "python",
  "npconvert_exporter": "python",
  "pygments_lexer": "ipython3",
  "version": 3
 },
 "cells": [
  {
   "cell_type": "markdown",
   "execution_count": null,
   "metadata": {},
   "outputs": [],
   "source": [
    "We simply calculate the coordinate of each point and arrive at\n",
    "\n",
    "$$B = (x(t),\\, y(t))= (1 - 3(1-v)t^2 + (2-3v)t^3,\\, 3vt + 3(1-2v)t^2 - (2-3v)t^3).$$\n",
    "\n",
    "The area under the curve is\n",
    "\n",
    "$$-\\int_0^1 y(t)x'(t)dt = -\\frac{3v^2}{20} + \\frac{3v}{5} + \\frac{1}{2}.$$\n",
    "\n",
    "We can solve for $v$ given that the area is $\\pi/4$. Then with the solution we can numerically calculate the arc length\n",
    "\n",
    "$$L = \\int_0^1 \\sqrt{x'(t)^2 + y'(t)^2}dt.$$"
   ]
  }
 ]
}