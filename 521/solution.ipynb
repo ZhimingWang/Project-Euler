{
 "nbformat": 4,
 "nbformat_minor": 2,
 "metadata": {
  "language_info": {
   "name": "python",
   "codemirror_mode": {
    "name": "ipython",
    "version": 3
   }
  },
  "orig_nbformat": 2,
  "file_extension": ".py",
  "mimetype": "text/x-python",
  "name": "python",
  "npconvert_exporter": "python",
  "pygments_lexer": "ipython3",
  "version": 3
 },
 "cells": [
  {
   "cell_type": "markdown",
   "execution_count": null,
   "metadata": {},
   "outputs": [],
   "source": [
    "I first wrote an inclusion-exclusion principle-based implementation (`solution2.cc`) but it's way too slow since it basically enumerates all squarefree integers under $N$. It takes >2hr even for 10^8.\n",
    "\n",
    "Then I wrote another brute force leveraging the fact that any $n$ is uniquely written as $p \\cdot n/p$ where $p$ is the smallest prime factor of $n$, and all prime factors of $n/p$ are $\\ge p$; so we can enumerate $m = n/p$, where for each $m$, the smallest prime factor of $q \\cdot m$ is $q$ for all $q \\le$ the smallest prime factor of $m$. This strategy lends itself well to parallelism. Using OpenMP with my 12 virtual cores, the result is calculated in ~$10^4$s CPU time, or ~14min wall clock time.\n",
    "\n",
    "For the actual non-bruteforce algorithm, check out [the thread](https://projecteuler.net/thread=521;post=211306)."
   ]
  }
 ]
}