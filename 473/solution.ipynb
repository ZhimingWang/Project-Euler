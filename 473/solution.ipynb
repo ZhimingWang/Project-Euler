{
 "nbformat": 4,
 "nbformat_minor": 2,
 "metadata": {
  "language_info": {
   "name": "python",
   "codemirror_mode": {
    "name": "ipython",
    "version": 3
   }
  },
  "orig_nbformat": 2,
  "file_extension": ".py",
  "mimetype": "text/x-python",
  "name": "python",
  "npconvert_exporter": "python",
  "pygments_lexer": "ipython3",
  "version": 3
 },
 "cells": [
  {
   "cell_type": "markdown",
   "execution_count": null,
   "metadata": {},
   "outputs": [],
   "source": [
    "We're essentially looking for combinations of $S_n = \\phi^n + \\phi^{-n-1}$ that sum up to integers. Note that\n",
    "\n",
    "$$\\sqrt{5}S_n = (\\phi + \\phi^{-1})S_n = S_{n+1} + S_{n-1},$$\n",
    "$$S_0 = \\frac{1+\\sqrt{5}}{2},\\ S_1 = 2,$$\n",
    "\n",
    "so we can easily calculate $S_n$ using this recursive relationship.\n",
    "\n",
    "```\n",
    "2S(0) = 1 + 1 sqrt(5)\n",
    "2S(1) = 2 + 0 sqrt(5)\n",
    "2S(2) = -1 + 3 sqrt(5)\n",
    "2S(3) = 11 - 1 sqrt(5)\n",
    "2S(4) = -4 + 8 sqrt(5)\n",
    "2S(5) = 29 - 3 sqrt(5)\n",
    "2S(6) = -11 + 21 sqrt(5)\n",
    "2S(7) = 76 - 8 sqrt(5)\n",
    "2S(8) = -29 + 55 sqrt(5)\n",
    "2S(9) = 199 - 21 sqrt(5)\n",
    "2S(10) = -76 + 144 sqrt(5)\n",
    "2S(11) = 521 - 55 sqrt(5)\n",
    "2S(12) = -199 + 377 sqrt(5)\n",
    "2S(13) = 1364 - 144 sqrt(5)\n",
    "2S(14) = -521 + 987 sqrt(5)\n",
    "2S(15) = 3571 - 377 sqrt(5)\n",
    "2S(16) = -1364 + 2584 sqrt(5)\n",
    "...\n",
    "```\n",
    "\n",
    "It's not hard to notice that the coefficients of $\\sqrt{5}$ are $\\pm$ every other term in the Fibonacci sequence. Recall that every positive integer can be uniquely written as the sum of nonconsecutive terms of the Fibonacci sequence. Therefore, in order to sum up to integers, we must pair up $S(2j)$ and $S(2j+3)$, with an optional standalone $S(1)$. At this point we can simply perform BFS on the pairs to generate all sums, subject to the constraint that no two consecutive powers appear in the decomposition, which can be easily guaranteed with a mask. (Note that $S_0$ and $S_3$ are forbidden because $S_0 = \\phi^0 + \\phi^{-1}$ is the sum of two consecutive powers.)\n",
    "\n",
    "Tale of causion: I wasted a lot of time dealing with wrong results since I forgot to use `1ULL` instead of `1` in the bitshift expression when testing against the mask... In the future, just always use ULL... (I must have \"learned\" this lession dozens of times during my 15 years of programming, yet here we are.)"
   ]
  }
 ]
}