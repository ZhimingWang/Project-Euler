{
 "nbformat": 4,
 "nbformat_minor": 2,
 "metadata": {
  "language_info": {
   "name": "python",
   "codemirror_mode": {
    "name": "ipython",
    "version": 3
   },
   "version": "3.8.0"
  },
  "orig_nbformat": 2,
  "file_extension": ".py",
  "mimetype": "text/x-python",
  "name": "python",
  "npconvert_exporter": "python",
  "pygments_lexer": "ipython3",
  "version": 3
 },
 "cells": [
  {
   "cell_type": "markdown",
   "execution_count": null,
   "metadata": {},
   "outputs": [],
   "source": [
    "Strightforward application of the inclusion-exclusion principle. The number of square-free numbers in $[1,\\,N]$ is apparently\n",
    "\n",
    "$$N - \\sum_p \\left\\lfloor \\frac{N}{p^2} \\right\\rfloor + \\sum_{p_1 \\ne p_2} \\left\\lfloor \\frac{N}{p_1^2 p_2^2} \\right\\rfloor - \\cdots.$$\n",
    "\n",
    "The Python BFS implementation (to avoid recursive function calls) takes ~20s."
   ]
  },
  {
   "cell_type": "code",
   "execution_count": 1,
   "metadata": {},
   "outputs": [
    {
     "name": "stdout",
     "output_type": "stream",
     "text": "684465067343069\n"
    }
   ],
   "source": [
    "#!/usr/bin/env python3\n",
    "\n",
    "import collections\n",
    "import math\n",
    "\n",
    "import primesieve\n",
    "\n",
    "\n",
    "N = 2 ** 50\n",
    "\n",
    "\n",
    "def main():\n",
    "    # We should not count N itself per problem requirement, so might as\n",
    "    # well subtract 1 since otherwise all calculations only involve N-1.\n",
    "    n = N - 1\n",
    "    primes = primesieve.primes(math.sqrt(n))\n",
    "    squares = [p * p for p in primes]\n",
    "    n_squares = len(squares)\n",
    "    q = collections.deque()\n",
    "    # (next_index, current_length, current_product)\n",
    "    #\n",
    "    # next_index is the index of the next acceptable square factor,\n",
    "    # current_length is the current number of square factors already in,\n",
    "    # current_product is the product of all current square factors.\n",
    "    q.append((0, 0, 1))\n",
    "    count = 0\n",
    "    while q:\n",
    "        next_index, current_length, current_product = q.popleft()\n",
    "        quotient = n // current_product\n",
    "        # Inclusion-exclusion principle\n",
    "        count += pow(-1, current_length) * quotient\n",
    "        for i in range(next_index, n_squares):\n",
    "            s = squares[i]\n",
    "            if s > quotient:\n",
    "                break\n",
    "            q.append((i + 1, current_length + 1, current_product * s))\n",
    "    print(count)\n",
    "\n",
    "    ## Verification: the brute force method.\n",
    "    # count = 0\n",
    "    # for i in range(1, N):\n",
    "    #     for s in squares:\n",
    "    #         if i % s == 0:\n",
    "    #             break\n",
    "    #     else:\n",
    "    #         count += 1\n",
    "    # print(count)\n",
    "\n",
    "\n",
    "if __name__ == \"__main__\":\n",
    "    main()\n"
   ]
  }
 ]
}