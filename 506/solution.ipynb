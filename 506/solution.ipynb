{
 "nbformat": 4,
 "nbformat_minor": 2,
 "metadata": {
  "language_info": {
   "name": "python",
   "codemirror_mode": {
    "name": "ipython",
    "version": 3
   }
  },
  "orig_nbformat": 2,
  "file_extension": ".py",
  "mimetype": "text/x-python",
  "name": "python",
  "npconvert_exporter": "python",
  "pygments_lexer": "ipython3",
  "version": 3
 },
 "cells": [
  {
   "cell_type": "markdown",
   "execution_count": null,
   "metadata": {},
   "outputs": [],
   "source": [
    "It's easy to see that each 6-digit group $(6i, 6i+1, \\dots, 6i+5)$ follows this pattern:\n",
    "\n",
    "$$\n",
    "\\begin{gathered}\n",
    "(\\underbrace{0,0,\\dots,0}_{15i\\ 0\\text{'s}}, 1, 2, 3, 4, 32, 123, 43, 2123, 432, 1234, 32123, 43212, 34321, 23432, 123432,\\\\\n",
    "\\overline{234321, 343212, 432123, 321234, 123432, 432123, 212343, 432123, \\\n",
    "123432, 321234, 432123, 343212, 234321, 123432, 123432}).\n",
    "\\end{gathered}\n",
    "$$\n",
    "\n",
    "(The period actually starts with 123432, but for ease of calculation we left the first 123432 outside the period so that the non-periodic part has exactly 15 elements, same as the period length.)\n",
    "\n",
    "Let $s(n) = \\sum_{i=1}^n v_n \\mod{10^6}$, $\\Sigma_0 = S(15)$ the sum of the nonperiodic part, and $\\Sigma_1 = S(30) - S(15)$ the sum of the periodic part. Then, given $n = 15q + r$, we have\n",
    "\n",
    "$$\n",
    "\\begin{aligned}\n",
    "S(n)\n",
    "&= 10^{6q} s(r) + \\sum_{i=0}^{q-1}((q-1-i)\\Sigma_1 + s(r+15)) 10^{6i} \\\\\n",
    "&= 10^{6q} s(r) + \\frac{10^{6q}-1}{10^6-1} \\cdot s(r+15) + \\frac{\\frac{10^{6q}-1}{10^6-1} - q}{10^6-1} \\cdot \\Sigma_1.\n",
    "\\end{aligned}\n",
    "$$"
   ]
  }
 ]
}