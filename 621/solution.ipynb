{
 "nbformat": 4,
 "nbformat_minor": 2,
 "metadata": {
  "language_info": {
   "name": "python",
   "codemirror_mode": {
    "name": "ipython",
    "version": 3
   }
  },
  "orig_nbformat": 2,
  "file_extension": ".py",
  "mimetype": "text/x-python",
  "name": "python",
  "npconvert_exporter": "python",
  "pygments_lexer": "ipython3",
  "version": 3
 },
 "cells": [
  {
   "cell_type": "markdown",
   "execution_count": null,
   "metadata": {},
   "outputs": [],
   "source": [
    "$$(2n_1+1)^2 + (2n_2+1)^2 + (2n_3+1)^2 = n,$$\n",
    "\n",
    "so we can loop through possible values of $n_1$ and summing up $r_2(n-(2n_1+1)^2)$ where $r_2$ is the [sum of two squares function](http://mathworld.wolfram.com/SumofSquaresFunction.html), which can be calculated via factorization, but Mathematica already helpfully provides it in the form of `SquaresR`. Note that $r_2$ counts squares of negative numbers as valid too, so we need to divide the result by 4. Mathematica with 6 parallel kernels took under 2min to derive the result.\n",
    "\n",
    "Note that Mathematica can in fact give us the result directly via `SquaresR[3, 8n+3] / 8`; however, `SquaresR` is single-threaded so this is slow."
   ]
  }
 ]
}