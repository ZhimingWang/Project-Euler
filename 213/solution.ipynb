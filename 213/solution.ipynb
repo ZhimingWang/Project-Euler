{
 "nbformat": 4,
 "nbformat_minor": 2,
 "metadata": {
  "language_info": {
   "name": "python",
   "codemirror_mode": {
    "name": "ipython",
    "version": 3
   },
   "version": "3.8.0"
  },
  "orig_nbformat": 2,
  "file_extension": ".py",
  "mimetype": "text/x-python",
  "name": "python",
  "npconvert_exporter": "python",
  "pygments_lexer": "ipython3",
  "version": 3
 },
 "cells": [
  {
   "cell_type": "markdown",
   "execution_count": null,
   "metadata": {},
   "outputs": [],
   "source": [
    "The transition matrix is only 900x900, very easy to calculate, so we automatically have the transition matrix for any number of steps. Once we have the full probability matrix for the final state, the expectation of a cell being empty is simply the product of the probability of each flea not being there, i.e., one minus the probability at that cell."
   ]
  },
  {
   "cell_type": "code",
   "execution_count": 1,
   "metadata": {},
   "outputs": [
    {
     "data": {
      "text/plain": "5.6636"
     },
     "execution_count": 1,
     "metadata": {},
     "output_type": "execute_result"
    }
   ],
   "source": [
    "# A brute force Monte-Carlo simulation useful for simulating small\n",
    "# boards to validate and shake out bugs.\n",
    "\n",
    "import random\n",
    "\n",
    "import numpy as np\n",
    "\n",
    "\n",
    "def monte_carlo(m, n, steps, repeat_count):\n",
    "    cummulated = 0\n",
    "    for _ in range(repeat_count):\n",
    "        state = np.ones((m, n), dtype=int)\n",
    "        for _ in range(steps):\n",
    "            old_state = state\n",
    "            state = np.zeros((m, n), dtype=int)\n",
    "            for i in range(m):\n",
    "                for j in range(n):\n",
    "                    choices = [\n",
    "                        (x, y)\n",
    "                        for x, y in [(i - 1, j), (i + 1, j), (i, j - 1), (i, j + 1)]\n",
    "                        if 0 <= x < m and 0 <= y < n\n",
    "                    ]\n",
    "                    for _ in range(old_state[i][j]):\n",
    "                        x, y = random.choice(choices)\n",
    "                        state[x][y] += 1\n",
    "        cummulated += m * n - np.count_nonzero(state)\n",
    "    return cummulated / repeat_count\n",
    "\n",
    "\n",
    "monte_carlo(4, 4, 10, 10_000)"
   ]
  },
  {
   "cell_type": "code",
   "execution_count": 2,
   "metadata": {},
   "outputs": [
    {
     "name": "stdout",
     "output_type": "stream",
     "text": "330.721154\n"
    }
   ],
   "source": [
    "import numpy as np\n",
    "\n",
    "\n",
    "def generate_transition_matrix(m, n):\n",
    "    t = np.zeros((m * n, m * n))\n",
    "    for i in range(m):\n",
    "        for j in range(n):\n",
    "            choices = [\n",
    "                (x, y)\n",
    "                for x, y in [(i - 1, j), (i + 1, j), (i, j - 1), (i, j + 1)]\n",
    "                if 0 <= x < m and 0 <= y < n\n",
    "            ]\n",
    "            for x, y in choices:\n",
    "                t[i * n + j][x * n + y] = 1 / len(choices)\n",
    "    return t\n",
    "\n",
    "\n",
    "def calculate_empty_expectation(m, n, steps):\n",
    "    t = generate_transition_matrix(m, n)\n",
    "    tt = np.linalg.matrix_power(t, steps)\n",
    "    ss = np.ones((m * n, m * n)) - tt\n",
    "    return sum(ss[:, j].prod() for j in range(m * n))\n",
    "\n",
    "\n",
    "def main():\n",
    "    print(\"{:.6f}\".format(calculate_empty_expectation(30, 30, 50)))\n",
    "\n",
    "\n",
    "if __name__ == \"__main__\":\n",
    "    main()\n"
   ]
  }
 ]
}