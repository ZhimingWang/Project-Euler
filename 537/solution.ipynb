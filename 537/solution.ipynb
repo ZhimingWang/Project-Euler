{
 "nbformat": 4,
 "nbformat_minor": 2,
 "metadata": {
  "language_info": {
   "name": "python",
   "codemirror_mode": {
    "name": "ipython",
    "version": 3
   }
  },
  "orig_nbformat": 2,
  "file_extension": ".py",
  "mimetype": "text/x-python",
  "name": "python",
  "npconvert_exporter": "python",
  "pygments_lexer": "ipython3",
  "version": 3
 },
 "cells": [
  {
   "cell_type": "markdown",
   "execution_count": null,
   "metadata": {},
   "outputs": [],
   "source": [
    "One obvious approach is divide and conquer:\n",
    "\n",
    "$$T(n, k) = \\sum_{i=0}^n T\\left(i,\\, \\left\\lfloor \\frac{k}{2} \\right\\rfloor\\right)T\\left(n-i,\\, \\left\\lceil \\frac{k}{2} \\right\\rceil\\right),$$\n",
    "$$T(0, k) = 1,\\ T(n, 1) = p_{n+1} - p_n.$$\n",
    "\n",
    "My C++ implementation takes ~1min. In hindsight my memoized recursion might even be slower than straight up double loop calculating all $T(n,k)$, $n \\le N$, $k \\le K$, although the latter calculates a lot of unnecessary results.\n",
    "\n",
    "Of course there are much faster methods. There's a [writeup](https://projecteuler.net/overview=537)."
   ]
  }
 ]
}