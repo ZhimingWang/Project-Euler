{
 "nbformat": 4,
 "nbformat_minor": 2,
 "metadata": {
  "language_info": {
   "name": "python",
   "codemirror_mode": {
    "name": "ipython",
    "version": 3
   }
  },
  "orig_nbformat": 2,
  "file_extension": ".py",
  "mimetype": "text/x-python",
  "name": "python",
  "npconvert_exporter": "python",
  "pygments_lexer": "ipython3",
  "version": 3
 },
 "cells": [
  {
   "cell_type": "markdown",
   "execution_count": null,
   "metadata": {},
   "outputs": [],
   "source": [
    "It's very easy to derive the recurrence relation for $f(n)$ the expectation of empty seats for a linear table with $n$ seats:\n",
    "\n",
    "$$(n-2) f_n = 2\\sum_{i=1}^{n-2} f_i,$$\n",
    "\n",
    "or equivalently,\n",
    "\n",
    "$$(n-2) f_n = (n-3) f_{n-1} + 2 f_{n-2}.$$\n",
    "\n",
    "Then\n",
    "\n",
    "$$E(n) = \\frac{1}{n} \\cdot \\frac{2}{n-3} \\sum_{i=1}^{n-3} f(i) = \\frac{f(n-1)}{n}.$$\n",
    "\n",
    "When we calculate $E(n)$ we can see that this sequence converges fast to the continued fraction\n",
    "\n",
    "$$[0;1,1,3,5,7,9,\\dots].$$\n",
    "\n",
    "Note that\n",
    "\n",
    "$$\\tanh 1 = [0;1,3,5,7,9,\\dots,],$$\n",
    "\n",
    "so\n",
    "\n",
    "$$\\lim_{n\\to\\infty} E_n = \\frac{1}{1+\\tanh 1} = \\frac{1+e^{-2}}{2}.$$\n",
    "\n",
    "Shortest program ever for a nontrivial PE problem?"
   ]
  }
 ]
}