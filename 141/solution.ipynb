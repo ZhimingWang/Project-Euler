{
 "nbformat": 4,
 "nbformat_minor": 2,
 "metadata": {
  "language_info": {
   "name": "python",
   "codemirror_mode": {
    "name": "ipython",
    "version": 3
   },
   "version": "3.8.0"
  },
  "orig_nbformat": 2,
  "file_extension": ".py",
  "mimetype": "text/x-python",
  "name": "python",
  "npconvert_exporter": "python",
  "pygments_lexer": "ipython3",
  "version": 3
 },
 "cells": [
  {
   "cell_type": "markdown",
   "execution_count": 1,
   "metadata": {},
   "outputs": [
    {
     "ename": "SyntaxError",
     "evalue": "invalid syntax (<ipython-input-1-cbb235acb014>, line 1)",
     "output_type": "error",
     "traceback": [
      "\u001b[0;36m  File \u001b[0;32m\"<ipython-input-1-cbb235acb014>\"\u001b[0;36m, line \u001b[0;32m1\u001b[0m\n\u001b[0;31m    $n = q \\cdot d + r$.\u001b[0m\n\u001b[0m    ^\u001b[0m\n\u001b[0;31mSyntaxError\u001b[0m\u001b[0;31m:\u001b[0m invalid syntax\n"
     ]
    }
   ],
   "source": [
    "$n = q \\cdot d + r$, where $d > r$. We may assume $d < q$ since otherwise we simply swap $d$ and $q$. So $r < d < q$ and $d^2 = rq$, and we can easily show that $d = abc$, $q = a^2 c$, $r = b^2 c$, where $(a, b) = 1$. Therefore,\n",
    "\n",
    "$$n = a^3 b c^2 + b^2 c.$$\n",
    "\n",
    "We are now comfortably in brute force territory. (I wasted quite some time doing multiplicity analysis to try to further refine $a, b, c$, forgetting the range constraints.)"
   ]
  },
  {
   "cell_type": "code",
   "execution_count": 2,
   "metadata": {},
   "outputs": [
    {
     "name": "stdout",
     "output_type": "stream",
     "text": "sum of progressives under 100000: 124657\nsum of progressives under 1000000000000: 878454337159\n"
    }
   ],
   "source": [
    "import math\n",
    "\n",
    "\n",
    "# Search for triplets (a, b, c) where gcd(a, b) = 1 and\n",
    "# a^3 b c^2 + b^2 c is perfect square.\n",
    "def search(limit):\n",
    "    progressives = set()\n",
    "    for a in range(1, int(math.pow(limit, 1 / 3)) + 1):\n",
    "        a3 = a * a * a\n",
    "        for b in range(1, a):\n",
    "            if math.gcd(a, b) != 1:\n",
    "                continue\n",
    "            b2 = b * b\n",
    "            if a3 * b + b2 >= limit:\n",
    "                break\n",
    "            c = 1\n",
    "            while (n := a3 * b * c * c + b2 * c) < limit:\n",
    "                sqrt = int(math.sqrt(n))\n",
    "                if sqrt * sqrt == n:\n",
    "                    progressives.add(n)\n",
    "                c += 1\n",
    "    print(f\"sum of progressives under {int(limit)}: {sum(progressives)}\")\n",
    "\n",
    "\n",
    "def main():\n",
    "    search(1e5)\n",
    "    search(1e12)\n",
    "\n",
    "\n",
    "main()"
   ]
  },
  {
   "cell_type": "code",
   "execution_count": null,
   "metadata": {},
   "outputs": [],
   "source": []
  }
 ]
}