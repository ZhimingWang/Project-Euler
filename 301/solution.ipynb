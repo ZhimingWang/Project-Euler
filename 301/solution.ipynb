{
 "nbformat": 4,
 "nbformat_minor": 2,
 "metadata": {
  "language_info": {
   "name": "python",
   "codemirror_mode": {
    "name": "ipython",
    "version": 3
   },
   "version": "3.8.0"
  },
  "orig_nbformat": 2,
  "file_extension": ".py",
  "mimetype": "text/x-python",
  "name": "python",
  "npconvert_exporter": "python",
  "pygments_lexer": "ipython3",
  "version": 3
 },
 "cells": [
  {
   "cell_type": "markdown",
   "execution_count": null,
   "metadata": {},
   "outputs": [],
   "source": [
    "It is well known that the game of Nim is guaranteed a loss iff the sum of each digit in binary representations is even (see [Wikipedia](https://en.wikipedia.org/wiki/Nim)). Therefore, consider $n = (a_k \\dots a_0)_2$, we have $2n = (a_k \\dots a_0 0)_2$, and the $j$-th digit of $3n = n + 2n$ is $a_j + a_{j-1}$ plus possible carry from the previous digit. However, $a_j + a_{j-1} + (a_j + a_{j-1})$ is already even, so any carrying is forbidden. That is to say $a_j + a_{j-1} \\le 1$ for all $j$, or equivalently, there are no consecutive 1's in the binary representation of $n$.\n",
    "\n",
    "Now let $f(k)$ be the number of $0 \\le n < 2^k$ satisfying the above property. Then apparently $f(k) = f(k-1) + f(k-2)$ where $f(k-1)$ is the number with a leading zero and $f(k-2)$ is the number with a leading one. So $f$ is simply the Fibonacci sequence."
   ]
  },
  {
   "cell_type": "code",
   "execution_count": 2,
   "metadata": {},
   "outputs": [
    {
     "name": "stdout",
     "output_type": "stream",
     "text": "2178309\n"
    }
   ],
   "source": [
    "#!/usr/bin/env python3\n",
    "\n",
    "import functools\n",
    "\n",
    "\n",
    "@functools.lru_cache\n",
    "def fibonacci(n):\n",
    "    if n == 0:\n",
    "        return 1\n",
    "    if n == 1:\n",
    "        return 2\n",
    "    return fibonacci(n - 1) + fibonacci(n - 2)\n",
    "\n",
    "\n",
    "def main():\n",
    "    print(fibonacci(30))\n",
    "\n",
    "\n",
    "if __name__ == \"__main__\":\n",
    "    main()\n"
   ]
  }
 ]
}