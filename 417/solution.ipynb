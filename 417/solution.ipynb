{
 "nbformat": 4,
 "nbformat_minor": 2,
 "metadata": {
  "language_info": {
   "name": "python",
   "codemirror_mode": {
    "name": "ipython",
    "version": 3
   }
  },
  "orig_nbformat": 2,
  "file_extension": ".py",
  "mimetype": "text/x-python",
  "name": "python",
  "npconvert_exporter": "python",
  "pygments_lexer": "ipython3",
  "version": 3
 },
 "cells": [
  {
   "cell_type": "markdown",
   "execution_count": null,
   "metadata": {},
   "outputs": [],
   "source": [
    "A simple problem of computing $\\sum \\mathrm{ord}_n(10)$. I'm lazy so I took the path of least effort: parallelized brute force. I optimized `sympy.n_order` a little by monkeypatching: use `mpz` instead of `int` for modular exponentiation, and cache integer factorization. The `multiprocessing.pool.Pool` implementation (for some reason `ThreadPool` won't use more than one thread? not sure what the hell was wrong with my Python installation or implementation) consumed a whopping 12246.83s of CPU time. Wall clock time is around 20min (6-core i7). In hindsight the path of least effort would have been Mathematica, which would be way more efficient at computing multiplicative order too.\n",
    "\n",
    "The \"correct\" way to do this is of course sieving: calculating the multiplicative order only for prime moduli (where factorization of $p-1$ comes for free with the sieve), and take the lcm for composite moduli."
   ]
  }
 ]
}