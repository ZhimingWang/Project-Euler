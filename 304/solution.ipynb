{
 "nbformat": 4,
 "nbformat_minor": 2,
 "metadata": {
  "language_info": {
   "name": "python",
   "codemirror_mode": {
    "name": "ipython",
    "version": 3
   }
  },
  "orig_nbformat": 2,
  "file_extension": ".py",
  "mimetype": "text/x-python",
  "name": "python",
  "npconvert_exporter": "python",
  "pygments_lexer": "ipython3",
  "version": 3
 },
 "cells": [
  {
   "cell_type": "markdown",
   "execution_count": null,
   "metadata": {},
   "outputs": [],
   "source": [
    "Generating the first $10^5$ primes after $10^{14}$ is a simple game of iteration and primality test (Prime Number Theorem tells us the bound and it's not scary). The slightly more interesting part is generating large Fibonacci numbers, but it's pretty easy once we realize\n",
    "\n",
    "$$\n",
    "\\begin{bmatrix}\n",
    "F_{m-1} & F_m \\\\\n",
    "F_m & F_{m+1}\n",
    "\\end{bmatrix}\n",
    "\\equiv\n",
    "\\begin{bmatrix}\n",
    "0 & 1 \\\\\n",
    "1 & 1\n",
    "\\end{bmatrix}^m\n",
    "\\pmod n.\n",
    "$$\n",
    "\n",
    "Mathematica code runs a bit slow, ~90s, but it's realiable, so no complaints."
   ]
  }
 ]
}