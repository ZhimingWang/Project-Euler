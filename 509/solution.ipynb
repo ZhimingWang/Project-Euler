{
 "nbformat": 4,
 "nbformat_minor": 2,
 "metadata": {
  "language_info": {
   "name": "python",
   "codemirror_mode": {
    "name": "ipython",
    "version": 3
   },
   "version": "3.8.0-final"
  },
  "orig_nbformat": 2,
  "file_extension": ".py",
  "mimetype": "text/x-python",
  "name": "python",
  "npconvert_exporter": "python",
  "pygments_lexer": "ipython3",
  "version": 3,
  "kernelspec": {
   "name": "python38064bit380pyenv010ecbd1c87140c4b9c3e44b9e8385ff",
   "display_name": "Python 3.8.0 64-bit ('3.8.0': pyenv)"
  }
 },
 "cells": [
  {
   "cell_type": "markdown",
   "execution_count": null,
   "metadata": {},
   "outputs": [],
   "source": [
    "Use Sprague–Grundy theorem. It's very easy to observe and prove that a single pile with $n$ stones is equivalent to the nimber $*\\nu_2(n)$, so the three-pile configuration $(a, b, c)$ is equivalent to $*\\nu_2(a) \\oplus *\\nu_2(b) \\oplus *\\nu_2(c)$."
   ]
  },
  {
   "cell_type": "code",
   "execution_count": 1,
   "metadata": {},
   "outputs": [
    {
     "name": "stdout",
     "output_type": "stream",
     "text": "1387130785340207546128246207074864788515998 151725678\n"
    }
   ],
   "source": [
    "#!/usr/bin/env python3\n",
    "\n",
    "import itertools\n",
    "\n",
    "\n",
    "def winning(a, b, c):\n",
    "    while a or b or c:\n",
    "        if ((a & 1) + (b & 1) + (c & 1)) % 2 != 0:\n",
    "            return True\n",
    "        a >>= 1\n",
    "        b >>= 1\n",
    "        c >>= 1\n",
    "    return False\n",
    "\n",
    "\n",
    "def S(n):\n",
    "    nimber_counts = []\n",
    "    m = n\n",
    "    while m:\n",
    "        nimber_counts.append((m + 1) // 2)\n",
    "        m //= 2\n",
    "    assert sum(nimber_counts) == n\n",
    "    n_nimbers = len(nimber_counts)\n",
    "    winning_count = 0\n",
    "    for a, b, c in itertools.product(\n",
    "        range(n_nimbers), range(n_nimbers), range(n_nimbers)\n",
    "    ):\n",
    "        if winning(a, b, c):\n",
    "            winning_count += nimber_counts[a] * nimber_counts[b] * nimber_counts[c]\n",
    "    return winning_count\n",
    "\n",
    "\n",
    "def main():\n",
    "    result = S(123456787654321)\n",
    "    print(result, result % 1234567890)\n",
    "\n",
    "\n",
    "if __name__ == \"__main__\":\n",
    "    main()\n"
   ]
  }
 ]
}