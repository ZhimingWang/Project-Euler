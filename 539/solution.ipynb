{
 "nbformat": 4,
 "nbformat_minor": 2,
 "metadata": {
  "language_info": {
   "name": "python",
   "codemirror_mode": {
    "name": "ipython",
    "version": 3
   }
  },
  "orig_nbformat": 2,
  "file_extension": ".py",
  "mimetype": "text/x-python",
  "name": "python",
  "npconvert_exporter": "python",
  "pygments_lexer": "ipython3",
  "version": 3
 },
 "cells": [
  {
   "cell_type": "markdown",
   "execution_count": null,
   "metadata": {},
   "outputs": [],
   "source": [
    "By simulating the first two roundtrips we get\n",
    "\n",
    "$$\n",
    "P(n) = \n",
    "\\begin{cases}\n",
    "4P\\left(\\left\\lfloor\\frac{n}{4}\\right\\rfloor\\right)-2, & n \\equiv 0,\\,1\\pmod 4,\\\\\n",
    "4P\\left(\\left\\lfloor\\frac{n}{4}\\right\\rfloor\\right), & n \\equiv 2,\\,3\\pmod 4.\\\\\n",
    "\\end{cases}\n",
    "$$\n",
    "\n",
    "Therefore,\n",
    "\n",
    "$$S(4k-1) = \\sum_{i=1}^{4k-1} P(i) = 5 + \\sum_{j=1}^{k-1}\\sum{r=0}^3 P(4j+r) = 5 + \\sum_{j=1}^{k-1}(16P(j)-4) = 16S(k-1) - 4k + 9.$$\n",
    "\n",
    "We simply use this recursive relationship, adding $P(4k)$, $P(4k+1)$, $P(4k+2)$ when necessary."
   ]
  }
 ]
}