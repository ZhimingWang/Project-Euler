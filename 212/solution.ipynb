{
 "nbformat": 4,
 "nbformat_minor": 2,
 "metadata": {
  "language_info": {
   "name": "python",
   "codemirror_mode": {
    "name": "ipython",
    "version": 3
   }
  },
  "orig_nbformat": 2,
  "file_extension": ".py",
  "mimetype": "text/x-python",
  "name": "python",
  "npconvert_exporter": "python",
  "pygments_lexer": "ipython3",
  "version": 3
 },
 "cells": [
  {
   "cell_type": "markdown",
   "execution_count": null,
   "metadata": {},
   "outputs": [],
   "source": [
    "My algorithm considers all $x$-sections, and for each $x$-section, considers all $y$-sections (more accurately, $y$-slices), and for each $xy$-section, consides all line segments covered by $[z_0, z_0+dz)$. It's slow, takes ~90s."
   ]
  }
 ]
}