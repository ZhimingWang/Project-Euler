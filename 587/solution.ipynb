{
 "nbformat": 4,
 "nbformat_minor": 2,
 "metadata": {
  "language_info": {
   "name": "python",
   "codemirror_mode": {
    "name": "ipython",
    "version": 3
   }
  },
  "orig_nbformat": 2,
  "file_extension": ".py",
  "mimetype": "text/x-python",
  "name": "python",
  "npconvert_exporter": "python",
  "pygments_lexer": "ipython3",
  "version": 3
 },
 "cells": [
  {
   "cell_type": "markdown",
   "execution_count": null,
   "metadata": {},
   "outputs": [],
   "source": [
    "Let the coordinate of the intersection of the line segment and the first arc be $(1-\\sin\\theta,\\, 1-\\cos\\theta)$. Then we have the equation\n",
    "\n",
    "$$1 - \\sin\\theta = n(1-\\cos\\theta).$$\n",
    "\n",
    "Solving this equation gives us\n",
    "\n",
    "$$\\sin\\theta = \\frac{\\sqrt{2n^3}-n+1}{n^2+1}.$$\n",
    "\n",
    "It's easy to calculate the area of the concave triangle as\n",
    "\n",
    "$$\\frac{1}{2n} - \\left( \\frac{1}{2}\\theta - \\frac{n-1}{2n} \\sin\\theta \\right),$$\n",
    "\n",
    "and the area of the L-section is apparently $1 - \\pi/4$.\n",
    "\n",
    "I then did the calculations in Mathematica as I trust it more than Python for delicate precision calculations like this. Probably warranted though."
   ]
  }
 ]
}