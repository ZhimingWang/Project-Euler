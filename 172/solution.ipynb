{
 "nbformat": 4,
 "nbformat_minor": 2,
 "metadata": {
  "language_info": {
   "name": "python",
   "codemirror_mode": {
    "name": "ipython",
    "version": 3
   },
   "version": "3.8.0"
  },
  "orig_nbformat": 2,
  "file_extension": ".py",
  "mimetype": "text/x-python",
  "name": "python",
  "npconvert_exporter": "python",
  "pygments_lexer": "ipython3",
  "version": 3
 },
 "cells": [
  {
   "cell_type": "markdown",
   "execution_count": null,
   "metadata": {},
   "outputs": [],
   "source": [
    "Fairly simple combinatorics. The number of choices with $k_0$ 0's, $k_1$ 1's, ..., $k_9$ 9's is\n",
    "\n",
    "$$\\binom{18}{k_0,\\,k_1,\\,\\dots,\\,k_9} = \\frac{18!}{k_0! k_1! \\cdots k_9!}.$$\n",
    "\n",
    "Of course, if $k_0 > 0$, then we need to exclude choices with a leading zero:\n",
    "\n",
    "$$\\binom{17}{k_0-1,\\,k_1,\\,\\dots,\\,k_9}.$$\n",
    "\n",
    "$k_i \\in [0, 3]$, so a full exhaustive search has only $4^10 = 1048576$ steps, more than manageable."
   ]
  },
  {
   "cell_type": "code",
   "execution_count": 1,
   "metadata": {},
   "outputs": [
    {
     "name": "stdout",
     "output_type": "stream",
     "text": "227485267000992000\n"
    }
   ],
   "source": [
    "import functools\n",
    "import itertools\n",
    "import operator\n",
    "\n",
    "\n",
    "N = 18\n",
    "factorios = [functools.reduce(operator.mul, range(1, i + 1), 1) for i in range(N + 1)]\n",
    "\n",
    "\n",
    "# Calculates the multinomial for n and [k1, k2, ..., kr], where sum(ks) = n.\n",
    "def multinomial(n, ks):\n",
    "    return factorios[n] // functools.reduce(operator.mul, (factorios[k] for k in ks), 1)\n",
    "\n",
    "\n",
    "def calculate_count(n):\n",
    "    count = 0\n",
    "    for combo in itertools.product(*[range(4) for _ in range(10)]):\n",
    "        if sum(combo) != n:\n",
    "            continue\n",
    "        count += multinomial(n, combo)\n",
    "        if combo[0] > 0:\n",
    "            # Remove choices with a leading zero.\n",
    "            count -= multinomial(n - 1, (combo[0] - 1, *combo[1:]))\n",
    "    return count\n",
    "\n",
    "\n",
    "def main():\n",
    "    print(calculate_count(N))\n",
    "\n",
    "\n",
    "if __name__ == \"__main__\":\n",
    "    main()\n"
   ]
  }
 ]
}