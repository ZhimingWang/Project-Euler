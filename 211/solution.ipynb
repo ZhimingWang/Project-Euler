{
 "nbformat": 4,
 "nbformat_minor": 2,
 "metadata": {
  "language_info": {
   "name": "python",
   "codemirror_mode": {
    "name": "ipython",
    "version": 3
   }
  },
  "orig_nbformat": 2,
  "file_extension": ".py",
  "mimetype": "text/x-python",
  "name": "python",
  "npconvert_exporter": "python",
  "pygments_lexer": "ipython3",
  "version": 3
 },
 "cells": [
  {
   "cell_type": "markdown",
   "execution_count": null,
   "metadata": {},
   "outputs": [],
   "source": [
    "All $\\sigma_2$'s can be calculated by iterating through 1 to $N$, adding $n^2$ to every $\\sigma_2(m)$ where $n|m$, sort of like the sieve method.\n",
    "\n",
    "This brute force approach ran in 15s."
   ]
  }
 ]
}