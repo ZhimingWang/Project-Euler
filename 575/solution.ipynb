{
 "nbformat": 4,
 "nbformat_minor": 2,
 "metadata": {
  "language_info": {
   "name": "python",
   "codemirror_mode": {
    "name": "ipython",
    "version": 3
   }
  },
  "orig_nbformat": 2,
  "file_extension": ".py",
  "mimetype": "text/x-python",
  "name": "python",
  "npconvert_exporter": "python",
  "pygments_lexer": "ipython3",
  "version": 3
 },
 "cells": [
  {
   "cell_type": "markdown",
   "execution_count": null,
   "metadata": {},
   "outputs": [],
   "source": [
    "We want to find the fixed point of the two transition matrices, which is not hard at all: for the dynamic equal distribution transition matrix, the fixed point is\n",
    "\n",
    "$$P(\\text{room}) = (1 + |\\text{neighbors}|) \\cdot p$$\n",
    "\n",
    "for some constant $p$; for the fixed remaining probability transition matrix, the fixed point is\n",
    "\n",
    "$$P'(\\text{room}) = |\\text{neighbors}| \\cdot p'$$\n",
    "\n",
    "for some constant $p'$.\n",
    "\n",
    "Apparently,\n",
    "\n",
    "$$p \\cdot [3 \\cdot 4 + 4 \\cdot 4(N-2) + 5 \\cdot (N-2)^2] = 1,$$\n",
    "$$p' \\cdot [2 \\cdot 4 + 3 \\cdot 4(N-2) + 4 \\cdot (N-2)^2] = 1.$$"
   ]
  }
 ]
}