{
 "nbformat": 4,
 "nbformat_minor": 2,
 "metadata": {
  "language_info": {
   "name": "python",
   "codemirror_mode": {
    "name": "ipython",
    "version": 3
   },
   "version": "3.8.0"
  },
  "orig_nbformat": 2,
  "file_extension": ".py",
  "mimetype": "text/x-python",
  "name": "python",
  "npconvert_exporter": "python",
  "pygments_lexer": "ipython3",
  "version": 3
 },
 "cells": [
  {
   "cell_type": "markdown",
   "execution_count": null,
   "metadata": {},
   "outputs": [],
   "source": [
    "Apparently,\n",
    "\n",
    "$$\n",
    "f(n) =\n",
    "\\begin{cases}\n",
    "f\\left(\\frac{n}{2}-1\\right) + f\\left(\\frac{n}{2}\\right), & n \\equiv 0 \\pmod 2,\\\\\n",
    "f\\left(\\frac{n-1}{2}\\right), & n \\equiv 1 \\pmod 2.\n",
    "\\end{cases}\n",
    "$$\n",
    "\n",
    "Therefore, to find $f(n)/f(n-1) = r$ where $r < 1$, we only need to find $k$ s.t. $n = 2k+1$ and\n",
    "\n",
    "$$\\frac{f(k)}{f(k) + f(k-1)} = r,$$\n",
    "\n",
    "i.e.,\n",
    "\n",
    "$$\\frac{f(k)}{f(k-1)} = \\frac{r}{1-r}.$$\n",
    "\n",
    "Similarly for $r > 1$ we need $k$ s.t. $n = 2k$ and\n",
    "\n",
    "$$\\frac{f(k)}{f(k-1)} = r-1.$$"
   ]
  },
  {
   "cell_type": "code",
   "execution_count": 1,
   "metadata": {},
   "outputs": [
    {
     "name": "stdout",
     "output_type": "stream",
     "text": "1,13717420,8\n"
    }
   ],
   "source": [
    "#!/usr/bin/env python3\n",
    "\n",
    "from fractions import Fraction\n",
    "\n",
    "\n",
    "def min_n_for(ratio):\n",
    "    if ratio.denominator == 1:\n",
    "        return [(1, 1), (0, int(ratio) - 1)]\n",
    "    elif ratio < 1:\n",
    "        # r = f(2k+1) / f(2k) = f(k) / (f(k) + f(k-1))\n",
    "        # f(k) / f(k-1) = r/(1-r)\n",
    "        k = min_n_for(ratio / (1 - ratio))\n",
    "        last_digit, repeat = k[-1]\n",
    "        if last_digit == 0:\n",
    "            k.append((1, 1))\n",
    "        else:\n",
    "            k[-1] = (1, repeat + 1)\n",
    "        return k\n",
    "    else:\n",
    "        # r = f(2k) / f(2k-1) = (f(k) + f(k-1)) / f(k-1)\n",
    "        # f(k) / f(k-1) = r-1\n",
    "        # f(k') / f(k'-1) = r - r' where n = 2^r' k'.\n",
    "        k = min_n_for(ratio % 1)\n",
    "        last_digit, repeat = k[-1]\n",
    "        if last_digit == 0:\n",
    "            k[-1] = (0, repeat + int(ratio))\n",
    "        else:\n",
    "            k.append((0, int(ratio)))\n",
    "        return k\n",
    "\n",
    "\n",
    "def main():\n",
    "    n = min_n_for(Fraction(123456789, 987654321))\n",
    "    print(\",\".join(str(repeat) for _, repeat in n))\n",
    "\n",
    "\n",
    "if __name__ == \"__main__\":\n",
    "    main()\n"
   ]
  }
 ]
}