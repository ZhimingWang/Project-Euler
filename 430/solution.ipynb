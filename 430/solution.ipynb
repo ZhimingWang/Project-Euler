{
 "nbformat": 4,
 "nbformat_minor": 2,
 "metadata": {
  "language_info": {
   "name": "python",
   "codemirror_mode": {
    "name": "ipython",
    "version": 3
   }
  },
  "orig_nbformat": 2,
  "file_extension": ".py",
  "mimetype": "text/x-python",
  "name": "python",
  "npconvert_exporter": "python",
  "pygments_lexer": "ipython3",
  "version": 3
 },
 "cells": [
  {
   "cell_type": "markdown",
   "execution_count": null,
   "metadata": {},
   "outputs": [],
   "source": [
    "Express each flip as a vector of $1$s and $-1$s, where $-1$ represents flipped. Then the final result is simply the elementwise product of all vectors, which are independent. By uniform distribution and distributive law of elementwise product, the expectation of the final state is simply the expectation of a single step vector raised to $M$-th elementwise power. Let the final white count expectation be $E_W$ and black count expectation be $E_B$, and let the elementwise sum of the expectation of the final state vector be $E_d$. Then apparently,\n",
    "\n",
    "$$E_W + E_B = N,\\ E_W - E_B = E_d,$$\n",
    "\n",
    "so\n",
    "\n",
    "$$E_W = \\frac{N+E_d}{2}.$$\n",
    "\n",
    "Let the expectation vector of a single flip be $(e_1, \\dots, e_N)$, then $E_d = \\sum_{j=1}^N e_j^M$, so\n",
    "\n",
    "$$E_W = \\frac{N+\\sum_{j=1}^N e_j^M}{2}.$$\n",
    "\n",
    "It remains to find $e_j$, which is not at all hard by counting ranges containing $j$:\n",
    "\n",
    "$$e_j = \\frac{N^2 - 2[(j-1)(N-j+1)+N+(N-j)j]}{N^2} = \\frac{(N+1-2j)^2-2N+1}{N^2}.$$\n",
    "\n",
    "When $N = 10^10$, looping over $1$ to $N$ is not very practical, but note that $M = 4000$ is very large, so for $e_j \\le 0.991973$, since $N \\cdot 0.991973^{4000} < 10^{-4}$, we can simply ignore all such $e_j^M$ terms. Excluding these terms, we only to consider $1 \\le j \\le 4 \\cdot 10^7$ and $N+1-j$ for such $j$ by symmetry. We conclude that\n",
    "\n",
    "$$E_W \\approx \\frac{N}{2} + \\sum_{j=1}^{4\\cdot 10^7} e_j^M,$$\n",
    "\n",
    "which is calculated in C++ using long double precision in ~2.5s.\n",
    "\n",
    "(In fact, the bound on $j$ can be lowered to $1.2\\cdot 10^7$, shrinking execution time to ~0.75s.)"
   ]
  }
 ]
}