{
 "nbformat": 4,
 "nbformat_minor": 2,
 "metadata": {
  "language_info": {
   "name": "python",
   "codemirror_mode": {
    "name": "ipython",
    "version": 3
   }
  },
  "orig_nbformat": 2,
  "file_extension": ".py",
  "mimetype": "text/x-python",
  "name": "python",
  "npconvert_exporter": "python",
  "pygments_lexer": "ipython3",
  "version": 3
 },
 "cells": [
  {
   "cell_type": "markdown",
   "execution_count": null,
   "metadata": {},
   "outputs": [],
   "source": [
    "Apparently,\n",
    "\n",
    "$$S(p_1^{\\alpha_1} \\cdots p_k^{\\alpha_k}) = \\max\\{S(p_1^{\\alpha_1}),\\, \\dots,\\, S(p_k^{\\alpha_k})\\},$$\n",
    "\n",
    "so it becomes another brute force sieve problem."
   ]
  }
 ]
}