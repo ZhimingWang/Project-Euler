{
 "nbformat": 4,
 "nbformat_minor": 2,
 "metadata": {
  "language_info": {
   "name": "python",
   "codemirror_mode": {
    "name": "ipython",
    "version": 3
   }
  },
  "orig_nbformat": 2,
  "file_extension": ".py",
  "mimetype": "text/x-python",
  "name": "python",
  "npconvert_exporter": "python",
  "pygments_lexer": "ipython3",
  "version": 3
 },
 "cells": [
  {
   "cell_type": "markdown",
   "execution_count": null,
   "metadata": {},
   "outputs": [],
   "source": [
    "Apparently, if heads comes up $k$ times and tail comes up $(1000-k)$ times, then the final amount is\n",
    "\n",
    "$$F(f, k) = (1+2f)^k(1-f)^{1000-k}.$$\n",
    "\n",
    "Let\n",
    "\n",
    "$$m(f) = \\min\\{k \\in \\mathbb{N}^+ \\mid F(f, k) \\ge 10^9\\}.$$\n",
    "\n",
    "Using Mathematica to visualize $m$, we can see\n",
    "\n",
    "$$\\min\\{m(f) \\mid f \\in (0,1)\\} = 432.$$\n",
    "\n",
    "Indeed, $F(f,\\, 431) \\le 8.99022 \\times 10^8.$\n",
    "\n",
    "Therefore, the max billionare probability is\n",
    "\n",
    "$$\\frac{\\sum_{k=432}^{1000} \\binom{1000}{k}}{2^{1000}} \\approx 0.999992836187.$$"
   ]
  }
 ]
}