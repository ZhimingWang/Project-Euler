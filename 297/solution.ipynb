{
 "nbformat": 4,
 "nbformat_minor": 2,
 "metadata": {
  "language_info": {
   "name": "python",
   "codemirror_mode": {
    "name": "ipython",
    "version": 3
   }
  },
  "orig_nbformat": 2,
  "file_extension": ".py",
  "mimetype": "text/x-python",
  "name": "python",
  "npconvert_exporter": "python",
  "pygments_lexer": "ipython3",
  "version": 3
 },
 "cells": [
  {
   "cell_type": "markdown",
   "execution_count": null,
   "metadata": {},
   "outputs": [],
   "source": [
    "Let $f_k$ be the $k$-th Fibonacci number. Apparently, for any $f_k \\le n < f_{k+1}$ we have $z(n) = 1 + z(n-f_k)$ (we extend the definition of $z$ to include $z(0)=0$). Then\n",
    "\n",
    "$$\\sum_{n=f_k}^m z(n) = \\sum_{n=1}^{m-f_k} z(n) + (m - f_k + 1).$$\n",
    "\n",
    "Define $S(m) = \\sum_{n=1}^m z(n)$, then we have the recursive relationship\n",
    "\n",
    "$$S(m) = S(f_k - 1) + S(m - f_k) + (m - f_k + 1)$$\n",
    "\n",
    "where $k$ satisfies $f_k \\le m < f_{k+1}$."
   ]
  }
 ]
}