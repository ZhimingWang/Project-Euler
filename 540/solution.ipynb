{
 "nbformat": 4,
 "nbformat_minor": 2,
 "metadata": {
  "language_info": {
   "name": "python",
   "codemirror_mode": {
    "name": "ipython",
    "version": 3
   }
  },
  "orig_nbformat": 2,
  "file_extension": ".py",
  "mimetype": "text/x-python",
  "name": "python",
  "npconvert_exporter": "python",
  "pygments_lexer": "ipython3",
  "version": 3
 },
 "cells": [
  {
   "cell_type": "markdown",
   "execution_count": null,
   "metadata": {},
   "outputs": [],
   "source": [
    "We need to find coprime pairs $(a, b)$ with different parities s.t. $a^2 + b^2 \\le n$. Let $Q(n)$ be the number of such primes with the coprime restriction lifted. Then letting $2 \\nmid a$ and $2 \\mid b$ we have\n",
    "\n",
    "$$Q(n) = \\sum_{2 \\nmid a} \\left\\lfloor \\frac{\\sqrt{n-a^2}}{2} \\right\\rfloor.$$\n",
    "\n",
    "We need to subtract the non-coprime pairs, which happen to have gcd 3, 5, 7, ... Therefore,\n",
    "\n",
    "$$P(n) = Q(n) - \\sum_{2 \\nmid j} P\\left( \\left\\lfloor \\frac{n}{j^2} \\right\\rfloor \\right).$$\n",
    "\n",
    "Note that we have a similar formula for $P\\left( \\left\\lfloor \\frac{n}{j^2} \\right\\rfloor \\right)$ with any $2 \\nmid j$. Denote $P\\left( \\left\\lfloor \\frac{n}{i^2} \\right\\rfloor \\right)$ by $P'(i)$ and $Q\\left( \\left\\lfloor \\frac{n}{i^2} \\right\\rfloor \\right)$ by $Q'(i)$ where $2 \\nmid i$, we have\n",
    "\n",
    "$$P'(i) = Q'(i) - \\sum_{2 \\nmid j} P'(ij).$$\n",
    "\n",
    "Therefore we can work from $\\sqrt{N}$ down and eventually get $P'(1)$ which is the final result."
   ]
  }
 ]
}