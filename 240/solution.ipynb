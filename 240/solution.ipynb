{
 "nbformat": 4,
 "nbformat_minor": 2,
 "metadata": {
  "language_info": {
   "name": "python",
   "codemirror_mode": {
    "name": "ipython",
    "version": 3
   },
   "version": "3.8.0"
  },
  "orig_nbformat": 2,
  "file_extension": ".py",
  "mimetype": "text/x-python",
  "name": "python",
  "npconvert_exporter": "python",
  "pygments_lexer": "ipython3",
  "version": 3
 },
 "cells": [
  {
   "cell_type": "markdown",
   "execution_count": null,
   "metadata": {},
   "outputs": [],
   "source": [
    "I was surprised by the fact that a problem with a difficulty rating of 60% can be solved with straightup brute force, without a shred of programming complexity either.\n",
    "\n",
    "Just generate all possible prefixes (including extended ones where the smallest number among the top is repeated) and count the possible combinations for each prefix. There are only a meager 9160 non-extended prefixes in total."
   ]
  },
  {
   "cell_type": "code",
   "execution_count": 1,
   "metadata": {},
   "outputs": [
    {
     "name": "stdout",
     "output_type": "stream",
     "text": "7448717393364181966\n"
    }
   ],
   "source": [
    "#!/usr/bin/env python3\n",
    "\n",
    "import collections\n",
    "import functools\n",
    "\n",
    "import sympy\n",
    "\n",
    "\n",
    "SIDES = 12\n",
    "N_DICE = 20\n",
    "TOP_COUNT = 10\n",
    "TOP_SUM = 70\n",
    "\n",
    "factorial = [sympy.factorial(i) for i in range(N_DICE + 1)]\n",
    "\n",
    "\n",
    "def count_combos_with_prefix(prefix):\n",
    "    remaining = N_DICE - len(prefix)\n",
    "    count = factorial[N_DICE] // factorial[remaining]\n",
    "    for multiplicity in collections.Counter(prefix).values():\n",
    "        count //= factorial[multiplicity]\n",
    "    return count * ((prefix[-1] - 1) ** remaining)\n",
    "\n",
    "\n",
    "@functools.lru_cache(maxsize=None)\n",
    "def count(num, sum_, curr_min=SIDES):\n",
    "    if num > sum_:\n",
    "        return 0\n",
    "    if num == 1:\n",
    "        return 1 if 1 <= sum_ <= curr_min else 0\n",
    "    return sum(count(num - 1, sum_ - i, i) for i in range(1, curr_min + 1))\n",
    "\n",
    "\n",
    "def generate_prefixes():\n",
    "    q = collections.deque()\n",
    "    q.append((0, ()))\n",
    "    while q:\n",
    "        curr_sum, prefix = q.popleft()\n",
    "        if len(prefix) == TOP_COUNT:\n",
    "            if curr_sum == TOP_SUM:\n",
    "                yield prefix\n",
    "                last = prefix[-1]\n",
    "                for _ in range(N_DICE - TOP_COUNT):\n",
    "                    prefix = (*prefix, last)\n",
    "                    yield prefix\n",
    "            continue\n",
    "        for i in range(1, (prefix[-1] if prefix else SIDES) + 1):\n",
    "            new_sum = curr_sum + i\n",
    "            if new_sum <= TOP_SUM:\n",
    "                q.append((new_sum, (*prefix, i)))\n",
    "\n",
    "\n",
    "def main():\n",
    "    count = 0\n",
    "    for prefix in generate_prefixes():\n",
    "        count += count_combos_with_prefix(prefix)\n",
    "    print(count)\n",
    "\n",
    "\n",
    "if __name__ == \"__main__\":\n",
    "    main()\n"
   ]
  },
  {
   "cell_type": "code",
   "execution_count": null,
   "metadata": {},
   "outputs": [],
   "source": []
  }
 ]
}