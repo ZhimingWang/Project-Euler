{
 "nbformat": 4,
 "nbformat_minor": 2,
 "metadata": {
  "language_info": {
   "name": "python",
   "codemirror_mode": {
    "name": "ipython",
    "version": 3
   }
  },
  "orig_nbformat": 2,
  "file_extension": ".py",
  "mimetype": "text/x-python",
  "name": "python",
  "npconvert_exporter": "python",
  "pygments_lexer": "ipython3",
  "version": 3
 },
 "cells": [
  {
   "cell_type": "markdown",
   "execution_count": null,
   "metadata": {},
   "outputs": [],
   "source": [
    "Let\n",
    "\n",
    "$$A_k(N) = \\sum_{p_1 < \\dots < p_k} \\left\\lfloor \\frac{N}{p_1^2 \\dots p_k^2} \\right\\rfloor.$$\n",
    "\n",
    "Then it's clear from a counting argument that\n",
    "\n",
    "$$A_k = \\sum_{l=k}^\\infty \\binom{l}{k} C_l,$$\n",
    "\n",
    "so\n",
    "\n",
    "$$C_k = A_k - \\sum_{l=k+1}^\\infty \\binom{l}{k} C_l.$$\n",
    "\n",
    "The implementation is straightforward and takes ~3s."
   ]
  }
 ]
}