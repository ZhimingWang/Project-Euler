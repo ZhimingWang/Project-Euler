{
 "nbformat": 4,
 "nbformat_minor": 2,
 "metadata": {
  "language_info": {
   "name": "python",
   "codemirror_mode": {
    "name": "ipython",
    "version": 3
   }
  },
  "orig_nbformat": 2,
  "file_extension": ".py",
  "mimetype": "text/x-python",
  "name": "python",
  "npconvert_exporter": "python",
  "pygments_lexer": "ipython3",
  "version": 3
 },
 "cells": [
  {
   "cell_type": "markdown",
   "execution_count": null,
   "metadata": {},
   "outputs": [],
   "source": [
    "For $a + i b$, let $a = a_0 g$, $b = b_0 g$ where $g = (a, b)$, then $a + i b | n$ iff $(a^2 + b^2)g | n$. With this info we simply need to search for all pairs $(a, b)$ s.t. $(a, b) = 1$, $a^2 + b^2 \\le N$."
   ]
  }
 ]
}