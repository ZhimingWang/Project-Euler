{
 "nbformat": 4,
 "nbformat_minor": 2,
 "metadata": {
  "language_info": {
   "name": "python",
   "codemirror_mode": {
    "name": "ipython",
    "version": 3
   },
   "version": "3.8.0"
  },
  "orig_nbformat": 2,
  "file_extension": ".py",
  "mimetype": "text/x-python",
  "name": "python",
  "npconvert_exporter": "python",
  "pygments_lexer": "ipython3",
  "version": 3
 },
 "cells": [
  {
   "cell_type": "markdown",
   "execution_count": null,
   "metadata": {},
   "outputs": [],
   "source": [
    "This problem is straightforward. We keep track of the \"clique\" each user is in, and merge two cliques when a new connection is found.\n",
    "\n",
    "I wasted an outsized amount of time on this problem however since I made a typo (55-24=31, I wrote 21) in the generator..."
   ]
  },
  {
   "cell_type": "code",
   "execution_count": 1,
   "metadata": {},
   "outputs": [
    {
     "name": "stdout",
     "output_type": "stream",
     "text": "progress: 100,000 0\nprogress: 200,000 0\nprogress: 300,000 0\nprogress: 400,000 0\nprogress: 500,000 0\nprogress: 600,000 0\nprogress: 700,000 0\nprogress: 800,000 0\nprogress: 900,000 0\nprogress: 1,000,000 0\nprogress: 1,100,000 0\nprogress: 1,200,000 0\nprogress: 1,300,000 0\nprogress: 1,400,000 0\nprogress: 1,500,000 0\nprogress: 1,600,000 0\nprogress: 1,700,000 0\nprogress: 1,800,000 0\nprogress: 1,900,000 975471\nprogress: 2,000,000 980136\nprogress: 2,100,000 983840\nprogress: 2,200,000 986890\nprogress: 2,300,000 989422\n2325629\n"
    }
   ],
   "source": [
    "#!/usr/bin/env python3\n",
    "\n",
    "import collections\n",
    "\n",
    "\n",
    "def phone_number_generator():\n",
    "    q = collections.deque()\n",
    "    for k in range(1, 56):\n",
    "        n = (100003 - 200003 * k + 300007 * (k ** 3)) % 1000000\n",
    "        q.append(n)\n",
    "        yield n\n",
    "    while True:\n",
    "        n = (q[0] + q[31]) % 1000000\n",
    "        q.popleft()\n",
    "        q.append(n)\n",
    "        yield n\n",
    "\n",
    "\n",
    "def main():\n",
    "    g = phone_number_generator()\n",
    "    cliques = collections.defaultdict(set)\n",
    "    call = 0\n",
    "    failed = 0\n",
    "    while True:\n",
    "        size = len(cliques[524287])\n",
    "        if size >= 990000:\n",
    "            print(call - failed)\n",
    "            break\n",
    "\n",
    "        call += 1\n",
    "        if call % 100_000 == 0:\n",
    "            print(f\"progress: {call:,} {size}\")\n",
    "\n",
    "        from_ = next(g)\n",
    "        to_ = next(g)\n",
    "        if from_ == to_:\n",
    "            failed += 1\n",
    "            continue\n",
    "        c1 = cliques[from_]\n",
    "        if to_ in c1:\n",
    "            continue\n",
    "        c2 = cliques[to_]\n",
    "        if not c1:\n",
    "            c1.add(from_)\n",
    "        if not c2:\n",
    "            c2.add(to_)\n",
    "        # Merge the smaller clique into the larger clique,\n",
    "        # updating all references of the smaller clique.\n",
    "        if len(c1) < len(c2):\n",
    "            c1, c2 = c2, c1\n",
    "        c1 |= c2\n",
    "        for member in c2:\n",
    "            cliques[member] = c1\n",
    "\n",
    "\n",
    "if __name__ == \"__main__\":\n",
    "    main()\n",
    "    ...\n"
   ]
  }
 ]
}