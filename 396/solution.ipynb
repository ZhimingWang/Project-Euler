{
 "nbformat": 4,
 "nbformat_minor": 2,
 "metadata": {
  "language_info": {
   "name": "python",
   "codemirror_mode": {
    "name": "ipython",
    "version": 3
   }
  },
  "orig_nbformat": 2,
  "file_extension": ".py",
  "mimetype": "text/x-python",
  "name": "python",
  "npconvert_exporter": "python",
  "pygments_lexer": "ipython3",
  "version": 3
 },
 "cells": [
  {
   "cell_type": "markdown",
   "execution_count": null,
   "metadata": {},
   "outputs": [],
   "source": [
    "This problem is not hard but pretty damn annoying. Just follow the rules and write out the base of $(0, 0, 0)$ starting from $(n_2, n_1, n_0)$ in base $k$ as $F_{n_2}(n_1, n_0, k) - 1$, where\n",
    "\n",
    "$$F_{n_2} = 2^{F_{n_2-1}} \\cdot F_{n_2-1},$$\n",
    "$$\\dots$$\n",
    "$$F_1 = 2^{F_0} \\cdot F_0,$$\n",
    "$$F_0 = 2^{n_1}(k+n_0+1).$$\n",
    "\n",
    "Now any $F_i \\pmod m$ can be calculated via\n",
    "\n",
    "$$F_i \\equiv 2^{F_{i-1} \\pmod{\\phi(m)} + \\phi(m)} \\cdot F_{i-1} \\pmod m.$$\n",
    "\n",
    "This looks exponential but in fact repeated $\\phi$ quicks drops to 1, and with memoization this can be calculated very quickly, where in our given range the largest $n_2$ we'll ever encounter is $F_{1}(1,1,2) - 1 = 2047$ for $15 = 1111_2$.\n"
   ]
  }
 ]
}