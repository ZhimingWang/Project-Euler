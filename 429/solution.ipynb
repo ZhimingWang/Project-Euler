{
 "nbformat": 4,
 "nbformat_minor": 2,
 "metadata": {
  "language_info": {
   "name": "python",
   "codemirror_mode": {
    "name": "ipython",
    "version": 3
   },
   "version": "3.8.0"
  },
  "orig_nbformat": 2,
  "file_extension": ".py",
  "mimetype": "text/x-python",
  "name": "python",
  "npconvert_exporter": "python",
  "pygments_lexer": "ipython3",
  "version": 3
 },
 "cells": [
  {
   "cell_type": "markdown",
   "execution_count": null,
   "metadata": {},
   "outputs": [],
   "source": [
    "It's easy to see that for $n = \\prod_i p_i^{\\alpha_i}$, we have\n",
    "\n",
    "$$S(n) = \\prod_i (1 + p_i^{2\\alpha_i}).$$\n",
    "\n",
    "Couple this with Legendre's formula\n",
    "\n",
    "$$\\nu_p(n!) = \\sum_{i=1}^\\infty \\left\\lfloor \\frac{n}{p^i} \\right\\rfloor,$$\n",
    "\n",
    "we can easily solve the problem."
   ]
  },
  {
   "cell_type": "code",
   "execution_count": 1,
   "metadata": {},
   "outputs": [
    {
     "name": "stdout",
     "output_type": "stream",
     "text": "98792821\n"
    }
   ],
   "source": [
    "#!/usr/bin/env python3\n",
    "\n",
    "import primesieve\n",
    "\n",
    "\n",
    "N = 100_000_000\n",
    "MODULUS = 1_000_000_009\n",
    "\n",
    "\n",
    "def main():\n",
    "    primes = primesieve.primes(N)\n",
    "    s = 1\n",
    "    for p in primes:\n",
    "        vp = 0\n",
    "        n = N\n",
    "        while n >= p:\n",
    "            n //= p\n",
    "            vp += n\n",
    "        s *= 1 + pow(p, 2 * vp, MODULUS)\n",
    "        s %= MODULUS\n",
    "    print(s)\n",
    "\n",
    "\n",
    "if __name__ == \"__main__\":\n",
    "    main()\n"
   ]
  }
 ]
}