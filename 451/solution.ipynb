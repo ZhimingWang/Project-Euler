{
 "nbformat": 4,
 "nbformat_minor": 2,
 "metadata": {
  "language_info": {
   "name": "python",
   "codemirror_mode": {
    "name": "ipython",
    "version": 3
   }
  },
  "orig_nbformat": 2,
  "file_extension": ".py",
  "mimetype": "text/x-python",
  "name": "python",
  "npconvert_exporter": "python",
  "pygments_lexer": "ipython3",
  "version": 3
 },
 "cells": [
  {
   "cell_type": "markdown",
   "execution_count": null,
   "metadata": {},
   "outputs": [],
   "source": [
    "Notice that for $n = p^k$ with odd prime $p$ and $k > 0$,\n",
    "\n",
    "$$m^2 \\equiv 1 \\pmod{p^k} \\iff m \\equiv \\pm 1 \\pmod{p^k},$$\n",
    "\n",
    "and for $n = 2^k$ with $k > 1$,\n",
    "\n",
    "$$m^2 \\equiv 1 \\pmod{2^k} \\iff m \\equiv \\pm 1 \\pmod{2^{k-1}}.$$\n",
    "\n",
    "Therefore an obvious way to calculate $l(n)$ is to factor $n$ into prime powers, and use Chinese Remainder Theorem.\n",
    "\n",
    "In practice, instead of CRT all the way through, which will result in $2^t$ solutions in the general case where $t$ is the number of unique prime factors of $n$, I use CRT on the two largest prime powers, resulting in 2 or 4 solutions (some $\\pm r$ in addition to $\\pm 1$) $\\mod {p_1^{k_1} p_2^{k_2}}$ or $\\mod {p_1^{k_1} p_2^{k_2} / 2}$, then brute force to find the max square root. This should be fairly simple, but I somehow got knee deep in various two powers, and spent upward of an hour debugging my crappy program... Anyway, eventually got it, ~50s."
   ]
  }
 ]
}