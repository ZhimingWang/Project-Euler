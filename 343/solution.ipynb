{
 "nbformat": 4,
 "nbformat_minor": 2,
 "metadata": {
  "language_info": {
   "name": "python",
   "codemirror_mode": {
    "name": "ipython",
    "version": 3
   }
  },
  "orig_nbformat": 2,
  "file_extension": ".py",
  "mimetype": "text/x-python",
  "name": "python",
  "npconvert_exporter": "python",
  "pygments_lexer": "ipython3",
  "version": 3
 },
 "cells": [
  {
   "cell_type": "markdown",
   "execution_count": null,
   "metadata": {},
   "outputs": [],
   "source": [
    "Trivial to see that\n",
    "\n",
    "$$f(k) = \\mathrm{gpf}(k+1) - 1,$$\n",
    "\n",
    "where $\\mathrm{gpf}$ is the greatest prime factor function. So we are asked to calculate\n",
    "\n",
    "$$\\sum_{k} [\\mathrm{gpf}((m+1)(m^2-m+1)) - 1].$$\n",
    "\n",
    "I just took the shortcut and let Mathematica brute-force this. ~100s."
   ]
  }
 ]
}